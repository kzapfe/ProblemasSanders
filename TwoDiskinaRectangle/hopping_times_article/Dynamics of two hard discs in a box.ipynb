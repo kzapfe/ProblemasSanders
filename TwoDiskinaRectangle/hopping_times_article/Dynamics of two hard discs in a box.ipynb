{
 "cells": [
  {
   "cell_type": "markdown",
   "metadata": {},
   "source": [
    "# Two Disks in a Rectangular Box: mean first event times.\n",
    "\n",
    "Here are the simulations and calculations, numerical vs. analytical, of the mean first times and their distributions, for a series of interesting events, namely, hopping, crashing and wall-hitting.\n",
    "\n",
    "The external file contains all the routines for initial conditions and dynamic rules.\n",
    "\n"
   ]
  },
  {
   "cell_type": "code",
   "execution_count": 30,
   "metadata": {},
   "outputs": [
    {
     "data": {
      "text/plain": [
       "dynamics"
      ]
     },
     "execution_count": 30,
     "metadata": {},
     "output_type": "execute_result"
    }
   ],
   "source": [
    "include(\"discs_in_box.jl\")"
   ]
  },
  {
   "cell_type": "code",
   "execution_count": 31,
   "metadata": {},
   "outputs": [
    {
     "data": {
      "text/plain": [
       "Plots.GRBackend()"
      ]
     },
     "execution_count": 31,
     "metadata": {},
     "output_type": "execute_result"
    }
   ],
   "source": [
    "#auxiliary libs for ploting\n",
    "using Plots, Interact\n",
    "gr(fmt=\"png\", size=(640,480))"
   ]
  },
  {
   "cell_type": "code",
   "execution_count": 32,
   "metadata": {},
   "outputs": [
    {
     "name": "stdout",
     "output_type": "stream",
     "text": [
      "  2.973264 seconds (14.64 M allocations: 1.020 GiB, 65.59% gc time)\n"
     ]
    }
   ],
   "source": [
    "# A small test. w is widht, h height, r is radius for both discs.\n",
    "w, h = 1.5, 1\n",
    "r = 0.24\n",
    "\n",
    "#= dynamics returns a tuple of results, in which we have the timestamp of an event, the position of the center\n",
    "oof the discs, the velocites of each disc and the collition type according to following code:\n",
    "+1/-1 -> disc one hits right/left wall\n",
    "+2/-2 -> disc one hits top/bottom wall\n",
    "+3/-3  -> disc two hits right/left wall\n",
    "+4/-4 -> disc two hits top/bottom wall.\n",
    "5 -> discs collide.\n",
    "=#\n",
    "@time times, positions, velocities, collision_types = dynamics(w, h, r, 1000000);"
   ]
  },
  {
   "cell_type": "code",
   "execution_count": 8,
   "metadata": {},
   "outputs": [
    {
     "data": {
      "text/plain": [
       "100-element Array{Float64,1}:\n",
       " 0.9999999999999999\n",
       " 0.9999999999999999\n",
       " 1.0               \n",
       " 1.0               \n",
       " 1.0               \n",
       " 1.0               \n",
       " 1.0               \n",
       " 1.0               \n",
       " 1.0               \n",
       " 1.0               \n",
       " 1.0               \n",
       " 0.9999999999999999\n",
       " 0.9999999999999999\n",
       " ⋮                 \n",
       " 1.0               \n",
       " 1.0               \n",
       " 1.0               \n",
       " 1.0               \n",
       " 1.0               \n",
       " 0.9999999999999999\n",
       " 0.9999999999999999\n",
       " 0.9999999999999999\n",
       " 0.9999999999999998\n",
       " 0.9999999999999998\n",
       " 0.9999999999999998\n",
       " 0.9999999999999998"
      ]
     },
     "execution_count": 8,
     "metadata": {},
     "output_type": "execute_result"
    }
   ],
   "source": [
    "norm.(velocities)[1:100] #Sanity Check"
   ]
  },
  {
   "cell_type": "code",
   "execution_count": 9,
   "metadata": {},
   "outputs": [
    {
     "data": {
      "text/plain": [
       "100-element Array{Int64,1}:\n",
       " -1\n",
       "  4\n",
       "  5\n",
       "  2\n",
       " -1\n",
       " -4\n",
       " -2\n",
       "  3\n",
       "  2\n",
       "  4\n",
       " -2\n",
       "  5\n",
       "  3\n",
       "  ⋮\n",
       "  2\n",
       "  5\n",
       " -4\n",
       "  5\n",
       "  2\n",
       "  5\n",
       " -4\n",
       "  3\n",
       "  5\n",
       "  2\n",
       " -4\n",
       " -2"
      ]
     },
     "execution_count": 9,
     "metadata": {},
     "output_type": "execute_result"
    }
   ],
   "source": [
    "collision_types[1:100]#Sanity Check"
   ]
  },
  {
   "cell_type": "markdown",
   "metadata": {},
   "source": [
    "The function `dynamics` returns data on the collisions that have occurred."
   ]
  },
  {
   "cell_type": "code",
   "execution_count": 10,
   "metadata": {},
   "outputs": [
    {
     "data": {
      "text/plain": [
       "draw_disc! (generic function with 1 method)"
      ]
     },
     "execution_count": 10,
     "metadata": {},
     "output_type": "execute_result"
    }
   ],
   "source": [
    "function draw_disc!(x, y, r)\n",
    "    θs = [0:0.1:2π; 0]\n",
    "    xs = [x + r*cos(θ) for θ in θs]\n",
    "    ys = [y + r*sin(θ) for θ in θs]\n",
    "    \n",
    "    plot!(xs, ys)\n",
    "end"
   ]
  },
  {
   "cell_type": "code",
   "execution_count": 33,
   "metadata": {},
   "outputs": [
    {
     "data": {
      "text/html": [
       "<div class='tex2jax_ignore interactbulma'>\n",
       "<div class='display:none'></div><unsafe-script style='display:none'>\n",
       "WebIO.mount(this.previousSibling,{&quot;props&quot;:{},&quot;nodeType&quot;:&quot;DOM&quot;,&quot;type&quot;:&quot;node&quot;,&quot;instanceArgs&quot;:{&quot;namespace&quot;:&quot;html&quot;,&quot;tag&quot;:&quot;div&quot;},&quot;children&quot;:[{&quot;props&quot;:{&quot;className&quot;:&quot;field&quot;},&quot;nodeType&quot;:&quot;DOM&quot;,&quot;type&quot;:&quot;node&quot;,&quot;instanceArgs&quot;:{&quot;namespace&quot;:&quot;html&quot;,&quot;tag&quot;:&quot;div&quot;},&quot;children&quot;:[{&quot;props&quot;:{},&quot;nodeType&quot;:&quot;Scope&quot;,&quot;type&quot;:&quot;node&quot;,&quot;instanceArgs&quot;:{&quot;imports&quot;:{&quot;data&quot;:[{&quot;name&quot;:&quot;knockout&quot;,&quot;type&quot;:&quot;js&quot;,&quot;url&quot;:&quot;/assetserver/baa6df8922398a67cd91cdc289530cb133a3240a-knockout.js&quot;},{&quot;name&quot;:&quot;knockout_punches&quot;,&quot;type&quot;:&quot;js&quot;,&quot;url&quot;:&quot;/assetserver/f47e8954887e0b476392ddda2f9b100ab297f671-knockout_punches.js&quot;},{&quot;name&quot;:null,&quot;type&quot;:&quot;js&quot;,&quot;url&quot;:&quot;/assetserver/8b44fcee05f3d17bc2b5b6b6d79f4338f5c44c20-all.js&quot;},{&quot;name&quot;:null,&quot;type&quot;:&quot;css&quot;,&quot;url&quot;:&quot;/assetserver/21e4ade57dbd051d0ebc392aa1e86931b58fd9b0-style.css&quot;},{&quot;name&quot;:null,&quot;type&quot;:&quot;css&quot;,&quot;url&quot;:&quot;/assetserver/714a80410146756b578813a10018012376dcd569-main.css&quot;}],&quot;type&quot;:&quot;async_block&quot;},&quot;id&quot;:&quot;knockout-component-460e35ea-de8f-4f51-95a2-5c73f750d9c3&quot;,&quot;handlers&quot;:{&quot;_promises&quot;:{&quot;importsLoaded&quot;:[function (ko, koPunches) {\n",
       "    ko.punches.enableAll();\n",
       "    ko.bindingHandlers.numericValue = {\n",
       "        init : function(element, valueAccessor, allBindings, data, context) {\n",
       "            var stringified = ko.observable(ko.unwrap(valueAccessor()));\n",
       "            stringified.subscribe(function(value) {\n",
       "                var val = parseFloat(value);\n",
       "                if (!isNaN(val)) {\n",
       "                    valueAccessor()(val);\n",
       "                }\n",
       "            })\n",
       "            valueAccessor().subscribe(function(value) {\n",
       "                var str = JSON.stringify(value);\n",
       "                if ((str == &quot;0&quot;) &amp;&amp; ([&quot;-0&quot;, &quot;-0.&quot;].indexOf(stringified()) &gt;= 0))\n",
       "                     return;\n",
       "                 if ([&quot;null&quot;, &quot;&quot;].indexOf(str) &gt;= 0)\n",
       "                     return;\n",
       "                stringified(str);\n",
       "            })\n",
       "            ko.applyBindingsToNode(element, { value: stringified, valueUpdate: allBindings.get(&#39;valueUpdate&#39;)}, context);\n",
       "        }\n",
       "    };\n",
       "    var json_data = JSON.parse(&quot;{\\&quot;changes\\&quot;:0,\\&quot;value\\&quot;:1}&quot;);\n",
       "    var self = this;\n",
       "    function AppViewModel() {\n",
       "        for (var key in json_data) {\n",
       "            var el = json_data[key];\n",
       "            this[key] = Array.isArray(el) ? ko.observableArray(el) : ko.observable(el);\n",
       "        }\n",
       "        \n",
       "        \n",
       "        [this[&quot;changes&quot;].subscribe((function (val){!(this.valueFromJulia[&quot;changes&quot;]) ? (WebIO.setval({&quot;name&quot;:&quot;changes&quot;,&quot;scope&quot;:&quot;knockout-component-460e35ea-de8f-4f51-95a2-5c73f750d9c3&quot;,&quot;id&quot;:&quot;ob_06&quot;,&quot;type&quot;:&quot;observable&quot;},val)) : undefined; return this.valueFromJulia[&quot;changes&quot;]=false}),self),this[&quot;value&quot;].subscribe((function (val){!(this.valueFromJulia[&quot;value&quot;]) ? (WebIO.setval({&quot;name&quot;:&quot;value&quot;,&quot;scope&quot;:&quot;knockout-component-460e35ea-de8f-4f51-95a2-5c73f750d9c3&quot;,&quot;id&quot;:&quot;ob_05&quot;,&quot;type&quot;:&quot;observable&quot;},val)) : undefined; return this.valueFromJulia[&quot;value&quot;]=false}),self)]\n",
       "        \n",
       "    }\n",
       "    self.model = new AppViewModel();\n",
       "    self.valueFromJulia = {};\n",
       "    for (var key in json_data) {\n",
       "        self.valueFromJulia[key] = false;\n",
       "    }\n",
       "    ko.applyBindings(self.model, self.dom);\n",
       "}\n",
       "]},&quot;changes&quot;:[(function (val){return (val!=this.model[&quot;changes&quot;]()) ? (this.valueFromJulia[&quot;changes&quot;]=true, this.model[&quot;changes&quot;](val)) : undefined})],&quot;value&quot;:[(function (val){return (val!=this.model[&quot;value&quot;]()) ? (this.valueFromJulia[&quot;value&quot;]=true, this.model[&quot;value&quot;](val)) : undefined})]},&quot;systemjs_options&quot;:null,&quot;observables&quot;:{&quot;changes&quot;:{&quot;sync&quot;:false,&quot;id&quot;:&quot;ob_06&quot;,&quot;value&quot;:0},&quot;value&quot;:{&quot;sync&quot;:true,&quot;id&quot;:&quot;ob_05&quot;,&quot;value&quot;:1}}},&quot;children&quot;:[{&quot;props&quot;:{&quot;attributes&quot;:{&quot;class&quot;:&quot;interact-flex-row&quot;}},&quot;nodeType&quot;:&quot;DOM&quot;,&quot;type&quot;:&quot;node&quot;,&quot;instanceArgs&quot;:{&quot;namespace&quot;:&quot;html&quot;,&quot;tag&quot;:&quot;div&quot;},&quot;children&quot;:[{&quot;props&quot;:{&quot;attributes&quot;:{&quot;class&quot;:&quot;interact-flex-row-left&quot;}},&quot;nodeType&quot;:&quot;DOM&quot;,&quot;type&quot;:&quot;node&quot;,&quot;instanceArgs&quot;:{&quot;namespace&quot;:&quot;html&quot;,&quot;tag&quot;:&quot;div&quot;},&quot;children&quot;:[{&quot;props&quot;:{&quot;className&quot;:&quot;interact &quot;,&quot;style&quot;:{&quot;padding&quot;:&quot;5px 10px 0px 10px&quot;}},&quot;nodeType&quot;:&quot;DOM&quot;,&quot;type&quot;:&quot;node&quot;,&quot;instanceArgs&quot;:{&quot;namespace&quot;:&quot;html&quot;,&quot;tag&quot;:&quot;label&quot;},&quot;children&quot;:[&quot;&quot;]}]},{&quot;props&quot;:{&quot;attributes&quot;:{&quot;class&quot;:&quot;interact-flex-row-center&quot;}},&quot;nodeType&quot;:&quot;DOM&quot;,&quot;type&quot;:&quot;node&quot;,&quot;instanceArgs&quot;:{&quot;namespace&quot;:&quot;html&quot;,&quot;tag&quot;:&quot;div&quot;},&quot;children&quot;:[{&quot;props&quot;:{&quot;max&quot;:1000000,&quot;min&quot;:1,&quot;attributes&quot;:{&quot;type&quot;:&quot;range&quot;,&quot;data-bind&quot;:&quot;numericValue: value, valueUpdate: &#39;input&#39;, event: {change : function () {this.changes(this.changes()+1)}}&quot;,&quot;orient&quot;:&quot;horizontal&quot;},&quot;step&quot;:1,&quot;className&quot;:&quot;slider slider is-fullwidth&quot;,&quot;style&quot;:{}},&quot;nodeType&quot;:&quot;DOM&quot;,&quot;type&quot;:&quot;node&quot;,&quot;instanceArgs&quot;:{&quot;namespace&quot;:&quot;html&quot;,&quot;tag&quot;:&quot;input&quot;},&quot;children&quot;:[]}]},{&quot;props&quot;:{&quot;attributes&quot;:{&quot;class&quot;:&quot;interact-flex-row-right&quot;}},&quot;nodeType&quot;:&quot;DOM&quot;,&quot;type&quot;:&quot;node&quot;,&quot;instanceArgs&quot;:{&quot;namespace&quot;:&quot;html&quot;,&quot;tag&quot;:&quot;div&quot;},&quot;children&quot;:[{&quot;props&quot;:{&quot;attributes&quot;:{&quot;data-bind&quot;:&quot;text: value&quot;}},&quot;nodeType&quot;:&quot;DOM&quot;,&quot;type&quot;:&quot;node&quot;,&quot;instanceArgs&quot;:{&quot;namespace&quot;:&quot;html&quot;,&quot;tag&quot;:&quot;p&quot;},&quot;children&quot;:[]}]}]}]}]},{&quot;props&quot;:{},&quot;nodeType&quot;:&quot;Scope&quot;,&quot;type&quot;:&quot;node&quot;,&quot;instanceArgs&quot;:{&quot;imports&quot;:{&quot;data&quot;:[],&quot;type&quot;:&quot;async_block&quot;},&quot;id&quot;:&quot;scope-61509b69-fb6f-4602-a119-9320af82d675&quot;,&quot;handlers&quot;:{&quot;obs-output&quot;:[function (updated_htmlstr) {\n",
       "    var el = this.dom.querySelector(&quot;#out&quot;);\n",
       "    WebIO.propUtils.setInnerHtml(el, updated_htmlstr);\n",
       "}]},&quot;systemjs_options&quot;:null,&quot;observables&quot;:{&quot;obs-output&quot;:{&quot;sync&quot;:false,&quot;id&quot;:&quot;ob_09&quot;,&quot;value&quot;:&quot;&lt;div class=&#39;display:none&#39;&gt;&lt;/div&gt;&lt;unsafe-script style=&#39;display:none&#39;&gt;\\nWebIO.mount(this.previousSibling,{&amp;quot;props&amp;quot;:{&amp;quot;attributes&amp;quot;:{&amp;quot;class&amp;quot;:&amp;quot;interact-flex-row&amp;quot;}},&amp;quot;nodeType&amp;quot;:&amp;quot;DOM&amp;quot;,&amp;quot;type&amp;quot;:&amp;quot;node&amp;quot;,&amp;quot;instanceArgs&amp;quot;:{&amp;quot;namespace&amp;quot;:&amp;quot;html&amp;quot;,&amp;quot;tag&amp;quot;:&amp;quot;div&amp;quot;},&amp;quot;children&amp;quot;:[{&amp;quot;props&amp;quot;:{&amp;quot;setInnerHtml&amp;quot;:&amp;quot;&amp;lt;img src=\\\\&amp;quot;data:image/png;base64,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\\\\&amp;quot; /&amp;gt;&amp;quot;},&amp;quot;nodeType&amp;quot;:&amp;quot;DOM&amp;quot;,&amp;quot;type&amp;quot;:&amp;quot;node&amp;quot;,&amp;quot;instanceArgs&amp;quot;:{&amp;quot;namespace&amp;quot;:&amp;quot;html&amp;quot;,&amp;quot;tag&amp;quot;:&amp;quot;div&amp;quot;},&amp;quot;children&amp;quot;:[]}]})&lt;/unsafe-script&gt;&quot;}}},&quot;children&quot;:[{&quot;props&quot;:{&quot;id&quot;:&quot;out&quot;,&quot;setInnerHtml&quot;:&quot;&lt;div class=&#39;display:none&#39;&gt;&lt;/div&gt;&lt;unsafe-script style=&#39;display:none&#39;&gt;\\nWebIO.mount(this.previousSibling,{&amp;quot;props&amp;quot;:{&amp;quot;attributes&amp;quot;:{&amp;quot;class&amp;quot;:&amp;quot;interact-flex-row&amp;quot;}},&amp;quot;nodeType&amp;quot;:&amp;quot;DOM&amp;quot;,&amp;quot;type&amp;quot;:&amp;quot;node&amp;quot;,&amp;quot;instanceArgs&amp;quot;:{&amp;quot;namespace&amp;quot;:&amp;quot;html&amp;quot;,&amp;quot;tag&amp;quot;:&amp;quot;div&amp;quot;},&amp;quot;children&amp;quot;:[{&amp;quot;props&amp;quot;:{&amp;quot;setInnerHtml&amp;quot;:&amp;quot;&amp;lt;img src=\\\\&amp;quot;data:image/png;base64,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\\\\&amp;quot; /&amp;gt;&amp;quot;},&amp;quot;nodeType&amp;quot;:&amp;quot;DOM&amp;quot;,&amp;quot;type&amp;quot;:&amp;quot;node&amp;quot;,&amp;quot;instanceArgs&amp;quot;:{&amp;quot;namespace&amp;quot;:&amp;quot;html&amp;quot;,&amp;quot;tag&amp;quot;:&amp;quot;div&amp;quot;},&amp;quot;children&amp;quot;:[]}]})&lt;/unsafe-script&gt;&quot;},&quot;nodeType&quot;:&quot;DOM&quot;,&quot;type&quot;:&quot;node&quot;,&quot;instanceArgs&quot;:{&quot;namespace&quot;:&quot;html&quot;,&quot;tag&quot;:&quot;div&quot;},&quot;children&quot;:[]}]}]})</unsafe-script>\n",
       "</div>"
      ],
      "text/plain": [
       "Widget{:manipulate,Any}(OrderedDict{Symbol,Any}(:i=>Widget{:slider,Int64}(OrderedDict{Symbol,Any}(:changes=>Observable{Int64} with 1 listeners. Value:\n",
       "0,:value=>Observable{Int64} with 2 listeners. Value:\n",
       "1), Observable{Int64} with 2 listeners. Value:\n",
       "1, Scope(\"knockout-component-460e35ea-de8f-4f51-95a2-5c73f750d9c3\", Node{DOM}(DOM(:html, :div), Any[Node{DOM}(DOM(:html, :div), Any[Node{DOM}(DOM(:html, :label), Any[nothing], Dict{Symbol,Any}(:className=>\"interact \",:style=>Dict{Any,Any}(:padding=>\"5px 10px 0px 10px\")), 1)], Dict{Symbol,Any}(:attributes=>Dict(\"class\"=>\"interact-flex-row-left\")), 2), Node{DOM}(DOM(:html, :div), Any[Node{DOM}(DOM(:html, :input), Any[], Dict{Symbol,Any}(:max=>1000000,:min=>1,:attributes=>Dict{Any,Any}(:type=>\"range\",Symbol(\"data-bind\")=>\"numericValue: value, valueUpdate: 'input', event: {change : function () {this.changes(this.changes()+1)}}\",\"orient\"=>\"horizontal\"),:step=>1,:className=>\"slider slider is-fullwidth\",:style=>Dict{Any,Any}()), 0)], Dict{Symbol,Any}(:attributes=>Dict(\"class\"=>\"interact-flex-row-center\")), 1), Node{DOM}(DOM(:html, :div), Any[Node{DOM}(DOM(:html, :p), Any[], Dict{Symbol,Any}(:attributes=>Dict(\"data-bind\"=>\"text: value\")), 0)], Dict{Symbol,Any}(:attributes=>Dict(\"class\"=>\"interact-flex-row-right\")), 1)], Dict{Symbol,Any}(:attributes=>Dict(\"class\"=>\"interact-flex-row\")), 7), Dict{String,Tuple{Observables.AbstractObservable,Union{Nothing, Bool}}}(\"changes\"=>(Observable{Int64} with 1 listeners. Value:\n",
       "0, nothing),\"value\"=>(Observable{Int64} with 2 listeners. Value:\n",
       "1, nothing)), Set(String[]), nothing, Any[\"knockout\"=>\"/home/karel/.julia/packages/Knockout/JIqpG/src/../assets/knockout.js\", \"knockout_punches\"=>\"/home/karel/.julia/packages/Knockout/JIqpG/src/../assets/knockout_punches.js\", \"/home/karel/.julia/packages/InteractBase/PTCUD/src/../assets/all.js\", \"/home/karel/.julia/packages/InteractBase/PTCUD/src/../assets/style.css\", \"/home/karel/.julia/packages/InteractBulma/PH56C/src/../assets/main.css\"], Dict{Any,Any}(\"_promises\"=>Dict{Any,Any}(\"importsLoaded\"=>Any[JSString(\"function (ko, koPunches) {\\n    ko.punches.enableAll();\\n    ko.bindingHandlers.numericValue = {\\n        init : function(element, valueAccessor, allBindings, data, context) {\\n            var stringified = ko.observable(ko.unwrap(valueAccessor()));\\n            stringified.subscribe(function(value) {\\n                var val = parseFloat(value);\\n                if (!isNaN(val)) {\\n                    valueAccessor()(val);\\n                }\\n            })\\n            valueAccessor().subscribe(function(value) {\\n                var str = JSON.stringify(value);\\n                if ((str == \\\"0\\\") && ([\\\"-0\\\", \\\"-0.\\\"].indexOf(stringified()) >= 0))\\n                     return;\\n                 if ([\\\"null\\\", \\\"\\\"].indexOf(str) >= 0)\\n                     return;\\n                stringified(str);\\n            })\\n            ko.applyBindingsToNode(element, { value: stringified, valueUpdate: allBindings.get('valueUpdate')}, context);\\n        }\\n    };\\n    var json_data = JSON.parse(\\\"{\\\\\\\"changes\\\\\\\":0,\\\\\\\"value\\\\\\\":1}\\\");\\n    var self = this;\\n    function AppViewModel() {\\n        for (var key in json_data) {\\n            var el = json_data[key];\\n            this[key] = Array.isArray(el) ? ko.observableArray(el) : ko.observable(el);\\n        }\\n        \\n        \\n        [this[\\\"changes\\\"].subscribe((function (val){!(this.valueFromJulia[\\\"changes\\\"]) ? (WebIO.setval({\\\"name\\\":\\\"changes\\\",\\\"scope\\\":\\\"knockout-component-460e35ea-de8f-4f51-95a2-5c73f750d9c3\\\",\\\"id\\\":\\\"ob_06\\\",\\\"type\\\":\\\"observable\\\"},val)) : undefined; return this.valueFromJulia[\\\"changes\\\"]=false}),self),this[\\\"value\\\"].subscribe((function (val){!(this.valueFromJulia[\\\"value\\\"]) ? (WebIO.setval({\\\"name\\\":\\\"value\\\",\\\"scope\\\":\\\"knockout-component-460e35ea-de8f-4f51-95a2-5c73f750d9c3\\\",\\\"id\\\":\\\"ob_05\\\",\\\"type\\\":\\\"observable\\\"},val)) : undefined; return this.valueFromJulia[\\\"value\\\"]=false}),self)]\\n        \\n    }\\n    self.model = new AppViewModel();\\n    self.valueFromJulia = {};\\n    for (var key in json_data) {\\n        self.valueFromJulia[key] = false;\\n    }\\n    ko.applyBindings(self.model, self.dom);\\n}\\n\")]),\"changes\"=>Any[JSString(\"(function (val){return (val!=this.model[\\\"changes\\\"]()) ? (this.valueFromJulia[\\\"changes\\\"]=true, this.model[\\\"changes\\\"](val)) : undefined})\")],\"value\"=>Any[JSString(\"(function (val){return (val!=this.model[\\\"value\\\"]()) ? (this.valueFromJulia[\\\"value\\\"]=true, this.model[\\\"value\\\"](val)) : undefined})\")]), ConnectionPool(Channel{Any}(sz_max:9223372036854775807,sz_curr:3), Set(AbstractConnection[]), Channel{AbstractConnection}(sz_max:32,sz_curr:0))), ##52#53{#dom#15{##dom#13#14{Dict{Any,Any},DOM}},typeof(scope)}(#dom#15{##dom#13#14{Dict{Any,Any},DOM}}(##dom#13#14{Dict{Any,Any},DOM}(Dict{Any,Any}(:className=>\"field\"), DOM(:html, :div))), scope))), Observable{Any} with 0 listeners. Value:\n",
       "Plot{Plots.GRBackend() n=3}, nothing, getfield(InteractBase, Symbol(\"##142#143\"))())"
      ]
     },
     "execution_count": 33,
     "metadata": {},
     "output_type": "execute_result"
    }
   ],
   "source": [
    "@manipulate for i in slider(1:length(positions), value=1)\n",
    "    x1, y1, x2, y2 = positions[i]\n",
    "    \n",
    "    a = w/2\n",
    "    b = h/2\n",
    "    \n",
    "    plot([-a, a, a, -a, -a], [-b, -b, b, b, -b], aspectratio=1, leg=false, xlim=(-0.75,0.75), ylim=(-0.5,0.5))\n",
    "    draw_disc!(x1, y1, r) \n",
    "    draw_disc!(x2, y2, r) \n",
    "end"
   ]
  },
  {
   "cell_type": "markdown",
   "metadata": {},
   "source": [
    "# Hopping"
   ]
  },
  {
   "cell_type": "markdown",
   "metadata": {},
   "source": [
    "The data from the simulation directly gives disc and wall collision times.\n",
    "The other times that we require are hopping times, both horizontal, when $x_1 = x_2$, and vertical, when $y_1 = y_2$. \n",
    "\n",
    "Vertical hops can be detected from the data when $y_2 - y_1$ changes sign between two consecutive collisions.\n",
    "Using the relative velocity $v_2 - v_1$, the vertical hopping time when $y_2 - y_1 = 0$ can be recovered."
   ]
  },
  {
   "cell_type": "code",
   "execution_count": 34,
   "metadata": {},
   "outputs": [
    {
     "data": {
      "text/plain": [
       "vertical_hopping_times"
      ]
     },
     "execution_count": 34,
     "metadata": {},
     "output_type": "execute_result"
    }
   ],
   "source": [
    "\"\"\"\n",
    "Calculate the times at which horizontal hops occur\n",
    "\"\"\"\n",
    "function horizontal_hopping_times(times, positions, velocities)\n",
    "    Δxs = [x[3] - x[1] for x in positions]  # x_2 - x_1\n",
    "    Δus = [v[3] - v[1] for v in velocities]  # u_2 - u_1;\n",
    "    \n",
    "    # indices where there is a hop between collisions i and i+1: \n",
    "    horiz_hop_indices = findall(i->sign(Δxs[i]) != sign(Δxs[i+1]),1:(length(positions)-1) );  \n",
    "    \n",
    "    # x + t*u = 0   so   t = -x/u\n",
    "    horiz_hopping_times = times[horiz_hop_indices] - (Δxs[horiz_hop_indices] ./ Δus[horiz_hop_indices])\n",
    "    \n",
    "    return horiz_hopping_times\n",
    "end\n",
    "## Verified by karel, it is correct.\n",
    " \n",
    "\n",
    "\"\"\"\n",
    "Calculate the times at which horizontal hops occur\n",
    "\"\"\"\n",
    "function vertical_hopping_times(times, positions, velocities)\n",
    "    Δys = [x[4] - x[2] for x in positions]  # y_2 - y_1\n",
    "    Δvs = [v[4] - v[2] for v in velocities]  # v_2 - v_1;\n",
    "    \n",
    "    # indices where there is a hop between collisions i and i+1: \n",
    "    vert_hop_indices = findall(i->sign(Δys[i]) != sign(Δys[i+1]) ,1:(length(positions)-1) );  \n",
    "    \n",
    "    # x + t*u = 0   so   t = -x/u\n",
    "    vert_hopping_times = times[vert_hop_indices] - (Δys[vert_hop_indices] ./ Δvs[vert_hop_indices])\n",
    "    \n",
    "    return vert_hopping_times\n",
    "end"
   ]
  },
  {
   "cell_type": "markdown",
   "metadata": {},
   "source": [
    " ## Analytical Expressions\n",
    " \n",
    " ### 1. Volume\n",
    " \n",
    " The Volume function has three regimenes. First, when all hopping is possible, that is, (convention $w>h$) $r<h/4$. Then, horizontal hopping is excluded, but vertical still posible, i.e. $h/4\\leq r < w/4$. At last, no hopping is possible, that means, $w/4\\leq r \\leq r_{max}$. \n",
    " \n",
    " The Excluded Volume is evaluated in two parts: the round part and the triangular part. We use the notation \"Neg\" in the functions to indicate that is the excluded volume, \"free\" to indicate all hoping is posible, \"vhopp\" to indicate only vertical hopping is possible, and \"nohopp\" to indicate no hopping is possible."
   ]
  },
  {
   "cell_type": "code",
   "execution_count": 13,
   "metadata": {},
   "outputs": [
    {
     "data": {
      "text/plain": [
       "vol (generic function with 1 method)"
      ]
     },
     "execution_count": 13,
     "metadata": {},
     "output_type": "execute_result"
    }
   ],
   "source": [
    "cte=3π/2 #E=1/2, -> abs(v^2)=1 as above\n",
    "rhmax= h/4 #maximal radius in which a horizontal hopp is possible\n",
    "rvmax= w/4 #maximal radius in which a vertical hopp is possible (any hopp is not posible in our geometry after this)\n",
    "rmax=  (h+w-√(2*h*w))/2   #maximal possible radius for discs\n",
    "\n",
    "\n",
    "volBox(a,b)=16*a^2*b^2\n",
    "volNegfree(a,b,r)=16*π*a*b*r^2-64/3*r^3*(a+b)+8*r^4\n",
    "\n",
    "expresioncircularvol(a,b,r,θ)=32*r^2*a*b*θ +64/3*r^3*(a*cos(θ)-b*sin(θ)) + 8*r^4*sin(θ)^2\n",
    "\n",
    "function volNegCircle(a,b,r)\n",
    "    # This function only has use if r>rhmax\n",
    "    α=asin(b/r)\n",
    "    if(r<rvmax)\n",
    "        β=0\n",
    "    else\n",
    "        β=acos(a/r)\n",
    "    end\n",
    "    result=expresioncircularvol(a,b,r,α)-expresioncircularvol(a,b,r,β)\n",
    "    return result\n",
    "end\n",
    "\n",
    "vollowertriangle(a,b,r)= 32*a^2*b*sqrt(r^2-a^2)-32/3*a^2*(r^2-a^2+2*b*sqrt(r^2-a^2))+8*a^2*(r^2-a^2)\n",
    "\n",
    "voluppertriangle(a,b,r)= 32*b^2*a*sqrt(r^2-b^2)-32/3*b^2*(r^2-b^2+2*a*sqrt(r^2-b^2))+8*b^2*(r^2-b^2)\n",
    "\n",
    "\n",
    "function volNegGeneral(a,b,r)\n",
    "    if (r<rhmax)\n",
    "        result=volNegfree(a,b,r)\n",
    "    elseif (rhmax<=r) && (r<rvmax)\n",
    "       # println(\"a=\",a,\" r =\" , r, \"r^2-a^2 = \", r^2-a^2)\n",
    "        result=volNegCircle(a,b,r)+voluppertriangle(a,b,r)\n",
    "    else\n",
    "        result=volNegCircle(a,b,r)+voluppertriangle(a,b,r)+vollowertriangle(a,b,r)\n",
    "    end\n",
    "    return result\n",
    "end\n",
    "\n",
    "function vol(a,b,r) \n",
    "    result=volBox(a,b)-volNegGeneral(a,b,r)\n",
    "  #  print(\" vol = \", result, \" \\t \")\n",
    "    return result\n",
    "end "
   ]
  },
  {
   "cell_type": "markdown",
   "metadata": {},
   "source": [
    "## 2 Areas\n",
    "\n",
    "#### Hopping Areas"
   ]
  },
  {
   "cell_type": "code",
   "execution_count": 14,
   "metadata": {},
   "outputs": [
    {
     "data": {
      "text/plain": [
       "area_horiz_hopp (generic function with 1 method)"
      ]
     },
     "execution_count": 14,
     "metadata": {},
     "output_type": "execute_result"
    }
   ],
   "source": [
    "area_vert_hopp(a,b,r)=16*√(2)*b*(r-a)^2 #This is right, but SymPy has problems refining Heaviside function and DiracDelta\n",
    "area_horiz_hopp(a,b,r)=16*√(2)*a*(r-b)^2 # The Area HAS TWO SIDES. This is weird, but true.\n",
    "#Those two don't generalize for larger r--- they just stop making sense."
   ]
  },
  {
   "cell_type": "markdown",
   "metadata": {},
   "source": [
    "### collision with wall\n",
    "When hopping is no longer possible, the volume is split into disjoint components. This is equivalent to a factor\n",
    "in the area of 2 or 4. Given that this only is relevant in this case, we take put those factors here. In the case of collition between discs, that factor is canceled as both the Volume and Area get split equally."
   ]
  },
  {
   "cell_type": "code",
   "execution_count": 24,
   "metadata": {},
   "outputs": [
    {
     "data": {
      "text/plain": [
       "area_wall (generic function with 1 method)"
      ]
     },
     "execution_count": 24,
     "metadata": {},
     "output_type": "execute_result"
    }
   ],
   "source": [
    "area_wall_free(a,b,r)=8*a*b^2-4*π*b*r^2+16/3*r^3 #perfect but needs generalization\n",
    "\n",
    "exprpos_wall(a,b,r)=8*a*b^2\n",
    "exprcircular_wall(a,b,r,θ)=8*b*r^2*θ+16/3*r^3*(cos(θ)) #sector\n",
    "\n",
    "# la parte del \"upper triangle\"\n",
    "a_wall_uppt(a,b,r)=8/3*b^2*sqrt(r^2-b^2)\n",
    "a_wall_lowt(a,b,r)=8/3*a^2*sqrt(r^2-a^2)\n",
    "\n",
    "function area_wall(a,b,r)\n",
    "    if (r<rhmax)\n",
    "        result=area_wall_free(a,b,r)\n",
    "    elseif (rhmax<=r) && (r<rvmax)\n",
    "         α=asin(b/r)\n",
    "         negativo=exprcircular_wall(a,b,r,α)-exprcircular_wall(a,b,r,0)+a_wall_uppt(a,b,r)\n",
    "         result=(exprpos_wall(a,b,r)-negativo)*2 # Actually is the Volume that gets split into disjoint componets\n",
    "    else\n",
    "        α=asin(b/r)\n",
    "        β=acos(a/r)\n",
    "        negativo=0 # (exprcircular_wall(a,b,r,α)-exprcircular_wall(a,b,r,β))+a_wall_uppt(a,b,r)+a_wall_lowt(a,b,r)\n",
    "        result=(exprpos_wall(a,b,r)-negativo)*4\n",
    "    end\n",
    "    return result\n",
    "end"
   ]
  },
  {
   "cell_type": "markdown",
   "metadata": {},
   "source": [
    "###  Collition between discs:\n",
    "Although here the space get also split,the factor accounting for that does not appear as it cancels itself in Area and Volume."
   ]
  },
  {
   "cell_type": "code",
   "execution_count": 25,
   "metadata": {},
   "outputs": [
    {
     "data": {
      "text/plain": [
       "area_col (generic function with 1 method)"
      ]
     },
     "execution_count": 25,
     "metadata": {},
     "output_type": "execute_result"
    }
   ],
   "source": [
    "area_col_free(a,b,r)=(16*π*a*b*r-32*(a+b)*r^2+16*r^3)*√(2) \n",
    "exprcircular_col(a,b,r,θ)=16*√2*(2*a*b*r*θ + 2*r^2*(a*cos(θ)-b*sin(θ)) + r^3*sin(θ)^2 )\n",
    "\n",
    "function area_col(a,b,r)\n",
    "    if (r<rhmax)\n",
    "        result=area_col_free(a,b,r)\n",
    "    elseif (rhmax<=r) && (r<rvmax)\n",
    "     #   println(b, \" \", r, \" \", b/r)\n",
    "        α=asin(b/r)\n",
    "        result=exprcircular_col(a,b,r,α)-exprcircular_col(a,b,r,0)\n",
    "    else\n",
    "        α=asin(b/r)\n",
    "        β=acos(a/r)        \n",
    "        result=exprcircular_col(a,b,r,α)-exprcircular_col(a,b,r,β)   \n",
    "    end\n",
    "  #  print(\" acol= \",result,  \" \\n \")\n",
    "    return result\n",
    "end"
   ]
  },
  {
   "cell_type": "code",
   "execution_count": 26,
   "metadata": {},
   "outputs": [
    {
     "data": {
      "text/plain": [
       "(1.3956909623144902, 0.9881971714694461, 0.4525529933634218)"
      ]
     },
     "execution_count": 26,
     "metadata": {},
     "output_type": "execute_result"
    }
   ],
   "source": [
    "rango=(0.1, 0.2, 0.2501)\n",
    "imagen=map(x->area_col(w/2-x,h/2-x,x),rango)"
   ]
  },
  {
   "cell_type": "markdown",
   "metadata": {},
   "source": [
    "### 3. Mean Times Machta Zwanzig\n",
    "\n",
    "We combine area and volume with the general factor to obtain the theoretical mean times according to Machta Zwanzig Formula"
   ]
  },
  {
   "cell_type": "code",
   "execution_count": 27,
   "metadata": {},
   "outputs": [
    {
     "data": {
      "text/plain": [
       "disc_collision_analytical_d (generic function with 1 method)"
      ]
     },
     "execution_count": 27,
     "metadata": {},
     "output_type": "execute_result"
    }
   ],
   "source": [
    "horiz_hop_analytical(a,b,r)=cte*vol(a,b,r)/area_horiz_hopp(a,b,r)\n",
    "vert_hop_analytical(a,b,r)=cte*vol(a,b,r)/area_vert_hopp(a,b,r)\n",
    "right_wall_analytical(a,b,r)=cte*vol(a,b,r)/area_wall(a,b,r) #perfect\n",
    "disc_collision_analytical(a,b,r)=cte*vol(a,b,r)/area_col(a,b,r)\n",
    "\n",
    "horiz_hop_analytical_d(a, b, r) = (3π / (2*√(2))) * (2*a^2*b^2 - 2π*a*b*r^2 + ((a+b)/3)*(2*r)^3 - r^4) / (a*√(2)*(b-r)^2)\n",
    "disc_collision_analytical_d(a, b, r) = (3π / (2*√(2))) * (2*a^2*b^2 - 2π*a*b*r^2 + ((a+b)/3)*(2*r)^3 - r^4) / (2π*a*b*r - 4*(a+b)*r^2 + 2r^3 )"
   ]
  },
  {
   "cell_type": "markdown",
   "metadata": {},
   "source": [
    "The simulation function gives us a quick sanity check on the four event formulas above, but it doesn't give statistics. We relegate that to some other functions below."
   ]
  },
  {
   "cell_type": "code",
   "execution_count": 28,
   "metadata": {},
   "outputs": [
    {
     "data": {
      "text/plain": [
       "simulation (generic function with 2 methods)"
      ]
     },
     "execution_count": 28,
     "metadata": {},
     "output_type": "execute_result"
    }
   ],
   "source": [
    "function simulation(w, h, num_collisions=10^5)\n",
    "    \n",
    "    num_horiz_hop_data=Float64[]\n",
    "    exact_horiz_hop_data=Float64[]\n",
    "    \n",
    "    num_vert_hop_data=Float64[]\n",
    "    exact_vert_hop_data=Float64[]\n",
    "    \n",
    "    num_disc_collision_data = Float64[]\n",
    "    exact_disc_collision_data = Float64[]\n",
    "    \n",
    "    num_rightwall_data = Float64[]\n",
    "    exact_rightwall_data = Float64[]\n",
    "    \n",
    "    \n",
    "    \n",
    "    exhopd = Float64[]\n",
    "    excold = Float64[]\n",
    "    \n",
    "    \n",
    "    rs = 0.005:0.005:rmax #we do it until it cannot be done anymore\n",
    "    \n",
    "    for r in rs\n",
    "        print(r, \" \")\n",
    "        \n",
    "        a = w/2 - r\n",
    "        b = h/2 - r\n",
    "    \n",
    "        times, positions, velocities, collision_types = dynamics(w, h, r, num_collisions);\n",
    "        \n",
    "        \n",
    "        horiz_hopping_times = horizontal_hopping_times(times, positions, velocities)\n",
    "\n",
    "        vert_hopping_times = vertical_hopping_times(times, positions, velocities)\n",
    "\n",
    "        if(r<rhmax)\n",
    "            push!(num_vert_hop_data, mean(diff(vert_hopping_times)))   # diff gives inter-hop times\n",
    "            push!(exact_vert_hop_data, vert_hop_analytical(a, b, r))\n",
    "        end\n",
    "        \n",
    "        push!(num_horiz_hop_data, mean(diff(horiz_hopping_times)))   # diff gives inter-hop times\n",
    "        push!(exact_horiz_hop_data, horiz_hop_analytical(a, b, r))\n",
    "        push!(exhopd, horiz_hop_analytical_d(a, b, r))\n",
    "        \n",
    "        \n",
    "        disc_collision_times = times[collision_types .== 5]\n",
    "        push!(num_disc_collision_data, mean(diff(disc_collision_times)))   # diff gives inter-hop times\n",
    "        push!(exact_disc_collision_data, disc_collision_analytical(a, b, r))\n",
    "        push!(excold, disc_collision_analytical_d(a, b, r))\n",
    "    \n",
    "        rightwall_times = times[collision_types .== 1]\n",
    "        push!(num_rightwall_data, mean(diff(rightwall_times)))   # diff gives inter-hop times\n",
    "        push!(exact_rightwall_data, right_wall_analytical(a, b, r))\n",
    "        \n",
    "    end\n",
    "    \n",
    "    return (rs,  num_vert_hop_data, exact_vert_hop_data, num_horiz_hop_data, exact_horiz_hop_data, num_disc_collision_data, \n",
    "        exact_disc_collision_data, num_rightwall_data, exact_rightwall_data, excold, exhopd)\n",
    "                \n",
    "    end"
   ]
  },
  {
   "cell_type": "markdown",
   "metadata": {},
   "source": [
    "# A general Test\n",
    "\n",
    "This first simulation produces a general sanity test. More accurate simulations for the specific events are below . The Figures here are NOT the ones in the paper, this are averages done with lower samples meant as a sanity check."
   ]
  },
  {
   "cell_type": "code",
   "execution_count": 20,
   "metadata": {},
   "outputs": [
    {
     "name": "stdout",
     "output_type": "stream",
     "text": [
      "0.005 0.01 0.015 0.02 0.025 0.030000000000000002 0.034999999999999996 0.04 0.045 0.049999999999999996 0.055 0.06 0.065 0.07 0.07500000000000001 0.08 0.085 0.09000000000000001 0.095 0.1 0.10500000000000001 0.11 0.115 0.12000000000000001 0.125 0.13 0.135 0.14 0.14500000000000002 0.15 0.155 0.16 0.165 0.17 0.17500000000000002 0.18000000000000002 0.185 0.19 0.195 0.2 0.20500000000000002 0.21000000000000002 0.215 0.22 0.225 0.23 0.23500000000000001 0.24000000000000002 0.245 0.25 0.255 0.26 0.265 0.27 0.275 0.28 0.28500000000000003 0.29000000000000004 0.295 0.3 0.305 0.31 0.315 0.32 0.325 0.33 0.335 0.34 0.34500000000000003 0.35000000000000003 0.35500000000000004 0.36 0.365 0.37 0.375 0.38 "
     ]
    }
   ],
   "source": [
    "w, h = 1.5, 1.0\n",
    "nevents=10^3\n",
    "(rs, num_vert_hop_data, exact_vert_hop_data,  num_horiz_hop_data, exact_horiz_hop_data, num_disc_collision_data, \n",
    "    exact_disc_collision_data, num_rightwall_data, exact_rightwalldata, excold, exhopd)= simulation(w, h, nevents);"
   ]
  },
  {
   "cell_type": "code",
   "execution_count": 21,
   "metadata": {},
   "outputs": [
    {
     "name": "stderr",
     "output_type": "stream",
     "text": [
      "┌ Info: Recompiling stale cache file /home/karel/.julia/compiled/v1.0/JLD/l8ijy.ji for JLD [4138dd39-2aa7-5051-a626-17a0bb65d9c8]\n",
      "└ @ Base loading.jl:1190\n"
     ]
    }
   ],
   "source": [
    "using JLD # To save the data, and save us headeaches"
   ]
  },
  {
   "cell_type": "code",
   "execution_count": 22,
   "metadata": {},
   "outputs": [],
   "source": [
    "save(\"DatosNumericos10a5.jld\", \"rs\", rs, \n",
    "    \"num_vert_hop_data\", num_vert_hop_data,\n",
    "    \"num_horiz_hop_data\", num_horiz_hop_data,\n",
    "    \"num_disc_collision_data\", num_disc_collision_data,\n",
    "    \"num_rightwall_data\", num_rightwall_data\n",
    ")"
   ]
  },
  {
   "cell_type": "code",
   "execution_count": 29,
   "metadata": {},
   "outputs": [
    {
     "ename": "ErrorException",
     "evalue": "Unsupported output type pdf",
     "output_type": "error",
     "traceback": [
      "Unsupported output type pdf",
      "",
      "Stacktrace:",
      " [1] display_dict(::Plots.Plot{Plots.GRBackend}) at /home/karel/.julia/packages/Plots/UQI78/src/init.jl:80",
      " [2] #invokelatest#1 at ./essentials.jl:697 [inlined]",
      " [3] invokelatest at ./essentials.jl:696 [inlined]",
      " [4] execute_request(::ZMQ.Socket, ::IJulia.Msg) at /home/karel/.julia/packages/IJulia/4UizY/src/execute_request.jl:97",
      " [5] #invokelatest#1 at ./essentials.jl:697 [inlined]",
      " [6] invokelatest at ./essentials.jl:696 [inlined]",
      " [7] eventloop(::ZMQ.Socket) at /home/karel/.julia/packages/IJulia/4UizY/src/eventloop.jl:8",
      " [8] (::getfield(IJulia, Symbol(\"##15#18\")))() at ./task.jl:259"
     ]
    }
   ],
   "source": [
    "Plots.scatter(rs, num_rightwall_data, m=:square, label=\"numerical\", size=(650,420), guidefont=(30,\"Courier\"))\n",
    "dibujo=plot!(rs, exact_rightwalldata, label=\"exact\", linewidth=2) #absolut PERFECT\n",
    "savefig(\"test.pdf\")\n",
    "dibujo\n"
   ]
  },
  {
   "cell_type": "code",
   "execution_count": null,
   "metadata": {},
   "outputs": [],
   "source": [
    "3*pi*1.5/2 #Limit for r->0 above!"
   ]
  },
  {
   "cell_type": "code",
   "execution_count": null,
   "metadata": {
    "scrolled": false
   },
   "outputs": [],
   "source": [
    "Plots.scatter(rs, num_disc_collision_data, m=:square, label=\"numerical\")\n",
    "plot!(rs, exact_disc_collision_data, label=\"exact\")\n",
    "plot!(rs, excold, label=\"DavEx\") #DFormula that doesn't account for the discontinuites\n",
    "#plot!(rs, zeros(rs), lw=2, label=\"vertical zero line\", ls=:dash)"
   ]
  },
  {
   "cell_type": "code",
   "execution_count": null,
   "metadata": {},
   "outputs": [],
   "source": [
    "rhmax, rvmax, rmax"
   ]
  },
  {
   "cell_type": "code",
   "execution_count": null,
   "metadata": {},
   "outputs": [],
   "source": [
    "#rsredux=rs[find( r<rhmax ) in rs]\n",
    "rsredux=filter(r->r<rhmax, rs)\n",
    "plot(rsredux, num_vert_hop_data, m=:square, label=\"numerical\")\n",
    "plot!(rsredux, exact_vert_hop_data, label=\"exact\") \n",
    "#plot!(rs, exhopd, label=\"DavidEx\")\n",
    "#Formula David, raiz de dos muy grande "
   ]
  },
  {
   "cell_type": "markdown",
   "metadata": {},
   "source": [
    "# Hitting right wall"
   ]
  },
  {
   "cell_type": "markdown",
   "metadata": {},
   "source": [
    "Simulation to obtain statistics of collision of disk 1 with the right wall."
   ]
  },
  {
   "cell_type": "code",
   "execution_count": 17,
   "metadata": {},
   "outputs": [
    {
     "data": {
      "text/plain": [
       "simulationhitwall (generic function with 2 methods)"
      ]
     },
     "execution_count": 17,
     "metadata": {},
     "output_type": "execute_result"
    }
   ],
   "source": [
    "function simulationhitwall(w, h, num_collisions=10^5)\n",
    "    \n",
    "    num_hitting_times = Float64[]\n",
    "    exact_hitting_times = Float64[]\n",
    "    σ=Float64[]\n",
    "    stderror=Float64[]\n",
    "    \n",
    "    rs = 0.0051:0.00256:rmax\n",
    "    \n",
    "    for r in rs\n",
    "        print(r, \" \")\n",
    "        \n",
    "        a = w/2 - r\n",
    "        b = h/2 - r\n",
    "    \n",
    "        nhits=0\n",
    "        disc_1_hits_right_wall_times=[]\n",
    "        while(nhits<200)\n",
    "            times, positions, velocities, collision_types = dynamics(w, h, r, num_collisions); \n",
    "            disc_1_hits_right_wall_times = diff(times[collision_types .== 1])\n",
    "            nhits=length(disc_1_hits_right_wall_times)\n",
    "   #         println(r, \" \", nhits, \"tu abuela\", disc_1_hits_right_wall_times[1])\n",
    "        end\n",
    "        \n",
    "        auxhit=mean(disc_1_hits_right_wall_times)\n",
    "   #     println(auxhit)\n",
    "        push!(num_hitting_times, auxhit)\n",
    "        \n",
    "        push!(exact_hitting_times, right_wall_analytical(a, b, r))\n",
    "        aux=std(disc_1_hits_right_wall_times)\n",
    "        push!(σ, aux)\n",
    "        push!(stderror, aux/sqrt(nhits))\n",
    "        \n",
    "        \n",
    "    end\n",
    "    \n",
    "    return rs, num_hitting_times, exact_hitting_times, σ, stderror\n",
    "end"
   ]
  },
  {
   "cell_type": "code",
   "execution_count": null,
   "metadata": {},
   "outputs": [],
   "source": [
    "nevents=10^6\n",
    "rs, num_hitting_times, exact_hitting_times, stdeviation, stderror =simulationhitwall(1.5, 1.0, nevents);"
   ]
  },
  {
   "cell_type": "code",
   "execution_count": null,
   "metadata": {},
   "outputs": [],
   "source": [
    "linea1x=[rhmax, rhmax]\n",
    "linea1y=[0,7.5]\n",
    "linea2x=[rvmax,rvmax]\n",
    "linea2y=linea1y\n",
    "p=plot(xlim=(0,rmax), ylim=(0,7.5),xlabel=\"radius\",ylabel=\"time\", size=(640,480) )\n",
    "scatter!(rs, num_hitting_times, m=:square, ms=2, label=\"numerical\", yerror=stderror)\n",
    "plot!(rs, exact_hitting_times, label=\"exact\", lw=3)\n",
    "plot!(linea1x,linea1y,label=\"rhmax\", lw=1.0, ls=:dash)\n",
    "plot!(linea2x, linea2y,label=\"rvmax\", lw=1.0, ls=:dash)\n",
    "savefig(\"../articulo/figures/HitRightWall01.pdf\")\n",
    "p"
   ]
  },
  {
   "cell_type": "code",
   "execution_count": null,
   "metadata": {},
   "outputs": [],
   "source": [
    "nevents"
   ]
  },
  {
   "cell_type": "markdown",
   "metadata": {
    "collapsed": true
   },
   "source": [
    "# Disc collisions"
   ]
  },
  {
   "cell_type": "code",
   "execution_count": 18,
   "metadata": {},
   "outputs": [
    {
     "data": {
      "text/plain": [
       "simulation_disc_collisions (generic function with 2 methods)"
      ]
     },
     "execution_count": 18,
     "metadata": {},
     "output_type": "execute_result"
    }
   ],
   "source": [
    "function simulation_disc_collisions(w, h, num_collisions=10^5)\n",
    "    \n",
    "    num_times = Float64[]\n",
    "    exact_times = Float64[]\n",
    "    σ=Float64[]\n",
    "    stderror=Float64[]\n",
    "    \n",
    "    rs = 0.0051:0.005:rmax\n",
    "    \n",
    "    for r in rs\n",
    "        print(r, \" \")\n",
    "        \n",
    "        a = w/2 - r\n",
    "        b = h/2 - r\n",
    "    \n",
    "        times, positions, velocities, collision_types = dynamics(w, h, r, num_collisions);\n",
    "        \n",
    "        collision_times = diff(times[collision_types .== 5])\n",
    "        nhits=length(collision_times)\n",
    "        \n",
    "        push!(num_times, mean(collision_times))   # diff gives inter-hop times\n",
    "        push!(exact_times, disc_collision_analytical(a, b, r))\n",
    "        aux=std(num_times)\n",
    "        push!(σ, aux)\n",
    "        push!(stderror, aux/sqrt(nhits))\n",
    "        \n",
    "        \n",
    "    end\n",
    "    \n",
    "    return rs, num_times, exact_times, σ, stderror\n",
    "end"
   ]
  },
  {
   "cell_type": "code",
   "execution_count": null,
   "metadata": {},
   "outputs": [],
   "source": [
    "rs, num_disc_collision_times, exact_disc_collision_times, colsig, colerror = simulation_disc_collisions(w, h, nevents);"
   ]
  },
  {
   "cell_type": "code",
   "execution_count": null,
   "metadata": {},
   "outputs": [],
   "source": [
    "linea1y=[0,80]\n",
    "linea2y=linea1y\n",
    "p=plot(xlim=(0,rmax), ylim=(0,80),xlabel=\"radius\",ylabel=\"time\", size=(640,480) )\n",
    "scatter!(rs, num_disc_collision_times, m=:square, ms=2, label=\"numerical\", yerror=colerror)\n",
    "plot!(rs, exact_disc_collision_times, label=\"exact\", lw=2)\n",
    "plot!(linea1x,linea1y,label=\"rhmax\", lw=1.0, ls=:dash)\n",
    "plot!(linea2x, linea2y,label=\"rvmax\", lw=1.0, ls=:dash)\n",
    "savefig(\"../articulo/figures/DiscCollitions01.pdf\")\n",
    "p"
   ]
  },
  {
   "cell_type": "markdown",
   "metadata": {
    "collapsed": true
   },
   "source": [
    "## Vertical hopping"
   ]
  },
  {
   "cell_type": "code",
   "execution_count": 19,
   "metadata": {},
   "outputs": [
    {
     "data": {
      "text/plain": [
       "simulation_vert_hopping (generic function with 2 methods)"
      ]
     },
     "execution_count": 19,
     "metadata": {},
     "output_type": "execute_result"
    }
   ],
   "source": [
    "function simulation_vert_hopping(w, h, num_collisions=10^5)\n",
    "    \n",
    "    num_times = Float64[]\n",
    "    exact_times = Float64[]\n",
    "    \n",
    "     σ=Float64[]\n",
    "    stderror=Float64[]\n",
    "    \n",
    "    \n",
    "    rs = 0.005:0.005:rvmax\n",
    "    \n",
    "    for r in rs\n",
    "        print(r, \" \")\n",
    "    \n",
    "        a = w/2 - r\n",
    "        b = h/2 - r\n",
    "    \n",
    "        vert_hopping_times=[]\n",
    "        nhits=0\n",
    "    \n",
    "    #    while(nhits<200)\n",
    "            times, positions, velocities, collision_types = dynamics(w, h, r, num_collisions);\n",
    "            vert_hopping_times = diff(vertical_hopping_times(times, positions, velocities))\n",
    "            nhits=length(vert_hopping_times)\n",
    "#        end\n",
    "             \n",
    "        push!(num_times, mean(vert_hopping_times))   # diff gives inter-hop times\n",
    "        push!(exact_times, vert_hop_analytical(a, b, r))\n",
    "        \n",
    "        aux=std(vert_hopping_times)\n",
    "        push!(σ, aux)\n",
    "        push!(stderror, aux/sqrt(nhits))\n",
    "       \n",
    "    end\n",
    "\n",
    "    return rs, num_times,exact_times, σ, stderror\n",
    "\n",
    "\n",
    "end"
   ]
  },
  {
   "cell_type": "code",
   "execution_count": null,
   "metadata": {},
   "outputs": [],
   "source": [
    "rs, num_vert_hopping_times, exact_vert_hopping_times , vhsigma, vhoperror = simulation_vert_hopping(w, h, nevents);"
   ]
  },
  {
   "cell_type": "code",
   "execution_count": null,
   "metadata": {},
   "outputs": [],
   "source": [
    "linea1y=[0,2]\n",
    "linea2y=linea1y\n",
    "p=plot(xlim=(0,rvmax), ylim=(0,2),title=\"Mean Time, Vertical Hop\", xlabel=\"radius\",ylabel=\"time\" , size=(640,480))\n",
    "scatter!(rs, num_vert_hopping_times, m=:square, ms=2, label=\"numerical\", yerror=vhoperror)\n",
    "plot!(rs, exact_vert_hopping_times, label=\"exact\", lw=2)\n",
    "plot!(linea1x,linea1y,label=\"rhmax\", lw=1.0, ls=:dash)\n",
    "plot!(linea2x, linea2y,label=\"rvmax\", lw=1.0, ls=:dash)\n",
    "savefig(\"../articulo/figures/VertHop01.pdf\")\n",
    "p"
   ]
  },
  {
   "cell_type": "markdown",
   "metadata": {},
   "source": [
    "## Statistics.\n",
    "\n",
    "Some Plots of interesting statistical propiertes, such as histograms."
   ]
  },
  {
   "cell_type": "code",
   "execution_count": 20,
   "metadata": {},
   "outputs": [],
   "source": [
    "using StatsBase"
   ]
  },
  {
   "cell_type": "code",
   "execution_count": 25,
   "metadata": {},
   "outputs": [
    {
     "name": "stdout",
     "output_type": "stream",
     "text": [
      " vamos en el  r=0.01\n",
      " vamos en el  r=0.075\n",
      " vamos en el  r=0.125\n",
      " vamos en el  r=0.15\n",
      " vamos en el  r=0.2\n",
      " vamos en el  r=0.24\n",
      "173.978455 seconds (770.20 M allocations: 57.120 GiB, 73.03% gc time)\n"
     ]
    }
   ],
   "source": [
    "radiosinteresantes=(0.01, 0.075, 0.125, 0.15, 0.2, 0.24)\n",
    "# radiosinteresantes=(0.01, 0.125, 0.24)\n",
    "\n",
    "nevents=10^4\n",
    "\n",
    "thopforhisto=Dict{Float64, Array}()\n",
    "\n",
    "binlim=10\n",
    "paso=0.5\n",
    "rangobins=0:paso:binlim\n",
    "rangoplot=rangobins[1:end-1].+paso./2\n",
    "\n",
    "hth=Dict{Float64, Any}()\n",
    "\n",
    " w,h=1.5,1\n",
    "num_collisions=10^7\n",
    "   \n",
    "\n",
    "@time for r in radiosinteresantes\n",
    "    w,h=1.5,1\n",
    "   # rs, num_vert_hopping_times, exact_vert_hopping_times , vhsigma, vhoperror = simulation_vert_hopping(w, h, nevents);\n",
    "    times, positions, velocities, collision_types = dynamics(w, h, r, num_collisions);\n",
    "    thopforhisto[r] = horizontal_hopping_times(times, positions, velocities);\n",
    "    \n",
    "    #normalized histograms\n",
    "    aux=fit(Histogram, diff(thopforhisto[r]), rangobins, closed=:left)\n",
    "    \n",
    "    hth[r]=aux.weights./sum(aux.weights)\n",
    "    \n",
    "    println(\" vamos en el  r=\",r)\n",
    "    \n",
    "end"
   ]
  },
  {
   "cell_type": "code",
   "execution_count": 35,
   "metadata": {},
   "outputs": [
    {
     "ename": "UndefVarError",
     "evalue": "UndefVarError: binlim not defined",
     "output_type": "error",
     "traceback": [
      "UndefVarError: binlim not defined",
      "",
      "Stacktrace:",
      " [1] top-level scope at In[35]:1"
     ]
    }
   ],
   "source": [
    "p=plot(xlim=(0,binlim), xlabel=\"Time of hop\", title=\"Freq\")\n",
    "for r in radiosinteresantes\n",
    "    bar!(rangoplot.+r,hth[r], lc=:match, alpha=0.75,bar_width=0.1, label=\"$r\")\n",
    "end\n",
    "savefig(\"histogramahorizontalhopsemidecente01.pdf\")\n",
    "p"
   ]
  },
  {
   "cell_type": "code",
   "execution_count": null,
   "metadata": {},
   "outputs": [],
   "source": [
    "hth=Dict{Float64, Any}()\n",
    "r=0.01"
   ]
  },
  {
   "cell_type": "code",
   "execution_count": null,
   "metadata": {},
   "outputs": [],
   "source": [
    "for r in radiosinteresantes\n",
    "hth[r]=1\n",
    "end"
   ]
  },
  {
   "cell_type": "code",
   "execution_count": null,
   "metadata": {},
   "outputs": [],
   "source": [
    "hth"
   ]
  },
  {
   "cell_type": "code",
   "execution_count": null,
   "metadata": {},
   "outputs": [],
   "source": []
  }
 ],
 "metadata": {
  "@webio": {
   "lastCommId": "5215c9560c2d4e5b95278f4b81a1edb6",
   "lastKernelId": "fb009917-5582-4074-bc72-c7954d20cbe6"
  },
  "kernelspec": {
   "display_name": "Julia 1.0.3",
   "language": "julia",
   "name": "julia-1.0"
  },
  "language_info": {
   "file_extension": ".jl",
   "mimetype": "application/julia",
   "name": "julia",
   "version": "1.0.3"
  },
  "toc": {
   "colors": {
    "hover_highlight": "#DAA520",
    "running_highlight": "#FF0000",
    "selected_highlight": "#FFD700"
   },
   "moveMenuLeft": true,
   "nav_menu": {
    "height": "30px",
    "width": "252px"
   },
   "navigate_menu": true,
   "number_sections": true,
   "sideBar": true,
   "threshold": "1",
   "toc_cell": false,
   "toc_section_display": "block",
   "toc_window_display": false
  }
 },
 "nbformat": 4,
 "nbformat_minor": 2
}
