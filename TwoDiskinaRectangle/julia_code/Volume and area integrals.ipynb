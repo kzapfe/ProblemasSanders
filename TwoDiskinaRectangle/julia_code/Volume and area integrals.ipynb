{
 "cells": [
  {
   "cell_type": "code",
   "execution_count": 1,
   "metadata": {},
   "outputs": [
    {
     "name": "stderr",
     "output_type": "stream",
     "text": [
      "\u001b[1m\u001b[36mINFO: \u001b[39m\u001b[22m\u001b[36mRecompiling stale cache file /Users/dpsanders/.julia/lib/v0.6/SymPy.ji for module SymPy.\n",
      "\u001b[39m"
     ]
    }
   ],
   "source": [
    "using SymPy"
   ]
  },
  {
   "cell_type": "code",
   "execution_count": 33,
   "metadata": {},
   "outputs": [
    {
     "data": {
      "text/plain": [
       "(x, y, a, b, r)"
      ]
     },
     "execution_count": 33,
     "metadata": {},
     "output_type": "execute_result"
    }
   ],
   "source": [
    "@syms x y a b r"
   ]
  },
  {
   "cell_type": "code",
   "execution_count": 51,
   "metadata": {},
   "outputs": [
    {
     "data": {
      "text/latex": [
       "$$\\sqrt{2}$$"
      ],
      "text/plain": [
       "  ___\n",
       "\\/ 2 "
      ]
     },
     "execution_count": 51,
     "metadata": {},
     "output_type": "execute_result"
    }
   ],
   "source": [
    "two = SymPy.Sym(2)\n",
    "√two"
   ]
  },
  {
   "cell_type": "code",
   "execution_count": 60,
   "metadata": {},
   "outputs": [
    {
     "data": {
      "text/latex": [
       "$$b^{2} - b \\sqrt{4 r^{2} - 2 x^{2}} + r^{2} - \\frac{x^{2}}{2}$$"
      ],
      "text/plain": [
       "          _____________         2\n",
       " 2       /    2      2     2   x \n",
       "b  - b*\\/  4*r  - 2*x   + r  - --\n",
       "                               2 "
      ]
     },
     "execution_count": 60,
     "metadata": {},
     "output_type": "execute_result"
    }
   ],
   "source": [
    "I1a = simplify(integrate( (b*√two - y), (y, √(2r^2 - x^2), b*√two)))"
   ]
  },
  {
   "cell_type": "code",
   "execution_count": 61,
   "metadata": {},
   "outputs": [
    {
     "data": {
      "text/latex": [
       "$$\\frac{1}{2} \\int_{0}^{\\sqrt{2} r} \\left(- \\sqrt{2} a + x\\right) \\left(- 2 b^{2} + 2 \\sqrt{2} b \\sqrt{2 r^{2} - x^{2}} - 2 r^{2} + x^{2}\\right)\\, dx$$"
      ],
      "text/plain": [
       "   ___                                                                    \n",
       " \\/ 2 *r                                                                  \n",
       "    /                                                                     \n",
       "   |                                                                      \n",
       "   |                    /                      ___________            \\   \n",
       "   |    /    ___      \\ |     2       ___     /    2    2       2    2|   \n",
       "   |    \\- \\/ 2 *a + x/*\\- 2*b  + 2*\\/ 2 *b*\\/  2*r  - x   - 2*r  + x / dx\n",
       "   |                                                                      \n",
       "  /                                                                       \n",
       "  0                                                                       \n",
       "--------------------------------------------------------------------------\n",
       "                                    2                                     "
      ]
     },
     "execution_count": 61,
     "metadata": {},
     "output_type": "execute_result"
    }
   ],
   "source": [
    "I1b = integrate(I1a * (a*√two - x), (x, 0, r*√two) )"
   ]
  },
  {
   "cell_type": "code",
   "execution_count": 53,
   "metadata": {},
   "outputs": [
    {
     "data": {
      "text/latex": [
       "$$2 b^{2} \\left(- \\frac{a^{2}}{2} + a r - \\frac{r^{2}}{2}\\right) + \\sqrt{2} b \\left(\\sqrt{2} a^{2} b - 2 \\sqrt{2} a b r + \\sqrt{2} b r^{2}\\right)$$"
      ],
      "text/plain": [
       "     /   2          2\\                                                    \n",
       "   2 |  a          r |     ___   /  ___  2         ___           ___    2\\\n",
       "2*b *|- -- + a*r - --| + \\/ 2 *b*\\\\/ 2 *a *b - 2*\\/ 2 *a*b*r + \\/ 2 *b*r /\n",
       "     \\  2          2 /                                                    "
      ]
     },
     "execution_count": 53,
     "metadata": {},
     "output_type": "execute_result"
    }
   ],
   "source": [
    "I2 = integrate( (a*√two - x) * (b*√two - y), (x, r*√two, a*√two), (y, 0, b*√two))#a*√two)"
   ]
  },
  {
   "cell_type": "code",
   "execution_count": 54,
   "metadata": {},
   "outputs": [
    {
     "data": {
      "text/latex": [
       "$$a^{2} b^{2} - 2 a b r \\sqrt{4 r^{2} - 2 x^{2}} + 2 a r^{3} - a r x^{2} + b r^{2} \\sqrt{4 r^{2} - 2 x^{2}} - r^{4} + \\frac{r^{2} x^{2}}{2}$$"
      ],
      "text/plain": [
       "                   _____________                             _____________    \n",
       " 2  2             /    2      2         3        2      2   /    2      2     \n",
       "a *b  - 2*a*b*r*\\/  4*r  - 2*x   + 2*a*r  - a*r*x  + b*r *\\/  4*r  - 2*x   - r\n",
       "                                                                              \n",
       "\n",
       "     2  2\n",
       "4   r *x \n",
       "  + -----\n",
       "      2  "
      ]
     },
     "execution_count": 54,
     "metadata": {},
     "output_type": "execute_result"
    }
   ],
   "source": [
    "simplify(I1 + I2)"
   ]
  },
  {
   "cell_type": "code",
   "execution_count": null,
   "metadata": {
    "collapsed": true
   },
   "outputs": [],
   "source": [
    "integrate( (a*√two - x) * (b*√two - y) * , (x, 0, a*√two), (y, 0, b*√two))#a*√two)"
   ]
  },
  {
   "cell_type": "code",
   "execution_count": 15,
   "metadata": {},
   "outputs": [
    {
     "data": {
      "text/plain": [
       "SymPy.Sym"
      ]
     },
     "execution_count": 15,
     "metadata": {},
     "output_type": "execute_result"
    }
   ],
   "source": [
    "typeof(ans)"
   ]
  },
  {
   "cell_type": "code",
   "execution_count": 10,
   "metadata": {},
   "outputs": [
    {
     "ename": "LoadError",
     "evalue": "\u001b[91mPyError (ccall(@pysym(:PyObject_Call), PyPtr, (PyPtr, PyPtr, PyPtr), o, arg, C_NULL)) <type 'exceptions.ValueError'>\nValueError('Invalid limits given: (0, 1.4142135623731*a)',)\n  File \"/Users/dpsanders/.julia/v0.6/Conda/deps/usr/lib/python2.7/site-packages/sympy/integrals/integrals.py\", line 1276, in integrate\n    integral = Integral(*args, **kwargs)\n  File \"/Users/dpsanders/.julia/v0.6/Conda/deps/usr/lib/python2.7/site-packages/sympy/integrals/integrals.py\", line 75, in __new__\n    obj = AddWithLimits.__new__(cls, function, *symbols, **assumptions)\n  File \"/Users/dpsanders/.julia/v0.6/Conda/deps/usr/lib/python2.7/site-packages/sympy/concrete/expr_with_limits.py\", line 368, in __new__\n    limits, orientation = _process_limits(*symbols)\n  File \"/Users/dpsanders/.julia/v0.6/Conda/deps/usr/lib/python2.7/site-packages/sympy/concrete/expr_with_limits.py\", line 69, in _process_limits\n    raise ValueError('Invalid limits given: %s' % str(symbols))\n\u001b[39m",
     "output_type": "error",
     "traceback": [
      "\u001b[91mPyError (ccall(@pysym(:PyObject_Call), PyPtr, (PyPtr, PyPtr, PyPtr), o, arg, C_NULL)) <type 'exceptions.ValueError'>\nValueError('Invalid limits given: (0, 1.4142135623731*a)',)\n  File \"/Users/dpsanders/.julia/v0.6/Conda/deps/usr/lib/python2.7/site-packages/sympy/integrals/integrals.py\", line 1276, in integrate\n    integral = Integral(*args, **kwargs)\n  File \"/Users/dpsanders/.julia/v0.6/Conda/deps/usr/lib/python2.7/site-packages/sympy/integrals/integrals.py\", line 75, in __new__\n    obj = AddWithLimits.__new__(cls, function, *symbols, **assumptions)\n  File \"/Users/dpsanders/.julia/v0.6/Conda/deps/usr/lib/python2.7/site-packages/sympy/concrete/expr_with_limits.py\", line 368, in __new__\n    limits, orientation = _process_limits(*symbols)\n  File \"/Users/dpsanders/.julia/v0.6/Conda/deps/usr/lib/python2.7/site-packages/sympy/concrete/expr_with_limits.py\", line 69, in _process_limits\n    raise ValueError('Invalid limits given: %s' % str(symbols))\n\u001b[39m",
      "",
      "Stacktrace:",
      " [1] \u001b[1mpyerr_check\u001b[22m\u001b[22m at \u001b[1m/Users/dpsanders/.julia/v0.6/PyCall/src/exception.jl:56\u001b[22m\u001b[22m [inlined]",
      " [2] \u001b[1mpyerr_check\u001b[22m\u001b[22m at \u001b[1m/Users/dpsanders/.julia/v0.6/PyCall/src/exception.jl:61\u001b[22m\u001b[22m [inlined]",
      " [3] \u001b[1mmacro expansion\u001b[22m\u001b[22m at \u001b[1m/Users/dpsanders/.julia/v0.6/PyCall/src/exception.jl:81\u001b[22m\u001b[22m [inlined]",
      " [4] \u001b[1m#_pycall#67\u001b[22m\u001b[22m\u001b[1m(\u001b[22m\u001b[22m::Array{Any,1}, ::Function, ::PyCall.PyObject, ::SymPy.Sym, ::Vararg{Any,N} where N\u001b[1m)\u001b[22m\u001b[22m at \u001b[1m/Users/dpsanders/.julia/v0.6/PyCall/src/PyCall.jl:653\u001b[22m\u001b[22m",
      " [5] \u001b[1m_pycall\u001b[22m\u001b[22m\u001b[1m(\u001b[22m\u001b[22m::PyCall.PyObject, ::SymPy.Sym, ::Vararg{Any,N} where N\u001b[1m)\u001b[22m\u001b[22m at \u001b[1m/Users/dpsanders/.julia/v0.6/PyCall/src/PyCall.jl:641\u001b[22m\u001b[22m",
      " [6] \u001b[1m#pycall#71\u001b[22m\u001b[22m\u001b[1m(\u001b[22m\u001b[22m::Array{Any,1}, ::Function, ::PyCall.PyObject, ::Type{PyCall.PyAny}, ::SymPy.Sym, ::Vararg{Any,N} where N\u001b[1m)\u001b[22m\u001b[22m at \u001b[1m/Users/dpsanders/.julia/v0.6/PyCall/src/PyCall.jl:675\u001b[22m\u001b[22m",
      " [7] \u001b[1mpycall\u001b[22m\u001b[22m\u001b[1m(\u001b[22m\u001b[22m::PyCall.PyObject, ::Type{PyCall.PyAny}, ::SymPy.Sym, ::Vararg{Any,N} where N\u001b[1m)\u001b[22m\u001b[22m at \u001b[1m/Users/dpsanders/.julia/v0.6/PyCall/src/PyCall.jl:675\u001b[22m\u001b[22m",
      " [8] \u001b[1m#call_sympy_fun#537\u001b[22m\u001b[22m\u001b[1m(\u001b[22m\u001b[22m::Array{Any,1}, ::Function, ::PyCall.PyObject, ::SymPy.Sym, ::Vararg{Any,N} where N\u001b[1m)\u001b[22m\u001b[22m at \u001b[1m/Users/dpsanders/.julia/v0.6/SymPy/src/SymPy.jl:252\u001b[22m\u001b[22m",
      " [9] \u001b[1mcall_sympy_fun\u001b[22m\u001b[22m\u001b[1m(\u001b[22m\u001b[22m::PyCall.PyObject, ::SymPy.Sym, ::Vararg{Any,N} where N\u001b[1m)\u001b[22m\u001b[22m at \u001b[1m/Users/dpsanders/.julia/v0.6/SymPy/src/SymPy.jl:252\u001b[22m\u001b[22m",
      " [10] \u001b[1m#sympy_meth#538\u001b[22m\u001b[22m\u001b[1m(\u001b[22m\u001b[22m::Array{Any,1}, ::Function, ::String, ::SymPy.Sym, ::Vararg{Any,N} where N\u001b[1m)\u001b[22m\u001b[22m at \u001b[1m/Users/dpsanders/.julia/v0.6/SymPy/src/SymPy.jl:257\u001b[22m\u001b[22m",
      " [11] \u001b[1msympy_meth\u001b[22m\u001b[22m\u001b[1m(\u001b[22m\u001b[22m::String, ::SymPy.Sym, ::Vararg{Any,N} where N\u001b[1m)\u001b[22m\u001b[22m at \u001b[1m/Users/dpsanders/.julia/v0.6/SymPy/src/SymPy.jl:256\u001b[22m\u001b[22m",
      " [12] \u001b[1m#integrate#324\u001b[22m\u001b[22m\u001b[1m(\u001b[22m\u001b[22m::Array{Any,1}, ::Function, ::SymPy.Sym, ::Int64, ::Vararg{Any,N} where N\u001b[1m)\u001b[22m\u001b[22m at \u001b[1m/Users/dpsanders/.julia/v0.6/SymPy/src/SymPy.jl:193\u001b[22m\u001b[22m",
      " [13] \u001b[1mintegrate\u001b[22m\u001b[22m\u001b[1m(\u001b[22m\u001b[22m::SymPy.Sym, ::Int64, ::SymPy.Sym\u001b[1m)\u001b[22m\u001b[22m at \u001b[1m/Users/dpsanders/.julia/v0.6/SymPy/src/SymPy.jl:193\u001b[22m\u001b[22m",
      " [14] \u001b[1minclude_string\u001b[22m\u001b[22m\u001b[1m(\u001b[22m\u001b[22m::String, ::String\u001b[1m)\u001b[22m\u001b[22m at \u001b[1m./loading.jl:515\u001b[22m\u001b[22m"
     ]
    }
   ],
   "source": [
    "integrate(a*sqrt(2) - x, 0, a*sqrt(2))"
   ]
  },
  {
   "cell_type": "code",
   "execution_count": null,
   "metadata": {
    "collapsed": true
   },
   "outputs": [],
   "source": []
  }
 ],
 "metadata": {
  "kernelspec": {
   "display_name": "Julia 0.6.0",
   "language": "julia",
   "name": "julia-0.6"
  },
  "language_info": {
   "file_extension": ".jl",
   "mimetype": "application/julia",
   "name": "julia",
   "version": "0.6.0"
  },
  "toc": {
   "colors": {
    "hover_highlight": "#DAA520",
    "running_highlight": "#FF0000",
    "selected_highlight": "#FFD700"
   },
   "moveMenuLeft": true,
   "nav_menu": {
    "height": "12px",
    "width": "252px"
   },
   "navigate_menu": true,
   "number_sections": true,
   "sideBar": true,
   "threshold": "1",
   "toc_cell": false,
   "toc_section_display": "block",
   "toc_window_display": false
  }
 },
 "nbformat": 4,
 "nbformat_minor": 2
}
