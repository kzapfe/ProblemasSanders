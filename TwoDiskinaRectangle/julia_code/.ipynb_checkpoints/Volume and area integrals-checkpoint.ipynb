{
 "cells": [
  {
   "cell_type": "code",
   "execution_count": 1,
   "metadata": {},
   "outputs": [
    {
     "name": "stderr",
     "output_type": "stream",
     "text": [
      "\u001b[1m\u001b[36mINFO: \u001b[39m\u001b[22m\u001b[36mPrecompiling module SymPy.\n",
      "\u001b[39m"
     ]
    }
   ],
   "source": [
    "using SymPy"
   ]
  },
  {
   "cell_type": "code",
   "execution_count": 4,
   "metadata": {},
   "outputs": [
    {
     "data": {
      "text/plain": [
       "(x, y, a, b, r)"
      ]
     },
     "execution_count": 4,
     "metadata": {},
     "output_type": "execute_result"
    }
   ],
   "source": [
    "@syms x y a b r"
   ]
  },
  {
   "cell_type": "code",
   "execution_count": 21,
   "metadata": {},
   "outputs": [
    {
     "data": {
      "text/latex": [
       "$$\\pi$$"
      ],
      "text/plain": [
       "π"
      ]
     },
     "execution_count": 21,
     "metadata": {},
     "output_type": "execute_result"
    }
   ],
   "source": [
    "two = SymPy.Sym(2)\n",
    "pie = SymPy.Sym(pi)\n",
    "√two\n",
    "pie"
   ]
  },
  {
   "cell_type": "code",
   "execution_count": 6,
   "metadata": {},
   "outputs": [
    {
     "data": {
      "text/latex": [
       "$$b^{2} - b \\sqrt{4 r^{2} - 2 x^{2}} + r^{2} - \\frac{x^{2}}{2}$$"
      ],
      "text/plain": [
       "          _____________         2\n",
       " 2       ╱    2      2     2   x \n",
       "b  - b⋅╲╱  4⋅r  - 2⋅x   + r  - ──\n",
       "                               2 "
      ]
     },
     "execution_count": 6,
     "metadata": {},
     "output_type": "execute_result"
    }
   ],
   "source": [
    "I1a = simplify(integrate( (b*√two - y), (y, √(2r^2 - x^2), b*√two)))"
   ]
  },
  {
   "cell_type": "code",
   "execution_count": 7,
   "metadata": {},
   "outputs": [
    {
     "data": {
      "text/latex": [
       "$$\\frac{1}{2} \\int_{0}^{\\sqrt{2} r} \\left(- \\sqrt{2} a + x\\right) \\left(- 2 b^{2} + 2 \\sqrt{2} b \\sqrt{2 r^{2} - x^{2}} - 2 r^{2} + x^{2}\\right)\\, dx$$"
      ],
      "text/plain": [
       "√2⋅r                                                            \n",
       " ⌠                                                              \n",
       " ⎮               ⎛                   ___________            ⎞   \n",
       " ⎮               ⎜     2            ╱    2    2       2    2⎟   \n",
       " ⎮   (-√2⋅a + x)⋅⎝- 2⋅b  + 2⋅√2⋅b⋅╲╱  2⋅r  - x   - 2⋅r  + x ⎠ dx\n",
       " ⌡                                                              \n",
       " 0                                                              \n",
       "────────────────────────────────────────────────────────────────\n",
       "                               2                                "
      ]
     },
     "execution_count": 7,
     "metadata": {},
     "output_type": "execute_result"
    }
   ],
   "source": [
    "I1b = integrate(I1a * (a*√two - x), (x, 0, r*√two) )"
   ]
  },
  {
   "cell_type": "code",
   "execution_count": 8,
   "metadata": {},
   "outputs": [
    {
     "data": {
      "text/latex": [
       "$$2 b^{2} \\left(- \\frac{a^{2}}{2} + a r - \\frac{r^{2}}{2}\\right) + \\sqrt{2} b \\left(\\sqrt{2} a^{2} b - 2 \\sqrt{2} a b r + \\sqrt{2} b r^{2}\\right)$$"
      ],
      "text/plain": [
       "     ⎛   2          2⎞                                        \n",
       "   2 ⎜  a          r ⎟        ⎛    2                        2⎞\n",
       "2⋅b ⋅⎜- ── + a⋅r - ──⎟ + √2⋅b⋅⎝√2⋅a ⋅b - 2⋅√2⋅a⋅b⋅r + √2⋅b⋅r ⎠\n",
       "     ⎝  2          2 ⎠                                        "
      ]
     },
     "execution_count": 8,
     "metadata": {},
     "output_type": "execute_result"
    }
   ],
   "source": [
    "I2 = integrate( (a*√two - x) * (b*√two - y), (x, r*√two, a*√two), (y, 0, b*√two))#a*√two)"
   ]
  },
  {
   "cell_type": "code",
   "execution_count": 10,
   "metadata": {},
   "outputs": [
    {
     "data": {
      "text/latex": [
       "$$a^{2} b^{2} - 2 a b^{2} r + b^{2} r^{2} + b^{2} - b \\sqrt{4 r^{2} - 2 x^{2}} + r^{2} - \\frac{x^{2}}{2}$$"
      ],
      "text/plain": [
       "                                     _____________         2\n",
       " 2  2        2      2  2    2       ╱    2      2     2   x \n",
       "a ⋅b  - 2⋅a⋅b ⋅r + b ⋅r  + b  - b⋅╲╱  4⋅r  - 2⋅x   + r  - ──\n",
       "                                                          2 "
      ]
     },
     "execution_count": 10,
     "metadata": {},
     "output_type": "execute_result"
    }
   ],
   "source": [
    "simplify(I1a+ I2)"
   ]
  },
  {
   "cell_type": "code",
   "execution_count": 12,
   "metadata": {},
   "outputs": [
    {
     "data": {
      "text/latex": [
       "$$a^{2} b^{2}$$"
      ],
      "text/plain": [
       " 2  2\n",
       "a ⋅b "
      ]
     },
     "execution_count": 12,
     "metadata": {},
     "output_type": "execute_result"
    }
   ],
   "source": [
    "integrate( (a*√two - x) * (b*√two - y) , (x, 0, a*√two), (y, 0, b*√two))#a*√two)"
   ]
  },
  {
   "cell_type": "code",
   "execution_count": 13,
   "metadata": {},
   "outputs": [
    {
     "data": {
      "text/plain": [
       "SymPy.Sym"
      ]
     },
     "execution_count": 13,
     "metadata": {},
     "output_type": "execute_result"
    }
   ],
   "source": [
    "typeof(ans)"
   ]
  },
  {
   "cell_type": "code",
   "execution_count": 15,
   "metadata": {},
   "outputs": [
    {
     "data": {
      "text/latex": [
       "$$1.0 a^{2}$$"
      ],
      "text/plain": [
       "     2\n",
       "1.0⋅a "
      ]
     },
     "execution_count": 15,
     "metadata": {},
     "output_type": "execute_result"
    }
   ],
   "source": [
    "integrate(a*sqrt(2) - x,(x,0, a*sqrt(2)))"
   ]
  },
  {
   "cell_type": "markdown",
   "metadata": {
    "collapsed": true
   },
   "source": [
    "# Validation of Volume and Area Formulas by Karel"
   ]
  },
  {
   "cell_type": "markdown",
   "metadata": {},
   "source": [
    "Okey, we calculate the excluded volume and substract it from the total paraleliped volume, $V_{total}=16a^2b^2$"
   ]
  },
  {
   "cell_type": "code",
   "execution_count": 39,
   "metadata": {},
   "outputs": [
    {
     "data": {
      "text/latex": [
       "$$2 a b + ρ^{2} \\sin{\\left (θ \\right )} \\cos{\\left (θ \\right )} - \\sqrt{2} \\left(a ρ \\sin{\\left (θ \\right )} + b ρ \\cos{\\left (θ \\right )}\\right)$$"
      ],
      "text/plain": [
       "         2                                             \n",
       "2⋅a⋅b + ρ ⋅sin(θ)⋅cos(θ) - √2⋅(a⋅ρ⋅sin(θ) + b⋅ρ⋅cos(θ))"
      ]
     },
     "execution_count": 39,
     "metadata": {},
     "output_type": "execute_result"
    }
   ],
   "source": [
    "@syms x y a b r ρ  θ β α\n",
    "KernelCircleGeneralxy=two*a*b-√two*(a*y+b*x)+x*y\n",
    "KCGrhotheta=KernelCircleGeneralxy[:subs]([(x,ρ*cos(θ)),(y,ρ*sin(θ))])"
   ]
  },
  {
   "cell_type": "code",
   "execution_count": 45,
   "metadata": {},
   "outputs": [
    {
     "data": {
      "text/latex": [
       "$$a b r^{2} + \\frac{r^{4}}{4} \\sin{\\left (θ \\right )} \\cos{\\left (θ \\right )} + r^{3} \\left(- \\frac{\\sqrt{2} a}{3} \\sin{\\left (θ \\right )} - \\frac{\\sqrt{2} b}{3} \\cos{\\left (θ \\right )}\\right)$$"
      ],
      "text/plain": [
       "          4                                                 \n",
       "     2   r ⋅sin(θ)⋅cos(θ)    3 ⎛  √2⋅a⋅sin(θ)   √2⋅b⋅cos(θ)⎞\n",
       "a⋅b⋅r  + ──────────────── + r ⋅⎜- ─────────── - ───────────⎟\n",
       "                4              ⎝       3             3     ⎠"
      ]
     },
     "execution_count": 45,
     "metadata": {},
     "output_type": "execute_result"
    }
   ],
   "source": [
    "pasouno=integrate(ρ*KCGrhotheta, (ρ, 0, r))"
   ]
  },
  {
   "cell_type": "code",
   "execution_count": 46,
   "metadata": {},
   "outputs": [
    {
     "data": {
      "text/latex": [
       "$$a b r^{2} α - a b r^{2} β + \\frac{r^{4}}{8} \\sin^{2}{\\left (α \\right )} - \\frac{r^{4}}{8} \\sin^{2}{\\left (β \\right )} + r^{3} \\left(\\frac{\\sqrt{2} a}{3} \\cos{\\left (α \\right )} - \\frac{\\sqrt{2} b}{3} \\sin{\\left (α \\right )}\\right) - r^{3} \\left(\\frac{\\sqrt{2} a}{3} \\cos{\\left (β \\right )} - \\frac{\\sqrt{2} b}{3} \\sin{\\left (β \\right )}\\right)$$"
      ],
      "text/plain": [
       "                       4    2       4    2                                    \n",
       "     2          2     r ⋅sin (α)   r ⋅sin (β)    3 ⎛√2⋅a⋅cos(α)   √2⋅b⋅sin(α)⎞\n",
       "a⋅b⋅r ⋅α - a⋅b⋅r ⋅β + ────────── - ────────── + r ⋅⎜─────────── - ───────────⎟\n",
       "                          8            8           ⎝     3             3     ⎠\n",
       "\n",
       "                                 \n",
       "    3 ⎛√2⋅a⋅cos(β)   √2⋅b⋅sin(β)⎞\n",
       " - r ⋅⎜─────────── - ───────────⎟\n",
       "      ⎝     3             3     ⎠"
      ]
     },
     "execution_count": 46,
     "metadata": {},
     "output_type": "execute_result"
    }
   ],
   "source": [
    "pasodos=integrate(pasouno, (θ,β,α))"
   ]
  },
  {
   "cell_type": "code",
   "execution_count": null,
   "metadata": {
    "collapsed": true
   },
   "outputs": [],
   "source": []
  }
 ],
 "metadata": {
  "kernelspec": {
   "display_name": "Julia 0.6.0",
   "language": "julia",
   "name": "julia-0.6"
  },
  "language_info": {
   "file_extension": ".jl",
   "mimetype": "application/julia",
   "name": "julia",
   "version": "0.6.0"
  },
  "toc": {
   "colors": {
    "hover_highlight": "#DAA520",
    "running_highlight": "#FF0000",
    "selected_highlight": "#FFD700"
   },
   "moveMenuLeft": true,
   "nav_menu": {
    "height": "12px",
    "width": "252px"
   },
   "navigate_menu": true,
   "number_sections": true,
   "sideBar": true,
   "threshold": "1",
   "toc_cell": false,
   "toc_section_display": "block",
   "toc_window_display": false
  }
 },
 "nbformat": 4,
 "nbformat_minor": 2
}
