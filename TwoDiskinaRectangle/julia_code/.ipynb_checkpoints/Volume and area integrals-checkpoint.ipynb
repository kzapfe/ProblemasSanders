{
 "cells": [
  {
   "cell_type": "code",
   "execution_count": 1,
   "metadata": {
    "collapsed": true
   },
   "outputs": [],
   "source": [
    "using SymPy"
   ]
  },
  {
   "cell_type": "code",
   "execution_count": 2,
   "metadata": {},
   "outputs": [
    {
     "data": {
      "text/plain": [
       "(x, y, a, b, r)"
      ]
     },
     "execution_count": 2,
     "metadata": {},
     "output_type": "execute_result"
    },
    {
     "name": "stderr",
     "output_type": "stream",
     "text": [
      "WARNING: Compat.UTF8String is deprecated, use String instead.\n",
      "  likely near /home/karel/.julia/v0.6/IJulia/src/kernel.jl:31\n",
      "WARNING: Compat.UTF8String is deprecated, use String instead.\n",
      "  likely near /home/karel/.julia/v0.6/IJulia/src/kernel.jl:31\n",
      "WARNING: Compat.UTF8String is deprecated, use String instead.\n",
      "  likely near /home/karel/.julia/v0.6/IJulia/src/kernel.jl:31\n",
      "in jprint at /home/karel/.julia/v0.6/SymPy/src/display.jl\n"
     ]
    }
   ],
   "source": [
    "@syms x y a b r"
   ]
  },
  {
   "cell_type": "code",
   "execution_count": 3,
   "metadata": {},
   "outputs": [
    {
     "data": {
      "text/latex": [
       "$$\\pi$$"
      ],
      "text/plain": [
       "π"
      ]
     },
     "execution_count": 3,
     "metadata": {},
     "output_type": "execute_result"
    }
   ],
   "source": [
    "two = SymPy.Sym(2)\n",
    "pie = SymPy.Sym(pi)\n",
    "√two\n",
    "pie"
   ]
  },
  {
   "cell_type": "code",
   "execution_count": 20,
   "metadata": {},
   "outputs": [
    {
     "data": {
      "text/latex": [
       "$$b^{2} - b \\sqrt{4 r^{2} - 2 x^{2}} + r^{2} - \\frac{x^{2}}{2}$$"
      ],
      "text/plain": [
       "          _____________         2\n",
       " 2       ╱    2      2     2   x \n",
       "b  - b⋅╲╱  4⋅r  - 2⋅x   + r  - ──\n",
       "                               2 "
      ]
     },
     "execution_count": 20,
     "metadata": {},
     "output_type": "execute_result"
    }
   ],
   "source": [
    "I1a = simplify(integrate( (b*√two - y), (y, √(2r^2 - x^2), b*√two)))"
   ]
  },
  {
   "cell_type": "code",
   "execution_count": 21,
   "metadata": {},
   "outputs": [
    {
     "data": {
      "text/latex": [
       "$$\\frac{1}{2} \\int_{0}^{\\sqrt{2} r} \\left(- \\sqrt{2} a + x\\right) \\left(- 2 b^{2} + 2 \\sqrt{2} b \\sqrt{2 r^{2} - x^{2}} - 2 r^{2} + x^{2}\\right)\\, dx$$"
      ],
      "text/plain": [
       "√2⋅r                                                            \n",
       " ⌠                                                              \n",
       " ⎮               ⎛                   ___________            ⎞   \n",
       " ⎮               ⎜     2            ╱    2    2       2    2⎟   \n",
       " ⎮   (-√2⋅a + x)⋅⎝- 2⋅b  + 2⋅√2⋅b⋅╲╱  2⋅r  - x   - 2⋅r  + x ⎠ dx\n",
       " ⌡                                                              \n",
       " 0                                                              \n",
       "────────────────────────────────────────────────────────────────\n",
       "                               2                                "
      ]
     },
     "execution_count": 21,
     "metadata": {},
     "output_type": "execute_result"
    }
   ],
   "source": [
    "I1b = integrate(I1a * (a*√two - x), (x, 0, r*√two) )"
   ]
  },
  {
   "cell_type": "code",
   "execution_count": 22,
   "metadata": {},
   "outputs": [
    {
     "data": {
      "text/latex": [
       "$$2 b^{2} \\left(- \\frac{a^{2}}{2} + a r - \\frac{r^{2}}{2}\\right) + \\sqrt{2} b \\left(\\sqrt{2} a^{2} b - 2 \\sqrt{2} a b r + \\sqrt{2} b r^{2}\\right)$$"
      ],
      "text/plain": [
       "     ⎛   2          2⎞                                        \n",
       "   2 ⎜  a          r ⎟        ⎛    2                        2⎞\n",
       "2⋅b ⋅⎜- ── + a⋅r - ──⎟ + √2⋅b⋅⎝√2⋅a ⋅b - 2⋅√2⋅a⋅b⋅r + √2⋅b⋅r ⎠\n",
       "     ⎝  2          2 ⎠                                        "
      ]
     },
     "execution_count": 22,
     "metadata": {},
     "output_type": "execute_result"
    }
   ],
   "source": [
    "I2 = integrate( (a*√two - x) * (b*√two - y), (x, r*√two, a*√two), (y, 0, b*√two))#a*√two)"
   ]
  },
  {
   "cell_type": "code",
   "execution_count": 23,
   "metadata": {},
   "outputs": [
    {
     "data": {
      "text/latex": [
       "$$a^{2} b^{2} - 2 a b^{2} r + b^{2} r^{2} + b^{2} - b \\sqrt{4 r^{2} - 2 x^{2}} + r^{2} - \\frac{x^{2}}{2}$$"
      ],
      "text/plain": [
       "                                     _____________         2\n",
       " 2  2        2      2  2    2       ╱    2      2     2   x \n",
       "a ⋅b  - 2⋅a⋅b ⋅r + b ⋅r  + b  - b⋅╲╱  4⋅r  - 2⋅x   + r  - ──\n",
       "                                                          2 "
      ]
     },
     "execution_count": 23,
     "metadata": {},
     "output_type": "execute_result"
    }
   ],
   "source": [
    "simplify(I1a+ I2)"
   ]
  },
  {
   "cell_type": "code",
   "execution_count": 24,
   "metadata": {},
   "outputs": [
    {
     "data": {
      "text/latex": [
       "$$a^{2} b^{2}$$"
      ],
      "text/plain": [
       " 2  2\n",
       "a ⋅b "
      ]
     },
     "execution_count": 24,
     "metadata": {},
     "output_type": "execute_result"
    }
   ],
   "source": [
    "integrate( (a*√two - x) * (b*√two - y) , (x, 0, a*√two), (y, 0, b*√two))#a*√two)"
   ]
  },
  {
   "cell_type": "code",
   "execution_count": 25,
   "metadata": {},
   "outputs": [
    {
     "data": {
      "text/plain": [
       "SymPy.Sym"
      ]
     },
     "execution_count": 25,
     "metadata": {},
     "output_type": "execute_result"
    }
   ],
   "source": [
    "typeof(ans)"
   ]
  },
  {
   "cell_type": "code",
   "execution_count": 26,
   "metadata": {},
   "outputs": [
    {
     "data": {
      "text/latex": [
       "$$1.0 a^{2}$$"
      ],
      "text/plain": [
       "     2\n",
       "1.0⋅a "
      ]
     },
     "execution_count": 26,
     "metadata": {},
     "output_type": "execute_result"
    }
   ],
   "source": [
    "integrate(a*sqrt(2) - x,(x,0, a*sqrt(2)))"
   ]
  },
  {
   "cell_type": "markdown",
   "metadata": {
    "collapsed": true
   },
   "source": [
    "# Validation of Volume and Area Formulas by Karel"
   ]
  },
  {
   "cell_type": "markdown",
   "metadata": {},
   "source": [
    "## Volume: "
   ]
  },
  {
   "cell_type": "markdown",
   "metadata": {},
   "source": [
    "Okey, we calculate the excluded volume and substract it from the total paraleliped volume, $V_{total}=16a^2b^2$\n",
    "\n",
    "First, we calculate the volume of the exlusion cylinder in its most general form. Remember that, in our convention, $w>h$ and $sin(\\alpha)=b/r, cos\\beta=a/r$"
   ]
  },
  {
   "cell_type": "code",
   "execution_count": 4,
   "metadata": {},
   "outputs": [
    {
     "data": {
      "text/latex": [
       "$$2 a b + ρ^{2} \\sin{\\left (θ \\right )} \\cos{\\left (θ \\right )} - \\sqrt{2} \\left(a ρ \\sin{\\left (θ \\right )} + b ρ \\cos{\\left (θ \\right )}\\right)$$"
      ],
      "text/plain": [
       "         2                                             \n",
       "2⋅a⋅b + ρ ⋅sin(θ)⋅cos(θ) - √2⋅(a⋅ρ⋅sin(θ) + b⋅ρ⋅cos(θ))"
      ]
     },
     "execution_count": 4,
     "metadata": {},
     "output_type": "execute_result"
    }
   ],
   "source": [
    "@syms x y a b r ρ  θ β α\n",
    "KernelCircleGeneralxy=two*a*b-√two*(a*y+b*x)+x*y\n",
    "KCGrhotheta=KernelCircleGeneralxy[:subs]([(x,ρ*cos(θ)),(y,ρ*sin(θ))])"
   ]
  },
  {
   "cell_type": "markdown",
   "metadata": {},
   "source": [
    "To integrate in polar, we change $dxdy$ to $\\rho d\\rho d \\theta$"
   ]
  },
  {
   "cell_type": "code",
   "execution_count": 5,
   "metadata": {},
   "outputs": [
    {
     "data": {
      "text/latex": [
       "$$2 a b r^{2} + r^{4} \\sin{\\left (θ \\right )} \\cos{\\left (θ \\right )} + 2 \\sqrt{2} r^{3} \\left(- \\frac{\\sqrt{2} a}{3} \\sin{\\left (θ \\right )} - \\frac{\\sqrt{2} b}{3} \\cos{\\left (θ \\right )}\\right)$$"
      ],
      "text/plain": [
       "       2    4                       3 ⎛  √2⋅a⋅sin(θ)   √2⋅b⋅cos(θ)⎞\n",
       "2⋅a⋅b⋅r  + r ⋅sin(θ)⋅cos(θ) + 2⋅√2⋅r ⋅⎜- ─────────── - ───────────⎟\n",
       "                                      ⎝       3             3     ⎠"
      ]
     },
     "execution_count": 5,
     "metadata": {},
     "output_type": "execute_result"
    }
   ],
   "source": [
    "pasouno=integrate(ρ*KCGrhotheta, (ρ, 0, √two*r))"
   ]
  },
  {
   "cell_type": "code",
   "execution_count": 25,
   "metadata": {},
   "outputs": [
    {
     "data": {
      "text/latex": [
       "$$- 2 a b r^{2} α + 2 a b r^{2} β - \\frac{r^{4}}{2} \\sin^{2}{\\left (α \\right )} + \\frac{r^{4}}{2} \\sin^{2}{\\left (β \\right )} - 2 \\sqrt{2} r^{3} \\left(\\frac{\\sqrt{2} a}{3} \\cos{\\left (α \\right )} - \\frac{\\sqrt{2} b}{3} \\sin{\\left (α \\right )}\\right) + 2 \\sqrt{2} r^{3} \\left(\\frac{\\sqrt{2} a}{3} \\cos{\\left (β \\right )} - \\frac{\\sqrt{2} b}{3} \\sin{\\left (β \\right )}\\right)$$"
      ],
      "text/plain": [
       "                             4    2       4    2                              \n",
       "         2            2     r ⋅sin (α)   r ⋅sin (β)         3 ⎛√2⋅a⋅cos(α)   √\n",
       "- 2⋅a⋅b⋅r ⋅α + 2⋅a⋅b⋅r ⋅β - ────────── + ────────── - 2⋅√2⋅r ⋅⎜─────────── - ─\n",
       "                                2            2                ⎝     3         \n",
       "\n",
       "                                                 \n",
       "2⋅b⋅sin(α)⎞         3 ⎛√2⋅a⋅cos(β)   √2⋅b⋅sin(β)⎞\n",
       "──────────⎟ + 2⋅√2⋅r ⋅⎜─────────── - ───────────⎟\n",
       "    3     ⎠           ⎝     3             3     ⎠"
      ]
     },
     "execution_count": 25,
     "metadata": {},
     "output_type": "execute_result"
    }
   ],
   "source": [
    "pasodos=integrate(pasouno, (θ,α,β))"
   ]
  },
  {
   "cell_type": "code",
   "execution_count": 28,
   "metadata": {},
   "outputs": [
    {
     "data": {
      "text/latex": [
       "$$32 a b r^{2} θ + 8 r^{4} \\sin^{2}{\\left (θ \\right )} + 32 \\sqrt{2} r^{3} \\left(\\frac{\\sqrt{2} a}{3} \\cos{\\left (θ \\right )} - \\frac{\\sqrt{2} b}{3} \\sin{\\left (θ \\right )}\\right)$$"
      ],
      "text/plain": [
       "        2        4    2             3 ⎛√2⋅a⋅cos(θ)   √2⋅b⋅sin(θ)⎞\n",
       "32⋅a⋅b⋅r ⋅θ + 8⋅r ⋅sin (θ) + 32⋅√2⋅r ⋅⎜─────────── - ───────────⎟\n",
       "                                      ⎝     3             3     ⎠"
      ]
     },
     "execution_count": 28,
     "metadata": {},
     "output_type": "execute_result"
    }
   ],
   "source": [
    "pasohell=16*integrate(pasouno,θ)"
   ]
  },
  {
   "cell_type": "code",
   "execution_count": 26,
   "metadata": {},
   "outputs": [
    {
     "data": {
      "text/latex": [
       "$$32 a b r^{2} \\operatorname{acos}{\\left (\\frac{a}{r} \\right )} - 32 a b r^{2} \\operatorname{asin}{\\left (\\frac{b}{r} \\right )} - 8 b^{2} r^{2} + 8 r^{4} \\left(- \\frac{a^{2}}{r^{2}} + 1\\right) - 32 \\sqrt{2} r^{3} \\left(\\frac{\\sqrt{2} a}{3} \\sqrt{- \\frac{b^{2}}{r^{2}} + 1} - \\frac{\\sqrt{2} b^{2}}{3 r}\\right) + 32 \\sqrt{2} r^{3} \\left(\\frac{\\sqrt{2} a^{2}}{3 r} - \\frac{\\sqrt{2} b}{3} \\sqrt{- \\frac{a^{2}}{r^{2}} + 1}\\right)$$"
      ],
      "text/plain": [
       "                                                                             ⎛\n",
       "                                                                             ⎜\n",
       "                                                                             ⎜\n",
       "                                                                             ⎜\n",
       "                                                       ⎛   2    ⎞            ⎜\n",
       "        2     ⎛a⎞           2     ⎛b⎞      2  2      4 ⎜  a     ⎟          3 ⎜\n",
       "32⋅a⋅b⋅r ⋅acos⎜─⎟ - 32⋅a⋅b⋅r ⋅asin⎜─⎟ - 8⋅b ⋅r  + 8⋅r ⋅⎜- ── + 1⎟ - 32⋅√2⋅r ⋅⎜\n",
       "              ⎝r⎠                 ⎝r⎠                  ⎜   2    ⎟            ⎝\n",
       "                                                       ⎝  r     ⎠             \n",
       "\n",
       "           __________        ⎞            ⎛                   __________⎞\n",
       "          ╱    2             ⎟            ⎜                  ╱    2     ⎟\n",
       "         ╱    b              ⎟            ⎜                 ╱    a      ⎟\n",
       "√2⋅a⋅   ╱   - ── + 1         ⎟            ⎜        √2⋅b⋅   ╱   - ── + 1 ⎟\n",
       "       ╱       2            2⎟            ⎜    2          ╱       2     ⎟\n",
       "     ╲╱       r         √2⋅b ⎟          3 ⎜√2⋅a         ╲╱       r      ⎟\n",
       "───────────────────── - ─────⎟ + 32⋅√2⋅r ⋅⎜───── - ─────────────────────⎟\n",
       "          3              3⋅r ⎠            ⎝ 3⋅r              3          ⎠\n",
       "                                                                         "
      ]
     },
     "execution_count": 26,
     "metadata": {},
     "output_type": "execute_result"
    }
   ],
   "source": [
    "pasotres=16*pasodos[:subs]([(α,asin(b/r)),(β,acos(a/r))])"
   ]
  },
  {
   "cell_type": "markdown",
   "metadata": {},
   "source": [
    "In Expression pasotres is the most general formula. For the case that all Hopping is Possible ($r<h/4$), we make the substitutions $\\beta -> 0$ and $\\alpha -> \\pi/2$"
   ]
  },
  {
   "cell_type": "code",
   "execution_count": 9,
   "metadata": {},
   "outputs": [
    {
     "data": {
      "text/latex": [
       "$$16 \\pi a b r^{2} - \\frac{64 a}{3} r^{3} - \\frac{64 b}{3} r^{3} + 8 r^{4}$$"
      ],
      "text/plain": [
       "                    3         3       \n",
       "          2   64⋅a⋅r    64⋅b⋅r       4\n",
       "16⋅π⋅a⋅b⋅r  - ─────── - ─────── + 8⋅r \n",
       "                 3         3          "
      ]
     },
     "execution_count": 9,
     "metadata": {},
     "output_type": "execute_result"
    }
   ],
   "source": [
    "VolHopNeg=16*pasodos[:subs]([(β,0), (α,pie/two)])"
   ]
  },
  {
   "cell_type": "code",
   "execution_count": 10,
   "metadata": {},
   "outputs": [
    {
     "data": {
      "text/latex": [
       "$$16 a^{2} b^{2} - 16 \\pi a b r^{2} + \\frac{64 a}{3} r^{3} + \\frac{64 b}{3} r^{3} - 8 r^{4}$$"
      ],
      "text/plain": [
       "                               3         3       \n",
       "    2  2             2   64⋅a⋅r    64⋅b⋅r       4\n",
       "16⋅a ⋅b  - 16⋅π⋅a⋅b⋅r  + ─────── + ─────── - 8⋅r \n",
       "                            3         3          "
      ]
     },
     "execution_count": 10,
     "metadata": {},
     "output_type": "execute_result"
    }
   ],
   "source": [
    "VHop=16*a*a*b*b-VolHopNeg"
   ]
  },
  {
   "cell_type": "markdown",
   "metadata": {},
   "source": [
    "### Triangle parts when one kind of hopping is excluded (horizontal in the paper)"
   ]
  },
  {
   "cell_type": "code",
   "execution_count": 11,
   "metadata": {},
   "outputs": [
    {
     "data": {
      "text/latex": [
       "$$\\frac{8 b^{2}}{3} \\left(4 a \\sqrt{- b^{2} + r^{2}} + b^{2} - r^{2}\\right)$$"
      ],
      "text/plain": [
       "     ⎛       ___________          ⎞\n",
       "   2 ⎜      ╱    2    2     2    2⎟\n",
       "8⋅b ⋅⎝4⋅a⋅╲╱  - b  + r   + b  - r ⎠\n",
       "───────────────────────────────────\n",
       "                 3                 "
      ]
     },
     "execution_count": 11,
     "metadata": {},
     "output_type": "execute_result"
    }
   ],
   "source": [
    "VolNegUpperTriangle=16*simplify(integrate(KernelCircleGeneralxy,(y,x*b/√(r^2-b^2),b*√(two)), (x,0,√(two*(r^2-b^2)))))"
   ]
  },
  {
   "cell_type": "code",
   "execution_count": 12,
   "metadata": {},
   "outputs": [
    {
     "data": {
      "text/latex": [
       "$$- \\frac{b^{2} x^{2} \\left(- \\frac{\\sqrt{2} a}{2} + \\frac{x}{2}\\right)}{- b^{2} + r^{2}} + 2 b^{2} \\left(- \\frac{\\sqrt{2} a}{2} + \\frac{x}{2}\\right) - \\frac{b x}{\\sqrt{- b^{2} + r^{2}}} \\left(2 a b - \\sqrt{2} b x\\right) + \\sqrt{2} b \\left(2 a b - \\sqrt{2} b x\\right)$$"
      ],
      "text/plain": [
       "   2  2 ⎛  √2⋅a   x⎞                                                          \n",
       "  b ⋅x ⋅⎜- ──── + ─⎟                                                          \n",
       "        ⎝   2     2⎠      2 ⎛  √2⋅a   x⎞   b⋅x⋅(2⋅a⋅b - √2⋅b⋅x)               \n",
       "- ────────────────── + 2⋅b ⋅⎜- ──── + ─⎟ - ──────────────────── + √2⋅b⋅(2⋅a⋅b \n",
       "         2    2             ⎝   2     2⎠         ___________                  \n",
       "      - b  + r                                  ╱    2    2                   \n",
       "                                              ╲╱  - b  + r                    \n",
       "\n",
       "         \n",
       "         \n",
       "         \n",
       "- √2⋅b⋅x)\n",
       "         \n",
       "         \n",
       "         "
      ]
     },
     "execution_count": 12,
     "metadata": {},
     "output_type": "execute_result"
    }
   ],
   "source": [
    "lala=integrate(KernelCircleGeneralxy,(y,x*b/√(r^2-b^2), b*√(two)))"
   ]
  },
  {
   "cell_type": "code",
   "execution_count": 13,
   "metadata": {},
   "outputs": [
    {
     "data": {
      "text/latex": [
       "$$\\sqrt{2} a b^{2} \\sqrt{- 2 b^{2} + 2 r^{2}} - \\frac{b^{2} \\left(- 2 b^{2} + 2 r^{2}\\right)^{2}}{- 8 b^{2} + 8 r^{2}} + \\frac{\\left(- 2 b^{2} + 2 r^{2}\\right)^{\\frac{3}{2}} \\left(\\sqrt{2} a b^{2} \\sqrt{- b^{2} + r^{2}} - 2 \\sqrt{2} b^{4} + 2 \\sqrt{2} b^{2} r^{2}\\right)}{- 6 b^{2} \\sqrt{- b^{2} + r^{2}} + 6 r^{2} \\sqrt{- b^{2} + r^{2}}} - \\frac{1}{2 \\sqrt{- b^{2} + r^{2}}} \\left(- 2 b^{2} + 2 r^{2}\\right) \\left(2 a b^{2} + b^{2} \\sqrt{- b^{2} + r^{2}}\\right)$$"
      ],
      "text/plain": [
       "                                               2                  3/2 ⎛       \n",
       "           _______________    2 ⎛     2      2⎞    ⎛     2      2⎞    ⎜      2\n",
       "      2   ╱      2      2    b ⋅⎝- 2⋅b  + 2⋅r ⎠    ⎝- 2⋅b  + 2⋅r ⎠   ⋅⎝√2⋅a⋅b \n",
       "√2⋅a⋅b ⋅╲╱  - 2⋅b  + 2⋅r   - ─────────────────── + ───────────────────────────\n",
       "                                     2      2                           ______\n",
       "                                - 8⋅b  + 8⋅r                       2   ╱    2 \n",
       "                                                              - 6⋅b ⋅╲╱  - b  \n",
       "\n",
       "    ___________                       ⎞                   ⎛               ____\n",
       "   ╱    2    2          4         2  2⎟   ⎛     2      2⎞ ⎜     2    2   ╱    \n",
       "⋅╲╱  - b  + r   - 2⋅√2⋅b  + 2⋅√2⋅b ⋅r ⎠   ⎝- 2⋅b  + 2⋅r ⎠⋅⎝2⋅a⋅b  + b ⋅╲╱  - b\n",
       "─────────────────────────────────────── - ────────────────────────────────────\n",
       "_____           ___________                                  ___________      \n",
       "   2       2   ╱    2    2                                  ╱    2    2       \n",
       "+ r   + 6⋅r ⋅╲╱  - b  + r                               2⋅╲╱  - b  + r        \n",
       "\n",
       "_______⎞\n",
       "2    2 ⎟\n",
       "  + r  ⎠\n",
       "────────\n",
       "        \n",
       "        \n",
       "        "
      ]
     },
     "execution_count": 13,
     "metadata": {},
     "output_type": "execute_result"
    }
   ],
   "source": [
    "lulu=integrate(lala,(x,0,√(2*(r^2-b^2))))"
   ]
  },
  {
   "cell_type": "code",
   "execution_count": 14,
   "metadata": {},
   "outputs": [
    {
     "data": {
      "text/latex": [
       "$$\\frac{8 b^{2}}{3} \\left(4 a \\sqrt{- b^{2} + r^{2}} + b^{2} - r^{2}\\right)$$"
      ],
      "text/plain": [
       "     ⎛       ___________          ⎞\n",
       "   2 ⎜      ╱    2    2     2    2⎟\n",
       "8⋅b ⋅⎝4⋅a⋅╲╱  - b  + r   + b  - r ⎠\n",
       "───────────────────────────────────\n",
       "                 3                 "
      ]
     },
     "execution_count": 14,
     "metadata": {},
     "output_type": "execute_result"
    }
   ],
   "source": [
    "simplify(16*lulu)"
   ]
  },
  {
   "cell_type": "markdown",
   "metadata": {},
   "source": [
    "Okey, seems right. Now the lower one."
   ]
  },
  {
   "cell_type": "code",
   "execution_count": 23,
   "metadata": {},
   "outputs": [
    {
     "data": {
      "text/latex": [
       "$$\\frac{8 a^{2}}{3} \\left(a^{2} + 4 b \\sqrt{- a^{2} + r^{2}} - r^{2}\\right)$$"
      ],
      "text/plain": [
       "     ⎛            ___________     ⎞\n",
       "   2 ⎜ 2         ╱    2    2     2⎟\n",
       "8⋅a ⋅⎝a  + 4⋅b⋅╲╱  - a  + r   - r ⎠\n",
       "───────────────────────────────────\n",
       "                 3                 "
      ]
     },
     "execution_count": 23,
     "metadata": {},
     "output_type": "execute_result"
    }
   ],
   "source": [
    "VolNegLowerTriangle=16*simplify(integrate(KernelCircleGeneralxy, (y,0,x*√(r^2-a^2)/a), (x,0,√(two)*a)))"
   ]
  },
  {
   "cell_type": "markdown",
   "metadata": {},
   "source": [
    "That verifies the Volume Calculation"
   ]
  },
  {
   "cell_type": "markdown",
   "metadata": {},
   "source": [
    "## Area \n",
    "### Area for Vertical Hopping"
   ]
  },
  {
   "cell_type": "markdown",
   "metadata": {},
   "source": [
    "After discusing the matter extensively, we notice that a Dirac Delta preserves some of the characteristics of the functions that can be used to approximate it. That means that it represents an infinitesimely thin characteristic function ORTOGONAL to the surface that is given by its argument equal to zero... if we do not represent that argument in the adecuate coordinates, then some spurios factors appear."
   ]
  },
  {
   "cell_type": "code",
   "execution_count": 25,
   "metadata": {},
   "outputs": [
    {
     "data": {
      "text/latex": [
       "$$- \\sin{\\left (a \\right )} \\cos{\\left (α \\right )} + \\sin{\\left (a \\right )} \\cos{\\left (β \\right )} + \\sin{\\left (b \\right )} \\cos{\\left (α \\right )} - \\sin{\\left (b \\right )} \\cos{\\left (β \\right )}$$"
      ],
      "text/plain": [
       "-sin(a)⋅cos(α) + sin(a)⋅cos(β) + sin(b)⋅cos(α) - sin(b)⋅cos(β)"
      ]
     },
     "execution_count": 25,
     "metadata": {},
     "output_type": "execute_result"
    }
   ],
   "source": [
    "integrate(cos(x)*sin(y),(x,a,b),(y,α,β))"
   ]
  },
  {
   "cell_type": "code",
   "execution_count": 22,
   "metadata": {},
   "outputs": [
    {
     "ename": "LoadError",
     "evalue": "\u001b[91mPyError (ccall(@pysym(PyInt_AsSsize_t), Int, (PyPtr,), asscalar(po))) <class 'TypeError'>\nTypeError('an integer is required',)\n\u001b[39m",
     "output_type": "error",
     "traceback": [
      "\u001b[91mPyError (ccall(@pysym(PyInt_AsSsize_t), Int, (PyPtr,), asscalar(po))) <class 'TypeError'>\nTypeError('an integer is required',)\n\u001b[39m",
      "",
      "Stacktrace:",
      " [1] \u001b[1mpyerr_check\u001b[22m\u001b[22m at \u001b[1m/home/karel/.julia/v0.6/PyCall/src/exception.jl:56\u001b[22m\u001b[22m [inlined]",
      " [2] \u001b[1mconvert\u001b[22m\u001b[22m\u001b[1m(\u001b[22m\u001b[22m::Type{UInt32}, ::PyCall.PyObject\u001b[1m)\u001b[22m\u001b[22m at \u001b[1m/home/karel/.julia/v0.6/PyCall/src/conversions.jl:31\u001b[22m\u001b[22m",
      " [3] \u001b[1mconvert\u001b[22m\u001b[22m at \u001b[1m./char.jl:4\u001b[22m\u001b[22m [inlined]",
      " [4] \u001b[1mChar\u001b[22m\u001b[22m\u001b[1m(\u001b[22m\u001b[22m::SymPy.Sym\u001b[1m)\u001b[22m\u001b[22m at \u001b[1m./sysimg.jl:24\u001b[22m\u001b[22m"
     ]
    }
   ],
   "source": []
  },
  {
   "cell_type": "code",
   "execution_count": null,
   "metadata": {
    "collapsed": true
   },
   "outputs": [],
   "source": []
  }
 ],
 "metadata": {
  "kernelspec": {
   "display_name": "Julia 0.6.0",
   "language": "julia",
   "name": "julia-0.6"
  },
  "language_info": {
   "file_extension": ".jl",
   "mimetype": "application/julia",
   "name": "julia",
   "version": "0.6.0"
  },
  "toc": {
   "colors": {
    "hover_highlight": "#DAA520",
    "running_highlight": "#FF0000",
    "selected_highlight": "#FFD700"
   },
   "moveMenuLeft": true,
   "nav_menu": {
    "height": "12px",
    "width": "252px"
   },
   "navigate_menu": true,
   "number_sections": true,
   "sideBar": true,
   "threshold": "1",
   "toc_cell": false,
   "toc_section_display": "block",
   "toc_window_display": false
  }
 },
 "nbformat": 4,
 "nbformat_minor": 2
}
