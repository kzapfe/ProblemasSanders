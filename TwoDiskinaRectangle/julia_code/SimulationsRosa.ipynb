{
 "cells": [
  {
   "cell_type": "code",
   "execution_count": 13,
   "metadata": {},
   "outputs": [],
   "source": [
    "using SpecialFunctions, IterTools, HardSphereDynamics, StatsBase # For Std Error."
   ]
  },
  {
   "cell_type": "markdown",
   "metadata": {},
   "source": [
    "Aqui abajo Rosa define todos los resultados téoricos para cualquier número de dimensiones, siempre\n",
    "que no haya \"sombras prohibidas\" (es decir, que las bolas siempre quepan unas al lado de otras)."
   ]
  },
  {
   "cell_type": "code",
   "execution_count": 90,
   "metadata": {},
   "outputs": [
    {
     "data": {
      "text/plain": [
       "CollisionTimesTheo (generic function with 3 methods)"
      ]
     },
     "execution_count": 90,
     "metadata": {},
     "output_type": "execute_result"
    }
   ],
   "source": [
    "\n",
    "function SphereArea(n)\n",
    "    return 2*(pi^(n/2))/gamma(n/2)\n",
    "end\n",
    "\n",
    "function NormalizationFactor(n, balls=2)\n",
    "    d = 2*n\n",
    "    return SphereArea(d)/SphereArea(d-1)*(d-1)\n",
    "end\n",
    "\n",
    "function Ak(boxdims,m)\n",
    "    result = 0\n",
    "    for aks in subsets(boxdims, m)\n",
    "        result += prod(aks)\n",
    "    end\n",
    "    return result\n",
    "end\n",
    "\n",
    "function AvailableVolume(n, boxdims, r)\n",
    "    vol = prod((2*boxdims).^2)\n",
    "    for k in 0:n\n",
    "        vol -= (4^n)*(pi)^(n/2-k/2)*r^(k+n)/gamma(k/2+n/2+1)*Ak(boxdims, n-k)*(-1)^k\n",
    "    end\n",
    "    return vol\n",
    "end\n",
    "\n",
    "function SphereCollisionArea(n, boxdims, r)\n",
    "    area = 0 \n",
    "    for k in 0:n\n",
    "        area += 2^(2*n+1/2)*(pi^(n/2-k/2))*(r^(k+n-1))/gamma(k/2+n/2)*Ak(boxdims, n-k)*(-1)^k\n",
    "    end\n",
    "    return area\n",
    "end\n",
    "\n",
    "function WallCollisionArea(n, boxdims, r, dim)\n",
    "    otherboxdims = deleteat!(copy(boxdims),dim)\n",
    "    area = prod((2*otherboxdims).^2)*(2*boxdims[dim])\n",
    "    for k in 0:(n-1)\n",
    "        area -= 2^(2*n-2)*(pi^(n/2 - k/2))*(r^(k+n))/gamma(k/2+n/2+1)*(-1)^k*Ak(otherboxdims, n-1-k)\n",
    "    end\n",
    "    return area\n",
    "end\n",
    "\n",
    "function SphereCollisionTime(n, boxdimsh, r)\n",
    "    boxdimsa = boxdimsh/2 .- r \n",
    "    return NormalizationFactor(n)*AvailableVolume(n, boxdimsa, r)/SphereCollisionArea(n, boxdimsa, r)\n",
    "end\n",
    "\n",
    "function WallCollisionTime(n, boxdimsh, r, dim)\n",
    "    boxdimsa = boxdimsh/2 .- r \n",
    "    return NormalizationFactor(n)*AvailableVolume(n, boxdimsa, r)/WallCollisionArea(n, boxdimsa, r, dim)\n",
    "end\n",
    "    \n",
    "function HoppingCollisionTime(n, boxdimsh, r, dim)\n",
    "    boxdimsa = boxdimsh/2 .- r \n",
    "    otherboxdims = deleteat!(copy(boxdimsa),dim)\n",
    "    return  NormalizationFactor(n)*AvailableVolume(n, boxdimsa, r)/AvailableVolume(n-1, otherboxdims, r)/2^(2.5)/boxdimsa[dim]\n",
    "end\n",
    "\n",
    "function CollisionTimesTheo(r, n=3, boxdimsh = [1.0, 1.5, 1.75])\n",
    "    wall_times = []\n",
    "    hop_times = []\n",
    "    for dim in 1:n\n",
    "        w = WallCollisionTime(n, boxdimsh, r, dim)\n",
    "        push!(wall_times, w, w)\n",
    "        push!(hop_times, HoppingCollisionTime(n, boxdimsh, r, dim))\n",
    "    end\n",
    "    result = hcat(r , SphereCollisionTime(n, boxdimsh, r), wall_times..., hop_times...)\n",
    "    return result\n",
    "end"
   ]
  },
  {
   "cell_type": "markdown",
   "metadata": {},
   "source": [
    "Aqui Rosa hace la numerica \"hard core\""
   ]
  },
  {
   "cell_type": "code",
   "execution_count": 91,
   "metadata": {},
   "outputs": [
    {
     "name": "stdout",
     "output_type": "stream",
     "text": [
      "search: \u001b[0m\u001b[1mA\u001b[22m\u001b[0m\u001b[1ml\u001b[22m\u001b[0m\u001b[1ml\u001b[22m\u001b[0m\u001b[1mT\u001b[22m\u001b[0m\u001b[1mo\u001b[22m\u001b[0m\u001b[1mA\u001b[22m\u001b[0m\u001b[1ml\u001b[22m\u001b[0m\u001b[1ml\u001b[22m t\u001b[0m\u001b[1ma\u001b[22msk_\u001b[0m\u001b[1ml\u001b[22moca\u001b[0m\u001b[1ml\u001b[22m_s\u001b[0m\u001b[1mt\u001b[22m\u001b[0m\u001b[1mo\u001b[22mr\u001b[0m\u001b[1ma\u001b[22mge\n",
      "\n"
     ]
    },
    {
     "data": {
      "text/latex": [
       "No documentation found.\n",
       "\n",
       "\\texttt{HardSphereDynamics.AllToAll} is of type \\texttt{UnionAll}.\n",
       "\n",
       "\\section{Summary}\n",
       "\\begin{verbatim}\n",
       "struct UnionAll <: Type{T}\n",
       "\\end{verbatim}\n",
       "\\section{Fields}\n",
       "\\begin{verbatim}\n",
       "var  :: TypeVar\n",
       "body :: Any\n",
       "\\end{verbatim}\n",
       "\\section{Supertype Hierarchy}\n",
       "\\begin{verbatim}\n",
       "UnionAll <: Type{T} <: Any\n",
       "\\end{verbatim}\n"
      ],
      "text/markdown": [
       "No documentation found.\n",
       "\n",
       "`HardSphereDynamics.AllToAll` is of type `UnionAll`.\n",
       "\n",
       "# Summary\n",
       "\n",
       "```\n",
       "struct UnionAll <: Type{T}\n",
       "```\n",
       "\n",
       "# Fields\n",
       "\n",
       "```\n",
       "var  :: TypeVar\n",
       "body :: Any\n",
       "```\n",
       "\n",
       "# Supertype Hierarchy\n",
       "\n",
       "```\n",
       "UnionAll <: Type{T} <: Any\n",
       "```\n"
      ],
      "text/plain": [
       "  No documentation found.\n",
       "\n",
       "  \u001b[36mHardSphereDynamics.AllToAll\u001b[39m is of type \u001b[36mUnionAll\u001b[39m.\n",
       "\n",
       "\u001b[1m  Summary\u001b[22m\n",
       "\u001b[1m  ≡≡≡≡≡≡≡≡≡\u001b[22m\n",
       "\n",
       "\u001b[36m  struct UnionAll <: Type{T}\u001b[39m\n",
       "\n",
       "\u001b[1m  Fields\u001b[22m\n",
       "\u001b[1m  ≡≡≡≡≡≡≡≡\u001b[22m\n",
       "\n",
       "\u001b[36m  var  :: TypeVar\u001b[39m\n",
       "\u001b[36m  body :: Any\u001b[39m\n",
       "\n",
       "\u001b[1m  Supertype Hierarchy\u001b[22m\n",
       "\u001b[1m  ≡≡≡≡≡≡≡≡≡≡≡≡≡≡≡≡≡≡≡≡≡\u001b[22m\n",
       "\n",
       "\u001b[36m  UnionAll <: Type{T} <: Any\u001b[39m"
      ]
     },
     "execution_count": 91,
     "metadata": {},
     "output_type": "execute_result"
    }
   ],
   "source": [
    "?AllToAll"
   ]
  },
  {
   "cell_type": "code",
   "execution_count": 98,
   "metadata": {},
   "outputs": [
    {
     "data": {
      "text/plain": [
       "CollisionTimesSim (generic function with 5 methods)"
      ]
     },
     "execution_count": 98,
     "metadata": {},
     "output_type": "execute_result"
    }
   ],
   "source": [
    "using Parameters, Statistics, HardSphereDynamics, StaticArrays\n",
    "\n",
    "function BallsRelativeSign(state)\n",
    "    b1, b2 = state\n",
    "    return broadcast(sign, b1.x - b2.x)\n",
    "end\n",
    "\n",
    "function mean_interval(times)\n",
    "    return mean(diff(times))\n",
    "end\n",
    "\n",
    "h1 = 1.0\n",
    "h2 = 1.5\n",
    "h3 = 1.75\n",
    "r = 0.1\n",
    "Nmax=10^7\n",
    "\n",
    "function CollisionTimesSim(r, h1 = 1.0, h2 = 1.5, h3 = 1.75 ,num_collisions = 10^7)\n",
    "    table = HardSphereDynamics.RectangularBox(SA[-h1/2, -h2/2, -h3/2],\n",
    "                                              SA[+h1/2, +h2/2, +h3/2])\n",
    "\n",
    "    n = 3\n",
    "    spheres = 2\n",
    "    fluid = HardSphereFluid{n,Float64}(table, spheres, r)\n",
    "    initial_condition!(fluid.balls, table)\n",
    "\n",
    "    # set up simulation:\n",
    "    collision_type = ElasticCollision()\n",
    "    flow_type = ExternalFieldFlow(SA[0.0, 0.0, 0.0])\n",
    "    event_handler = AllToAll(fluid, flow_type)\n",
    "\n",
    "    simulation =  HardSphereSimulation(\n",
    "        fluid, event_handler, flow_type, collision_type);\n",
    "\n",
    "    @unpack fluid, flow_dynamics, collision_dynamics, event_handler = simulation\n",
    "    states = [deepcopy(fluid.balls)]\n",
    "    times = [0.0]\n",
    "    collision_types = [:none]\n",
    "    partner2 = [0] \n",
    "    partner1 = [0]\n",
    "    hopping_times = []\n",
    "    hopping_directions = []\n",
    "    for i in 1:num_collisions\n",
    "        HardSphereDynamics.flow!(fluid.balls, (event_handler.next_collision_time - simulation.current_time), \n",
    "            flow_dynamics)\n",
    "        simulation.current_time = event_handler.next_collision_time\n",
    "        push!(collision_types, event_handler.collision_type)\n",
    "        push!(partner2, event_handler.partner2)\n",
    "        push!(partner1, event_handler.partner1)\n",
    "        HardSphereDynamics.collide!(fluid, event_handler, collision_dynamics)\n",
    "        HardSphereDynamics.find_collision!(event_handler, fluid, flow_dynamics)\n",
    "        push!(states, deepcopy(fluid.balls))\n",
    "        push!(times, simulation.current_time)\n",
    "        prev, current = states[i:i+1]\n",
    "        signprev, signcurrent = broadcast(BallsRelativeSign,[prev, current])\n",
    "        if any(signprev .!= signcurrent)\n",
    "            b1, b2 = states[i]\n",
    "            start_time, final_time = times[i:i+1]\n",
    "            hop_times = start_time .+( b1.x - b2.x)./(b2.v - b1.v)\n",
    "            for (dir, time) in enumerate(hop_times)\n",
    "                if all([time>=start_time, time<=final_time])\n",
    "                    push!(hopping_times, time)\n",
    "                    push!(hopping_directions, dir)\n",
    "                end\n",
    "            end\n",
    "        end\n",
    "    end\n",
    "    \n",
    "    wall_idx = (collision_types.== :wall_collision).&(partner1.== 1)\n",
    "    wall_times = times[wall_idx];\n",
    "    which_wall = partner2[wall_idx];\n",
    "    wall_means = []\n",
    "    \n",
    "    # The std errros are no longer missin!\n",
    "    wall_errors = []\n",
    "    hop_errors  = []\n",
    "    \n",
    "    for i in 1:length(fluid.box.walls)\n",
    "        \n",
    "        enparedcorrecta=wall_times[which_wall .== i]\n",
    "        error=sem(diff(enparedcorrecta))\n",
    "        nn=length(enparedcorrecta)\n",
    "     #   println( \" En la pared $i, chocamos $nn veces\")\n",
    "        \n",
    "        push!(wall_means,mean_interval(enparedcorrecta))\n",
    "        push!(wall_errors, error)\n",
    "        \n",
    "    end\n",
    "    \n",
    "    hop_means = []\n",
    "    hop_errors= []\n",
    "\n",
    "    for i in 1:n\n",
    "        \n",
    "        cual_hop=hopping_times[hopping_directions .== i]\n",
    "        error=sem(diff(cual_hop))\n",
    "        ll=length(cual_hop)\n",
    "       # println(\"en el hop $i, hopamos $ll veces\")\n",
    "        \n",
    "        push!(hop_means, mean_interval(cual_hop))\n",
    "        push!(hop_errors, error)\n",
    "        \n",
    "    end\n",
    "    \n",
    "    colision=times[collision_types.== :disc_collision]\n",
    "    meandisc=mean_interval(colision)\n",
    "    errorcol=sem(diff(colision))\n",
    "    \n",
    "    \n",
    "    result=hcat(r, meandisc, errorcol,wall_means..., wall_errors..., hop_means..., hop_errors...)\n",
    "    \n",
    "    return result\n",
    "        \n",
    "end"
   ]
  },
  {
   "cell_type": "code",
   "execution_count": 99,
   "metadata": {
    "scrolled": true
   },
   "outputs": [
    {
     "name": "stdout",
     "output_type": "stream",
     "text": [
      "111.901352 seconds (237.07 M allocations: 14.212 GiB, 23.46% gc time)\n"
     ]
    },
    {
     "data": {
      "text/plain": [
       "1×21 Array{Float64,2}:\n",
       " 0.01  2148.61  39.4267  5.71342  …  0.00107672  0.00170299  0.00233532"
      ]
     },
     "execution_count": 99,
     "metadata": {},
     "output_type": "execute_result"
    }
   ],
   "source": [
    "@time chin, pun, cuaz, el, eslam = CollisionTimesSim(0.01)"
   ]
  },
  {
   "cell_type": "code",
   "execution_count": 102,
   "metadata": {},
   "outputs": [
    {
     "data": {
      "text/plain": [
       "0.01"
      ]
     },
     "execution_count": 102,
     "metadata": {},
     "output_type": "execute_result"
    }
   ],
   "source": []
  },
  {
   "cell_type": "code",
   "execution_count": 101,
   "metadata": {},
   "outputs": [
    {
     "data": {
      "text/plain": [
       "5.713505814107281"
      ]
     },
     "execution_count": 101,
     "metadata": {},
     "output_type": "execute_result"
    }
   ],
   "source": [
    "eslam"
   ]
  },
  {
   "cell_type": "code",
   "execution_count": 103,
   "metadata": {},
   "outputs": [],
   "source": [
    "rs = 0.01:0.01:0.24\n",
    "theo = vcat(broadcast(CollisionTimesTheo, rs)...);\n",
    "sim = vcat(broadcast(CollisionTimesSim, rs)...);"
   ]
  },
  {
   "cell_type": "code",
   "execution_count": 104,
   "metadata": {},
   "outputs": [],
   "source": [
    "using JLD"
   ]
  },
  {
   "cell_type": "code",
   "execution_count": 105,
   "metadata": {},
   "outputs": [],
   "source": [
    "nota=\"Los Resultados Teoricos y Simulados estan en dos tablas.\n",
    "Primera columna son los radios.\n",
    "Prmero las bolas entre ellas.\n",
    "Luego vienen en Teoricas los golpes con las paredes de un bola \n",
    "contra una pared asi: \n",
    "Columna   Pared\n",
    "2         x positiva\n",
    "3         x negativa\n",
    "4         y positiva\n",
    "5         y negativa\n",
    "6         z positiva\n",
    "7         z negativa\n",
    "Luego vienen los hops, \n",
    "8         hop x\n",
    "9         hop y\n",
    "10        hop z\n",
    "En las simulaciones, entre cada columna, en el mismo orden, hay una columna \n",
    "de errores estandar.\n",
    "\"\n",
    "otranota=\"La variable h contiene los tamaños de la caja. La variable Nmax el numero de collisiones total.\"\n",
    "onde=\"simulaRosa20201216-1830.jld\"\n",
    "\n",
    "h=(h1,h2,h3)\n",
    "\n",
    "save(onde, \"nota01\", nota, \"nota02\", otranota, \n",
    "    \"teoricas\" , theo, \"numericas\", sim, \"h\", h, \"Nmax\", Nmax)"
   ]
  },
  {
   "cell_type": "code",
   "execution_count": 107,
   "metadata": {},
   "outputs": [
    {
     "data": {
      "text/plain": [
       "24×21 Array{Float64,2}:\n",
       " 0.01  2140.39     36.8635      …  0.00103309   0.00171703  0.00237566\n",
       " 0.02   522.929     4.70872        0.00093733   0.00174085  0.00234666\n",
       " 0.03   225.924     1.3307         0.000948977  0.00172474  0.00235216\n",
       " 0.04   124.62      0.552191       0.000914512  0.00176364  0.00232834\n",
       " 0.05    78.4335    0.276989       0.000946212  0.00178576  0.00237127\n",
       " 0.06    52.9155    0.154112    …  0.000881265  0.00182011  0.00236995\n",
       " 0.07    38.1603    0.0952038      0.0008952    0.0018456   0.0023938\n",
       " 0.08    28.43      0.061965       0.000880441  0.0019398   0.00247182\n",
       " 0.09    21.9586    0.042592       0.000881514  0.00190999  0.00258733\n",
       " 0.1     17.4582    0.030586       0.000902362  0.00195939  0.00266611\n",
       " 0.11    14.1288    0.022438    …  0.000861344  0.00202091  0.00276611\n",
       " 0.12    11.6049    0.0169801      0.000857022  0.00204811  0.00293391\n",
       " 0.13     9.59349   0.0128478      0.000836626  0.00212103  0.00300383\n",
       " 0.14     8.11863   0.0102062      0.000833527  0.00219556  0.00316549\n",
       " 0.15     6.89157   0.00807976     0.000819516  0.00228012  0.00336869\n",
       " 0.16     5.90765   0.00650575  …  0.000809734  0.00236774  0.00358821\n",
       " 0.17     5.0999    0.0053404      0.000803806  0.00247409  0.00383702\n",
       " 0.18     4.44227   0.00443851     0.000784981  0.00258699  0.00418861\n",
       " 0.19     3.8816    0.00370526     0.000768408  0.00273663  0.00453722\n",
       " 0.2      3.42271   0.00316858     0.000748859  0.00289636  0.00497237\n",
       " 0.21     3.02558   0.00267271  …  0.000729584  0.00302033  0.00550583\n",
       " 0.22     2.69472   0.00230413     0.000706899  0.00322405  0.00612458\n",
       " 0.23     2.41856   0.00202744     0.000682378  0.00339492  0.0069401\n",
       " 0.24     2.1919    0.00178065     0.000653468  0.00358148  0.00785585"
      ]
     },
     "execution_count": 107,
     "metadata": {},
     "output_type": "execute_result"
    }
   ],
   "source": [
    "sim"
   ]
  },
  {
   "cell_type": "code",
   "execution_count": 109,
   "metadata": {},
   "outputs": [
    {
     "data": {
      "image/svg+xml": [
       "<?xml version=\"1.0\" encoding=\"utf-8\"?>\n",
       "<svg xmlns=\"http://www.w3.org/2000/svg\" xmlns:xlink=\"http://www.w3.org/1999/xlink\" width=\"600\" height=\"400\" viewBox=\"0 0 2400 1600\">\n",
       "<defs>\n",
       "  <clipPath id=\"clip690\">\n",
       "    <rect x=\"0\" y=\"0\" width=\"2400\" height=\"1600\"/>\n",
       "  </clipPath>\n",
       "</defs>\n",
       "<path clip-path=\"url(#clip690)\" d=\"\n",
       "M0 1600 L2400 1600 L2400 0 L0 0  Z\n",
       "  \" fill=\"#ffffff\" fill-rule=\"evenodd\" fill-opacity=\"1\"/>\n",
       "<defs>\n",
       "  <clipPath id=\"clip691\">\n",
       "    <rect x=\"480\" y=\"0\" width=\"1681\" height=\"1600\"/>\n",
       "  </clipPath>\n",
       "</defs>\n",
       "<path clip-path=\"url(#clip690)\" d=\"\n",
       "M253.246 1423.18 L2352.76 1423.18 L2352.76 123.472 L253.246 123.472  Z\n",
       "  \" fill=\"#ffffff\" fill-rule=\"evenodd\" fill-opacity=\"1\"/>\n",
       "<defs>\n",
       "  <clipPath id=\"clip692\">\n",
       "    <rect x=\"253\" y=\"123\" width=\"2101\" height=\"1301\"/>\n",
       "  </clipPath>\n",
       "</defs>\n",
       "<polyline clip-path=\"url(#clip692)\" style=\"stroke:#000000; stroke-width:2; stroke-opacity:0.1; fill:none\" points=\"\n",
       "  657.13,1423.18 657.13,123.472 \n",
       "  \"/>\n",
       "<polyline clip-path=\"url(#clip692)\" style=\"stroke:#000000; stroke-width:2; stroke-opacity:0.1; fill:none\" points=\"\n",
       "  1087.71,1423.18 1087.71,123.472 \n",
       "  \"/>\n",
       "<polyline clip-path=\"url(#clip692)\" style=\"stroke:#000000; stroke-width:2; stroke-opacity:0.1; fill:none\" points=\"\n",
       "  1518.29,1423.18 1518.29,123.472 \n",
       "  \"/>\n",
       "<polyline clip-path=\"url(#clip692)\" style=\"stroke:#000000; stroke-width:2; stroke-opacity:0.1; fill:none\" points=\"\n",
       "  1948.87,1423.18 1948.87,123.472 \n",
       "  \"/>\n",
       "<polyline clip-path=\"url(#clip692)\" style=\"stroke:#000000; stroke-width:2; stroke-opacity:0.1; fill:none\" points=\"\n",
       "  253.246,1387.65 2352.76,1387.65 \n",
       "  \"/>\n",
       "<polyline clip-path=\"url(#clip692)\" style=\"stroke:#000000; stroke-width:2; stroke-opacity:0.1; fill:none\" points=\"\n",
       "  253.246,1100.93 2352.76,1100.93 \n",
       "  \"/>\n",
       "<polyline clip-path=\"url(#clip692)\" style=\"stroke:#000000; stroke-width:2; stroke-opacity:0.1; fill:none\" points=\"\n",
       "  253.246,814.208 2352.76,814.208 \n",
       "  \"/>\n",
       "<polyline clip-path=\"url(#clip692)\" style=\"stroke:#000000; stroke-width:2; stroke-opacity:0.1; fill:none\" points=\"\n",
       "  253.246,527.486 2352.76,527.486 \n",
       "  \"/>\n",
       "<polyline clip-path=\"url(#clip692)\" style=\"stroke:#000000; stroke-width:2; stroke-opacity:0.1; fill:none\" points=\"\n",
       "  253.246,240.765 2352.76,240.765 \n",
       "  \"/>\n",
       "<polyline clip-path=\"url(#clip690)\" style=\"stroke:#000000; stroke-width:4; stroke-opacity:1; fill:none\" points=\"\n",
       "  253.246,1423.18 2352.76,1423.18 \n",
       "  \"/>\n",
       "<polyline clip-path=\"url(#clip690)\" style=\"stroke:#000000; stroke-width:4; stroke-opacity:1; fill:none\" points=\"\n",
       "  253.246,1423.18 253.246,123.472 \n",
       "  \"/>\n",
       "<polyline clip-path=\"url(#clip690)\" style=\"stroke:#000000; stroke-width:4; stroke-opacity:1; fill:none\" points=\"\n",
       "  657.13,1423.18 657.13,1407.58 \n",
       "  \"/>\n",
       "<polyline clip-path=\"url(#clip690)\" style=\"stroke:#000000; stroke-width:4; stroke-opacity:1; fill:none\" points=\"\n",
       "  1087.71,1423.18 1087.71,1407.58 \n",
       "  \"/>\n",
       "<polyline clip-path=\"url(#clip690)\" style=\"stroke:#000000; stroke-width:4; stroke-opacity:1; fill:none\" points=\"\n",
       "  1518.29,1423.18 1518.29,1407.58 \n",
       "  \"/>\n",
       "<polyline clip-path=\"url(#clip690)\" style=\"stroke:#000000; stroke-width:4; stroke-opacity:1; fill:none\" points=\"\n",
       "  1948.87,1423.18 1948.87,1407.58 \n",
       "  \"/>\n",
       "<polyline clip-path=\"url(#clip690)\" style=\"stroke:#000000; stroke-width:4; stroke-opacity:1; fill:none\" points=\"\n",
       "  253.246,1387.65 278.44,1387.65 \n",
       "  \"/>\n",
       "<polyline clip-path=\"url(#clip690)\" style=\"stroke:#000000; stroke-width:4; stroke-opacity:1; fill:none\" points=\"\n",
       "  253.246,1100.93 278.44,1100.93 \n",
       "  \"/>\n",
       "<polyline clip-path=\"url(#clip690)\" style=\"stroke:#000000; stroke-width:4; stroke-opacity:1; fill:none\" points=\"\n",
       "  253.246,814.208 278.44,814.208 \n",
       "  \"/>\n",
       "<polyline clip-path=\"url(#clip690)\" style=\"stroke:#000000; stroke-width:4; stroke-opacity:1; fill:none\" points=\"\n",
       "  253.246,527.486 278.44,527.486 \n",
       "  \"/>\n",
       "<polyline clip-path=\"url(#clip690)\" style=\"stroke:#000000; stroke-width:4; stroke-opacity:1; fill:none\" points=\"\n",
       "  253.246,240.765 278.44,240.765 \n",
       "  \"/>\n",
       "<path clip-path=\"url(#clip690)\" d=\"M 0 0 M625.637 1445.17 Q622.026 1445.17 620.197 1448.74 Q618.392 1452.28 618.392 1459.41 Q618.392 1466.51 620.197 1470.08 Q622.026 1473.62 625.637 1473.62 Q629.272 1473.62 631.077 1470.08 Q632.906 1466.51 632.906 1459.41 Q632.906 1452.28 631.077 1448.74 Q629.272 1445.17 625.637 1445.17 M625.637 1441.47 Q631.447 1441.47 634.503 1446.07 Q637.582 1450.66 637.582 1459.41 Q637.582 1468.13 634.503 1472.74 Q631.447 1477.32 625.637 1477.32 Q619.827 1477.32 616.748 1472.74 Q613.693 1468.13 613.693 1459.41 Q613.693 1450.66 616.748 1446.07 Q619.827 1441.47 625.637 1441.47 Z\" fill=\"#000000\" fill-rule=\"evenodd\" fill-opacity=\"1\" /><path clip-path=\"url(#clip690)\" d=\"M 0 0 M642.651 1470.77 L647.535 1470.77 L647.535 1476.65 L642.651 1476.65 L642.651 1470.77 Z\" fill=\"#000000\" fill-rule=\"evenodd\" fill-opacity=\"1\" /><path clip-path=\"url(#clip690)\" d=\"M 0 0 M662.605 1445.17 Q658.994 1445.17 657.165 1448.74 Q655.359 1452.28 655.359 1459.41 Q655.359 1466.51 657.165 1470.08 Q658.994 1473.62 662.605 1473.62 Q666.239 1473.62 668.044 1470.08 Q669.873 1466.51 669.873 1459.41 Q669.873 1452.28 668.044 1448.74 Q666.239 1445.17 662.605 1445.17 M662.605 1441.47 Q668.415 1441.47 671.47 1446.07 Q674.549 1450.66 674.549 1459.41 Q674.549 1468.13 671.47 1472.74 Q668.415 1477.32 662.605 1477.32 Q656.795 1477.32 653.716 1472.74 Q650.66 1468.13 650.66 1459.41 Q650.66 1450.66 653.716 1446.07 Q656.795 1441.47 662.605 1441.47 Z\" fill=\"#000000\" fill-rule=\"evenodd\" fill-opacity=\"1\" /><path clip-path=\"url(#clip690)\" d=\"M 0 0 M679.665 1442.09 L698.021 1442.09 L698.021 1446.03 L683.947 1446.03 L683.947 1454.5 Q684.966 1454.15 685.984 1453.99 Q687.003 1453.8 688.021 1453.8 Q693.808 1453.8 697.188 1456.98 Q700.567 1460.15 700.567 1465.56 Q700.567 1471.14 697.095 1474.24 Q693.623 1477.32 687.304 1477.32 Q685.128 1477.32 682.859 1476.95 Q680.614 1476.58 678.206 1475.84 L678.206 1471.14 Q680.29 1472.28 682.512 1472.83 Q684.734 1473.39 687.211 1473.39 Q691.216 1473.39 693.554 1471.28 Q695.892 1469.18 695.892 1465.56 Q695.892 1461.95 693.554 1459.85 Q691.216 1457.74 687.211 1457.74 Q685.336 1457.74 683.461 1458.16 Q681.609 1458.57 679.665 1459.45 L679.665 1442.09 Z\" fill=\"#000000\" fill-rule=\"evenodd\" fill-opacity=\"1\" /><path clip-path=\"url(#clip690)\" d=\"M 0 0 M1056.33 1445.17 Q1052.72 1445.17 1050.89 1448.74 Q1049.09 1452.28 1049.09 1459.41 Q1049.09 1466.51 1050.89 1470.08 Q1052.72 1473.62 1056.33 1473.62 Q1059.97 1473.62 1061.77 1470.08 Q1063.6 1466.51 1063.6 1459.41 Q1063.6 1452.28 1061.77 1448.74 Q1059.97 1445.17 1056.33 1445.17 M1056.33 1441.47 Q1062.14 1441.47 1065.2 1446.07 Q1068.28 1450.66 1068.28 1459.41 Q1068.28 1468.13 1065.2 1472.74 Q1062.14 1477.32 1056.33 1477.32 Q1050.52 1477.32 1047.44 1472.74 Q1044.39 1468.13 1044.39 1459.41 Q1044.39 1450.66 1047.44 1446.07 Q1050.52 1441.47 1056.33 1441.47 Z\" fill=\"#000000\" fill-rule=\"evenodd\" fill-opacity=\"1\" /><path clip-path=\"url(#clip690)\" d=\"M 0 0 M1073.35 1470.77 L1078.23 1470.77 L1078.23 1476.65 L1073.35 1476.65 L1073.35 1470.77 Z\" fill=\"#000000\" fill-rule=\"evenodd\" fill-opacity=\"1\" /><path clip-path=\"url(#clip690)\" d=\"M 0 0 M1084.11 1472.72 L1091.75 1472.72 L1091.75 1446.35 L1083.44 1448.02 L1083.44 1443.76 L1091.7 1442.09 L1096.38 1442.09 L1096.38 1472.72 L1104.02 1472.72 L1104.02 1476.65 L1084.11 1476.65 L1084.11 1472.72 Z\" fill=\"#000000\" fill-rule=\"evenodd\" fill-opacity=\"1\" /><path clip-path=\"url(#clip690)\" d=\"M 0 0 M1119.09 1445.17 Q1115.48 1445.17 1113.65 1448.74 Q1111.84 1452.28 1111.84 1459.41 Q1111.84 1466.51 1113.65 1470.08 Q1115.48 1473.62 1119.09 1473.62 Q1122.72 1473.62 1124.53 1470.08 Q1126.36 1466.51 1126.36 1459.41 Q1126.36 1452.28 1124.53 1448.74 Q1122.72 1445.17 1119.09 1445.17 M1119.09 1441.47 Q1124.9 1441.47 1127.95 1446.07 Q1131.03 1450.66 1131.03 1459.41 Q1131.03 1468.13 1127.95 1472.74 Q1124.9 1477.32 1119.09 1477.32 Q1113.28 1477.32 1110.2 1472.74 Q1107.14 1468.13 1107.14 1459.41 Q1107.14 1450.66 1110.2 1446.07 Q1113.28 1441.47 1119.09 1441.47 Z\" fill=\"#000000\" fill-rule=\"evenodd\" fill-opacity=\"1\" /><path clip-path=\"url(#clip690)\" d=\"M 0 0 M1487.41 1445.17 Q1483.8 1445.17 1481.97 1448.74 Q1480.17 1452.28 1480.17 1459.41 Q1480.17 1466.51 1481.97 1470.08 Q1483.8 1473.62 1487.41 1473.62 Q1491.05 1473.62 1492.85 1470.08 Q1494.68 1466.51 1494.68 1459.41 Q1494.68 1452.28 1492.85 1448.74 Q1491.05 1445.17 1487.41 1445.17 M1487.41 1441.47 Q1493.22 1441.47 1496.28 1446.07 Q1499.36 1450.66 1499.36 1459.41 Q1499.36 1468.13 1496.28 1472.74 Q1493.22 1477.32 1487.41 1477.32 Q1481.6 1477.32 1478.52 1472.74 Q1475.47 1468.13 1475.47 1459.41 Q1475.47 1450.66 1478.52 1446.07 Q1481.6 1441.47 1487.41 1441.47 Z\" fill=\"#000000\" fill-rule=\"evenodd\" fill-opacity=\"1\" /><path clip-path=\"url(#clip690)\" d=\"M 0 0 M1504.43 1470.77 L1509.31 1470.77 L1509.31 1476.65 L1504.43 1476.65 L1504.43 1470.77 Z\" fill=\"#000000\" fill-rule=\"evenodd\" fill-opacity=\"1\" /><path clip-path=\"url(#clip690)\" d=\"M 0 0 M1515.19 1472.72 L1522.83 1472.72 L1522.83 1446.35 L1514.52 1448.02 L1514.52 1443.76 L1522.78 1442.09 L1527.46 1442.09 L1527.46 1472.72 L1535.1 1472.72 L1535.1 1476.65 L1515.19 1476.65 L1515.19 1472.72 Z\" fill=\"#000000\" fill-rule=\"evenodd\" fill-opacity=\"1\" /><path clip-path=\"url(#clip690)\" d=\"M 0 0 M1540.21 1442.09 L1558.57 1442.09 L1558.57 1446.03 L1544.49 1446.03 L1544.49 1454.5 Q1545.51 1454.15 1546.53 1453.99 Q1547.55 1453.8 1548.57 1453.8 Q1554.36 1453.8 1557.74 1456.98 Q1561.11 1460.15 1561.11 1465.56 Q1561.11 1471.14 1557.64 1474.24 Q1554.17 1477.32 1547.85 1477.32 Q1545.68 1477.32 1543.41 1476.95 Q1541.16 1476.58 1538.75 1475.84 L1538.75 1471.14 Q1540.84 1472.28 1543.06 1472.83 Q1545.28 1473.39 1547.76 1473.39 Q1551.76 1473.39 1554.1 1471.28 Q1556.44 1469.18 1556.44 1465.56 Q1556.44 1461.95 1554.1 1459.85 Q1551.76 1457.74 1547.76 1457.74 Q1545.88 1457.74 1544.01 1458.16 Q1542.16 1458.57 1540.21 1459.45 L1540.21 1442.09 Z\" fill=\"#000000\" fill-rule=\"evenodd\" fill-opacity=\"1\" /><path clip-path=\"url(#clip690)\" d=\"M 0 0 M1917.68 1445.17 Q1914.07 1445.17 1912.24 1448.74 Q1910.43 1452.28 1910.43 1459.41 Q1910.43 1466.51 1912.24 1470.08 Q1914.07 1473.62 1917.68 1473.62 Q1921.31 1473.62 1923.12 1470.08 Q1924.95 1466.51 1924.95 1459.41 Q1924.95 1452.28 1923.12 1448.74 Q1921.31 1445.17 1917.68 1445.17 M1917.68 1441.47 Q1923.49 1441.47 1926.55 1446.07 Q1929.62 1450.66 1929.62 1459.41 Q1929.62 1468.13 1926.55 1472.74 Q1923.49 1477.32 1917.68 1477.32 Q1911.87 1477.32 1908.79 1472.74 Q1905.74 1468.13 1905.74 1459.41 Q1905.74 1450.66 1908.79 1446.07 Q1911.87 1441.47 1917.68 1441.47 Z\" fill=\"#000000\" fill-rule=\"evenodd\" fill-opacity=\"1\" /><path clip-path=\"url(#clip690)\" d=\"M 0 0 M1934.69 1470.77 L1939.58 1470.77 L1939.58 1476.65 L1934.69 1476.65 L1934.69 1470.77 Z\" fill=\"#000000\" fill-rule=\"evenodd\" fill-opacity=\"1\" /><path clip-path=\"url(#clip690)\" d=\"M 0 0 M1948.67 1472.72 L1964.99 1472.72 L1964.99 1476.65 L1943.05 1476.65 L1943.05 1472.72 Q1945.71 1469.96 1950.3 1465.33 Q1954.9 1460.68 1956.08 1459.34 Q1958.33 1456.81 1959.21 1455.08 Q1960.11 1453.32 1960.11 1451.63 Q1960.11 1448.87 1958.17 1447.14 Q1956.24 1445.4 1953.14 1445.4 Q1950.94 1445.4 1948.49 1446.17 Q1946.06 1446.93 1943.28 1448.48 L1943.28 1443.76 Q1946.11 1442.62 1948.56 1442.05 Q1951.01 1441.47 1953.05 1441.47 Q1958.42 1441.47 1961.61 1444.15 Q1964.81 1446.84 1964.81 1451.33 Q1964.81 1453.46 1964 1455.38 Q1963.21 1457.28 1961.11 1459.87 Q1960.53 1460.54 1957.42 1463.76 Q1954.32 1466.95 1948.67 1472.72 Z\" fill=\"#000000\" fill-rule=\"evenodd\" fill-opacity=\"1\" /><path clip-path=\"url(#clip690)\" d=\"M 0 0 M1980.06 1445.17 Q1976.45 1445.17 1974.62 1448.74 Q1972.82 1452.28 1972.82 1459.41 Q1972.82 1466.51 1974.62 1470.08 Q1976.45 1473.62 1980.06 1473.62 Q1983.7 1473.62 1985.5 1470.08 Q1987.33 1466.51 1987.33 1459.41 Q1987.33 1452.28 1985.5 1448.74 Q1983.7 1445.17 1980.06 1445.17 M1980.06 1441.47 Q1985.87 1441.47 1988.93 1446.07 Q1992.01 1450.66 1992.01 1459.41 Q1992.01 1468.13 1988.93 1472.74 Q1985.87 1477.32 1980.06 1477.32 Q1974.25 1477.32 1971.17 1472.74 Q1968.12 1468.13 1968.12 1459.41 Q1968.12 1450.66 1971.17 1446.07 Q1974.25 1441.47 1980.06 1441.47 Z\" fill=\"#000000\" fill-rule=\"evenodd\" fill-opacity=\"1\" /><path clip-path=\"url(#clip690)\" d=\"M 0 0 M217.301 1373.45 Q213.69 1373.45 211.862 1377.02 Q210.056 1380.56 210.056 1387.69 Q210.056 1394.79 211.862 1398.36 Q213.69 1401.9 217.301 1401.9 Q220.936 1401.9 222.741 1398.36 Q224.57 1394.79 224.57 1387.69 Q224.57 1380.56 222.741 1377.02 Q220.936 1373.45 217.301 1373.45 M217.301 1369.75 Q223.111 1369.75 226.167 1374.35 Q229.246 1378.94 229.246 1387.69 Q229.246 1396.41 226.167 1401.02 Q223.111 1405.6 217.301 1405.6 Q211.491 1405.6 208.412 1401.02 Q205.357 1396.41 205.357 1387.69 Q205.357 1378.94 208.412 1374.35 Q211.491 1369.75 217.301 1369.75 Z\" fill=\"#000000\" fill-rule=\"evenodd\" fill-opacity=\"1\" /><path clip-path=\"url(#clip690)\" d=\"M 0 0 M154.316 1083.65 L172.672 1083.65 L172.672 1087.59 L158.598 1087.59 L158.598 1096.06 Q159.616 1095.71 160.635 1095.55 Q161.653 1095.36 162.672 1095.36 Q168.459 1095.36 171.839 1098.53 Q175.218 1101.71 175.218 1107.12 Q175.218 1112.7 171.746 1115.8 Q168.274 1118.88 161.954 1118.88 Q159.778 1118.88 157.51 1118.51 Q155.265 1118.14 152.857 1117.4 L152.857 1112.7 Q154.941 1113.83 157.163 1114.39 Q159.385 1114.95 161.862 1114.95 Q165.866 1114.95 168.204 1112.84 Q170.542 1110.73 170.542 1107.12 Q170.542 1103.51 168.204 1101.4 Q165.866 1099.3 161.862 1099.3 Q159.987 1099.3 158.112 1099.71 Q156.26 1100.13 154.316 1101.01 L154.316 1083.65 Z\" fill=\"#000000\" fill-rule=\"evenodd\" fill-opacity=\"1\" /><path clip-path=\"url(#clip690)\" d=\"M 0 0 M190.288 1086.73 Q186.677 1086.73 184.848 1090.29 Q183.042 1093.83 183.042 1100.96 Q183.042 1108.07 184.848 1111.64 Q186.677 1115.18 190.288 1115.18 Q193.922 1115.18 195.727 1111.64 Q197.556 1108.07 197.556 1100.96 Q197.556 1093.83 195.727 1090.29 Q193.922 1086.73 190.288 1086.73 M190.288 1083.02 Q196.098 1083.02 199.153 1087.63 Q202.232 1092.21 202.232 1100.96 Q202.232 1109.69 199.153 1114.3 Q196.098 1118.88 190.288 1118.88 Q184.477 1118.88 181.399 1114.3 Q178.343 1109.69 178.343 1100.96 Q178.343 1092.21 181.399 1087.63 Q184.477 1083.02 190.288 1083.02 Z\" fill=\"#000000\" fill-rule=\"evenodd\" fill-opacity=\"1\" /><path clip-path=\"url(#clip690)\" d=\"M 0 0 M217.301 1086.73 Q213.69 1086.73 211.862 1090.29 Q210.056 1093.83 210.056 1100.96 Q210.056 1108.07 211.862 1111.64 Q213.69 1115.18 217.301 1115.18 Q220.936 1115.18 222.741 1111.64 Q224.57 1108.07 224.57 1100.96 Q224.57 1093.83 222.741 1090.29 Q220.936 1086.73 217.301 1086.73 M217.301 1083.02 Q223.111 1083.02 226.167 1087.63 Q229.246 1092.21 229.246 1100.96 Q229.246 1109.69 226.167 1114.3 Q223.111 1118.88 217.301 1118.88 Q211.491 1118.88 208.412 1114.3 Q205.357 1109.69 205.357 1100.96 Q205.357 1092.21 208.412 1087.63 Q211.491 1083.02 217.301 1083.02 Z\" fill=\"#000000\" fill-rule=\"evenodd\" fill-opacity=\"1\" /><path clip-path=\"url(#clip690)\" d=\"M 0 0 M128.297 827.553 L135.936 827.553 L135.936 801.187 L127.626 802.854 L127.626 798.595 L135.89 796.928 L140.566 796.928 L140.566 827.553 L148.204 827.553 L148.204 831.488 L128.297 831.488 L128.297 827.553 Z\" fill=\"#000000\" fill-rule=\"evenodd\" fill-opacity=\"1\" /><path clip-path=\"url(#clip690)\" d=\"M 0 0 M163.274 800.007 Q159.663 800.007 157.834 803.572 Q156.029 807.113 156.029 814.243 Q156.029 821.349 157.834 824.914 Q159.663 828.456 163.274 828.456 Q166.908 828.456 168.714 824.914 Q170.542 821.349 170.542 814.243 Q170.542 807.113 168.714 803.572 Q166.908 800.007 163.274 800.007 M163.274 796.303 Q169.084 796.303 172.14 800.91 Q175.218 805.493 175.218 814.243 Q175.218 822.97 172.14 827.576 Q169.084 832.159 163.274 832.159 Q157.464 832.159 154.385 827.576 Q151.329 822.97 151.329 814.243 Q151.329 805.493 154.385 800.91 Q157.464 796.303 163.274 796.303 Z\" fill=\"#000000\" fill-rule=\"evenodd\" fill-opacity=\"1\" /><path clip-path=\"url(#clip690)\" d=\"M 0 0 M190.288 800.007 Q186.677 800.007 184.848 803.572 Q183.042 807.113 183.042 814.243 Q183.042 821.349 184.848 824.914 Q186.677 828.456 190.288 828.456 Q193.922 828.456 195.727 824.914 Q197.556 821.349 197.556 814.243 Q197.556 807.113 195.727 803.572 Q193.922 800.007 190.288 800.007 M190.288 796.303 Q196.098 796.303 199.153 800.91 Q202.232 805.493 202.232 814.243 Q202.232 822.97 199.153 827.576 Q196.098 832.159 190.288 832.159 Q184.477 832.159 181.399 827.576 Q178.343 822.97 178.343 814.243 Q178.343 805.493 181.399 800.91 Q184.477 796.303 190.288 796.303 Z\" fill=\"#000000\" fill-rule=\"evenodd\" fill-opacity=\"1\" /><path clip-path=\"url(#clip690)\" d=\"M 0 0 M217.301 800.007 Q213.69 800.007 211.862 803.572 Q210.056 807.113 210.056 814.243 Q210.056 821.349 211.862 824.914 Q213.69 828.456 217.301 828.456 Q220.936 828.456 222.741 824.914 Q224.57 821.349 224.57 814.243 Q224.57 807.113 222.741 803.572 Q220.936 800.007 217.301 800.007 M217.301 796.303 Q223.111 796.303 226.167 800.91 Q229.246 805.493 229.246 814.243 Q229.246 822.97 226.167 827.576 Q223.111 832.159 217.301 832.159 Q211.491 832.159 208.412 827.576 Q205.357 822.97 205.357 814.243 Q205.357 805.493 208.412 800.91 Q211.491 796.303 217.301 796.303 Z\" fill=\"#000000\" fill-rule=\"evenodd\" fill-opacity=\"1\" /><path clip-path=\"url(#clip690)\" d=\"M 0 0 M129.293 540.831 L136.931 540.831 L136.931 514.466 L128.621 516.132 L128.621 511.873 L136.885 510.206 L141.561 510.206 L141.561 540.831 L149.2 540.831 L149.2 544.766 L129.293 544.766 L129.293 540.831 Z\" fill=\"#000000\" fill-rule=\"evenodd\" fill-opacity=\"1\" /><path clip-path=\"url(#clip690)\" d=\"M 0 0 M154.316 510.206 L172.672 510.206 L172.672 514.142 L158.598 514.142 L158.598 522.614 Q159.616 522.267 160.635 522.105 Q161.653 521.919 162.672 521.919 Q168.459 521.919 171.839 525.091 Q175.218 528.262 175.218 533.679 Q175.218 539.257 171.746 542.359 Q168.274 545.438 161.954 545.438 Q159.778 545.438 157.51 545.067 Q155.265 544.697 152.857 543.956 L152.857 539.257 Q154.941 540.391 157.163 540.947 Q159.385 541.503 161.862 541.503 Q165.866 541.503 168.204 539.396 Q170.542 537.29 170.542 533.679 Q170.542 530.067 168.204 527.961 Q165.866 525.854 161.862 525.854 Q159.987 525.854 158.112 526.271 Q156.26 526.688 154.316 527.567 L154.316 510.206 Z\" fill=\"#000000\" fill-rule=\"evenodd\" fill-opacity=\"1\" /><path clip-path=\"url(#clip690)\" d=\"M 0 0 M190.288 513.285 Q186.677 513.285 184.848 516.85 Q183.042 520.392 183.042 527.521 Q183.042 534.628 184.848 538.192 Q186.677 541.734 190.288 541.734 Q193.922 541.734 195.727 538.192 Q197.556 534.628 197.556 527.521 Q197.556 520.392 195.727 516.85 Q193.922 513.285 190.288 513.285 M190.288 509.581 Q196.098 509.581 199.153 514.188 Q202.232 518.771 202.232 527.521 Q202.232 536.248 199.153 540.854 Q196.098 545.438 190.288 545.438 Q184.477 545.438 181.399 540.854 Q178.343 536.248 178.343 527.521 Q178.343 518.771 181.399 514.188 Q184.477 509.581 190.288 509.581 Z\" fill=\"#000000\" fill-rule=\"evenodd\" fill-opacity=\"1\" /><path clip-path=\"url(#clip690)\" d=\"M 0 0 M217.301 513.285 Q213.69 513.285 211.862 516.85 Q210.056 520.392 210.056 527.521 Q210.056 534.628 211.862 538.192 Q213.69 541.734 217.301 541.734 Q220.936 541.734 222.741 538.192 Q224.57 534.628 224.57 527.521 Q224.57 520.392 222.741 516.85 Q220.936 513.285 217.301 513.285 M217.301 509.581 Q223.111 509.581 226.167 514.188 Q229.246 518.771 229.246 527.521 Q229.246 536.248 226.167 540.854 Q223.111 545.438 217.301 545.438 Q211.491 545.438 208.412 540.854 Q205.357 536.248 205.357 527.521 Q205.357 518.771 208.412 514.188 Q211.491 509.581 217.301 509.581 Z\" fill=\"#000000\" fill-rule=\"evenodd\" fill-opacity=\"1\" /><path clip-path=\"url(#clip690)\" d=\"M 0 0 M131.885 254.11 L148.204 254.11 L148.204 258.045 L126.26 258.045 L126.26 254.11 Q128.922 251.355 133.505 246.725 Q138.112 242.073 139.292 240.73 Q141.538 238.207 142.417 236.471 Q143.32 234.711 143.32 233.022 Q143.32 230.267 141.376 228.531 Q139.455 226.795 136.353 226.795 Q134.154 226.795 131.7 227.559 Q129.269 228.323 126.492 229.874 L126.492 225.151 Q129.316 224.017 131.769 223.438 Q134.223 222.86 136.26 222.86 Q141.63 222.86 144.825 225.545 Q148.019 228.23 148.019 232.721 Q148.019 234.85 147.209 236.772 Q146.422 238.67 144.316 241.262 Q143.737 241.934 140.635 245.151 Q137.533 248.346 131.885 254.11 Z\" fill=\"#000000\" fill-rule=\"evenodd\" fill-opacity=\"1\" /><path clip-path=\"url(#clip690)\" d=\"M 0 0 M163.274 226.563 Q159.663 226.563 157.834 230.128 Q156.029 233.67 156.029 240.799 Q156.029 247.906 157.834 251.471 Q159.663 255.012 163.274 255.012 Q166.908 255.012 168.714 251.471 Q170.542 247.906 170.542 240.799 Q170.542 233.67 168.714 230.128 Q166.908 226.563 163.274 226.563 M163.274 222.86 Q169.084 222.86 172.14 227.466 Q175.218 232.049 175.218 240.799 Q175.218 249.526 172.14 254.133 Q169.084 258.716 163.274 258.716 Q157.464 258.716 154.385 254.133 Q151.329 249.526 151.329 240.799 Q151.329 232.049 154.385 227.466 Q157.464 222.86 163.274 222.86 Z\" fill=\"#000000\" fill-rule=\"evenodd\" fill-opacity=\"1\" /><path clip-path=\"url(#clip690)\" d=\"M 0 0 M190.288 226.563 Q186.677 226.563 184.848 230.128 Q183.042 233.67 183.042 240.799 Q183.042 247.906 184.848 251.471 Q186.677 255.012 190.288 255.012 Q193.922 255.012 195.727 251.471 Q197.556 247.906 197.556 240.799 Q197.556 233.67 195.727 230.128 Q193.922 226.563 190.288 226.563 M190.288 222.86 Q196.098 222.86 199.153 227.466 Q202.232 232.049 202.232 240.799 Q202.232 249.526 199.153 254.133 Q196.098 258.716 190.288 258.716 Q184.477 258.716 181.399 254.133 Q178.343 249.526 178.343 240.799 Q178.343 232.049 181.399 227.466 Q184.477 222.86 190.288 222.86 Z\" fill=\"#000000\" fill-rule=\"evenodd\" fill-opacity=\"1\" /><path clip-path=\"url(#clip690)\" d=\"M 0 0 M217.301 226.563 Q213.69 226.563 211.862 230.128 Q210.056 233.67 210.056 240.799 Q210.056 247.906 211.862 251.471 Q213.69 255.012 217.301 255.012 Q220.936 255.012 222.741 251.471 Q224.57 247.906 224.57 240.799 Q224.57 233.67 222.741 230.128 Q220.936 226.563 217.301 226.563 M217.301 222.86 Q223.111 222.86 226.167 227.466 Q229.246 232.049 229.246 240.799 Q229.246 249.526 226.167 254.133 Q223.111 258.716 217.301 258.716 Q211.491 258.716 208.412 254.133 Q205.357 249.526 205.357 240.799 Q205.357 232.049 208.412 227.466 Q211.491 222.86 217.301 222.86 Z\" fill=\"#000000\" fill-rule=\"evenodd\" fill-opacity=\"1\" /><path clip-path=\"url(#clip690)\" d=\"M 0 0 M1066.18 18.8205 L1066.18 65.8515 L1076.07 65.8515 Q1088.59 65.8515 1094.38 60.1802 Q1100.21 54.509 1100.21 42.2752 Q1100.21 30.1225 1094.38 24.4918 Q1088.59 18.8205 1076.07 18.8205 L1066.18 18.8205 M1058 12.096 L1074.81 12.096 Q1092.39 12.096 1100.62 19.4281 Q1108.84 26.7198 1108.84 42.2752 Q1108.84 57.9117 1100.58 65.2439 Q1092.31 72.576 1074.81 72.576 L1058 72.576 L1058 12.096 Z\" fill=\"#000000\" fill-rule=\"evenodd\" fill-opacity=\"1\" /><path clip-path=\"url(#clip690)\" d=\"M 0 0 M1116.66 27.2059 L1124.11 27.2059 L1124.11 72.576 L1116.66 72.576 L1116.66 27.2059 M1116.66 9.54393 L1124.11 9.54393 L1124.11 18.9825 L1116.66 18.9825 L1116.66 9.54393 Z\" fill=\"#000000\" fill-rule=\"evenodd\" fill-opacity=\"1\" /><path clip-path=\"url(#clip690)\" d=\"M 0 0 M1160.85 28.5427 L1160.85 35.5912 Q1157.69 33.9709 1154.29 33.1607 Q1150.89 32.3505 1147.24 32.3505 Q1141.69 32.3505 1138.9 34.0519 Q1136.14 35.7533 1136.14 39.156 Q1136.14 41.7486 1138.13 43.2475 Q1140.11 44.7058 1146.11 46.0426 L1148.66 46.6097 Q1156.6 48.3111 1159.92 51.4303 Q1163.29 54.509 1163.29 60.0587 Q1163.29 66.3781 1158.26 70.0644 Q1153.28 73.7508 1144.53 73.7508 Q1140.88 73.7508 1136.91 73.0216 Q1132.98 72.3329 1128.61 70.9151 L1128.61 63.2184 Q1132.74 65.3654 1136.75 66.4591 Q1140.76 67.5124 1144.69 67.5124 Q1149.96 67.5124 1152.79 65.73 Q1155.63 63.9071 1155.63 60.6258 Q1155.63 57.5877 1153.56 55.9673 Q1151.54 54.3469 1144.61 52.8481 L1142.02 52.2405 Q1135.09 50.7821 1132.01 47.7845 Q1128.93 44.7463 1128.93 39.4801 Q1128.93 33.0797 1133.47 29.5959 Q1138.01 26.1121 1146.35 26.1121 Q1150.48 26.1121 1154.13 26.7198 Q1157.78 27.3274 1160.85 28.5427 Z\" fill=\"#000000\" fill-rule=\"evenodd\" fill-opacity=\"1\" /><path clip-path=\"url(#clip690)\" d=\"M 0 0 M1203.75 28.9478 L1203.75 35.9153 Q1200.59 34.1734 1197.39 33.3227 Q1194.23 32.4315 1190.99 32.4315 Q1183.74 32.4315 1179.73 37.0496 Q1175.72 41.6271 1175.72 49.9314 Q1175.72 58.2358 1179.73 62.8538 Q1183.74 67.4314 1190.99 67.4314 Q1194.23 67.4314 1197.39 66.5807 Q1200.59 65.6895 1203.75 63.9476 L1203.75 70.8341 Q1200.63 72.2924 1197.27 73.0216 Q1193.95 73.7508 1190.18 73.7508 Q1179.93 73.7508 1173.9 67.3098 Q1167.86 60.8689 1167.86 49.9314 Q1167.86 38.832 1173.94 32.472 Q1180.06 26.1121 1190.67 26.1121 Q1194.11 26.1121 1197.39 26.8413 Q1200.67 27.5299 1203.75 28.9478 Z\" fill=\"#000000\" fill-rule=\"evenodd\" fill-opacity=\"1\" /><path clip-path=\"url(#clip690)\" d=\"M 0 0 M1270.59 28.9478 L1270.59 35.9153 Q1267.43 34.1734 1264.23 33.3227 Q1261.07 32.4315 1257.83 32.4315 Q1250.58 32.4315 1246.57 37.0496 Q1242.56 41.6271 1242.56 49.9314 Q1242.56 58.2358 1246.57 62.8538 Q1250.58 67.4314 1257.83 67.4314 Q1261.07 67.4314 1264.23 66.5807 Q1267.43 65.6895 1270.59 63.9476 L1270.59 70.8341 Q1267.47 72.2924 1264.11 73.0216 Q1260.79 73.7508 1257.02 73.7508 Q1246.77 73.7508 1240.74 67.3098 Q1234.7 60.8689 1234.7 49.9314 Q1234.7 38.832 1240.78 32.472 Q1246.9 26.1121 1257.51 26.1121 Q1260.95 26.1121 1264.23 26.8413 Q1267.51 27.5299 1270.59 28.9478 Z\" fill=\"#000000\" fill-rule=\"evenodd\" fill-opacity=\"1\" /><path clip-path=\"url(#clip690)\" d=\"M 0 0 M1295.99 32.4315 Q1290 32.4315 1286.51 37.1306 Q1283.03 41.7891 1283.03 49.9314 Q1283.03 58.0738 1286.47 62.7728 Q1289.96 67.4314 1295.99 67.4314 Q1301.95 67.4314 1305.43 62.7323 Q1308.92 58.0333 1308.92 49.9314 Q1308.92 41.8701 1305.43 37.1711 Q1301.95 32.4315 1295.99 32.4315 M1295.99 26.1121 Q1305.71 26.1121 1311.26 32.4315 Q1316.81 38.7509 1316.81 49.9314 Q1316.81 61.0714 1311.26 67.4314 Q1305.71 73.7508 1295.99 73.7508 Q1286.23 73.7508 1280.68 67.4314 Q1275.17 61.0714 1275.17 49.9314 Q1275.17 38.7509 1280.68 32.4315 Q1286.23 26.1121 1295.99 26.1121 Z\" fill=\"#000000\" fill-rule=\"evenodd\" fill-opacity=\"1\" /><path clip-path=\"url(#clip690)\" d=\"M 0 0 M1324.63 9.54393 L1332.09 9.54393 L1332.09 72.576 L1324.63 72.576 L1324.63 9.54393 Z\" fill=\"#000000\" fill-rule=\"evenodd\" fill-opacity=\"1\" /><path clip-path=\"url(#clip690)\" d=\"M 0 0 M1339.9 9.54393 L1347.36 9.54393 L1347.36 72.576 L1339.9 72.576 L1339.9 9.54393 Z\" fill=\"#000000\" fill-rule=\"evenodd\" fill-opacity=\"1\" /><path clip-path=\"url(#clip690)\" d=\"M 0 0 M1355.18 27.2059 L1362.63 27.2059 L1362.63 72.576 L1355.18 72.576 L1355.18 27.2059 M1355.18 9.54393 L1362.63 9.54393 L1362.63 18.9825 L1355.18 18.9825 L1355.18 9.54393 Z\" fill=\"#000000\" fill-rule=\"evenodd\" fill-opacity=\"1\" /><path clip-path=\"url(#clip690)\" d=\"M 0 0 M1399.37 28.5427 L1399.37 35.5912 Q1396.21 33.9709 1392.81 33.1607 Q1389.41 32.3505 1385.76 32.3505 Q1380.21 32.3505 1377.42 34.0519 Q1374.66 35.7533 1374.66 39.156 Q1374.66 41.7486 1376.65 43.2475 Q1378.63 44.7058 1384.63 46.0426 L1387.18 46.6097 Q1395.12 48.3111 1398.44 51.4303 Q1401.8 54.509 1401.8 60.0587 Q1401.8 66.3781 1396.78 70.0644 Q1391.8 73.7508 1383.05 73.7508 Q1379.4 73.7508 1375.43 73.0216 Q1371.5 72.3329 1367.13 70.9151 L1367.13 63.2184 Q1371.26 65.3654 1375.27 66.4591 Q1379.28 67.5124 1383.21 67.5124 Q1388.47 67.5124 1391.31 65.73 Q1394.15 63.9071 1394.15 60.6258 Q1394.15 57.5877 1392.08 55.9673 Q1390.05 54.3469 1383.13 52.8481 L1380.54 52.2405 Q1373.61 50.7821 1370.53 47.7845 Q1367.45 44.7463 1367.45 39.4801 Q1367.45 33.0797 1371.99 29.5959 Q1376.52 26.1121 1384.87 26.1121 Q1389 26.1121 1392.65 26.7198 Q1396.29 27.3274 1399.37 28.5427 Z\" fill=\"#000000\" fill-rule=\"evenodd\" fill-opacity=\"1\" /><path clip-path=\"url(#clip690)\" d=\"M 0 0 M1409.62 27.2059 L1417.07 27.2059 L1417.07 72.576 L1409.62 72.576 L1409.62 27.2059 M1409.62 9.54393 L1417.07 9.54393 L1417.07 18.9825 L1409.62 18.9825 L1409.62 9.54393 Z\" fill=\"#000000\" fill-rule=\"evenodd\" fill-opacity=\"1\" /><path clip-path=\"url(#clip690)\" d=\"M 0 0 M1442.47 32.4315 Q1436.48 32.4315 1432.99 37.1306 Q1429.51 41.7891 1429.51 49.9314 Q1429.51 58.0738 1432.95 62.7728 Q1436.44 67.4314 1442.47 67.4314 Q1448.43 67.4314 1451.91 62.7323 Q1455.4 58.0333 1455.4 49.9314 Q1455.4 41.8701 1451.91 37.1711 Q1448.43 32.4315 1442.47 32.4315 M1442.47 26.1121 Q1452.2 26.1121 1457.75 32.4315 Q1463.3 38.7509 1463.3 49.9314 Q1463.3 61.0714 1457.75 67.4314 Q1452.2 73.7508 1442.47 73.7508 Q1432.71 73.7508 1427.16 67.4314 Q1421.65 61.0714 1421.65 49.9314 Q1421.65 38.7509 1427.16 32.4315 Q1432.71 26.1121 1442.47 26.1121 Z\" fill=\"#000000\" fill-rule=\"evenodd\" fill-opacity=\"1\" /><path clip-path=\"url(#clip690)\" d=\"M 0 0 M1508.83 45.1919 L1508.83 72.576 L1501.37 72.576 L1501.37 45.4349 Q1501.37 38.994 1498.86 35.7938 Q1496.35 32.5936 1491.33 32.5936 Q1485.29 32.5936 1481.81 36.4419 Q1478.32 40.2903 1478.32 46.9338 L1478.32 72.576 L1470.83 72.576 L1470.83 27.2059 L1478.32 27.2059 L1478.32 34.2544 Q1481 30.163 1484.6 28.1376 Q1488.25 26.1121 1492.99 26.1121 Q1500.81 26.1121 1504.82 30.9732 Q1508.83 35.7938 1508.83 45.1919 Z\" fill=\"#000000\" fill-rule=\"evenodd\" fill-opacity=\"1\" /><path clip-path=\"url(#clip690)\" d=\"M 0 0 M1545.57 28.5427 L1545.57 35.5912 Q1542.41 33.9709 1539.01 33.1607 Q1535.6 32.3505 1531.96 32.3505 Q1526.41 32.3505 1523.61 34.0519 Q1520.86 35.7533 1520.86 39.156 Q1520.86 41.7486 1522.84 43.2475 Q1524.83 44.7058 1530.82 46.0426 L1533.38 46.6097 Q1541.32 48.3111 1544.64 51.4303 Q1548 54.509 1548 60.0587 Q1548 66.3781 1542.98 70.0644 Q1537.99 73.7508 1529.24 73.7508 Q1525.6 73.7508 1521.63 73.0216 Q1517.7 72.3329 1513.32 70.9151 L1513.32 63.2184 Q1517.46 65.3654 1521.47 66.4591 Q1525.48 67.5124 1529.41 67.5124 Q1534.67 67.5124 1537.51 65.73 Q1540.34 63.9071 1540.34 60.6258 Q1540.34 57.5877 1538.28 55.9673 Q1536.25 54.3469 1529.32 52.8481 L1526.73 52.2405 Q1519.81 50.7821 1516.73 47.7845 Q1513.65 44.7463 1513.65 39.4801 Q1513.65 33.0797 1518.18 29.5959 Q1522.72 26.1121 1531.07 26.1121 Q1535.2 26.1121 1538.84 26.7198 Q1542.49 27.3274 1545.57 28.5427 Z\" fill=\"#000000\" fill-rule=\"evenodd\" fill-opacity=\"1\" /><path clip-path=\"url(#clip690)\" d=\"M 0 0 M1313.44 1525.87 Q1312.45 1525.3 1311.28 1525.04 Q1310.13 1524.76 1308.73 1524.76 Q1303.76 1524.76 1301.09 1528 Q1298.45 1531.22 1298.45 1537.27 L1298.45 1556.04 L1292.56 1556.04 L1292.56 1520.4 L1298.45 1520.4 L1298.45 1525.93 Q1300.3 1522.69 1303.26 1521.13 Q1306.22 1519.54 1310.45 1519.54 Q1311.05 1519.54 1311.79 1519.63 Q1312.52 1519.7 1313.41 1519.85 L1313.44 1525.87 Z\" fill=\"#000000\" fill-rule=\"evenodd\" fill-opacity=\"1\" /><path clip-path=\"url(#clip690)\" d=\"M 0 0 M59.1993 900.242 Q55.2526 898.046 53.3747 894.991 Q51.4968 891.935 51.4968 887.797 Q51.4968 882.227 55.4117 879.204 Q59.2948 876.18 66.4881 876.18 L88.0042 876.18 L88.0042 882.068 L66.679 882.068 Q61.5546 882.068 59.072 883.882 Q56.5894 885.697 56.5894 889.421 Q56.5894 893.972 59.6131 896.614 Q62.6368 899.256 67.8567 899.256 L88.0042 899.256 L88.0042 905.144 L66.679 905.144 Q61.5228 905.144 59.072 906.958 Q56.5894 908.772 56.5894 912.56 Q56.5894 917.048 59.6449 919.689 Q62.6686 922.331 67.8567 922.331 L88.0042 922.331 L88.0042 928.22 L52.3562 928.22 L52.3562 922.331 L57.8944 922.331 Q54.616 920.326 53.0564 917.525 Q51.4968 914.724 51.4968 910.873 Q51.4968 906.99 53.4702 904.284 Q55.4436 901.547 59.1993 900.242 Z\" fill=\"#000000\" fill-rule=\"evenodd\" fill-opacity=\"1\" /><path clip-path=\"url(#clip690)\" d=\"M 0 0 M68.7161 839.545 L71.5806 839.545 L71.5806 866.472 Q77.6281 866.09 80.8109 862.844 Q83.9619 859.565 83.9619 853.741 Q83.9619 850.367 83.1344 847.216 Q82.3069 844.033 80.6518 840.914 L86.1899 840.914 Q87.5267 844.065 88.227 847.375 Q88.9272 850.685 88.9272 854.091 Q88.9272 862.621 83.9619 867.618 Q78.9967 872.583 70.5303 872.583 Q61.7774 872.583 56.6531 867.873 Q51.4968 863.13 51.4968 855.109 Q51.4968 847.916 56.1438 843.747 Q60.7589 839.545 68.7161 839.545 M66.9973 845.402 Q62.1912 845.465 59.3266 848.107 Q56.4621 850.717 56.4621 855.046 Q56.4621 859.947 59.2312 862.907 Q62.0002 865.836 67.0292 866.281 L66.9973 845.402 Z\" fill=\"#000000\" fill-rule=\"evenodd\" fill-opacity=\"1\" /><path clip-path=\"url(#clip690)\" d=\"M 0 0 M70.0847 817.202 Q70.0847 824.299 71.7079 827.037 Q73.3312 829.774 77.2461 829.774 Q80.3653 829.774 82.2114 827.737 Q84.0256 825.668 84.0256 822.135 Q84.0256 817.265 80.5881 814.337 Q77.1188 811.377 71.3897 811.377 L70.0847 811.377 L70.0847 817.202 M67.6657 805.521 L88.0042 805.521 L88.0042 811.377 L82.5933 811.377 Q85.8398 813.382 87.3994 816.374 Q88.9272 819.366 88.9272 823.695 Q88.9272 829.169 85.8716 832.416 Q82.7843 835.63 77.6281 835.63 Q71.6125 835.63 68.5569 831.62 Q65.5014 827.578 65.5014 819.589 L65.5014 811.377 L64.9285 811.377 Q60.8862 811.377 58.6901 814.051 Q56.4621 816.692 56.4621 821.498 Q56.4621 824.554 57.1941 827.45 Q57.9262 830.347 59.3903 833.02 L53.9795 833.02 Q52.7381 829.806 52.1334 826.782 Q51.4968 823.758 51.4968 820.894 Q51.4968 813.159 55.5072 809.34 Q59.5176 805.521 67.6657 805.521 Z\" fill=\"#000000\" fill-rule=\"evenodd\" fill-opacity=\"1\" /><path clip-path=\"url(#clip690)\" d=\"M 0 0 M66.4881 769.745 L88.0042 769.745 L88.0042 775.602 L66.679 775.602 Q61.6183 775.602 59.1038 777.575 Q56.5894 779.548 56.5894 783.495 Q56.5894 788.238 59.6131 790.975 Q62.6368 793.712 67.8567 793.712 L88.0042 793.712 L88.0042 799.6 L52.3562 799.6 L52.3562 793.712 L57.8944 793.712 Q54.6797 791.611 53.0883 788.779 Q51.4968 785.914 51.4968 782.19 Q51.4968 776.047 55.3163 772.896 Q59.1038 769.745 66.4881 769.745 Z\" fill=\"#000000\" fill-rule=\"evenodd\" fill-opacity=\"1\" /><path clip-path=\"url(#clip690)\" d=\"M 0 0 M42.2347 737.089 L52.3562 737.089 L52.3562 725.026 L56.9077 725.026 L56.9077 737.089 L76.2594 737.089 Q80.6199 737.089 81.8613 735.912 Q83.1026 734.702 83.1026 731.042 L83.1026 725.026 L88.0042 725.026 L88.0042 731.042 Q88.0042 737.821 85.4897 740.399 Q82.9434 742.977 76.2594 742.977 L56.9077 742.977 L56.9077 747.274 L52.3562 747.274 L52.3562 742.977 L42.2347 742.977 L42.2347 737.089 Z\" fill=\"#000000\" fill-rule=\"evenodd\" fill-opacity=\"1\" /><path clip-path=\"url(#clip690)\" d=\"M 0 0 M52.3562 718.883 L52.3562 713.027 L88.0042 713.027 L88.0042 718.883 L52.3562 718.883 M38.479 718.883 L38.479 713.027 L45.895 713.027 L45.895 718.883 L38.479 718.883 Z\" fill=\"#000000\" fill-rule=\"evenodd\" fill-opacity=\"1\" /><path clip-path=\"url(#clip690)\" d=\"M 0 0 M59.1993 679.129 Q55.2526 676.933 53.3747 673.878 Q51.4968 670.822 51.4968 666.684 Q51.4968 661.114 55.4117 658.091 Q59.2948 655.067 66.4881 655.067 L88.0042 655.067 L88.0042 660.955 L66.679 660.955 Q61.5546 660.955 59.072 662.77 Q56.5894 664.584 56.5894 668.308 Q56.5894 672.859 59.6131 675.501 Q62.6368 678.143 67.8567 678.143 L88.0042 678.143 L88.0042 684.031 L66.679 684.031 Q61.5228 684.031 59.072 685.845 Q56.5894 687.659 56.5894 691.447 Q56.5894 695.935 59.6449 698.577 Q62.6686 701.218 67.8567 701.218 L88.0042 701.218 L88.0042 707.107 L52.3562 707.107 L52.3562 701.218 L57.8944 701.218 Q54.616 699.213 53.0564 696.412 Q51.4968 693.611 51.4968 689.76 Q51.4968 685.877 53.4702 683.172 Q55.4436 680.434 59.1993 679.129 Z\" fill=\"#000000\" fill-rule=\"evenodd\" fill-opacity=\"1\" /><path clip-path=\"url(#clip690)\" d=\"M 0 0 M68.7161 618.432 L71.5806 618.432 L71.5806 645.359 Q77.6281 644.977 80.8109 641.731 Q83.9619 638.453 83.9619 632.628 Q83.9619 629.254 83.1344 626.103 Q82.3069 622.92 80.6518 619.801 L86.1899 619.801 Q87.5267 622.952 88.227 626.262 Q88.9272 629.572 88.9272 632.978 Q88.9272 641.508 83.9619 646.505 Q78.9967 651.47 70.5303 651.47 Q61.7774 651.47 56.6531 646.76 Q51.4968 642.017 51.4968 633.997 Q51.4968 626.803 56.1438 622.634 Q60.7589 618.432 68.7161 618.432 M66.9973 624.289 Q62.1912 624.353 59.3266 626.994 Q56.4621 629.604 56.4621 633.933 Q56.4621 638.835 59.2312 641.795 Q62.0002 644.723 67.0292 645.168 L66.9973 624.289 Z\" fill=\"#000000\" fill-rule=\"evenodd\" fill-opacity=\"1\" /><circle clip-path=\"url(#clip692)\" cx=\"312.666\" cy=\"160.256\" r=\"14\" fill=\"#009af9\" fill-rule=\"evenodd\" fill-opacity=\"1\" stroke=\"#000000\" stroke-opacity=\"1\" stroke-width=\"3.2\"/>\n",
       "<circle clip-path=\"url(#clip692)\" cx=\"398.782\" cy=\"1087.78\" r=\"14\" fill=\"#009af9\" fill-rule=\"evenodd\" fill-opacity=\"1\" stroke=\"#000000\" stroke-opacity=\"1\" stroke-width=\"3.2\"/>\n",
       "<circle clip-path=\"url(#clip692)\" cx=\"484.898\" cy=\"1258.1\" r=\"14\" fill=\"#009af9\" fill-rule=\"evenodd\" fill-opacity=\"1\" stroke=\"#000000\" stroke-opacity=\"1\" stroke-width=\"3.2\"/>\n",
       "<circle clip-path=\"url(#clip692)\" cx=\"571.014\" cy=\"1316.19\" r=\"14\" fill=\"#009af9\" fill-rule=\"evenodd\" fill-opacity=\"1\" stroke=\"#000000\" stroke-opacity=\"1\" stroke-width=\"3.2\"/>\n",
       "<circle clip-path=\"url(#clip692)\" cx=\"657.13\" cy=\"1342.67\" r=\"14\" fill=\"#009af9\" fill-rule=\"evenodd\" fill-opacity=\"1\" stroke=\"#000000\" stroke-opacity=\"1\" stroke-width=\"3.2\"/>\n",
       "<circle clip-path=\"url(#clip692)\" cx=\"743.246\" cy=\"1357.31\" r=\"14\" fill=\"#009af9\" fill-rule=\"evenodd\" fill-opacity=\"1\" stroke=\"#000000\" stroke-opacity=\"1\" stroke-width=\"3.2\"/>\n",
       "<circle clip-path=\"url(#clip692)\" cx=\"829.362\" cy=\"1365.77\" r=\"14\" fill=\"#009af9\" fill-rule=\"evenodd\" fill-opacity=\"1\" stroke=\"#000000\" stroke-opacity=\"1\" stroke-width=\"3.2\"/>\n",
       "<circle clip-path=\"url(#clip692)\" cx=\"915.478\" cy=\"1371.35\" r=\"14\" fill=\"#009af9\" fill-rule=\"evenodd\" fill-opacity=\"1\" stroke=\"#000000\" stroke-opacity=\"1\" stroke-width=\"3.2\"/>\n",
       "<circle clip-path=\"url(#clip692)\" cx=\"1001.59\" cy=\"1375.06\" r=\"14\" fill=\"#009af9\" fill-rule=\"evenodd\" fill-opacity=\"1\" stroke=\"#000000\" stroke-opacity=\"1\" stroke-width=\"3.2\"/>\n",
       "<circle clip-path=\"url(#clip692)\" cx=\"1087.71\" cy=\"1377.64\" r=\"14\" fill=\"#009af9\" fill-rule=\"evenodd\" fill-opacity=\"1\" stroke=\"#000000\" stroke-opacity=\"1\" stroke-width=\"3.2\"/>\n",
       "<circle clip-path=\"url(#clip692)\" cx=\"1173.83\" cy=\"1379.55\" r=\"14\" fill=\"#009af9\" fill-rule=\"evenodd\" fill-opacity=\"1\" stroke=\"#000000\" stroke-opacity=\"1\" stroke-width=\"3.2\"/>\n",
       "<circle clip-path=\"url(#clip692)\" cx=\"1259.94\" cy=\"1381\" r=\"14\" fill=\"#009af9\" fill-rule=\"evenodd\" fill-opacity=\"1\" stroke=\"#000000\" stroke-opacity=\"1\" stroke-width=\"3.2\"/>\n",
       "<circle clip-path=\"url(#clip692)\" cx=\"1346.06\" cy=\"1382.15\" r=\"14\" fill=\"#009af9\" fill-rule=\"evenodd\" fill-opacity=\"1\" stroke=\"#000000\" stroke-opacity=\"1\" stroke-width=\"3.2\"/>\n",
       "<circle clip-path=\"url(#clip692)\" cx=\"1432.17\" cy=\"1383\" r=\"14\" fill=\"#009af9\" fill-rule=\"evenodd\" fill-opacity=\"1\" stroke=\"#000000\" stroke-opacity=\"1\" stroke-width=\"3.2\"/>\n",
       "<circle clip-path=\"url(#clip692)\" cx=\"1518.29\" cy=\"1383.7\" r=\"14\" fill=\"#009af9\" fill-rule=\"evenodd\" fill-opacity=\"1\" stroke=\"#000000\" stroke-opacity=\"1\" stroke-width=\"3.2\"/>\n",
       "<circle clip-path=\"url(#clip692)\" cx=\"1604.41\" cy=\"1384.26\" r=\"14\" fill=\"#009af9\" fill-rule=\"evenodd\" fill-opacity=\"1\" stroke=\"#000000\" stroke-opacity=\"1\" stroke-width=\"3.2\"/>\n",
       "<circle clip-path=\"url(#clip692)\" cx=\"1690.52\" cy=\"1384.73\" r=\"14\" fill=\"#009af9\" fill-rule=\"evenodd\" fill-opacity=\"1\" stroke=\"#000000\" stroke-opacity=\"1\" stroke-width=\"3.2\"/>\n",
       "<circle clip-path=\"url(#clip692)\" cx=\"1776.64\" cy=\"1385.1\" r=\"14\" fill=\"#009af9\" fill-rule=\"evenodd\" fill-opacity=\"1\" stroke=\"#000000\" stroke-opacity=\"1\" stroke-width=\"3.2\"/>\n",
       "<circle clip-path=\"url(#clip692)\" cx=\"1862.76\" cy=\"1385.43\" r=\"14\" fill=\"#009af9\" fill-rule=\"evenodd\" fill-opacity=\"1\" stroke=\"#000000\" stroke-opacity=\"1\" stroke-width=\"3.2\"/>\n",
       "<circle clip-path=\"url(#clip692)\" cx=\"1948.87\" cy=\"1385.69\" r=\"14\" fill=\"#009af9\" fill-rule=\"evenodd\" fill-opacity=\"1\" stroke=\"#000000\" stroke-opacity=\"1\" stroke-width=\"3.2\"/>\n",
       "<circle clip-path=\"url(#clip692)\" cx=\"2034.99\" cy=\"1385.92\" r=\"14\" fill=\"#009af9\" fill-rule=\"evenodd\" fill-opacity=\"1\" stroke=\"#000000\" stroke-opacity=\"1\" stroke-width=\"3.2\"/>\n",
       "<circle clip-path=\"url(#clip692)\" cx=\"2121.1\" cy=\"1386.11\" r=\"14\" fill=\"#009af9\" fill-rule=\"evenodd\" fill-opacity=\"1\" stroke=\"#000000\" stroke-opacity=\"1\" stroke-width=\"3.2\"/>\n",
       "<circle clip-path=\"url(#clip692)\" cx=\"2207.22\" cy=\"1386.26\" r=\"14\" fill=\"#009af9\" fill-rule=\"evenodd\" fill-opacity=\"1\" stroke=\"#000000\" stroke-opacity=\"1\" stroke-width=\"3.2\"/>\n",
       "<circle clip-path=\"url(#clip692)\" cx=\"2293.34\" cy=\"1386.39\" r=\"14\" fill=\"#009af9\" fill-rule=\"evenodd\" fill-opacity=\"1\" stroke=\"#000000\" stroke-opacity=\"1\" stroke-width=\"3.2\"/>\n",
       "<polyline clip-path=\"url(#clip692)\" style=\"stroke:#e26f46; stroke-width:4; stroke-opacity:1; fill:none\" points=\"\n",
       "  312.666,167.784 398.782,1089.35 484.898,1257.95 571.014,1316.27 657.13,1342.95 743.246,1357.28 829.362,1365.82 915.478,1371.3 1001.59,1375.02 1087.71,1377.64 \n",
       "  1173.83,1379.57 1259.94,1381.01 1346.06,1382.12 1432.17,1383 1518.29,1383.7 1604.41,1384.26 1690.52,1384.72 1776.64,1385.1 1862.76,1385.42 1948.87,1385.69 \n",
       "  2034.99,1385.92 2121.1,1386.11 2207.22,1386.26 2293.34,1386.4 \n",
       "  \"/>\n",
       "<path clip-path=\"url(#clip690)\" d=\"\n",
       "M1998.48 348.236 L2282.77 348.236 L2282.77 166.796 L1998.48 166.796  Z\n",
       "  \" fill=\"#ffffff\" fill-rule=\"evenodd\" fill-opacity=\"1\"/>\n",
       "<polyline clip-path=\"url(#clip690)\" style=\"stroke:#000000; stroke-width:4; stroke-opacity:1; fill:none\" points=\"\n",
       "  1998.48,348.236 2282.77,348.236 2282.77,166.796 1998.48,166.796 1998.48,348.236 \n",
       "  \"/>\n",
       "<circle clip-path=\"url(#clip690)\" cx=\"2091.79\" cy=\"227.276\" r=\"23\" fill=\"#009af9\" fill-rule=\"evenodd\" fill-opacity=\"1\" stroke=\"#000000\" stroke-opacity=\"1\" stroke-width=\"5.12\"/>\n",
       "<circle clip-path=\"url(#clip690)\" cx=\"2091.79\" cy=\"227.276\" r=\"23\" fill=\"#009af9\" fill-rule=\"evenodd\" fill-opacity=\"1\" stroke=\"#000000\" stroke-opacity=\"1\" stroke-width=\"5.12\"/>\n",
       "<circle clip-path=\"url(#clip690)\" cx=\"2091.79\" cy=\"227.276\" r=\"23\" fill=\"#009af9\" fill-rule=\"evenodd\" fill-opacity=\"1\" stroke=\"#000000\" stroke-opacity=\"1\" stroke-width=\"5.12\"/>\n",
       "<circle clip-path=\"url(#clip690)\" cx=\"2091.79\" cy=\"227.276\" r=\"23\" fill=\"#009af9\" fill-rule=\"evenodd\" fill-opacity=\"1\" stroke=\"#000000\" stroke-opacity=\"1\" stroke-width=\"5.12\"/>\n",
       "<circle clip-path=\"url(#clip690)\" cx=\"2091.79\" cy=\"227.276\" r=\"23\" fill=\"#009af9\" fill-rule=\"evenodd\" fill-opacity=\"1\" stroke=\"#000000\" stroke-opacity=\"1\" stroke-width=\"5.12\"/>\n",
       "<circle clip-path=\"url(#clip690)\" cx=\"2091.79\" cy=\"227.276\" r=\"23\" fill=\"#009af9\" fill-rule=\"evenodd\" fill-opacity=\"1\" stroke=\"#000000\" stroke-opacity=\"1\" stroke-width=\"5.12\"/>\n",
       "<circle clip-path=\"url(#clip690)\" cx=\"2091.79\" cy=\"227.276\" r=\"23\" fill=\"#009af9\" fill-rule=\"evenodd\" fill-opacity=\"1\" stroke=\"#000000\" stroke-opacity=\"1\" stroke-width=\"5.12\"/>\n",
       "<circle clip-path=\"url(#clip690)\" cx=\"2091.79\" cy=\"227.276\" r=\"23\" fill=\"#009af9\" fill-rule=\"evenodd\" fill-opacity=\"1\" stroke=\"#000000\" stroke-opacity=\"1\" stroke-width=\"5.12\"/>\n",
       "<circle clip-path=\"url(#clip690)\" cx=\"2091.79\" cy=\"227.276\" r=\"23\" fill=\"#009af9\" fill-rule=\"evenodd\" fill-opacity=\"1\" stroke=\"#000000\" stroke-opacity=\"1\" stroke-width=\"5.12\"/>\n",
       "<circle clip-path=\"url(#clip690)\" cx=\"2091.79\" cy=\"227.276\" r=\"23\" fill=\"#009af9\" fill-rule=\"evenodd\" fill-opacity=\"1\" stroke=\"#000000\" stroke-opacity=\"1\" stroke-width=\"5.12\"/>\n",
       "<circle clip-path=\"url(#clip690)\" cx=\"2091.79\" cy=\"227.276\" r=\"23\" fill=\"#009af9\" fill-rule=\"evenodd\" fill-opacity=\"1\" stroke=\"#000000\" stroke-opacity=\"1\" stroke-width=\"5.12\"/>\n",
       "<circle clip-path=\"url(#clip690)\" cx=\"2091.79\" cy=\"227.276\" r=\"23\" fill=\"#009af9\" fill-rule=\"evenodd\" fill-opacity=\"1\" stroke=\"#000000\" stroke-opacity=\"1\" stroke-width=\"5.12\"/>\n",
       "<circle clip-path=\"url(#clip690)\" cx=\"2091.79\" cy=\"227.276\" r=\"23\" fill=\"#009af9\" fill-rule=\"evenodd\" fill-opacity=\"1\" stroke=\"#000000\" stroke-opacity=\"1\" stroke-width=\"5.12\"/>\n",
       "<circle clip-path=\"url(#clip690)\" cx=\"2091.79\" cy=\"227.276\" r=\"23\" fill=\"#009af9\" fill-rule=\"evenodd\" fill-opacity=\"1\" stroke=\"#000000\" stroke-opacity=\"1\" stroke-width=\"5.12\"/>\n",
       "<circle clip-path=\"url(#clip690)\" cx=\"2091.79\" cy=\"227.276\" r=\"23\" fill=\"#009af9\" fill-rule=\"evenodd\" fill-opacity=\"1\" stroke=\"#000000\" stroke-opacity=\"1\" stroke-width=\"5.12\"/>\n",
       "<circle clip-path=\"url(#clip690)\" cx=\"2091.79\" cy=\"227.276\" r=\"23\" fill=\"#009af9\" fill-rule=\"evenodd\" fill-opacity=\"1\" stroke=\"#000000\" stroke-opacity=\"1\" stroke-width=\"5.12\"/>\n",
       "<circle clip-path=\"url(#clip690)\" cx=\"2091.79\" cy=\"227.276\" r=\"23\" fill=\"#009af9\" fill-rule=\"evenodd\" fill-opacity=\"1\" stroke=\"#000000\" stroke-opacity=\"1\" stroke-width=\"5.12\"/>\n",
       "<circle clip-path=\"url(#clip690)\" cx=\"2091.79\" cy=\"227.276\" r=\"23\" fill=\"#009af9\" fill-rule=\"evenodd\" fill-opacity=\"1\" stroke=\"#000000\" stroke-opacity=\"1\" stroke-width=\"5.12\"/>\n",
       "<circle clip-path=\"url(#clip690)\" cx=\"2091.79\" cy=\"227.276\" r=\"23\" fill=\"#009af9\" fill-rule=\"evenodd\" fill-opacity=\"1\" stroke=\"#000000\" stroke-opacity=\"1\" stroke-width=\"5.12\"/>\n",
       "<circle clip-path=\"url(#clip690)\" cx=\"2091.79\" cy=\"227.276\" r=\"23\" fill=\"#009af9\" fill-rule=\"evenodd\" fill-opacity=\"1\" stroke=\"#000000\" stroke-opacity=\"1\" stroke-width=\"5.12\"/>\n",
       "<circle clip-path=\"url(#clip690)\" cx=\"2091.79\" cy=\"227.276\" r=\"23\" fill=\"#009af9\" fill-rule=\"evenodd\" fill-opacity=\"1\" stroke=\"#000000\" stroke-opacity=\"1\" stroke-width=\"5.12\"/>\n",
       "<circle clip-path=\"url(#clip690)\" cx=\"2091.79\" cy=\"227.276\" r=\"23\" fill=\"#009af9\" fill-rule=\"evenodd\" fill-opacity=\"1\" stroke=\"#000000\" stroke-opacity=\"1\" stroke-width=\"5.12\"/>\n",
       "<circle clip-path=\"url(#clip690)\" cx=\"2091.79\" cy=\"227.276\" r=\"23\" fill=\"#009af9\" fill-rule=\"evenodd\" fill-opacity=\"1\" stroke=\"#000000\" stroke-opacity=\"1\" stroke-width=\"5.12\"/>\n",
       "<circle clip-path=\"url(#clip690)\" cx=\"2091.79\" cy=\"227.276\" r=\"23\" fill=\"#009af9\" fill-rule=\"evenodd\" fill-opacity=\"1\" stroke=\"#000000\" stroke-opacity=\"1\" stroke-width=\"5.12\"/>\n",
       "<path clip-path=\"url(#clip690)\" d=\"M 0 0 M2198.94 246.963 Q2197.14 251.593 2195.42 253.005 Q2193.71 254.417 2190.84 254.417 L2187.44 254.417 L2187.44 250.852 L2189.94 250.852 Q2191.7 250.852 2192.67 250.019 Q2193.64 249.185 2194.82 246.083 L2195.58 244.139 L2185.1 218.63 L2189.61 218.63 L2197.71 238.908 L2205.82 218.63 L2210.33 218.63 L2198.94 246.963 Z\" fill=\"#000000\" fill-rule=\"evenodd\" fill-opacity=\"1\" /><path clip-path=\"url(#clip690)\" d=\"M 0 0 M2216.21 240.621 L2223.85 240.621 L2223.85 214.255 L2215.54 215.922 L2215.54 211.662 L2223.8 209.996 L2228.48 209.996 L2228.48 240.621 L2236.12 240.621 L2236.12 244.556 L2216.21 244.556 L2216.21 240.621 Z\" fill=\"#000000\" fill-rule=\"evenodd\" fill-opacity=\"1\" /><polyline clip-path=\"url(#clip690)\" style=\"stroke:#e26f46; stroke-width:4; stroke-opacity:1; fill:none\" points=\"\n",
       "  2021.8,287.756 2161.77,287.756 \n",
       "  \"/>\n",
       "<path clip-path=\"url(#clip690)\" d=\"M 0 0 M2198.94 307.443 Q2197.14 312.073 2195.42 313.485 Q2193.71 314.897 2190.84 314.897 L2187.44 314.897 L2187.44 311.332 L2189.94 311.332 Q2191.7 311.332 2192.67 310.499 Q2193.64 309.665 2194.82 306.563 L2195.58 304.619 L2185.1 279.11 L2189.61 279.11 L2197.71 299.388 L2205.82 279.11 L2210.33 279.11 L2198.94 307.443 Z\" fill=\"#000000\" fill-rule=\"evenodd\" fill-opacity=\"1\" /><path clip-path=\"url(#clip690)\" d=\"M 0 0 M2219.43 301.101 L2235.75 301.101 L2235.75 305.036 L2213.8 305.036 L2213.8 301.101 Q2216.46 298.346 2221.05 293.716 Q2225.65 289.064 2226.83 287.721 Q2229.08 285.198 2229.96 283.462 Q2230.86 281.703 2230.86 280.013 Q2230.86 277.258 2228.92 275.522 Q2227 273.786 2223.89 273.786 Q2221.7 273.786 2219.24 274.55 Q2216.81 275.314 2214.03 276.865 L2214.03 272.142 Q2216.86 271.008 2219.31 270.429 Q2221.76 269.851 2223.8 269.851 Q2229.17 269.851 2232.37 272.536 Q2235.56 275.221 2235.56 279.712 Q2235.56 281.841 2234.75 283.763 Q2233.96 285.661 2231.86 288.253 Q2231.28 288.925 2228.18 292.142 Q2225.07 295.337 2219.43 301.101 Z\" fill=\"#000000\" fill-rule=\"evenodd\" fill-opacity=\"1\" /></svg>\n"
      ]
     },
     "execution_count": 109,
     "metadata": {},
     "output_type": "execute_result"
    }
   ],
   "source": [
    "using Plots\n",
    "scatter(rs,sim[:,2])\n",
    "plot!(rs,theo[:,2])\n",
    "title!(\"Disc collisions\")\n",
    "xlabel!(\"r\")\n",
    "ylabel!(\"mean time\")"
   ]
  },
  {
   "cell_type": "code",
   "execution_count": null,
   "metadata": {},
   "outputs": [],
   "source": [
    "scatter(rs,[s[2][1] for s in sim])\n",
    "plot!(rs,[t[2][1] for t in theo])\n",
    "title!(\"X wall collisions\")\n",
    "xlabel!(\"r\")\n",
    "ylabel!(\"mean time\")"
   ]
  },
  {
   "cell_type": "code",
   "execution_count": null,
   "metadata": {},
   "outputs": [],
   "source": [
    "scatter(rs,[s[2][3] for s in sim])\n",
    "plot!(rs,[t[2][3] for t in theo])\n",
    "title!(\"y wall collisions\")\n",
    "xlabel!(\"r\")\n",
    "ylabel!(\"mean time\")"
   ]
  },
  {
   "cell_type": "code",
   "execution_count": null,
   "metadata": {},
   "outputs": [],
   "source": [
    "scatter(rs,[s[2][5] for s in sim])\n",
    "plot!(rs,[t[2][5] for t in theo])\n",
    "title!(\"z wall collisions\")\n",
    "xlabel!(\"r\")\n",
    "ylabel!(\"mean time\")"
   ]
  },
  {
   "cell_type": "code",
   "execution_count": null,
   "metadata": {},
   "outputs": [],
   "source": [
    "scatter(rs,[s[3][1] for s in sim])\n",
    "plot!(rs,[t[3][1] for t in theo])\n",
    "title!(\"Hopping x\")\n",
    "xlabel!(\"r\")\n",
    "ylabel!(\"mean time\")"
   ]
  },
  {
   "cell_type": "code",
   "execution_count": null,
   "metadata": {},
   "outputs": [],
   "source": [
    "scatter(rs,[s[3][2] for s in sim])\n",
    "plot!(rs,[t[3][2] for t in theo])\n",
    "title!(\"Hopping y\")\n",
    "xlabel!(\"r\")\n",
    "ylabel!(\"mean time\")"
   ]
  },
  {
   "cell_type": "code",
   "execution_count": null,
   "metadata": {},
   "outputs": [],
   "source": [
    "scatter(rs,[s[3][3] for s in sim])\n",
    "plot!(rs,[t[3][3] for t in theo])\n",
    "title!(\"Hopping z\")\n",
    "xlabel!(\"r\")\n",
    "ylabel!(\"mean time\")"
   ]
  },
  {
   "cell_type": "markdown",
   "metadata": {},
   "source": [
    "A box with different dimensions"
   ]
  },
  {
   "cell_type": "code",
   "execution_count": null,
   "metadata": {},
   "outputs": [],
   "source": [
    "h1 = 1\n",
    "h2 = 2\n",
    "h3 = 3\n",
    "theo2 = broadcast(function (r)  CollisionTimesTheo(r, 3, [h1,h2,h3]) end, rs);\n",
    "sim2 = broadcast(function (r) CollisionTimesSim(r, h1, h2, h3) end , rs);"
   ]
  },
  {
   "cell_type": "code",
   "execution_count": null,
   "metadata": {},
   "outputs": [],
   "source": [
    "using Plots\n",
    "scatter(rs,[s[1] for s in sim2])\n",
    "plot!(rs,[t[1] for t in theo2])\n",
    "title!(\"Disc collisions\")\n",
    "xlabel!(\"r\")\n",
    "ylabel!(\"mean time\")"
   ]
  },
  {
   "cell_type": "code",
   "execution_count": null,
   "metadata": {},
   "outputs": [],
   "source": [
    "scatter(rs,[s[2][1] for s in sim2])\n",
    "plot!(rs,[t[2][1] for t in theo2])\n",
    "title!(\"x wall collisions\")\n",
    "xlabel!(\"r\")\n",
    "ylabel!(\"mean time\")"
   ]
  },
  {
   "cell_type": "code",
   "execution_count": null,
   "metadata": {},
   "outputs": [],
   "source": [
    "scatter(rs,[s[2][3] for s in sim2])\n",
    "plot!(rs,[t[2][3] for t in theo2])\n",
    "title!(\"y wall collisions\")\n",
    "xlabel!(\"r\")\n",
    "ylabel!(\"mean time\")"
   ]
  },
  {
   "cell_type": "code",
   "execution_count": null,
   "metadata": {},
   "outputs": [],
   "source": [
    "scatter(rs,[s[2][5] for s in sim2])\n",
    "plot!(rs,[t[2][5] for t in theo2])\n",
    "title!(\"z wall collisions\")\n",
    "xlabel!(\"r\")\n",
    "ylabel!(\"mean time\")"
   ]
  },
  {
   "cell_type": "code",
   "execution_count": null,
   "metadata": {},
   "outputs": [],
   "source": [
    "scatter(rs,[s[3][1] for s in sim2])\n",
    "plot!(rs,[t[3][1] for t in theo2])\n",
    "title!(\"Hopping x\")\n",
    "xlabel!(\"r\")\n",
    "ylabel!(\"mean time\")"
   ]
  },
  {
   "cell_type": "code",
   "execution_count": null,
   "metadata": {},
   "outputs": [],
   "source": [
    "scatter(rs,[s[3][2] for s in sim])\n",
    "plot!(rs,[t[3][2] for t in theo])\n",
    "title!(\"Hopping y\")\n",
    "xlabel!(\"r\")\n",
    "ylabel!(\"mean time\")"
   ]
  },
  {
   "cell_type": "code",
   "execution_count": null,
   "metadata": {},
   "outputs": [],
   "source": [
    "scatter(rs,[s[3][3] for s in sim2])\n",
    "plot!(rs,[t[3][3] for t in theo2])\n",
    "title!(\"Hopping z\")\n",
    "xlabel!(\"r\")\n",
    "ylabel!(\"mean time\")"
   ]
  },
  {
   "cell_type": "code",
   "execution_count": null,
   "metadata": {},
   "outputs": [],
   "source": []
  }
 ],
 "metadata": {
  "@webio": {
   "lastCommId": null,
   "lastKernelId": null
  },
  "kernelspec": {
   "display_name": "Julia 1.4.1",
   "language": "julia",
   "name": "julia-1.4"
  },
  "language_info": {
   "file_extension": ".jl",
   "mimetype": "application/julia",
   "name": "julia",
   "version": "1.4.1"
  }
 },
 "nbformat": 4,
 "nbformat_minor": 4
}
