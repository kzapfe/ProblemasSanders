{
 "cells": [
  {
   "cell_type": "code",
   "execution_count": null,
   "metadata": {},
   "outputs": [],
   "source": [
    "using SpecialFunctions, IterTools, HardSphereDynamics"
   ]
  },
  {
   "cell_type": "markdown",
   "metadata": {},
   "source": [
    "Aqui abajo Rosa define todos los resultados téoricos para cualquier número de dimensiones, siempre\n",
    "que no haya \"sombras prohibidas\" (es decir, que las bolas siempre quepan unas al lado de otras)."
   ]
  },
  {
   "cell_type": "code",
   "execution_count": 1,
   "metadata": {},
   "outputs": [
    {
     "data": {
      "text/plain": [
       "CollisionTimesTheo (generic function with 3 methods)"
      ]
     },
     "execution_count": 1,
     "metadata": {},
     "output_type": "execute_result"
    }
   ],
   "source": [
    "\n",
    "function SphereArea(n)\n",
    "    return 2*(pi^(n/2))/gamma(n/2)\n",
    "end\n",
    "\n",
    "function NormalizationFactor(n, balls=2)\n",
    "    d = 2*n\n",
    "    return SphereArea(d)/SphereArea(d-1)*(d-1)\n",
    "end\n",
    "\n",
    "function Ak(boxdims,m)\n",
    "    result = 0\n",
    "    for aks in subsets(boxdims, m)\n",
    "        result += prod(aks)\n",
    "    end\n",
    "    return result\n",
    "end\n",
    "\n",
    "function AvailableVolume(n, boxdims, r)\n",
    "    vol = prod((2*boxdims).^2)\n",
    "    for k in 0:n\n",
    "        vol -= (4^n)*(pi)^(n/2-k/2)*r^(k+n)/gamma(k/2+n/2+1)*Ak(boxdims, n-k)*(-1)^k\n",
    "    end\n",
    "    return vol\n",
    "end\n",
    "\n",
    "function SphereCollisionArea(n, boxdims, r)\n",
    "    area = 0 \n",
    "    for k in 0:n\n",
    "        area += 2^(2*n+1/2)*(pi^(n/2-k/2))*(r^(k+n-1))/gamma(k/2+n/2)*Ak(boxdims, n-k)*(-1)^k\n",
    "    end\n",
    "    return area\n",
    "end\n",
    "\n",
    "function WallCollisionArea(n, boxdims, r, dim)\n",
    "    otherboxdims = deleteat!(copy(boxdims),dim)\n",
    "    area = prod((2*otherboxdims).^2)*(2*boxdims[dim])\n",
    "    for k in 0:(n-1)\n",
    "        area -= 2^(2*n-2)*(pi^(n/2 - k/2))*(r^(k+n))/gamma(k/2+n/2+1)*(-1)^k*Ak(otherboxdims, n-1-k)\n",
    "    end\n",
    "    return area\n",
    "end\n",
    "\n",
    "function SphereCollisionTime(n, boxdimsh, r)\n",
    "    boxdimsa = boxdimsh/2 .- r \n",
    "    return NormalizationFactor(n)*AvailableVolume(n, boxdimsa, r)/SphereCollisionArea(n, boxdimsa, r)\n",
    "end\n",
    "\n",
    "function WallCollisionTime(n, boxdimsh, r, dim)\n",
    "    boxdimsa = boxdimsh/2 .- r \n",
    "    return NormalizationFactor(n)*AvailableVolume(n, boxdimsa, r)/WallCollisionArea(n, boxdimsa, r, dim)\n",
    "end\n",
    "    \n",
    "function HoppingCollisionTime(n, boxdimsh, r, dim)\n",
    "    boxdimsa = boxdimsh/2 .- r \n",
    "    otherboxdims = deleteat!(copy(boxdimsa),dim)\n",
    "    return  NormalizationFactor(n)*AvailableVolume(n, boxdimsa, r)/AvailableVolume(n-1, otherboxdims, r)/2^(2.5)/boxdimsa[dim]\n",
    "end\n",
    "\n",
    "function CollisionTimesTheo(r, n=3, boxdimsh = [1.0, 1.5, 1.75])\n",
    "    wall_times = []\n",
    "    hop_times = []\n",
    "    for dim in 1:n\n",
    "        w = WallCollisionTime(n, boxdimsh, r, dim)\n",
    "        push!(wall_times, w, w)\n",
    "        push!(hop_times, HoppingCollisionTime(n, boxdimsh, r, dim))\n",
    "    end\n",
    "    return SphereCollisionTime(n, boxdimsh, r), wall_times, hop_times\n",
    "end"
   ]
  },
  {
   "cell_type": "markdown",
   "metadata": {},
   "source": [
    "Aqui Rosa hace la numerica \"hard core\""
   ]
  },
  {
   "cell_type": "code",
   "execution_count": 13,
   "metadata": {},
   "outputs": [
    {
     "name": "stdout",
     "output_type": "stream",
     "text": [
      "search: \u001b[0m\u001b[1mA\u001b[22m\u001b[0m\u001b[1ml\u001b[22m\u001b[0m\u001b[1ml\u001b[22m\u001b[0m\u001b[1mT\u001b[22m\u001b[0m\u001b[1mo\u001b[22m\u001b[0m\u001b[1mA\u001b[22m\u001b[0m\u001b[1ml\u001b[22m\u001b[0m\u001b[1ml\u001b[22m t\u001b[0m\u001b[1ma\u001b[22msk_\u001b[0m\u001b[1ml\u001b[22moca\u001b[0m\u001b[1ml\u001b[22m_s\u001b[0m\u001b[1mt\u001b[22m\u001b[0m\u001b[1mo\u001b[22mr\u001b[0m\u001b[1ma\u001b[22mge\n",
      "\n"
     ]
    },
    {
     "data": {
      "text/latex": [
       "No documentation found.\n",
       "\n",
       "\\texttt{HardSphereDynamics.AllToAll} is of type \\texttt{UnionAll}.\n",
       "\n",
       "\\section{Summary}\n",
       "\\begin{verbatim}\n",
       "struct UnionAll <: Type{T}\n",
       "\\end{verbatim}\n",
       "\\section{Fields}\n",
       "\\begin{verbatim}\n",
       "var  :: TypeVar\n",
       "body :: Any\n",
       "\\end{verbatim}\n",
       "\\section{Supertype Hierarchy}\n",
       "\\begin{verbatim}\n",
       "UnionAll <: Type{T} <: Any\n",
       "\\end{verbatim}\n"
      ],
      "text/markdown": [
       "No documentation found.\n",
       "\n",
       "`HardSphereDynamics.AllToAll` is of type `UnionAll`.\n",
       "\n",
       "# Summary\n",
       "\n",
       "```\n",
       "struct UnionAll <: Type{T}\n",
       "```\n",
       "\n",
       "# Fields\n",
       "\n",
       "```\n",
       "var  :: TypeVar\n",
       "body :: Any\n",
       "```\n",
       "\n",
       "# Supertype Hierarchy\n",
       "\n",
       "```\n",
       "UnionAll <: Type{T} <: Any\n",
       "```\n"
      ],
      "text/plain": [
       "  No documentation found.\n",
       "\n",
       "  \u001b[36mHardSphereDynamics.AllToAll\u001b[39m is of type \u001b[36mUnionAll\u001b[39m.\n",
       "\n",
       "\u001b[1m  Summary\u001b[22m\n",
       "\u001b[1m  ≡≡≡≡≡≡≡≡≡\u001b[22m\n",
       "\n",
       "\u001b[36m  struct UnionAll <: Type{T}\u001b[39m\n",
       "\n",
       "\u001b[1m  Fields\u001b[22m\n",
       "\u001b[1m  ≡≡≡≡≡≡≡≡\u001b[22m\n",
       "\n",
       "\u001b[36m  var  :: TypeVar\u001b[39m\n",
       "\u001b[36m  body :: Any\u001b[39m\n",
       "\n",
       "\u001b[1m  Supertype Hierarchy\u001b[22m\n",
       "\u001b[1m  ≡≡≡≡≡≡≡≡≡≡≡≡≡≡≡≡≡≡≡≡≡\u001b[22m\n",
       "\n",
       "\u001b[36m  UnionAll <: Type{T} <: Any\u001b[39m"
      ]
     },
     "execution_count": 13,
     "metadata": {},
     "output_type": "execute_result"
    }
   ],
   "source": [
    "?AllToAll"
   ]
  },
  {
   "cell_type": "code",
   "execution_count": 2,
   "metadata": {},
   "outputs": [
    {
     "data": {
      "text/plain": [
       "CollisionTimesSim (generic function with 5 methods)"
      ]
     },
     "execution_count": 2,
     "metadata": {},
     "output_type": "execute_result"
    }
   ],
   "source": [
    "using Parameters, Statistics, HardSphereDynamics, StaticArrays\n",
    "\n",
    "function BallsRelativeSign(state)\n",
    "    b1, b2 = state\n",
    "    return broadcast(sign, b1.x - b2.x)\n",
    "end\n",
    "\n",
    "function mean_interval(times)\n",
    "    return mean(diff(times))\n",
    "end\n",
    "\n",
    "h1 = 1.0\n",
    "h2 = 1.5\n",
    "h3 = 1.75\n",
    "r = 0.1\n",
    "\n",
    "function CollisionTimesSim(r, h1 = 1.0, h2 = 1.5, h3 = 1.75 ,num_collisions = 10^7)\n",
    "    table = HardSphereDynamics.RectangularBox(SA[-h1/2, -h2/2, -h3/2],\n",
    "                                              SA[+h1/2, +h2/2, +h3/2])\n",
    "\n",
    "    n = 3\n",
    "    spheres = 2\n",
    "    fluid = HardSphereFluid{n,Float64}(table, spheres, r)\n",
    "    initial_condition!(fluid.balls, table)\n",
    "\n",
    "    # set up simulation:\n",
    "    collision_type = ElasticCollision()\n",
    "    flow_type = ExternalFieldFlow(SA[0.0, 0.0, 0.0])\n",
    "    event_handler = AllToAll(fluid, flow_type)\n",
    "\n",
    "    simulation =  HardSphereSimulation(\n",
    "        fluid, event_handler, flow_type, collision_type);\n",
    "\n",
    "    @unpack fluid, flow_dynamics, collision_dynamics, event_handler = simulation\n",
    "    states = [deepcopy(fluid.balls)]\n",
    "    times = [0.0]\n",
    "    collision_types = [:none]\n",
    "    partner2 = [0] \n",
    "    partner1 = [0]\n",
    "    hopping_times = []\n",
    "    hopping_directions = []\n",
    "    for i in 1:num_collisions\n",
    "        HardSphereDynamics.flow!(fluid.balls, (event_handler.next_collision_time - simulation.current_time), \n",
    "            flow_dynamics)\n",
    "        simulation.current_time = event_handler.next_collision_time\n",
    "        push!(collision_types, event_handler.collision_type)\n",
    "        push!(partner2, event_handler.partner2)\n",
    "        push!(partner1, event_handler.partner1)\n",
    "        HardSphereDynamics.collide!(fluid, event_handler, collision_dynamics)\n",
    "        HardSphereDynamics.find_collision!(event_handler, fluid, flow_dynamics)\n",
    "        push!(states, deepcopy(fluid.balls))\n",
    "        push!(times, simulation.current_time)\n",
    "        prev, current = states[i:i+1]\n",
    "        signprev, signcurrent = broadcast(BallsRelativeSign,[prev, current])\n",
    "        if any(signprev .!= signcurrent)\n",
    "            b1, b2 = states[i]\n",
    "            start_time, final_time = times[i:i+1]\n",
    "            hop_times = start_time .+( b1.x - b2.x)./(b2.v - b1.v)\n",
    "            for (dir, time) in enumerate(hop_times)\n",
    "                if all([time>=start_time, time<=final_time])\n",
    "                    push!(hopping_times, time)\n",
    "                    push!(hopping_directions, dir)\n",
    "                end\n",
    "            end\n",
    "        end\n",
    "    end\n",
    "    wall_idx = (collision_types.== :wall_collision).&(partner1.== 1)\n",
    "    wall_times = times[wall_idx];\n",
    "    which_wall = partner2[wall_idx];\n",
    "    wall_means = []\n",
    "    for i in 1:length(fluid.box.walls)\n",
    "        push!(wall_means,mean_interval(wall_times[which_wall .== i]))\n",
    "    end\n",
    "    hop_means = []\n",
    "    for i in 1:n\n",
    "        push!(hop_means, mean_interval(hopping_times[hopping_directions .== i]))\n",
    "    end\n",
    "    return mean_interval(times[collision_types.== :disc_collision]), wall_means, hop_means\n",
    "end"
   ]
  },
  {
   "cell_type": "code",
   "execution_count": 6,
   "metadata": {},
   "outputs": [
    {
     "data": {
      "text/plain": [
       "8.6"
      ]
     },
     "execution_count": 6,
     "metadata": {},
     "output_type": "execute_result"
    }
   ],
   "source": [
    "129*24/60*10/60"
   ]
  },
  {
   "cell_type": "code",
   "execution_count": 4,
   "metadata": {
    "scrolled": true
   },
   "outputs": [
    {
     "name": "stdout",
     "output_type": "stream",
     "text": [
      "128.881214 seconds (312.93 M allocations: 17.068 GiB, 28.92% gc time)\n"
     ]
    },
    {
     "data": {
      "text/plain": [
       "(2087.4676667653957, Any[5.70341596727526, 5.70354897032022, 8.93465853987921, 8.934912745983347, 10.434211649907011, 10.434076459882764], Any[2.016412006099097, 3.0909948732037926, 3.619374802197682])"
      ]
     },
     "execution_count": 4,
     "metadata": {},
     "output_type": "execute_result"
    }
   ],
   "source": [
    "@time CollisionTimesSim(0.01)"
   ]
  },
  {
   "cell_type": "code",
   "execution_count": null,
   "metadata": {},
   "outputs": [],
   "source": [
    "CollisionTimesTheo(0.01)"
   ]
  },
  {
   "cell_type": "code",
   "execution_count": null,
   "metadata": {},
   "outputs": [],
   "source": [
    "rs = 0.01:0.01:0.24\n",
    "theo = broadcast(CollisionTimesTheo, rs);\n",
    "sim = broadcast(CollisionTimesSim, rs);"
   ]
  },
  {
   "cell_type": "code",
   "execution_count": null,
   "metadata": {},
   "outputs": [],
   "source": [
    "using JLD"
   ]
  },
  {
   "cell_type": "code",
   "execution_count": null,
   "metadata": {},
   "outputs": [],
   "source": [
    "nota=\"Se usaron las medidas de la caja h1=$h1, h2=$h2, h3=$h3, y se tomaron 10^7 eventos de la simulacion.\"\n",
    "otranota=\"los radios fueron de 0.1 a 0.24 en pasos de 0.01\"\n",
    "\n",
    "onde=\"simulaRosa20201215-1646.jld\"\n",
    "\n",
    "save(onde, \"teoricas\" , theo, \"numericas\", sim, \"radios\", rs, \"nota01\", nota, \"nota02\", otranota)"
   ]
  },
  {
   "cell_type": "code",
   "execution_count": null,
   "metadata": {},
   "outputs": [],
   "source": [
    "using Plots\n",
    "scatter(rs,[s[1] for s in sim])\n",
    "plot!(rs,[t[1] for t in theo])\n",
    "title!(\"Disc collisions\")\n",
    "xlabel!(\"r\")\n",
    "ylabel!(\"mean time\")"
   ]
  },
  {
   "cell_type": "code",
   "execution_count": null,
   "metadata": {},
   "outputs": [],
   "source": [
    "scatter(rs,[s[2][1] for s in sim])\n",
    "plot!(rs,[t[2][1] for t in theo])\n",
    "title!(\"X wall collisions\")\n",
    "xlabel!(\"r\")\n",
    "ylabel!(\"mean time\")"
   ]
  },
  {
   "cell_type": "code",
   "execution_count": null,
   "metadata": {},
   "outputs": [],
   "source": [
    "scatter(rs,[s[2][3] for s in sim])\n",
    "plot!(rs,[t[2][3] for t in theo])\n",
    "title!(\"y wall collisions\")\n",
    "xlabel!(\"r\")\n",
    "ylabel!(\"mean time\")"
   ]
  },
  {
   "cell_type": "code",
   "execution_count": null,
   "metadata": {},
   "outputs": [],
   "source": [
    "scatter(rs,[s[2][5] for s in sim])\n",
    "plot!(rs,[t[2][5] for t in theo])\n",
    "title!(\"z wall collisions\")\n",
    "xlabel!(\"r\")\n",
    "ylabel!(\"mean time\")"
   ]
  },
  {
   "cell_type": "code",
   "execution_count": null,
   "metadata": {},
   "outputs": [],
   "source": [
    "scatter(rs,[s[3][1] for s in sim])\n",
    "plot!(rs,[t[3][1] for t in theo])\n",
    "title!(\"Hopping x\")\n",
    "xlabel!(\"r\")\n",
    "ylabel!(\"mean time\")"
   ]
  },
  {
   "cell_type": "code",
   "execution_count": null,
   "metadata": {},
   "outputs": [],
   "source": [
    "scatter(rs,[s[3][2] for s in sim])\n",
    "plot!(rs,[t[3][2] for t in theo])\n",
    "title!(\"Hopping y\")\n",
    "xlabel!(\"r\")\n",
    "ylabel!(\"mean time\")"
   ]
  },
  {
   "cell_type": "code",
   "execution_count": null,
   "metadata": {},
   "outputs": [],
   "source": [
    "scatter(rs,[s[3][3] for s in sim])\n",
    "plot!(rs,[t[3][3] for t in theo])\n",
    "title!(\"Hopping z\")\n",
    "xlabel!(\"r\")\n",
    "ylabel!(\"mean time\")"
   ]
  },
  {
   "cell_type": "markdown",
   "metadata": {},
   "source": [
    "A box with different dimensions"
   ]
  },
  {
   "cell_type": "code",
   "execution_count": null,
   "metadata": {},
   "outputs": [],
   "source": [
    "h1 = 1\n",
    "h2 = 2\n",
    "h3 = 3\n",
    "theo2 = broadcast(function (r)  CollisionTimesTheo(r, 3, [h1,h2,h3]) end, rs);\n",
    "sim2 = broadcast(function (r) CollisionTimesSim(r, h1, h2, h3) end , rs);"
   ]
  },
  {
   "cell_type": "code",
   "execution_count": null,
   "metadata": {},
   "outputs": [],
   "source": [
    "using Plots\n",
    "scatter(rs,[s[1] for s in sim2])\n",
    "plot!(rs,[t[1] for t in theo2])\n",
    "title!(\"Disc collisions\")\n",
    "xlabel!(\"r\")\n",
    "ylabel!(\"mean time\")"
   ]
  },
  {
   "cell_type": "code",
   "execution_count": null,
   "metadata": {},
   "outputs": [],
   "source": [
    "scatter(rs,[s[2][1] for s in sim2])\n",
    "plot!(rs,[t[2][1] for t in theo2])\n",
    "title!(\"x wall collisions\")\n",
    "xlabel!(\"r\")\n",
    "ylabel!(\"mean time\")"
   ]
  },
  {
   "cell_type": "code",
   "execution_count": null,
   "metadata": {},
   "outputs": [],
   "source": [
    "scatter(rs,[s[2][3] for s in sim2])\n",
    "plot!(rs,[t[2][3] for t in theo2])\n",
    "title!(\"y wall collisions\")\n",
    "xlabel!(\"r\")\n",
    "ylabel!(\"mean time\")"
   ]
  },
  {
   "cell_type": "code",
   "execution_count": null,
   "metadata": {},
   "outputs": [],
   "source": [
    "scatter(rs,[s[2][5] for s in sim2])\n",
    "plot!(rs,[t[2][5] for t in theo2])\n",
    "title!(\"z wall collisions\")\n",
    "xlabel!(\"r\")\n",
    "ylabel!(\"mean time\")"
   ]
  },
  {
   "cell_type": "code",
   "execution_count": null,
   "metadata": {},
   "outputs": [],
   "source": [
    "scatter(rs,[s[3][1] for s in sim2])\n",
    "plot!(rs,[t[3][1] for t in theo2])\n",
    "title!(\"Hopping x\")\n",
    "xlabel!(\"r\")\n",
    "ylabel!(\"mean time\")"
   ]
  },
  {
   "cell_type": "code",
   "execution_count": null,
   "metadata": {},
   "outputs": [],
   "source": [
    "scatter(rs,[s[3][2] for s in sim])\n",
    "plot!(rs,[t[3][2] for t in theo])\n",
    "title!(\"Hopping y\")\n",
    "xlabel!(\"r\")\n",
    "ylabel!(\"mean time\")"
   ]
  },
  {
   "cell_type": "code",
   "execution_count": null,
   "metadata": {},
   "outputs": [],
   "source": [
    "scatter(rs,[s[3][3] for s in sim2])\n",
    "plot!(rs,[t[3][3] for t in theo2])\n",
    "title!(\"Hopping z\")\n",
    "xlabel!(\"r\")\n",
    "ylabel!(\"mean time\")"
   ]
  },
  {
   "cell_type": "code",
   "execution_count": null,
   "metadata": {},
   "outputs": [],
   "source": []
  }
 ],
 "metadata": {
  "@webio": {
   "lastCommId": null,
   "lastKernelId": null
  },
  "kernelspec": {
   "display_name": "Julia 1.4.1",
   "language": "julia",
   "name": "julia-1.4"
  },
  "language_info": {
   "file_extension": ".jl",
   "mimetype": "application/julia",
   "name": "julia",
   "version": "1.4.1"
  }
 },
 "nbformat": 4,
 "nbformat_minor": 4
}
