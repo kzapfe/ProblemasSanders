{
 "cells": [
  {
   "cell_type": "markdown",
   "metadata": {},
   "source": [
    "# Two Disks in a Rectangular Box: mean first event times.\n",
    "\n",
    "Here are the simulations and calculations, numerical vs. analytical, of the mean first times and their distributions, for a series of interesting events, namely, hopping, crashing and wall-hitting.\n",
    "\n",
    "The external file contains all the routines for initial conditions and dynamic rules.\n",
    "\n"
   ]
  },
  {
   "cell_type": "code",
   "execution_count": 1,
   "metadata": {},
   "outputs": [
    {
     "name": "stderr",
     "output_type": "stream",
     "text": [
      "\u001b[1m\u001b[36mINFO: \u001b[39m\u001b[22m\u001b[36mRecompiling stale cache file /home/karel/.julia/lib/v0.6/Distributions.ji for module Distributions.\n",
      "\u001b[39m"
     ]
    },
    {
     "data": {
      "text/plain": [
       "dynamics"
      ]
     },
     "execution_count": 1,
     "metadata": {},
     "output_type": "execute_result"
    }
   ],
   "source": [
    "include(\"discs_in_box.jl\")"
   ]
  },
  {
   "cell_type": "code",
   "execution_count": 34,
   "metadata": {},
   "outputs": [
    {
     "data": {
      "text/plain": [
       "Plots.GRBackend()"
      ]
     },
     "execution_count": 34,
     "metadata": {},
     "output_type": "execute_result"
    }
   ],
   "source": [
    "#auxiliary libs for ploting\n",
    "using Plots, Interact\n",
    "gr(fmt=\"png\", size=(640,480))"
   ]
  },
  {
   "cell_type": "code",
   "execution_count": 4,
   "metadata": {},
   "outputs": [
    {
     "name": "stdout",
     "output_type": "stream",
     "text": [
      "  2.985430 seconds (13.86 M allocations: 1006.886 MiB, 76.56% gc time)\n"
     ]
    }
   ],
   "source": [
    "# A small test. w is widht, h height, r is radius for both discs.\n",
    "w, h = 1.5, 1\n",
    "r = 0.24\n",
    "\n",
    "#= dynamics returns a tuple of results, in which we have the timestamp of an event, the position of the center\n",
    "oof the discs, the velocites of each disc and the collition type according to following code:\n",
    "+1/-1 -> disc one hits right/left wall\n",
    "+2/-2 -> disc one hits top/bottom wall\n",
    "+3/-3  -> disc two hits right/left wall\n",
    "+4/-4 -> disc two hits top/bottom wall.\n",
    "5 -> discs collide.\n",
    "=#\n",
    "@time times, positions, velocities, collision_types = dynamics(w, h, r, 1000000);"
   ]
  },
  {
   "cell_type": "code",
   "execution_count": 5,
   "metadata": {},
   "outputs": [
    {
     "name": "stdout",
     "output_type": "stream",
     "text": [
      "[1.0, 1.0, 1.0, 1.0, 1.0, 1.0, 1.0, 1.0, 1.0, 1.0, 1.0, 1.0, 1.0, 1.0, 1.0, 1.0, 1.0, 1.0, 1.0, 1.0, 1.0, 1.0, 1.0, 1.0, 1.0, 1.0, 1.0, 1.0, 1.0, 1.0, 1.0, 1.0, 1.0, 1.0, 1.0, 1.0, 1.0, 1.0, 1.0, 1.0, 1.0, 1.0, 1.0, 1.0, 1.0, 1.0, 1.0, 1.0, 1.0, 1.0, 1.0, 1.0, 1.0, 1.0, 1.0, 1.0, 1.0, 1.0, 1.0, 1.0, 1.0, 1.0, 1.0, 1.0, 1.0, 1.0, 1.0, 1.0, 1.0, 1.0, 1.0, 1.0, 1.0, 1.0, 1.0, 1.0, 1.0, 1.0, 1.0, 1.0, 1.0, 1.0, 1.0, 1.0, 1.0, 1.0, 1.0, 1.0, 1.0, 1.0, 1.0, 1.0, 1.0, 1.0, 1.0, 1.0, 1.0, 1.0, 1.0, 1.0]"
     ]
    }
   ],
   "source": [
    "showall(norm.(velocities)[1:100]) #Sanity Check"
   ]
  },
  {
   "cell_type": "code",
   "execution_count": 6,
   "metadata": {},
   "outputs": [
    {
     "name": "stdout",
     "output_type": "stream",
     "text": [
      "[-2, 1, -4, -3, 2, 5, 4, -3, -4, -2, 4, 1, 5, -4, 2, 4, -2, -4, 1, 4, 2, -4, 5, 1, 4, -2, -3, 5, -3, -4, 1, 5, 1, 2, -3, 5, -3, -4, 1, 5, 2, -4, 5, 1, -4, -3, 5, -2, -3, 1, 5, 2, -4, 1, -2, 2, -3, 4, -2, 5, 2, -2, -4, -3, 2, -2, 4, 2, 1, -2, 2, -4, 5, -2, 1, 2, -3, -2, 4, 5, 2, -3, 1, -2, 5, 1, -3, 4, 5, 4, -3, 1, -2, 5, 1, -3, -4, 2, 5, 2]"
     ]
    }
   ],
   "source": [
    "showall(collision_types[1:100])#Sanity Check"
   ]
  },
  {
   "cell_type": "markdown",
   "metadata": {},
   "source": [
    "The function `dynamics` returns data on the collisions that have occurred."
   ]
  },
  {
   "cell_type": "code",
   "execution_count": 7,
   "metadata": {},
   "outputs": [
    {
     "data": {
      "text/plain": [
       "draw_disc! (generic function with 1 method)"
      ]
     },
     "execution_count": 7,
     "metadata": {},
     "output_type": "execute_result"
    }
   ],
   "source": [
    "function draw_disc!(x, y, r)\n",
    "    θs = [0:0.1:2π; 0]\n",
    "    xs = [x + r*cos(θ) for θ in θs]\n",
    "    ys = [y + r*sin(θ) for θ in θs]\n",
    "    \n",
    "    plot!(xs, ys)\n",
    "end"
   ]
  },
  {
   "cell_type": "code",
   "execution_count": 8,
   "metadata": {},
   "outputs": [
    {
     "data": {
      "text/html": [
       "<div class='tex2jax_ignore interactbulma'>\n",
       "<div class='display:none'></div><unsafe-script style='display:none'>\n",
       "WebIO.mount(this.previousSibling,{&quot;props&quot;:{},&quot;nodeType&quot;:&quot;DOM&quot;,&quot;type&quot;:&quot;node&quot;,&quot;instanceArgs&quot;:{&quot;namespace&quot;:&quot;html&quot;,&quot;tag&quot;:&quot;div&quot;},&quot;children&quot;:[{&quot;props&quot;:{&quot;className&quot;:&quot;field&quot;},&quot;nodeType&quot;:&quot;DOM&quot;,&quot;type&quot;:&quot;node&quot;,&quot;instanceArgs&quot;:{&quot;namespace&quot;:&quot;html&quot;,&quot;tag&quot;:&quot;div&quot;},&quot;children&quot;:[{&quot;props&quot;:{},&quot;nodeType&quot;:&quot;Scope&quot;,&quot;type&quot;:&quot;node&quot;,&quot;instanceArgs&quot;:{&quot;imports&quot;:{&quot;data&quot;:[{&quot;name&quot;:&quot;knockout&quot;,&quot;type&quot;:&quot;js&quot;,&quot;url&quot;:&quot;/assetserver/33928e1aed30d89d62d7c677a29c48030b843713-knockout.js&quot;},{&quot;name&quot;:&quot;knockout_punches&quot;,&quot;type&quot;:&quot;js&quot;,&quot;url&quot;:&quot;/assetserver/a6a861ddb40afa54c8010a085115f24fe6824a8d-knockout_punches.js&quot;},{&quot;name&quot;:null,&quot;type&quot;:&quot;js&quot;,&quot;url&quot;:&quot;/assetserver/9d0bd2e9cc05029f0e2c91566a118d7d8a2001de-all.js&quot;},{&quot;name&quot;:null,&quot;type&quot;:&quot;css&quot;,&quot;url&quot;:&quot;/assetserver/01654aa2c0d844f9a30c2a23bee81086f5ad06bf-style.css&quot;},{&quot;name&quot;:null,&quot;type&quot;:&quot;css&quot;,&quot;url&quot;:&quot;/assetserver/2e921a17e9d70f0ab81b786641ce440394b65828-main.css&quot;}],&quot;type&quot;:&quot;async_block&quot;},&quot;id&quot;:&quot;knockout-component-1ac5d06f-11e1-40f1-a71f-978684c32a41&quot;,&quot;handlers&quot;:{&quot;_promises&quot;:{&quot;importsLoaded&quot;:[function (ko, koPunches) {\n",
       "    ko.punches.enableAll();\n",
       "    ko.bindingHandlers.numericValue = {\n",
       "        init : function(element, valueAccessor, allBindings, data, context) {\n",
       "            var stringified = ko.observable(ko.unwrap(valueAccessor()));\n",
       "            stringified.subscribe(function(value) {\n",
       "                var val = parseFloat(value);\n",
       "                if (!isNaN(val)) {\n",
       "                    valueAccessor()(val);\n",
       "                }\n",
       "            })\n",
       "            valueAccessor().subscribe(function(value) {\n",
       "                var str = JSON.stringify(value);\n",
       "                if ((str == &quot;0&quot;) &amp;&amp; ([&quot;-0&quot;, &quot;-0.&quot;].indexOf(stringified()) &gt;= 0))\n",
       "                     return;\n",
       "                 if ([&quot;null&quot;, &quot;&quot;].indexOf(str) &gt;= 0)\n",
       "                     return;\n",
       "                stringified(str);\n",
       "            })\n",
       "            ko.applyBindingsToNode(element, { value: stringified, valueUpdate: allBindings.get(&#39;valueUpdate&#39;)}, context);\n",
       "        }\n",
       "    };\n",
       "    var json_data = JSON.parse(&quot;{\\&quot;changes\\&quot;:0,\\&quot;value\\&quot;:1}&quot;);\n",
       "    var self = this;\n",
       "    function AppViewModel() {\n",
       "        for (var key in json_data) {\n",
       "            var el = json_data[key];\n",
       "            this[key] = Array.isArray(el) ? ko.observableArray(el) : ko.observable(el);\n",
       "        }\n",
       "        \n",
       "        [this[&quot;displayedvalue&quot;]=ko.computed(function () {return this.value();},this)]\n",
       "        [this[&quot;changes&quot;].subscribe((function (val){!(this.valueFromJulia[&quot;changes&quot;]) ? (WebIO.setval({&quot;name&quot;:&quot;changes&quot;,&quot;scope&quot;:&quot;knockout-component-1ac5d06f-11e1-40f1-a71f-978684c32a41&quot;,&quot;id&quot;:&quot;ob_02&quot;,&quot;type&quot;:&quot;observable&quot;},val)) : undefined; return this.valueFromJulia[&quot;changes&quot;]=false}),self),this[&quot;value&quot;].subscribe((function (val){!(this.valueFromJulia[&quot;value&quot;]) ? (WebIO.setval({&quot;name&quot;:&quot;value&quot;,&quot;scope&quot;:&quot;knockout-component-1ac5d06f-11e1-40f1-a71f-978684c32a41&quot;,&quot;id&quot;:&quot;ob_01&quot;,&quot;type&quot;:&quot;observable&quot;},val)) : undefined; return this.valueFromJulia[&quot;value&quot;]=false}),self)]\n",
       "        \n",
       "    }\n",
       "    self.model = new AppViewModel();\n",
       "    self.valueFromJulia = {};\n",
       "    for (var key in json_data) {\n",
       "        self.valueFromJulia[key] = false;\n",
       "    }\n",
       "    ko.applyBindings(self.model, self.dom);\n",
       "}\n",
       "]},&quot;changes&quot;:[(function (val){return (val!=this.model[&quot;changes&quot;]()) ? (this.valueFromJulia[&quot;changes&quot;]=true, this.model[&quot;changes&quot;](val)) : undefined})],&quot;value&quot;:[(function (val){return (val!=this.model[&quot;value&quot;]()) ? (this.valueFromJulia[&quot;value&quot;]=true, this.model[&quot;value&quot;](val)) : undefined})]},&quot;systemjs_options&quot;:null,&quot;observables&quot;:{&quot;changes&quot;:{&quot;sync&quot;:false,&quot;id&quot;:&quot;ob_02&quot;,&quot;value&quot;:0},&quot;value&quot;:{&quot;sync&quot;:true,&quot;id&quot;:&quot;ob_01&quot;,&quot;value&quot;:1}}},&quot;children&quot;:[{&quot;props&quot;:{&quot;attributes&quot;:{&quot;style&quot;:&quot;display:flex; justify-content:center; align-items:center;&quot;}},&quot;nodeType&quot;:&quot;DOM&quot;,&quot;type&quot;:&quot;node&quot;,&quot;instanceArgs&quot;:{&quot;namespace&quot;:&quot;html&quot;,&quot;tag&quot;:&quot;div&quot;},&quot;children&quot;:[{&quot;props&quot;:{&quot;attributes&quot;:{&quot;style&quot;:&quot;text-align:right;width:18%&quot;}},&quot;nodeType&quot;:&quot;DOM&quot;,&quot;type&quot;:&quot;node&quot;,&quot;instanceArgs&quot;:{&quot;namespace&quot;:&quot;html&quot;,&quot;tag&quot;:&quot;div&quot;},&quot;children&quot;:[{&quot;props&quot;:{&quot;className&quot;:&quot;interact &quot;,&quot;style&quot;:{&quot;padding&quot;:&quot;5px 10px 0px 10px&quot;}},&quot;nodeType&quot;:&quot;DOM&quot;,&quot;type&quot;:&quot;node&quot;,&quot;instanceArgs&quot;:{&quot;namespace&quot;:&quot;html&quot;,&quot;tag&quot;:&quot;label&quot;},&quot;children&quot;:[&quot;&quot;]}]},{&quot;props&quot;:{&quot;attributes&quot;:{&quot;style&quot;:&quot;flex-grow:1; margin: 0 2%&quot;}},&quot;nodeType&quot;:&quot;DOM&quot;,&quot;type&quot;:&quot;node&quot;,&quot;instanceArgs&quot;:{&quot;namespace&quot;:&quot;html&quot;,&quot;tag&quot;:&quot;div&quot;},&quot;children&quot;:[{&quot;props&quot;:{&quot;max&quot;:1000000,&quot;min&quot;:1,&quot;attributes&quot;:{&quot;type&quot;:&quot;range&quot;,&quot;data-bind&quot;:&quot;numericValue: value, valueUpdate: &#39;input&#39;, event: {change : function () {this.changes(this.changes()+1)}}&quot;},&quot;step&quot;:1,&quot;className&quot;:&quot;slider slider is-fullwidth&quot;,&quot;style&quot;:{}},&quot;nodeType&quot;:&quot;DOM&quot;,&quot;type&quot;:&quot;node&quot;,&quot;instanceArgs&quot;:{&quot;namespace&quot;:&quot;html&quot;,&quot;tag&quot;:&quot;input&quot;},&quot;children&quot;:[]}]},{&quot;props&quot;:{&quot;attributes&quot;:{&quot;style&quot;:&quot;width:18%&quot;}},&quot;nodeType&quot;:&quot;DOM&quot;,&quot;type&quot;:&quot;node&quot;,&quot;instanceArgs&quot;:{&quot;namespace&quot;:&quot;html&quot;,&quot;tag&quot;:&quot;div&quot;},&quot;children&quot;:[{&quot;props&quot;:{&quot;attributes&quot;:{&quot;data-bind&quot;:&quot;text: displayedvalue&quot;}},&quot;nodeType&quot;:&quot;DOM&quot;,&quot;type&quot;:&quot;node&quot;,&quot;instanceArgs&quot;:{&quot;namespace&quot;:&quot;html&quot;,&quot;tag&quot;:&quot;p&quot;},&quot;children&quot;:[]}]}]}]}]},{&quot;props&quot;:{},&quot;nodeType&quot;:&quot;Scope&quot;,&quot;type&quot;:&quot;node&quot;,&quot;instanceArgs&quot;:{&quot;imports&quot;:{&quot;data&quot;:[],&quot;type&quot;:&quot;async_block&quot;},&quot;id&quot;:&quot;scope-1f225401-a123-4c02-acfe-997c2eaa0f73&quot;,&quot;handlers&quot;:{&quot;obs-output&quot;:[function (updated_htmlstr) {\n",
       "    var el = this.dom.querySelector(&quot;#out&quot;);\n",
       "    WebIO.propUtils.setInnerHtml(el, updated_htmlstr);\n",
       "}]},&quot;systemjs_options&quot;:null,&quot;observables&quot;:{&quot;obs-output&quot;:{&quot;sync&quot;:false,&quot;id&quot;:&quot;ob_06&quot;,&quot;value&quot;:&quot;&lt;div class=&#39;display:none&#39;&gt;&lt;/div&gt;&lt;unsafe-script style=&#39;display:none&#39;&gt;\\nWebIO.mount(this.previousSibling,{&amp;quot;props&amp;quot;:{&amp;quot;attributes&amp;quot;:{&amp;quot;style&amp;quot;:&amp;quot;display:flex; justify-content:center; align-items:center;&amp;quot;}},&amp;quot;nodeType&amp;quot;:&amp;quot;DOM&amp;quot;,&amp;quot;type&amp;quot;:&amp;quot;node&amp;quot;,&amp;quot;instanceArgs&amp;quot;:{&amp;quot;namespace&amp;quot;:&amp;quot;html&amp;quot;,&amp;quot;tag&amp;quot;:&amp;quot;div&amp;quot;},&amp;quot;children&amp;quot;:[{&amp;quot;props&amp;quot;:{&amp;quot;setInnerHtml&amp;quot;:&amp;quot;&amp;lt;?xml version=\\\\&amp;quot;1.0\\\\&amp;quot; encoding=\\\\&amp;quot;utf-8\\\\&amp;quot;?&amp;gt;\\\\n&amp;lt;svg xmlns=\\\\&amp;quot;http://www.w3.org/2000/svg\\\\&amp;quot; xmlns:xlink=\\\\&amp;quot;http://www.w3.org/1999/xlink\\\\&amp;quot; width=\\\\&amp;quot;150\\\\&amp;quot; height=\\\\&amp;quot;100\\\\&amp;quot; viewBox=\\\\&amp;quot;0 0 600 400\\\\&amp;quot;&amp;gt;\\\\n&amp;lt;defs&amp;gt;\\\\n  &amp;lt;clipPath id=\\\\&amp;quot;clip5600\\\\&amp;quot;&amp;gt;\\\\n    &amp;lt;rect x=\\\\&amp;quot;0\\\\&amp;quot; y=\\\\&amp;quot;0\\\\&amp;quot; width=\\\\&amp;quot;2000\\\\&amp;quot; height=\\\\&amp;quot;2000\\\\&amp;quot;/&amp;gt;\\\\n  &amp;lt;/clipPath&amp;gt;\\\\n&amp;lt;/defs&amp;gt;\\\\n&amp;lt;defs&amp;gt;\\\\n  &amp;lt;clipPath id=\\\\&amp;quot;clip5601\\\\&amp;quot;&amp;gt;\\\\n    &amp;lt;rect x=\\\\&amp;quot;0\\\\&amp;quot; y=\\\\&amp;quot;0\\\\&amp;quot; width=\\\\&amp;quot;600\\\\&amp;quot; height=\\\\&amp;quot;400\\\\&amp;quot;/&amp;gt;\\\\n  &amp;lt;/clipPath&amp;gt;\\\\n&amp;lt;/defs&amp;gt;\\\\n&amp;lt;polygon clip-path=\\\\&amp;quot;url(#clip5601)\\\\&amp;quot; points=\\\\&amp;quot;\\\\n0,400 600,400 600,0 0,0 \\\\n  \\\\&amp;quot; fill=\\\\&amp;quot;#ffffff\\\\&amp;quot; fill-opacity=\\\\&amp;quot;1\\\\&amp;quot;/&amp;gt;\\\\n&amp;lt;defs&amp;gt;\\\\n  &amp;lt;clipPath id=\\\\&amp;quot;clip5602\\\\&amp;quot;&amp;gt;\\\\n    &amp;lt;rect x=\\\\&amp;quot;120\\\\&amp;quot; y=\\\\&amp;quot;0\\\\&amp;quot; width=\\\\&amp;quot;421\\\\&amp;quot; height=\\\\&amp;quot;400\\\\&amp;quot;/&amp;gt;\\\\n  &amp;lt;/clipPath&amp;gt;\\\\n&amp;lt;/defs&amp;gt;\\\\n&amp;lt;polygon clip-path=\\\\&amp;quot;url(#clip5601)\\\\&amp;quot; points=\\\\&amp;quot;\\\\n54.0666,369.256 580.315,369.256 580.315,18.4237 54.0666,18.4237 \\\\n  \\\\&amp;quot; fill=\\\\&amp;quot;#ffffff\\\\&amp;quot; fill-opacity=\\\\&amp;quot;1\\\\&amp;quot;/&amp;gt;\\\\n&amp;lt;defs&amp;gt;\\\\n  &amp;lt;clipPath id=\\\\&amp;quot;clip5603\\\\&amp;quot;&amp;gt;\\\\n    &amp;lt;rect x=\\\\&amp;quot;54\\\\&amp;quot; y=\\\\&amp;quot;18\\\\&amp;quot; width=\\\\&amp;quot;527\\\\&amp;quot; height=\\\\&amp;quot;352\\\\&amp;quot;/&amp;gt;\\\\n  &amp;lt;/clipPath&amp;gt;\\\\n&amp;lt;/defs&amp;gt;\\\\n&amp;lt;polyline clip-path=\\\\&amp;quot;url(#clip5603)\\\\&amp;quot; style=\\\\&amp;quot;stroke:#000000; stroke-width:0.5; stroke-opacity:0.1; fill:none\\\\&amp;quot; points=\\\\&amp;quot;\\\\n  54.0666,369.256 54.0666,18.4237 \\\\n  \\\\&amp;quot;/&amp;gt;\\\\n&amp;lt;polyline clip-path=\\\\&amp;quot;url(#clip5603)\\\\&amp;quot; style=\\\\&amp;quot;stroke:#000000; stroke-width:0.5; stroke-opacity:0.1; fill:none\\\\&amp;quot; points=\\\\&amp;quot;\\\\n  141.775,369.256 141.775,18.4237 \\\\n  \\\\&amp;quot;/&amp;gt;\\\\n&amp;lt;polyline clip-path=\\\\&amp;quot;url(#clip5603)\\\\&amp;quot; style=\\\\&amp;quot;stroke:#000000; stroke-width:0.5; stroke-opacity:0.1; fill:none\\\\&amp;quot; points=\\\\&amp;quot;\\\\n  229.483,369.256 229.483,18.4237 \\\\n  \\\\&amp;quot;/&amp;gt;\\\\n&amp;lt;polyline clip-path=\\\\&amp;quot;url(#clip5603)\\\\&amp;quot; style=\\\\&amp;quot;stroke:#000000; stroke-width:0.5; stroke-opacity:0.1; fill:none\\\\&amp;quot; points=\\\\&amp;quot;\\\\n  317.191,369.256 317.191,18.4237 \\\\n  \\\\&amp;quot;/&amp;gt;\\\\n&amp;lt;polyline clip-path=\\\\&amp;quot;url(#clip5603)\\\\&amp;quot; style=\\\\&amp;quot;stroke:#000000; stroke-width:0.5; stroke-opacity:0.1; fill:none\\\\&amp;quot; points=\\\\&amp;quot;\\\\n  404.899,369.256 404.899,18.4237 \\\\n  \\\\&amp;quot;/&amp;gt;\\\\n&amp;lt;polyline clip-path=\\\\&amp;quot;url(#clip5603)\\\\&amp;quot; style=\\\\&amp;quot;stroke:#000000; stroke-width:0.5; stroke-opacity:0.1; fill:none\\\\&amp;quot; points=\\\\&amp;quot;\\\\n  492.607,369.256 492.607,18.4237 \\\\n  \\\\&amp;quot;/&amp;gt;\\\\n&amp;lt;polyline clip-path=\\\\&amp;quot;url(#clip5603)\\\\&amp;quot; style=\\\\&amp;quot;stroke:#000000; stroke-width:0.5; stroke-opacity:0.1; fill:none\\\\&amp;quot; points=\\\\&amp;quot;\\\\n  580.315,369.256 580.315,18.4237 \\\\n  \\\\&amp;quot;/&amp;gt;\\\\n&amp;lt;polyline clip-path=\\\\&amp;quot;url(#clip5603)\\\\&amp;quot; style=\\\\&amp;quot;stroke:#000000; stroke-width:0.5; stroke-opacity:0.1; fill:none\\\\&amp;quot; points=\\\\&amp;quot;\\\\n  54.0666,369.256 580.315,369.256 \\\\n  \\\\&amp;quot;/&amp;gt;\\\\n&amp;lt;polyline clip-path=\\\\&amp;quot;url(#clip5603)\\\\&amp;quot; style=\\\\&amp;quot;stroke:#000000; stroke-width:0.5; stroke-opacity:0.1; fill:none\\\\&amp;quot; points=\\\\&amp;quot;\\\\n  54.0666,281.548 580.315,281.548 \\\\n  \\\\&amp;quot;/&amp;gt;\\\\n&amp;lt;polyline clip-path=\\\\&amp;quot;url(#clip5603)\\\\&amp;quot; style=\\\\&amp;quot;stroke:#000000; stroke-width:0.5; stroke-opacity:0.1; fill:none\\\\&amp;quot; points=\\\\&amp;quot;\\\\n  54.0666,193.84 580.315,193.84 \\\\n  \\\\&amp;quot;/&amp;gt;\\\\n&amp;lt;polyline clip-path=\\\\&amp;quot;url(#clip5603)\\\\&amp;quot; style=\\\\&amp;quot;stroke:#000000; stroke-width:0.5; stroke-opacity:0.1; fill:none\\\\&amp;quot; points=\\\\&amp;quot;\\\\n  54.0666,106.132 580.315,106.132 \\\\n  \\\\&amp;quot;/&amp;gt;\\\\n&amp;lt;polyline clip-path=\\\\&amp;quot;url(#clip5603)\\\\&amp;quot; style=\\\\&amp;quot;stroke:#000000; stroke-width:0.5; stroke-opacity:0.1; fill:none\\\\&amp;quot; points=\\\\&amp;quot;\\\\n  54.0666,18.4237 580.315,18.4237 \\\\n  \\\\&amp;quot;/&amp;gt;\\\\n&amp;lt;polyline clip-path=\\\\&amp;quot;url(#clip5601)\\\\&amp;quot; style=\\\\&amp;quot;stroke:#000000; stroke-width:1; stroke-opacity:1; fill:none\\\\&amp;quot; points=\\\\&amp;quot;\\\\n  54.0666,369.256 580.315,369.256 \\\\n  \\\\&amp;quot;/&amp;gt;\\\\n&amp;lt;polyline clip-path=\\\\&amp;quot;url(#clip5601)\\\\&amp;quot; style=\\\\&amp;quot;stroke:#000000; stroke-width:1; stroke-opacity:1; fill:none\\\\&amp;quot; points=\\\\&amp;quot;\\\\n  54.0666,369.256 54.0666,18.4237 \\\\n  \\\\&amp;quot;/&amp;gt;\\\\n&amp;lt;polyline clip-path=\\\\&amp;quot;url(#clip5601)\\\\&amp;quot; style=\\\\&amp;quot;stroke:#000000; stroke-width:1; stroke-opacity:1; fill:none\\\\&amp;quot; points=\\\\&amp;quot;\\\\n  54.0666,369.256 54.0666,363.993 \\\\n  \\\\&amp;quot;/&amp;gt;\\\\n&amp;lt;polyline clip-path=\\\\&amp;quot;url(#clip5601)\\\\&amp;quot; style=\\\\&amp;quot;stroke:#000000; stroke-width:1; stroke-opacity:1; fill:none\\\\&amp;quot; points=\\\\&amp;quot;\\\\n  141.775,369.256 141.775,363.993 \\\\n  \\\\&amp;quot;/&amp;gt;\\\\n&amp;lt;polyline clip-path=\\\\&amp;quot;url(#clip5601)\\\\&amp;quot; style=\\\\&amp;quot;stroke:#000000; stroke-width:1; stroke-opacity:1; fill:none\\\\&amp;quot; points=\\\\&amp;quot;\\\\n  229.483,369.256 229.483,363.993 \\\\n  \\\\&amp;quot;/&amp;gt;\\\\n&amp;lt;polyline clip-path=\\\\&amp;quot;url(#clip5601)\\\\&amp;quot; style=\\\\&amp;quot;stroke:#000000; stroke-width:1; stroke-opacity:1; fill:none\\\\&amp;quot; points=\\\\&amp;quot;\\\\n  317.191,369.256 317.191,363.993 \\\\n  \\\\&amp;quot;/&amp;gt;\\\\n&amp;lt;polyline clip-path=\\\\&amp;quot;url(#clip5601)\\\\&amp;quot; style=\\\\&amp;quot;stroke:#000000; stroke-width:1; stroke-opacity:1; fill:none\\\\&amp;quot; points=\\\\&amp;quot;\\\\n  404.899,369.256 404.899,363.993 \\\\n  \\\\&amp;quot;/&amp;gt;\\\\n&amp;lt;polyline clip-path=\\\\&amp;quot;url(#clip5601)\\\\&amp;quot; style=\\\\&amp;quot;stroke:#000000; stroke-width:1; stroke-opacity:1; fill:none\\\\&amp;quot; points=\\\\&amp;quot;\\\\n  492.607,369.256 492.607,363.993 \\\\n  \\\\&amp;quot;/&amp;gt;\\\\n&amp;lt;polyline clip-path=\\\\&amp;quot;url(#clip5601)\\\\&amp;quot; style=\\\\&amp;quot;stroke:#000000; stroke-width:1; stroke-opacity:1; fill:none\\\\&amp;quot; points=\\\\&amp;quot;\\\\n  580.315,369.256 580.315,363.993 \\\\n  \\\\&amp;quot;/&amp;gt;\\\\n&amp;lt;polyline clip-path=\\\\&amp;quot;url(#clip5601)\\\\&amp;quot; style=\\\\&amp;quot;stroke:#000000; stroke-width:1; stroke-opacity:1; fill:none\\\\&amp;quot; points=\\\\&amp;quot;\\\\n  54.0666,369.256 61.9603,369.256 \\\\n  \\\\&amp;quot;/&amp;gt;\\\\n&amp;lt;polyline clip-path=\\\\&amp;quot;url(#clip5601)\\\\&amp;quot; style=\\\\&amp;quot;stroke:#000000; stroke-width:1; stroke-opacity:1; fill:none\\\\&amp;quot; points=\\\\&amp;quot;\\\\n  54.0666,281.548 61.9603,281.548 \\\\n  \\\\&amp;quot;/&amp;gt;\\\\n&amp;lt;polyline clip-path=\\\\&amp;quot;url(#clip5601)\\\\&amp;quot; style=\\\\&amp;quot;stroke:#000000; stroke-width:1; stroke-opacity:1; fill:none\\\\&amp;quot; points=\\\\&amp;quot;\\\\n  54.0666,193.84 61.9603,193.84 \\\\n  \\\\&amp;quot;/&amp;gt;\\\\n&amp;lt;polyline clip-path=\\\\&amp;quot;url(#clip5601)\\\\&amp;quot; style=\\\\&amp;quot;stroke:#000000; stroke-width:1; stroke-opacity:1; fill:none\\\\&amp;quot; points=\\\\&amp;quot;\\\\n  54.0666,106.132 61.9603,106.132 \\\\n  \\\\&amp;quot;/&amp;gt;\\\\n&amp;lt;polyline clip-path=\\\\&amp;quot;url(#clip5601)\\\\&amp;quot; style=\\\\&amp;quot;stroke:#000000; stroke-width:1; stroke-opacity:1; fill:none\\\\&amp;quot; points=\\\\&amp;quot;\\\\n  54.0666,18.4237 61.9603,18.4237 \\\\n  \\\\&amp;quot;/&amp;gt;\\\\n&amp;lt;g clip-path=\\\\&amp;quot;url(#clip5601)\\\\&amp;quot;&amp;gt;\\\\n&amp;lt;text style=\\\\&amp;quot;fill:#000000; fill-opacity:1; font-family:Arial,Helvetica Neue,Helvetica,sans-serif; font-size:12; text-anchor:middle;\\\\&amp;quot; transform=\\\\&amp;quot;rotate(0, 54.0666, 383.056)\\\\&amp;quot; x=\\\\&amp;quot;54.0666\\\\&amp;quot; y=\\\\&amp;quot;383.056\\\\&amp;quot;&amp;gt;-0.75&amp;lt;/text&amp;gt;\\\\n&amp;lt;/g&amp;gt;\\\\n&amp;lt;g clip-path=\\\\&amp;quot;url(#clip5601)\\\\&amp;quot;&amp;gt;\\\\n&amp;lt;text style=\\\\&amp;quot;fill:#000000; fill-opacity:1; font-family:Arial,Helvetica Neue,Helvetica,sans-serif; font-size:12; text-anchor:middle;\\\\&amp;quot; transform=\\\\&amp;quot;rotate(0, 141.775, 383.056)\\\\&amp;quot; x=\\\\&amp;quot;141.775\\\\&amp;quot; y=\\\\&amp;quot;383.056\\\\&amp;quot;&amp;gt;-0.50&amp;lt;/text&amp;gt;\\\\n&amp;lt;/g&amp;gt;\\\\n&amp;lt;g clip-path=\\\\&amp;quot;url(#clip5601)\\\\&amp;quot;&amp;gt;\\\\n&amp;lt;text style=\\\\&amp;quot;fill:#000000; fill-opacity:1; font-family:Arial,Helvetica Neue,Helvetica,sans-serif; font-size:12; text-anchor:middle;\\\\&amp;quot; transform=\\\\&amp;quot;rotate(0, 229.483, 383.056)\\\\&amp;quot; x=\\\\&amp;quot;229.483\\\\&amp;quot; y=\\\\&amp;quot;383.056\\\\&amp;quot;&amp;gt;-0.25&amp;lt;/text&amp;gt;\\\\n&amp;lt;/g&amp;gt;\\\\n&amp;lt;g clip-path=\\\\&amp;quot;url(#clip5601)\\\\&amp;quot;&amp;gt;\\\\n&amp;lt;text style=\\\\&amp;quot;fill:#000000; fill-opacity:1; font-family:Arial,Helvetica Neue,Helvetica,sans-serif; font-size:12; text-anchor:middle;\\\\&amp;quot; transform=\\\\&amp;quot;rotate(0, 317.191, 383.056)\\\\&amp;quot; x=\\\\&amp;quot;317.191\\\\&amp;quot; y=\\\\&amp;quot;383.056\\\\&amp;quot;&amp;gt;0.00&amp;lt;/text&amp;gt;\\\\n&amp;lt;/g&amp;gt;\\\\n&amp;lt;g clip-path=\\\\&amp;quot;url(#clip5601)\\\\&amp;quot;&amp;gt;\\\\n&amp;lt;text style=\\\\&amp;quot;fill:#000000; fill-opacity:1; font-family:Arial,Helvetica Neue,Helvetica,sans-serif; font-size:12; text-anchor:middle;\\\\&amp;quot; transform=\\\\&amp;quot;rotate(0, 404.899, 383.056)\\\\&amp;quot; x=\\\\&amp;quot;404.899\\\\&amp;quot; y=\\\\&amp;quot;383.056\\\\&amp;quot;&amp;gt;0.25&amp;lt;/text&amp;gt;\\\\n&amp;lt;/g&amp;gt;\\\\n&amp;lt;g clip-path=\\\\&amp;quot;url(#clip5601)\\\\&amp;quot;&amp;gt;\\\\n&amp;lt;text style=\\\\&amp;quot;fill:#000000; fill-opacity:1; font-family:Arial,Helvetica Neue,Helvetica,sans-serif; font-size:12; text-anchor:middle;\\\\&amp;quot; transform=\\\\&amp;quot;rotate(0, 492.607, 383.056)\\\\&amp;quot; x=\\\\&amp;quot;492.607\\\\&amp;quot; y=\\\\&amp;quot;383.056\\\\&amp;quot;&amp;gt;0.50&amp;lt;/text&amp;gt;\\\\n&amp;lt;/g&amp;gt;\\\\n&amp;lt;g clip-path=\\\\&amp;quot;url(#clip5601)\\\\&amp;quot;&amp;gt;\\\\n&amp;lt;text style=\\\\&amp;quot;fill:#000000; fill-opacity:1; font-family:Arial,Helvetica Neue,Helvetica,sans-serif; font-size:12; text-anchor:middle;\\\\&amp;quot; transform=\\\\&amp;quot;rotate(0, 580.315, 383.056)\\\\&amp;quot; x=\\\\&amp;quot;580.315\\\\&amp;quot; y=\\\\&amp;quot;383.056\\\\&amp;quot;&amp;gt;0.75&amp;lt;/text&amp;gt;\\\\n&amp;lt;/g&amp;gt;\\\\n&amp;lt;g clip-path=\\\\&amp;quot;url(#clip5601)\\\\&amp;quot;&amp;gt;\\\\n&amp;lt;text style=\\\\&amp;quot;fill:#000000; fill-opacity:1; font-family:Arial,Helvetica Neue,Helvetica,sans-serif; font-size:12; text-anchor:end;\\\\&amp;quot; transform=\\\\&amp;quot;rotate(0, 48.0666, 373.756)\\\\&amp;quot; x=\\\\&amp;quot;48.0666\\\\&amp;quot; y=\\\\&amp;quot;373.756\\\\&amp;quot;&amp;gt;-0.50&amp;lt;/text&amp;gt;\\\\n&amp;lt;/g&amp;gt;\\\\n&amp;lt;g clip-path=\\\\&amp;quot;url(#clip5601)\\\\&amp;quot;&amp;gt;\\\\n&amp;lt;text style=\\\\&amp;quot;fill:#000000; fill-opacity:1; font-family:Arial,Helvetica Neue,Helvetica,sans-serif; font-size:12; text-anchor:end;\\\\&amp;quot; transform=\\\\&amp;quot;rotate(0, 48.0666, 286.048)\\\\&amp;quot; x=\\\\&amp;quot;48.0666\\\\&amp;quot; y=\\\\&amp;quot;286.048\\\\&amp;quot;&amp;gt;-0.25&amp;lt;/text&amp;gt;\\\\n&amp;lt;/g&amp;gt;\\\\n&amp;lt;g clip-path=\\\\&amp;quot;url(#clip5601)\\\\&amp;quot;&amp;gt;\\\\n&amp;lt;text style=\\\\&amp;quot;fill:#000000; fill-opacity:1; font-family:Arial,Helvetica Neue,Helvetica,sans-serif; font-size:12; text-anchor:end;\\\\&amp;quot; transform=\\\\&amp;quot;rotate(0, 48.0666, 198.34)\\\\&amp;quot; x=\\\\&amp;quot;48.0666\\\\&amp;quot; y=\\\\&amp;quot;198.34\\\\&amp;quot;&amp;gt;0.00&amp;lt;/text&amp;gt;\\\\n&amp;lt;/g&amp;gt;\\\\n&amp;lt;g clip-path=\\\\&amp;quot;url(#clip5601)\\\\&amp;quot;&amp;gt;\\\\n&amp;lt;text style=\\\\&amp;quot;fill:#000000; fill-opacity:1; font-family:Arial,Helvetica Neue,Helvetica,sans-serif; font-size:12; text-anchor:end;\\\\&amp;quot; transform=\\\\&amp;quot;rotate(0, 48.0666, 110.632)\\\\&amp;quot; x=\\\\&amp;quot;48.0666\\\\&amp;quot; y=\\\\&amp;quot;110.632\\\\&amp;quot;&amp;gt;0.25&amp;lt;/text&amp;gt;\\\\n&amp;lt;/g&amp;gt;\\\\n&amp;lt;g clip-path=\\\\&amp;quot;url(#clip5601)\\\\&amp;quot;&amp;gt;\\\\n&amp;lt;text style=\\\\&amp;quot;fill:#000000; fill-opacity:1; font-family:Arial,Helvetica Neue,Helvetica,sans-serif; font-size:12; text-anchor:end;\\\\&amp;quot; transform=\\\\&amp;quot;rotate(0, 48.0666, 22.9237)\\\\&amp;quot; x=\\\\&amp;quot;48.0666\\\\&amp;quot; y=\\\\&amp;quot;22.9237\\\\&amp;quot;&amp;gt;0.50&amp;lt;/text&amp;gt;\\\\n&amp;lt;/g&amp;gt;\\\\n&amp;lt;polyline clip-path=\\\\&amp;quot;url(#clip5603)\\\\&amp;quot; style=\\\\&amp;quot;stroke:#009af9; stroke-width:1; stroke-opacity:1; fill:none\\\\&amp;quot; points=\\\\&amp;quot;\\\\n  54.0666,369.256 580.315,369.256 580.315,18.4237 54.0666,18.4237 54.0666,369.256 \\\\n  \\\\&amp;quot;/&amp;gt;\\\\n&amp;lt;polyline clip-path=\\\\&amp;quot;url(#clip5603)\\\\&amp;quot; style=\\\\&amp;quot;stroke:#e26f46; stroke-width:1; stroke-opacity:1; fill:none\\\\&amp;quot; points=\\\\&amp;quot;\\\\n  567.863,285.056 567.442,276.65 566.185,268.328 564.102,260.174 561.216,252.267 557.556,244.689 553.156,237.513 548.063,230.813 542.326,224.655 536.003,219.1 \\\\n  529.157,214.205 521.856,210.017 514.174,206.579 506.187,203.925 497.974,202.082 489.619,201.067 481.205,200.892 472.815,201.558 464.533,203.059 456.442,205.378 \\\\n  448.624,208.494 441.155,212.374 434.112,216.981 427.563,222.268 421.575,228.182 416.207,234.665 411.513,241.651 407.541,249.071 404.328,256.85 401.909,264.912 \\\\n  400.306,273.174 399.536,281.555 399.607,289.971 400.518,298.338 402.259,306.573 404.814,314.592 408.156,322.316 412.254,329.668 417.064,336.575 422.54,342.966 \\\\n  428.627,348.779 435.263,353.955 442.383,358.443 449.916,362.197 457.786,365.181 465.914,367.364 474.22,368.725 482.62,369.25 491.031,368.933 499.368,367.778 \\\\n  507.548,365.797 515.489,363.01 523.112,359.443 530.341,355.133 537.104,350.123 543.333,344.463 548.966,338.209 553.946,331.424 558.224,324.176 561.757,316.537 \\\\n  564.509,308.583 566.454,300.394 567.572,292.052 567.863,285.056 \\\\n  \\\\&amp;quot;/&amp;gt;\\\\n&amp;lt;polyline clip-path=\\\\&amp;quot;url(#clip5603)\\\\&amp;quot; style=\\\\&amp;quot;stroke:#3da44d; stroke-width:1; stroke-opacity:1; fill:none\\\\&amp;quot; points=\\\\&amp;quot;\\\\n  276.434,154.041 276.013,145.635 274.755,137.313 272.673,129.158 269.787,121.252 266.126,113.673 261.727,106.498 256.633,99.798 250.896,93.6398 244.573,88.085 \\\\n  237.727,83.1893 230.427,79.0015 222.744,75.5635 214.757,72.9096 206.545,71.0664 198.19,70.0522 189.775,69.8771 181.385,70.5431 173.104,72.0433 165.013,74.3627 \\\\n  157.195,77.4784 149.726,81.359 142.682,85.9658 136.134,91.2528 130.146,97.1671 124.778,103.65 120.084,110.636 116.111,118.056 112.899,125.835 110.48,133.896 \\\\n  108.877,142.159 108.107,150.54 108.178,158.956 109.088,167.323 110.83,175.557 113.385,183.577 116.727,191.301 120.824,198.653 125.635,205.559 131.111,211.951 \\\\n  137.197,217.764 143.834,222.94 150.954,227.427 158.487,231.182 166.357,234.166 174.485,236.349 182.791,237.709 191.191,238.234 199.601,237.918 207.938,236.763 \\\\n  216.118,234.782 224.06,231.994 231.683,228.428 238.912,224.118 245.675,219.108 251.904,213.447 257.536,207.193 262.517,200.409 266.794,193.16 270.327,185.521 \\\\n  273.08,177.568 275.025,169.379 276.143,161.037 276.434,154.041 \\\\n  \\\\&amp;quot;/&amp;gt;\\\\n&amp;lt;/svg&amp;gt;\\\\n&amp;quot;},&amp;quot;nodeType&amp;quot;:&amp;quot;DOM&amp;quot;,&amp;quot;type&amp;quot;:&amp;quot;node&amp;quot;,&amp;quot;instanceArgs&amp;quot;:{&amp;quot;namespace&amp;quot;:&amp;quot;html&amp;quot;,&amp;quot;tag&amp;quot;:&amp;quot;div&amp;quot;},&amp;quot;children&amp;quot;:[]}]})&lt;/unsafe-script&gt;&quot;}}},&quot;children&quot;:[{&quot;props&quot;:{&quot;id&quot;:&quot;out&quot;,&quot;setInnerHtml&quot;:&quot;&lt;div class=&#39;display:none&#39;&gt;&lt;/div&gt;&lt;unsafe-script style=&#39;display:none&#39;&gt;\\nWebIO.mount(this.previousSibling,{&amp;quot;props&amp;quot;:{&amp;quot;attributes&amp;quot;:{&amp;quot;style&amp;quot;:&amp;quot;display:flex; justify-content:center; align-items:center;&amp;quot;}},&amp;quot;nodeType&amp;quot;:&amp;quot;DOM&amp;quot;,&amp;quot;type&amp;quot;:&amp;quot;node&amp;quot;,&amp;quot;instanceArgs&amp;quot;:{&amp;quot;namespace&amp;quot;:&amp;quot;html&amp;quot;,&amp;quot;tag&amp;quot;:&amp;quot;div&amp;quot;},&amp;quot;children&amp;quot;:[{&amp;quot;props&amp;quot;:{&amp;quot;setInnerHtml&amp;quot;:&amp;quot;&amp;lt;?xml version=\\\\&amp;quot;1.0\\\\&amp;quot; encoding=\\\\&amp;quot;utf-8\\\\&amp;quot;?&amp;gt;\\\\n&amp;lt;svg xmlns=\\\\&amp;quot;http://www.w3.org/2000/svg\\\\&amp;quot; xmlns:xlink=\\\\&amp;quot;http://www.w3.org/1999/xlink\\\\&amp;quot; width=\\\\&amp;quot;150\\\\&amp;quot; height=\\\\&amp;quot;100\\\\&amp;quot; viewBox=\\\\&amp;quot;0 0 600 400\\\\&amp;quot;&amp;gt;\\\\n&amp;lt;defs&amp;gt;\\\\n  &amp;lt;clipPath id=\\\\&amp;quot;clip5600\\\\&amp;quot;&amp;gt;\\\\n    &amp;lt;rect x=\\\\&amp;quot;0\\\\&amp;quot; y=\\\\&amp;quot;0\\\\&amp;quot; width=\\\\&amp;quot;2000\\\\&amp;quot; height=\\\\&amp;quot;2000\\\\&amp;quot;/&amp;gt;\\\\n  &amp;lt;/clipPath&amp;gt;\\\\n&amp;lt;/defs&amp;gt;\\\\n&amp;lt;defs&amp;gt;\\\\n  &amp;lt;clipPath id=\\\\&amp;quot;clip5601\\\\&amp;quot;&amp;gt;\\\\n    &amp;lt;rect x=\\\\&amp;quot;0\\\\&amp;quot; y=\\\\&amp;quot;0\\\\&amp;quot; width=\\\\&amp;quot;600\\\\&amp;quot; height=\\\\&amp;quot;400\\\\&amp;quot;/&amp;gt;\\\\n  &amp;lt;/clipPath&amp;gt;\\\\n&amp;lt;/defs&amp;gt;\\\\n&amp;lt;polygon clip-path=\\\\&amp;quot;url(#clip5601)\\\\&amp;quot; points=\\\\&amp;quot;\\\\n0,400 600,400 600,0 0,0 \\\\n  \\\\&amp;quot; fill=\\\\&amp;quot;#ffffff\\\\&amp;quot; fill-opacity=\\\\&amp;quot;1\\\\&amp;quot;/&amp;gt;\\\\n&amp;lt;defs&amp;gt;\\\\n  &amp;lt;clipPath id=\\\\&amp;quot;clip5602\\\\&amp;quot;&amp;gt;\\\\n    &amp;lt;rect x=\\\\&amp;quot;120\\\\&amp;quot; y=\\\\&amp;quot;0\\\\&amp;quot; width=\\\\&amp;quot;421\\\\&amp;quot; height=\\\\&amp;quot;400\\\\&amp;quot;/&amp;gt;\\\\n  &amp;lt;/clipPath&amp;gt;\\\\n&amp;lt;/defs&amp;gt;\\\\n&amp;lt;polygon clip-path=\\\\&amp;quot;url(#clip5601)\\\\&amp;quot; points=\\\\&amp;quot;\\\\n54.0666,369.256 580.315,369.256 580.315,18.4237 54.0666,18.4237 \\\\n  \\\\&amp;quot; fill=\\\\&amp;quot;#ffffff\\\\&amp;quot; fill-opacity=\\\\&amp;quot;1\\\\&amp;quot;/&amp;gt;\\\\n&amp;lt;defs&amp;gt;\\\\n  &amp;lt;clipPath id=\\\\&amp;quot;clip5603\\\\&amp;quot;&amp;gt;\\\\n    &amp;lt;rect x=\\\\&amp;quot;54\\\\&amp;quot; y=\\\\&amp;quot;18\\\\&amp;quot; width=\\\\&amp;quot;527\\\\&amp;quot; height=\\\\&amp;quot;352\\\\&amp;quot;/&amp;gt;\\\\n  &amp;lt;/clipPath&amp;gt;\\\\n&amp;lt;/defs&amp;gt;\\\\n&amp;lt;polyline clip-path=\\\\&amp;quot;url(#clip5603)\\\\&amp;quot; style=\\\\&amp;quot;stroke:#000000; stroke-width:0.5; stroke-opacity:0.1; fill:none\\\\&amp;quot; points=\\\\&amp;quot;\\\\n  54.0666,369.256 54.0666,18.4237 \\\\n  \\\\&amp;quot;/&amp;gt;\\\\n&amp;lt;polyline clip-path=\\\\&amp;quot;url(#clip5603)\\\\&amp;quot; style=\\\\&amp;quot;stroke:#000000; stroke-width:0.5; stroke-opacity:0.1; fill:none\\\\&amp;quot; points=\\\\&amp;quot;\\\\n  141.775,369.256 141.775,18.4237 \\\\n  \\\\&amp;quot;/&amp;gt;\\\\n&amp;lt;polyline clip-path=\\\\&amp;quot;url(#clip5603)\\\\&amp;quot; style=\\\\&amp;quot;stroke:#000000; stroke-width:0.5; stroke-opacity:0.1; fill:none\\\\&amp;quot; points=\\\\&amp;quot;\\\\n  229.483,369.256 229.483,18.4237 \\\\n  \\\\&amp;quot;/&amp;gt;\\\\n&amp;lt;polyline clip-path=\\\\&amp;quot;url(#clip5603)\\\\&amp;quot; style=\\\\&amp;quot;stroke:#000000; stroke-width:0.5; stroke-opacity:0.1; fill:none\\\\&amp;quot; points=\\\\&amp;quot;\\\\n  317.191,369.256 317.191,18.4237 \\\\n  \\\\&amp;quot;/&amp;gt;\\\\n&amp;lt;polyline clip-path=\\\\&amp;quot;url(#clip5603)\\\\&amp;quot; style=\\\\&amp;quot;stroke:#000000; stroke-width:0.5; stroke-opacity:0.1; fill:none\\\\&amp;quot; points=\\\\&amp;quot;\\\\n  404.899,369.256 404.899,18.4237 \\\\n  \\\\&amp;quot;/&amp;gt;\\\\n&amp;lt;polyline clip-path=\\\\&amp;quot;url(#clip5603)\\\\&amp;quot; style=\\\\&amp;quot;stroke:#000000; stroke-width:0.5; stroke-opacity:0.1; fill:none\\\\&amp;quot; points=\\\\&amp;quot;\\\\n  492.607,369.256 492.607,18.4237 \\\\n  \\\\&amp;quot;/&amp;gt;\\\\n&amp;lt;polyline clip-path=\\\\&amp;quot;url(#clip5603)\\\\&amp;quot; style=\\\\&amp;quot;stroke:#000000; stroke-width:0.5; stroke-opacity:0.1; fill:none\\\\&amp;quot; points=\\\\&amp;quot;\\\\n  580.315,369.256 580.315,18.4237 \\\\n  \\\\&amp;quot;/&amp;gt;\\\\n&amp;lt;polyline clip-path=\\\\&amp;quot;url(#clip5603)\\\\&amp;quot; style=\\\\&amp;quot;stroke:#000000; stroke-width:0.5; stroke-opacity:0.1; fill:none\\\\&amp;quot; points=\\\\&amp;quot;\\\\n  54.0666,369.256 580.315,369.256 \\\\n  \\\\&amp;quot;/&amp;gt;\\\\n&amp;lt;polyline clip-path=\\\\&amp;quot;url(#clip5603)\\\\&amp;quot; style=\\\\&amp;quot;stroke:#000000; stroke-width:0.5; stroke-opacity:0.1; fill:none\\\\&amp;quot; points=\\\\&amp;quot;\\\\n  54.0666,281.548 580.315,281.548 \\\\n  \\\\&amp;quot;/&amp;gt;\\\\n&amp;lt;polyline clip-path=\\\\&amp;quot;url(#clip5603)\\\\&amp;quot; style=\\\\&amp;quot;stroke:#000000; stroke-width:0.5; stroke-opacity:0.1; fill:none\\\\&amp;quot; points=\\\\&amp;quot;\\\\n  54.0666,193.84 580.315,193.84 \\\\n  \\\\&amp;quot;/&amp;gt;\\\\n&amp;lt;polyline clip-path=\\\\&amp;quot;url(#clip5603)\\\\&amp;quot; style=\\\\&amp;quot;stroke:#000000; stroke-width:0.5; stroke-opacity:0.1; fill:none\\\\&amp;quot; points=\\\\&amp;quot;\\\\n  54.0666,106.132 580.315,106.132 \\\\n  \\\\&amp;quot;/&amp;gt;\\\\n&amp;lt;polyline clip-path=\\\\&amp;quot;url(#clip5603)\\\\&amp;quot; style=\\\\&amp;quot;stroke:#000000; stroke-width:0.5; stroke-opacity:0.1; fill:none\\\\&amp;quot; points=\\\\&amp;quot;\\\\n  54.0666,18.4237 580.315,18.4237 \\\\n  \\\\&amp;quot;/&amp;gt;\\\\n&amp;lt;polyline clip-path=\\\\&amp;quot;url(#clip5601)\\\\&amp;quot; style=\\\\&amp;quot;stroke:#000000; stroke-width:1; stroke-opacity:1; fill:none\\\\&amp;quot; points=\\\\&amp;quot;\\\\n  54.0666,369.256 580.315,369.256 \\\\n  \\\\&amp;quot;/&amp;gt;\\\\n&amp;lt;polyline clip-path=\\\\&amp;quot;url(#clip5601)\\\\&amp;quot; style=\\\\&amp;quot;stroke:#000000; stroke-width:1; stroke-opacity:1; fill:none\\\\&amp;quot; points=\\\\&amp;quot;\\\\n  54.0666,369.256 54.0666,18.4237 \\\\n  \\\\&amp;quot;/&amp;gt;\\\\n&amp;lt;polyline clip-path=\\\\&amp;quot;url(#clip5601)\\\\&amp;quot; style=\\\\&amp;quot;stroke:#000000; stroke-width:1; stroke-opacity:1; fill:none\\\\&amp;quot; points=\\\\&amp;quot;\\\\n  54.0666,369.256 54.0666,363.993 \\\\n  \\\\&amp;quot;/&amp;gt;\\\\n&amp;lt;polyline clip-path=\\\\&amp;quot;url(#clip5601)\\\\&amp;quot; style=\\\\&amp;quot;stroke:#000000; stroke-width:1; stroke-opacity:1; fill:none\\\\&amp;quot; points=\\\\&amp;quot;\\\\n  141.775,369.256 141.775,363.993 \\\\n  \\\\&amp;quot;/&amp;gt;\\\\n&amp;lt;polyline clip-path=\\\\&amp;quot;url(#clip5601)\\\\&amp;quot; style=\\\\&amp;quot;stroke:#000000; stroke-width:1; stroke-opacity:1; fill:none\\\\&amp;quot; points=\\\\&amp;quot;\\\\n  229.483,369.256 229.483,363.993 \\\\n  \\\\&amp;quot;/&amp;gt;\\\\n&amp;lt;polyline clip-path=\\\\&amp;quot;url(#clip5601)\\\\&amp;quot; style=\\\\&amp;quot;stroke:#000000; stroke-width:1; stroke-opacity:1; fill:none\\\\&amp;quot; points=\\\\&amp;quot;\\\\n  317.191,369.256 317.191,363.993 \\\\n  \\\\&amp;quot;/&amp;gt;\\\\n&amp;lt;polyline clip-path=\\\\&amp;quot;url(#clip5601)\\\\&amp;quot; style=\\\\&amp;quot;stroke:#000000; stroke-width:1; stroke-opacity:1; fill:none\\\\&amp;quot; points=\\\\&amp;quot;\\\\n  404.899,369.256 404.899,363.993 \\\\n  \\\\&amp;quot;/&amp;gt;\\\\n&amp;lt;polyline clip-path=\\\\&amp;quot;url(#clip5601)\\\\&amp;quot; style=\\\\&amp;quot;stroke:#000000; stroke-width:1; stroke-opacity:1; fill:none\\\\&amp;quot; points=\\\\&amp;quot;\\\\n  492.607,369.256 492.607,363.993 \\\\n  \\\\&amp;quot;/&amp;gt;\\\\n&amp;lt;polyline clip-path=\\\\&amp;quot;url(#clip5601)\\\\&amp;quot; style=\\\\&amp;quot;stroke:#000000; stroke-width:1; stroke-opacity:1; fill:none\\\\&amp;quot; points=\\\\&amp;quot;\\\\n  580.315,369.256 580.315,363.993 \\\\n  \\\\&amp;quot;/&amp;gt;\\\\n&amp;lt;polyline clip-path=\\\\&amp;quot;url(#clip5601)\\\\&amp;quot; style=\\\\&amp;quot;stroke:#000000; stroke-width:1; stroke-opacity:1; fill:none\\\\&amp;quot; points=\\\\&amp;quot;\\\\n  54.0666,369.256 61.9603,369.256 \\\\n  \\\\&amp;quot;/&amp;gt;\\\\n&amp;lt;polyline clip-path=\\\\&amp;quot;url(#clip5601)\\\\&amp;quot; style=\\\\&amp;quot;stroke:#000000; stroke-width:1; stroke-opacity:1; fill:none\\\\&amp;quot; points=\\\\&amp;quot;\\\\n  54.0666,281.548 61.9603,281.548 \\\\n  \\\\&amp;quot;/&amp;gt;\\\\n&amp;lt;polyline clip-path=\\\\&amp;quot;url(#clip5601)\\\\&amp;quot; style=\\\\&amp;quot;stroke:#000000; stroke-width:1; stroke-opacity:1; fill:none\\\\&amp;quot; points=\\\\&amp;quot;\\\\n  54.0666,193.84 61.9603,193.84 \\\\n  \\\\&amp;quot;/&amp;gt;\\\\n&amp;lt;polyline clip-path=\\\\&amp;quot;url(#clip5601)\\\\&amp;quot; style=\\\\&amp;quot;stroke:#000000; stroke-width:1; stroke-opacity:1; fill:none\\\\&amp;quot; points=\\\\&amp;quot;\\\\n  54.0666,106.132 61.9603,106.132 \\\\n  \\\\&amp;quot;/&amp;gt;\\\\n&amp;lt;polyline clip-path=\\\\&amp;quot;url(#clip5601)\\\\&amp;quot; style=\\\\&amp;quot;stroke:#000000; stroke-width:1; stroke-opacity:1; fill:none\\\\&amp;quot; points=\\\\&amp;quot;\\\\n  54.0666,18.4237 61.9603,18.4237 \\\\n  \\\\&amp;quot;/&amp;gt;\\\\n&amp;lt;g clip-path=\\\\&amp;quot;url(#clip5601)\\\\&amp;quot;&amp;gt;\\\\n&amp;lt;text style=\\\\&amp;quot;fill:#000000; fill-opacity:1; font-family:Arial,Helvetica Neue,Helvetica,sans-serif; font-size:12; text-anchor:middle;\\\\&amp;quot; transform=\\\\&amp;quot;rotate(0, 54.0666, 383.056)\\\\&amp;quot; x=\\\\&amp;quot;54.0666\\\\&amp;quot; y=\\\\&amp;quot;383.056\\\\&amp;quot;&amp;gt;-0.75&amp;lt;/text&amp;gt;\\\\n&amp;lt;/g&amp;gt;\\\\n&amp;lt;g clip-path=\\\\&amp;quot;url(#clip5601)\\\\&amp;quot;&amp;gt;\\\\n&amp;lt;text style=\\\\&amp;quot;fill:#000000; fill-opacity:1; font-family:Arial,Helvetica Neue,Helvetica,sans-serif; font-size:12; text-anchor:middle;\\\\&amp;quot; transform=\\\\&amp;quot;rotate(0, 141.775, 383.056)\\\\&amp;quot; x=\\\\&amp;quot;141.775\\\\&amp;quot; y=\\\\&amp;quot;383.056\\\\&amp;quot;&amp;gt;-0.50&amp;lt;/text&amp;gt;\\\\n&amp;lt;/g&amp;gt;\\\\n&amp;lt;g clip-path=\\\\&amp;quot;url(#clip5601)\\\\&amp;quot;&amp;gt;\\\\n&amp;lt;text style=\\\\&amp;quot;fill:#000000; fill-opacity:1; font-family:Arial,Helvetica Neue,Helvetica,sans-serif; font-size:12; text-anchor:middle;\\\\&amp;quot; transform=\\\\&amp;quot;rotate(0, 229.483, 383.056)\\\\&amp;quot; x=\\\\&amp;quot;229.483\\\\&amp;quot; y=\\\\&amp;quot;383.056\\\\&amp;quot;&amp;gt;-0.25&amp;lt;/text&amp;gt;\\\\n&amp;lt;/g&amp;gt;\\\\n&amp;lt;g clip-path=\\\\&amp;quot;url(#clip5601)\\\\&amp;quot;&amp;gt;\\\\n&amp;lt;text style=\\\\&amp;quot;fill:#000000; fill-opacity:1; font-family:Arial,Helvetica Neue,Helvetica,sans-serif; font-size:12; text-anchor:middle;\\\\&amp;quot; transform=\\\\&amp;quot;rotate(0, 317.191, 383.056)\\\\&amp;quot; x=\\\\&amp;quot;317.191\\\\&amp;quot; y=\\\\&amp;quot;383.056\\\\&amp;quot;&amp;gt;0.00&amp;lt;/text&amp;gt;\\\\n&amp;lt;/g&amp;gt;\\\\n&amp;lt;g clip-path=\\\\&amp;quot;url(#clip5601)\\\\&amp;quot;&amp;gt;\\\\n&amp;lt;text style=\\\\&amp;quot;fill:#000000; fill-opacity:1; font-family:Arial,Helvetica Neue,Helvetica,sans-serif; font-size:12; text-anchor:middle;\\\\&amp;quot; transform=\\\\&amp;quot;rotate(0, 404.899, 383.056)\\\\&amp;quot; x=\\\\&amp;quot;404.899\\\\&amp;quot; y=\\\\&amp;quot;383.056\\\\&amp;quot;&amp;gt;0.25&amp;lt;/text&amp;gt;\\\\n&amp;lt;/g&amp;gt;\\\\n&amp;lt;g clip-path=\\\\&amp;quot;url(#clip5601)\\\\&amp;quot;&amp;gt;\\\\n&amp;lt;text style=\\\\&amp;quot;fill:#000000; fill-opacity:1; font-family:Arial,Helvetica Neue,Helvetica,sans-serif; font-size:12; text-anchor:middle;\\\\&amp;quot; transform=\\\\&amp;quot;rotate(0, 492.607, 383.056)\\\\&amp;quot; x=\\\\&amp;quot;492.607\\\\&amp;quot; y=\\\\&amp;quot;383.056\\\\&amp;quot;&amp;gt;0.50&amp;lt;/text&amp;gt;\\\\n&amp;lt;/g&amp;gt;\\\\n&amp;lt;g clip-path=\\\\&amp;quot;url(#clip5601)\\\\&amp;quot;&amp;gt;\\\\n&amp;lt;text style=\\\\&amp;quot;fill:#000000; fill-opacity:1; font-family:Arial,Helvetica Neue,Helvetica,sans-serif; font-size:12; text-anchor:middle;\\\\&amp;quot; transform=\\\\&amp;quot;rotate(0, 580.315, 383.056)\\\\&amp;quot; x=\\\\&amp;quot;580.315\\\\&amp;quot; y=\\\\&amp;quot;383.056\\\\&amp;quot;&amp;gt;0.75&amp;lt;/text&amp;gt;\\\\n&amp;lt;/g&amp;gt;\\\\n&amp;lt;g clip-path=\\\\&amp;quot;url(#clip5601)\\\\&amp;quot;&amp;gt;\\\\n&amp;lt;text style=\\\\&amp;quot;fill:#000000; fill-opacity:1; font-family:Arial,Helvetica Neue,Helvetica,sans-serif; font-size:12; text-anchor:end;\\\\&amp;quot; transform=\\\\&amp;quot;rotate(0, 48.0666, 373.756)\\\\&amp;quot; x=\\\\&amp;quot;48.0666\\\\&amp;quot; y=\\\\&amp;quot;373.756\\\\&amp;quot;&amp;gt;-0.50&amp;lt;/text&amp;gt;\\\\n&amp;lt;/g&amp;gt;\\\\n&amp;lt;g clip-path=\\\\&amp;quot;url(#clip5601)\\\\&amp;quot;&amp;gt;\\\\n&amp;lt;text style=\\\\&amp;quot;fill:#000000; fill-opacity:1; font-family:Arial,Helvetica Neue,Helvetica,sans-serif; font-size:12; text-anchor:end;\\\\&amp;quot; transform=\\\\&amp;quot;rotate(0, 48.0666, 286.048)\\\\&amp;quot; x=\\\\&amp;quot;48.0666\\\\&amp;quot; y=\\\\&amp;quot;286.048\\\\&amp;quot;&amp;gt;-0.25&amp;lt;/text&amp;gt;\\\\n&amp;lt;/g&amp;gt;\\\\n&amp;lt;g clip-path=\\\\&amp;quot;url(#clip5601)\\\\&amp;quot;&amp;gt;\\\\n&amp;lt;text style=\\\\&amp;quot;fill:#000000; fill-opacity:1; font-family:Arial,Helvetica Neue,Helvetica,sans-serif; font-size:12; text-anchor:end;\\\\&amp;quot; transform=\\\\&amp;quot;rotate(0, 48.0666, 198.34)\\\\&amp;quot; x=\\\\&amp;quot;48.0666\\\\&amp;quot; y=\\\\&amp;quot;198.34\\\\&amp;quot;&amp;gt;0.00&amp;lt;/text&amp;gt;\\\\n&amp;lt;/g&amp;gt;\\\\n&amp;lt;g clip-path=\\\\&amp;quot;url(#clip5601)\\\\&amp;quot;&amp;gt;\\\\n&amp;lt;text style=\\\\&amp;quot;fill:#000000; fill-opacity:1; font-family:Arial,Helvetica Neue,Helvetica,sans-serif; font-size:12; text-anchor:end;\\\\&amp;quot; transform=\\\\&amp;quot;rotate(0, 48.0666, 110.632)\\\\&amp;quot; x=\\\\&amp;quot;48.0666\\\\&amp;quot; y=\\\\&amp;quot;110.632\\\\&amp;quot;&amp;gt;0.25&amp;lt;/text&amp;gt;\\\\n&amp;lt;/g&amp;gt;\\\\n&amp;lt;g clip-path=\\\\&amp;quot;url(#clip5601)\\\\&amp;quot;&amp;gt;\\\\n&amp;lt;text style=\\\\&amp;quot;fill:#000000; fill-opacity:1; font-family:Arial,Helvetica Neue,Helvetica,sans-serif; font-size:12; text-anchor:end;\\\\&amp;quot; transform=\\\\&amp;quot;rotate(0, 48.0666, 22.9237)\\\\&amp;quot; x=\\\\&amp;quot;48.0666\\\\&amp;quot; y=\\\\&amp;quot;22.9237\\\\&amp;quot;&amp;gt;0.50&amp;lt;/text&amp;gt;\\\\n&amp;lt;/g&amp;gt;\\\\n&amp;lt;polyline clip-path=\\\\&amp;quot;url(#clip5603)\\\\&amp;quot; style=\\\\&amp;quot;stroke:#009af9; stroke-width:1; stroke-opacity:1; fill:none\\\\&amp;quot; points=\\\\&amp;quot;\\\\n  54.0666,369.256 580.315,369.256 580.315,18.4237 54.0666,18.4237 54.0666,369.256 \\\\n  \\\\&amp;quot;/&amp;gt;\\\\n&amp;lt;polyline clip-path=\\\\&amp;quot;url(#clip5603)\\\\&amp;quot; style=\\\\&amp;quot;stroke:#e26f46; stroke-width:1; stroke-opacity:1; fill:none\\\\&amp;quot; points=\\\\&amp;quot;\\\\n  567.863,285.056 567.442,276.65 566.185,268.328 564.102,260.174 561.216,252.267 557.556,244.689 553.156,237.513 548.063,230.813 542.326,224.655 536.003,219.1 \\\\n  529.157,214.205 521.856,210.017 514.174,206.579 506.187,203.925 497.974,202.082 489.619,201.067 481.205,200.892 472.815,201.558 464.533,203.059 456.442,205.378 \\\\n  448.624,208.494 441.155,212.374 434.112,216.981 427.563,222.268 421.575,228.182 416.207,234.665 411.513,241.651 407.541,249.071 404.328,256.85 401.909,264.912 \\\\n  400.306,273.174 399.536,281.555 399.607,289.971 400.518,298.338 402.259,306.573 404.814,314.592 408.156,322.316 412.254,329.668 417.064,336.575 422.54,342.966 \\\\n  428.627,348.779 435.263,353.955 442.383,358.443 449.916,362.197 457.786,365.181 465.914,367.364 474.22,368.725 482.62,369.25 491.031,368.933 499.368,367.778 \\\\n  507.548,365.797 515.489,363.01 523.112,359.443 530.341,355.133 537.104,350.123 543.333,344.463 548.966,338.209 553.946,331.424 558.224,324.176 561.757,316.537 \\\\n  564.509,308.583 566.454,300.394 567.572,292.052 567.863,285.056 \\\\n  \\\\&amp;quot;/&amp;gt;\\\\n&amp;lt;polyline clip-path=\\\\&amp;quot;url(#clip5603)\\\\&amp;quot; style=\\\\&amp;quot;stroke:#3da44d; stroke-width:1; stroke-opacity:1; fill:none\\\\&amp;quot; points=\\\\&amp;quot;\\\\n  276.434,154.041 276.013,145.635 274.755,137.313 272.673,129.158 269.787,121.252 266.126,113.673 261.727,106.498 256.633,99.798 250.896,93.6398 244.573,88.085 \\\\n  237.727,83.1893 230.427,79.0015 222.744,75.5635 214.757,72.9096 206.545,71.0664 198.19,70.0522 189.775,69.8771 181.385,70.5431 173.104,72.0433 165.013,74.3627 \\\\n  157.195,77.4784 149.726,81.359 142.682,85.9658 136.134,91.2528 130.146,97.1671 124.778,103.65 120.084,110.636 116.111,118.056 112.899,125.835 110.48,133.896 \\\\n  108.877,142.159 108.107,150.54 108.178,158.956 109.088,167.323 110.83,175.557 113.385,183.577 116.727,191.301 120.824,198.653 125.635,205.559 131.111,211.951 \\\\n  137.197,217.764 143.834,222.94 150.954,227.427 158.487,231.182 166.357,234.166 174.485,236.349 182.791,237.709 191.191,238.234 199.601,237.918 207.938,236.763 \\\\n  216.118,234.782 224.06,231.994 231.683,228.428 238.912,224.118 245.675,219.108 251.904,213.447 257.536,207.193 262.517,200.409 266.794,193.16 270.327,185.521 \\\\n  273.08,177.568 275.025,169.379 276.143,161.037 276.434,154.041 \\\\n  \\\\&amp;quot;/&amp;gt;\\\\n&amp;lt;/svg&amp;gt;\\\\n&amp;quot;},&amp;quot;nodeType&amp;quot;:&amp;quot;DOM&amp;quot;,&amp;quot;type&amp;quot;:&amp;quot;node&amp;quot;,&amp;quot;instanceArgs&amp;quot;:{&amp;quot;namespace&amp;quot;:&amp;quot;html&amp;quot;,&amp;quot;tag&amp;quot;:&amp;quot;div&amp;quot;},&amp;quot;children&amp;quot;:[]}]})&lt;/unsafe-script&gt;&quot;},&quot;nodeType&quot;:&quot;DOM&quot;,&quot;type&quot;:&quot;node&quot;,&quot;instanceArgs&quot;:{&quot;namespace&quot;:&quot;html&quot;,&quot;tag&quot;:&quot;div&quot;},&quot;children&quot;:[]}]}]})</unsafe-script>\n",
       "</div>"
      ],
      "text/plain": [
       "(div\n",
       "  Widgets.Widget{:slider}(DataStructures.OrderedDict{Symbol,Any}(:changes=>Observables.Observable{Int64}(\"ob_02\", 0, Any[WebIO.SyncCallback(WebIO.Scope(\"knockout-component-1ac5d06f-11e1-40f1-a71f-978684c32a41\", WebIO.Node{WebIO.DOM}(WebIO.DOM(:html, :div), Any[WebIO.Node{WebIO.DOM}(WebIO.DOM(:html, :div), Any[WebIO.Node{WebIO.DOM}(WebIO.DOM(:html, :label), Any[nothing], Dict{Symbol,Any}(Pair{Symbol,Any}(:className, \"interact \"),Pair{Symbol,Any}(:style, Dict{Any,Any}(Pair{Any,Any}(:padding, \"5px 10px 0px 10px\")))), 1)], Dict{Symbol,Any}(Pair{Symbol,Any}(:attributes, Dict(\"style\"=>\"text-align:right;width:18%\"))), 2), WebIO.Node{WebIO.DOM}(WebIO.DOM(:html, :div), Any[WebIO.Node{WebIO.DOM}(WebIO.DOM(:html, :input), Any[], Dict{Symbol,Any}(Pair{Symbol,Any}(:max, 1000000),Pair{Symbol,Any}(:min, 1),Pair{Symbol,Any}(:attributes, Dict{Any,Any}(Pair{Any,Any}(:type, \"range\"),Pair{Any,Any}(Symbol(\"data-bind\"), \"numericValue: value, valueUpdate: 'input', event: {change : function () {this.changes(this.changes()+1)}}\"))),Pair{Symbol,Any}(:step, 1),Pair{Symbol,Any}(:className, \"slider slider is-fullwidth\"),Pair{Symbol,Any}(:style, Dict{Any,Any}())), 0)], Dict{Symbol,Any}(Pair{Symbol,Any}(:attributes, Dict(\"style\"=>\"flex-grow:1; margin: 0 2%\"))), 1), WebIO.Node{WebIO.DOM}(WebIO.DOM(:html, :div), Any[WebIO.Node{WebIO.DOM}(WebIO.DOM(:html, :p), Any[], Dict{Symbol,Any}(Pair{Symbol,Any}(:attributes, Dict(\"data-bind\"=>\"text: displayedvalue\"))), 0)], Dict{Symbol,Any}(Pair{Symbol,Any}(:attributes, Dict(\"style\"=>\"width:18%\"))), 1)], Dict{Symbol,Any}(Pair{Symbol,Any}(:attributes, Dict(\"style\"=>\"display:flex; justify-content:center; align-items:center;\"))), 7), Dict{String,Tuple{Observables.Observable,Union{Bool, Void}}}(Pair{String,Tuple{Observables.Observable,Union{Bool, Void}}}(\"changes\", (Observables.Observable{Int64}(#= circular reference @-7 =#), nothing)),Pair{String,Tuple{Observables.Observable,Union{Bool, Void}}}(\"value\", (Observables.Observable{Int64}(\"ob_01\", 1, Any[WebIO.SyncCallback(WebIO.Scope(#= circular reference @-7 =#), WebIO.SyncCallback(WebIO.Scope(#= circular reference @-8 =#), WebIO.#37)), Observables.g]), nothing))), Set{String}(), nothing, Any[\"knockout\"=>\"/home/karel/.julia/v0.6/Knockout/src/../assets/knockout.js\", \"knockout_punches\"=>\"/home/karel/.julia/v0.6/Knockout/src/../assets/knockout_punches.js\", \"/home/karel/.julia/v0.6/InteractBase/src/../assets/all.js\", \"/home/karel/.julia/v0.6/InteractBase/src/../assets/style.css\", \"/home/karel/.julia/v0.6/InteractBulma/src/../assets/main.css\"], Dict{Any,Any}(Pair{Any,Any}(\"_promises\", Dict{Any,Any}(Pair{Any,Any}(\"importsLoaded\", Any[WebIO.JSString(\"function (ko, koPunches) {\\n    ko.punches.enableAll();\\n    ko.bindingHandlers.numericValue = {\\n        init : function(element, valueAccessor, allBindings, data, context) {\\n            var stringified = ko.observable(ko.unwrap(valueAccessor()));\\n            stringified.subscribe(function(value) {\\n                var val = parseFloat(value);\\n                if (!isNaN(val)) {\\n                    valueAccessor()(val);\\n                }\\n            })\\n            valueAccessor().subscribe(function(value) {\\n                var str = JSON.stringify(value);\\n                if ((str == \\\"0\\\") && ([\\\"-0\\\", \\\"-0.\\\"].indexOf(stringified()) >= 0))\\n                     return;\\n                 if ([\\\"null\\\", \\\"\\\"].indexOf(str) >= 0)\\n                     return;\\n                stringified(str);\\n            })\\n            ko.applyBindingsToNode(element, { value: stringified, valueUpdate: allBindings.get('valueUpdate')}, context);\\n        }\\n    };\\n    var json_data = JSON.parse(\\\"{\\\\\\\"changes\\\\\\\":0,\\\\\\\"value\\\\\\\":1}\\\");\\n    var self = this;\\n    function AppViewModel() {\\n        for (var key in json_data) {\\n            var el = json_data[key];\\n            this[key] = Array.isArray(el) ? ko.observableArray(el) : ko.observable(el);\\n        }\\n        \\n        [this[\\\"displayedvalue\\\"]=ko.computed(function () {return this.value();},this)]\\n        [this[\\\"changes\\\"].subscribe((function (val){!(this.valueFromJulia[\\\"changes\\\"]) ? (WebIO.setval({\\\"name\\\":\\\"changes\\\",\\\"scope\\\":\\\"knockout-component-1ac5d06f-11e1-40f1-a71f-978684c32a41\\\",\\\"id\\\":\\\"ob_02\\\",\\\"type\\\":\\\"observable\\\"},val)) : undefined; return this.valueFromJulia[\\\"changes\\\"]=false}),self),this[\\\"value\\\"].subscribe((function (val){!(this.valueFromJulia[\\\"value\\\"]) ? (WebIO.setval({\\\"name\\\":\\\"value\\\",\\\"scope\\\":\\\"knockout-component-1ac5d06f-11e1-40f1-a71f-978684c32a41\\\",\\\"id\\\":\\\"ob_01\\\",\\\"type\\\":\\\"observable\\\"},val)) : undefined; return this.valueFromJulia[\\\"value\\\"]=false}),self)]\\n        \\n    }\\n    self.model = new AppViewModel();\\n    self.valueFromJulia = {};\\n    for (var key in json_data) {\\n        self.valueFromJulia[key] = false;\\n    }\\n    ko.applyBindings(self.model, self.dom);\\n}\\n\")]))),Pair{Any,Any}(\"changes\", Any[WebIO.JSString(\"(function (val){return (val!=this.model[\\\"changes\\\"]()) ? (this.valueFromJulia[\\\"changes\\\"]=true, this.model[\\\"changes\\\"](val)) : undefined})\")]),Pair{Any,Any}(\"value\", Any[WebIO.JSString(\"(function (val){return (val!=this.model[\\\"value\\\"]()) ? (this.valueFromJulia[\\\"value\\\"]=true, this.model[\\\"value\\\"](val)) : undefined})\")])), WebIO.ConnectionPool(Channel{Any}(sz_max:9223372036854775807,sz_curr:3), Set{WebIO.AbstractConnection}(), Channel{WebIO.AbstractConnection}(sz_max:32,sz_curr:0))), WebIO.SyncCallback(WebIO.Scope(\"knockout-component-1ac5d06f-11e1-40f1-a71f-978684c32a41\", WebIO.Node{WebIO.DOM}(WebIO.DOM(:html, :div), Any[WebIO.Node{WebIO.DOM}(WebIO.DOM(:html, :div), Any[WebIO.Node{WebIO.DOM}(WebIO.DOM(:html, :label), Any[nothing], Dict{Symbol,Any}(Pair{Symbol,Any}(:className, \"interact \"),Pair{Symbol,Any}(:style, Dict{Any,Any}(Pair{Any,Any}(:padding, \"5px 10px 0px 10px\")))), 1)], Dict{Symbol,Any}(Pair{Symbol,Any}(:attributes, Dict(\"style\"=>\"text-align:right;width:18%\"))), 2), WebIO.Node{WebIO.DOM}(WebIO.DOM(:html, :div), Any[WebIO.Node{WebIO.DOM}(WebIO.DOM(:html, :input), Any[], Dict{Symbol,Any}(Pair{Symbol,Any}(:max, 1000000),Pair{Symbol,Any}(:min, 1),Pair{Symbol,Any}(:attributes, Dict{Any,Any}(Pair{Any,Any}(:type, \"range\"),Pair{Any,Any}(Symbol(\"data-bind\"), \"numericValue: value, valueUpdate: 'input', event: {change : function () {this.changes(this.changes()+1)}}\"))),Pair{Symbol,Any}(:step, 1),Pair{Symbol,Any}(:className, \"slider slider is-fullwidth\"),Pair{Symbol,Any}(:style, Dict{Any,Any}())), 0)], Dict{Symbol,Any}(Pair{Symbol,Any}(:attributes, Dict(\"style\"=>\"flex-grow:1; margin: 0 2%\"))), 1), WebIO.Node{WebIO.DOM}(WebIO.DOM(:html, :div), Any[WebIO.Node{WebIO.DOM}(WebIO.DOM(:html, :p), Any[], Dict{Symbol,Any}(Pair{Symbol,Any}(:attributes, Dict(\"data-bind\"=>\"text: displayedvalue\"))), 0)], Dict{Symbol,Any}(Pair{Symbol,Any}(:attributes, Dict(\"style\"=>\"width:18%\"))), 1)], Dict{Symbol,Any}(Pair{Symbol,Any}(:attributes, Dict(\"style\"=>\"display:flex; justify-content:center; align-items:center;\"))), 7), Dict{String,Tuple{Observables.Observable,Union{Bool, Void}}}(Pair{String,Tuple{Observables.Observable,Union{Bool, Void}}}(\"changes\", (Observables.Observable{Int64}(#= circular reference @-8 =#), nothing)),Pair{String,Tuple{Observables.Observable,Union{Bool, Void}}}(\"value\", (Observables.Observable{Int64}(\"ob_01\", 1, Any[WebIO.SyncCallback(WebIO.Scope(#= circular reference @-7 =#), WebIO.SyncCallback(WebIO.Scope(#= circular reference @-8 =#), WebIO.#37)), Observables.g]), nothing))), Set{String}(), nothing, Any[\"knockout\"=>\"/home/karel/.julia/v0.6/Knockout/src/../assets/knockout.js\", \"knockout_punches\"=>\"/home/karel/.julia/v0.6/Knockout/src/../assets/knockout_punches.js\", \"/home/karel/.julia/v0.6/InteractBase/src/../assets/all.js\", \"/home/karel/.julia/v0.6/InteractBase/src/../assets/style.css\", \"/home/karel/.julia/v0.6/InteractBulma/src/../assets/main.css\"], Dict{Any,Any}(Pair{Any,Any}(\"_promises\", Dict{Any,Any}(Pair{Any,Any}(\"importsLoaded\", Any[WebIO.JSString(\"function (ko, koPunches) {\\n    ko.punches.enableAll();\\n    ko.bindingHandlers.numericValue = {\\n        init : function(element, valueAccessor, allBindings, data, context) {\\n            var stringified = ko.observable(ko.unwrap(valueAccessor()));\\n            stringified.subscribe(function(value) {\\n                var val = parseFloat(value);\\n                if (!isNaN(val)) {\\n                    valueAccessor()(val);\\n                }\\n            })\\n            valueAccessor().subscribe(function(value) {\\n                var str = JSON.stringify(value);\\n                if ((str == \\\"0\\\") && ([\\\"-0\\\", \\\"-0.\\\"].indexOf(stringified()) >= 0))\\n                     return;\\n                 if ([\\\"null\\\", \\\"\\\"].indexOf(str) >= 0)\\n                     return;\\n                stringified(str);\\n            })\\n            ko.applyBindingsToNode(element, { value: stringified, valueUpdate: allBindings.get('valueUpdate')}, context);\\n        }\\n    };\\n    var json_data = JSON.parse(\\\"{\\\\\\\"changes\\\\\\\":0,\\\\\\\"value\\\\\\\":1}\\\");\\n    var self = this;\\n    function AppViewModel() {\\n        for (var key in json_data) {\\n            var el = json_data[key];\\n            this[key] = Array.isArray(el) ? ko.observableArray(el) : ko.observable(el);\\n        }\\n        \\n        [this[\\\"displayedvalue\\\"]=ko.computed(function () {return this.value();},this)]\\n        [this[\\\"changes\\\"].subscribe((function (val){!(this.valueFromJulia[\\\"changes\\\"]) ? (WebIO.setval({\\\"name\\\":\\\"changes\\\",\\\"scope\\\":\\\"knockout-component-1ac5d06f-11e1-40f1-a71f-978684c32a41\\\",\\\"id\\\":\\\"ob_02\\\",\\\"type\\\":\\\"observable\\\"},val)) : undefined; return this.valueFromJulia[\\\"changes\\\"]=false}),self),this[\\\"value\\\"].subscribe((function (val){!(this.valueFromJulia[\\\"value\\\"]) ? (WebIO.setval({\\\"name\\\":\\\"value\\\",\\\"scope\\\":\\\"knockout-component-1ac5d06f-11e1-40f1-a71f-978684c32a41\\\",\\\"id\\\":\\\"ob_01\\\",\\\"type\\\":\\\"observable\\\"},val)) : undefined; return this.valueFromJulia[\\\"value\\\"]=false}),self)]\\n        \\n    }\\n    self.model = new AppViewModel();\\n    self.valueFromJulia = {};\\n    for (var key in json_data) {\\n        self.valueFromJulia[key] = false;\\n    }\\n    ko.applyBindings(self.model, self.dom);\\n}\\n\")]))),Pair{Any,Any}(\"changes\", Any[WebIO.JSString(\"(function (val){return (val!=this.model[\\\"changes\\\"]()) ? (this.valueFromJulia[\\\"changes\\\"]=true, this.model[\\\"changes\\\"](val)) : undefined})\")]),Pair{Any,Any}(\"value\", Any[WebIO.JSString(\"(function (val){return (val!=this.model[\\\"value\\\"]()) ? (this.valueFromJulia[\\\"value\\\"]=true, this.model[\\\"value\\\"](val)) : undefined})\")])), WebIO.ConnectionPool(Channel{Any}(sz_max:9223372036854775807,sz_curr:3), Set{WebIO.AbstractConnection}(), Channel{WebIO.AbstractConnection}(sz_max:32,sz_curr:0))), WebIO.#37))]),:value=>Observables.Observable{Int64}(\"ob_01\", 1, Any[WebIO.SyncCallback(WebIO.Scope(\"knockout-component-1ac5d06f-11e1-40f1-a71f-978684c32a41\", WebIO.Node{WebIO.DOM}(WebIO.DOM(:html, :div), Any[WebIO.Node{WebIO.DOM}(WebIO.DOM(:html, :div), Any[WebIO.Node{WebIO.DOM}(WebIO.DOM(:html, :label), Any[nothing], Dict{Symbol,Any}(Pair{Symbol,Any}(:className, \"interact \"),Pair{Symbol,Any}(:style, Dict{Any,Any}(Pair{Any,Any}(:padding, \"5px 10px 0px 10px\")))), 1)], Dict{Symbol,Any}(Pair{Symbol,Any}(:attributes, Dict(\"style\"=>\"text-align:right;width:18%\"))), 2), WebIO.Node{WebIO.DOM}(WebIO.DOM(:html, :div), Any[WebIO.Node{WebIO.DOM}(WebIO.DOM(:html, :input), Any[], Dict{Symbol,Any}(Pair{Symbol,Any}(:max, 1000000),Pair{Symbol,Any}(:min, 1),Pair{Symbol,Any}(:attributes, Dict{Any,Any}(Pair{Any,Any}(:type, \"range\"),Pair{Any,Any}(Symbol(\"data-bind\"), \"numericValue: value, valueUpdate: 'input', event: {change : function () {this.changes(this.changes()+1)}}\"))),Pair{Symbol,Any}(:step, 1),Pair{Symbol,Any}(:className, \"slider slider is-fullwidth\"),Pair{Symbol,Any}(:style, Dict{Any,Any}())), 0)], Dict{Symbol,Any}(Pair{Symbol,Any}(:attributes, Dict(\"style\"=>\"flex-grow:1; margin: 0 2%\"))), 1), WebIO.Node{WebIO.DOM}(WebIO.DOM(:html, :div), Any[WebIO.Node{WebIO.DOM}(WebIO.DOM(:html, :p), Any[], Dict{Symbol,Any}(Pair{Symbol,Any}(:attributes, Dict(\"data-bind\"=>\"text: displayedvalue\"))), 0)], Dict{Symbol,Any}(Pair{Symbol,Any}(:attributes, Dict(\"style\"=>\"width:18%\"))), 1)], Dict{Symbol,Any}(Pair{Symbol,Any}(:attributes, Dict(\"style\"=>\"display:flex; justify-content:center; align-items:center;\"))), 7), Dict{String,Tuple{Observables.Observable,Union{Bool, Void}}}(Pair{String,Tuple{Observables.Observable,Union{Bool, Void}}}(\"changes\", (Observables.Observable{Int64}(\"ob_02\", 0, Any[WebIO.SyncCallback(WebIO.Scope(#= circular reference @-7 =#), WebIO.SyncCallback(WebIO.Scope(#= circular reference @-8 =#), WebIO.#37))]), nothing)),Pair{String,Tuple{Observables.Observable,Union{Bool, Void}}}(\"value\", (Observables.Observable{Int64}(#= circular reference @-7 =#), nothing))), Set{String}(), nothing, Any[\"knockout\"=>\"/home/karel/.julia/v0.6/Knockout/src/../assets/knockout.js\", \"knockout_punches\"=>\"/home/karel/.julia/v0.6/Knockout/src/../assets/knockout_punches.js\", \"/home/karel/.julia/v0.6/InteractBase/src/../assets/all.js\", \"/home/karel/.julia/v0.6/InteractBase/src/../assets/style.css\", \"/home/karel/.julia/v0.6/InteractBulma/src/../assets/main.css\"], Dict{Any,Any}(Pair{Any,Any}(\"_promises\", Dict{Any,Any}(Pair{Any,Any}(\"importsLoaded\", Any[WebIO.JSString(\"function (ko, koPunches) {\\n    ko.punches.enableAll();\\n    ko.bindingHandlers.numericValue = {\\n        init : function(element, valueAccessor, allBindings, data, context) {\\n            var stringified = ko.observable(ko.unwrap(valueAccessor()));\\n            stringified.subscribe(function(value) {\\n                var val = parseFloat(value);\\n                if (!isNaN(val)) {\\n                    valueAccessor()(val);\\n                }\\n            })\\n            valueAccessor().subscribe(function(value) {\\n                var str = JSON.stringify(value);\\n                if ((str == \\\"0\\\") && ([\\\"-0\\\", \\\"-0.\\\"].indexOf(stringified()) >= 0))\\n                     return;\\n                 if ([\\\"null\\\", \\\"\\\"].indexOf(str) >= 0)\\n                     return;\\n                stringified(str);\\n            })\\n            ko.applyBindingsToNode(element, { value: stringified, valueUpdate: allBindings.get('valueUpdate')}, context);\\n        }\\n    };\\n    var json_data = JSON.parse(\\\"{\\\\\\\"changes\\\\\\\":0,\\\\\\\"value\\\\\\\":1}\\\");\\n    var self = this;\\n    function AppViewModel() {\\n        for (var key in json_data) {\\n            var el = json_data[key];\\n            this[key] = Array.isArray(el) ? ko.observableArray(el) : ko.observable(el);\\n        }\\n        \\n        [this[\\\"displayedvalue\\\"]=ko.computed(function () {return this.value();},this)]\\n        [this[\\\"changes\\\"].subscribe((function (val){!(this.valueFromJulia[\\\"changes\\\"]) ? (WebIO.setval({\\\"name\\\":\\\"changes\\\",\\\"scope\\\":\\\"knockout-component-1ac5d06f-11e1-40f1-a71f-978684c32a41\\\",\\\"id\\\":\\\"ob_02\\\",\\\"type\\\":\\\"observable\\\"},val)) : undefined; return this.valueFromJulia[\\\"changes\\\"]=false}),self),this[\\\"value\\\"].subscribe((function (val){!(this.valueFromJulia[\\\"value\\\"]) ? (WebIO.setval({\\\"name\\\":\\\"value\\\",\\\"scope\\\":\\\"knockout-component-1ac5d06f-11e1-40f1-a71f-978684c32a41\\\",\\\"id\\\":\\\"ob_01\\\",\\\"type\\\":\\\"observable\\\"},val)) : undefined; return this.valueFromJulia[\\\"value\\\"]=false}),self)]\\n        \\n    }\\n    self.model = new AppViewModel();\\n    self.valueFromJulia = {};\\n    for (var key in json_data) {\\n        self.valueFromJulia[key] = false;\\n    }\\n    ko.applyBindings(self.model, self.dom);\\n}\\n\")]))),Pair{Any,Any}(\"changes\", Any[WebIO.JSString(\"(function (val){return (val!=this.model[\\\"changes\\\"]()) ? (this.valueFromJulia[\\\"changes\\\"]=true, this.model[\\\"changes\\\"](val)) : undefined})\")]),Pair{Any,Any}(\"value\", Any[WebIO.JSString(\"(function (val){return (val!=this.model[\\\"value\\\"]()) ? (this.valueFromJulia[\\\"value\\\"]=true, this.model[\\\"value\\\"](val)) : undefined})\")])), WebIO.ConnectionPool(Channel{Any}(sz_max:9223372036854775807,sz_curr:3), Set{WebIO.AbstractConnection}(), Channel{WebIO.AbstractConnection}(sz_max:32,sz_curr:0))), WebIO.SyncCallback(WebIO.Scope(\"knockout-component-1ac5d06f-11e1-40f1-a71f-978684c32a41\", WebIO.Node{WebIO.DOM}(WebIO.DOM(:html, :div), Any[WebIO.Node{WebIO.DOM}(WebIO.DOM(:html, :div), Any[WebIO.Node{WebIO.DOM}(WebIO.DOM(:html, :label), Any[nothing], Dict{Symbol,Any}(Pair{Symbol,Any}(:className, \"interact \"),Pair{Symbol,Any}(:style, Dict{Any,Any}(Pair{Any,Any}(:padding, \"5px 10px 0px 10px\")))), 1)], Dict{Symbol,Any}(Pair{Symbol,Any}(:attributes, Dict(\"style\"=>\"text-align:right;width:18%\"))), 2), WebIO.Node{WebIO.DOM}(WebIO.DOM(:html, :div), Any[WebIO.Node{WebIO.DOM}(WebIO.DOM(:html, :input), Any[], Dict{Symbol,Any}(Pair{Symbol,Any}(:max, 1000000),Pair{Symbol,Any}(:min, 1),Pair{Symbol,Any}(:attributes, Dict{Any,Any}(Pair{Any,Any}(:type, \"range\"),Pair{Any,Any}(Symbol(\"data-bind\"), \"numericValue: value, valueUpdate: 'input', event: {change : function () {this.changes(this.changes()+1)}}\"))),Pair{Symbol,Any}(:step, 1),Pair{Symbol,Any}(:className, \"slider slider is-fullwidth\"),Pair{Symbol,Any}(:style, Dict{Any,Any}())), 0)], Dict{Symbol,Any}(Pair{Symbol,Any}(:attributes, Dict(\"style\"=>\"flex-grow:1; margin: 0 2%\"))), 1), WebIO.Node{WebIO.DOM}(WebIO.DOM(:html, :div), Any[WebIO.Node{WebIO.DOM}(WebIO.DOM(:html, :p), Any[], Dict{Symbol,Any}(Pair{Symbol,Any}(:attributes, Dict(\"data-bind\"=>\"text: displayedvalue\"))), 0)], Dict{Symbol,Any}(Pair{Symbol,Any}(:attributes, Dict(\"style\"=>\"width:18%\"))), 1)], Dict{Symbol,Any}(Pair{Symbol,Any}(:attributes, Dict(\"style\"=>\"display:flex; justify-content:center; align-items:center;\"))), 7), Dict{String,Tuple{Observables.Observable,Union{Bool, Void}}}(Pair{String,Tuple{Observables.Observable,Union{Bool, Void}}}(\"changes\", (Observables.Observable{Int64}(\"ob_02\", 0, Any[WebIO.SyncCallback(WebIO.Scope(#= circular reference @-7 =#), WebIO.SyncCallback(WebIO.Scope(#= circular reference @-8 =#), WebIO.#37))]), nothing)),Pair{String,Tuple{Observables.Observable,Union{Bool, Void}}}(\"value\", (Observables.Observable{Int64}(#= circular reference @-8 =#), nothing))), Set{String}(), nothing, Any[\"knockout\"=>\"/home/karel/.julia/v0.6/Knockout/src/../assets/knockout.js\", \"knockout_punches\"=>\"/home/karel/.julia/v0.6/Knockout/src/../assets/knockout_punches.js\", \"/home/karel/.julia/v0.6/InteractBase/src/../assets/all.js\", \"/home/karel/.julia/v0.6/InteractBase/src/../assets/style.css\", \"/home/karel/.julia/v0.6/InteractBulma/src/../assets/main.css\"], Dict{Any,Any}(Pair{Any,Any}(\"_promises\", Dict{Any,Any}(Pair{Any,Any}(\"importsLoaded\", Any[WebIO.JSString(\"function (ko, koPunches) {\\n    ko.punches.enableAll();\\n    ko.bindingHandlers.numericValue = {\\n        init : function(element, valueAccessor, allBindings, data, context) {\\n            var stringified = ko.observable(ko.unwrap(valueAccessor()));\\n            stringified.subscribe(function(value) {\\n                var val = parseFloat(value);\\n                if (!isNaN(val)) {\\n                    valueAccessor()(val);\\n                }\\n            })\\n            valueAccessor().subscribe(function(value) {\\n                var str = JSON.stringify(value);\\n                if ((str == \\\"0\\\") && ([\\\"-0\\\", \\\"-0.\\\"].indexOf(stringified()) >= 0))\\n                     return;\\n                 if ([\\\"null\\\", \\\"\\\"].indexOf(str) >= 0)\\n                     return;\\n                stringified(str);\\n            })\\n            ko.applyBindingsToNode(element, { value: stringified, valueUpdate: allBindings.get('valueUpdate')}, context);\\n        }\\n    };\\n    var json_data = JSON.parse(\\\"{\\\\\\\"changes\\\\\\\":0,\\\\\\\"value\\\\\\\":1}\\\");\\n    var self = this;\\n    function AppViewModel() {\\n        for (var key in json_data) {\\n            var el = json_data[key];\\n            this[key] = Array.isArray(el) ? ko.observableArray(el) : ko.observable(el);\\n        }\\n        \\n        [this[\\\"displayedvalue\\\"]=ko.computed(function () {return this.value();},this)]\\n        [this[\\\"changes\\\"].subscribe((function (val){!(this.valueFromJulia[\\\"changes\\\"]) ? (WebIO.setval({\\\"name\\\":\\\"changes\\\",\\\"scope\\\":\\\"knockout-component-1ac5d06f-11e1-40f1-a71f-978684c32a41\\\",\\\"id\\\":\\\"ob_02\\\",\\\"type\\\":\\\"observable\\\"},val)) : undefined; return this.valueFromJulia[\\\"changes\\\"]=false}),self),this[\\\"value\\\"].subscribe((function (val){!(this.valueFromJulia[\\\"value\\\"]) ? (WebIO.setval({\\\"name\\\":\\\"value\\\",\\\"scope\\\":\\\"knockout-component-1ac5d06f-11e1-40f1-a71f-978684c32a41\\\",\\\"id\\\":\\\"ob_01\\\",\\\"type\\\":\\\"observable\\\"},val)) : undefined; return this.valueFromJulia[\\\"value\\\"]=false}),self)]\\n        \\n    }\\n    self.model = new AppViewModel();\\n    self.valueFromJulia = {};\\n    for (var key in json_data) {\\n        self.valueFromJulia[key] = false;\\n    }\\n    ko.applyBindings(self.model, self.dom);\\n}\\n\")]))),Pair{Any,Any}(\"changes\", Any[WebIO.JSString(\"(function (val){return (val!=this.model[\\\"changes\\\"]()) ? (this.valueFromJulia[\\\"changes\\\"]=true, this.model[\\\"changes\\\"](val)) : undefined})\")]),Pair{Any,Any}(\"value\", Any[WebIO.JSString(\"(function (val){return (val!=this.model[\\\"value\\\"]()) ? (this.valueFromJulia[\\\"value\\\"]=true, this.model[\\\"value\\\"](val)) : undefined})\")])), WebIO.ConnectionPool(Channel{Any}(sz_max:9223372036854775807,sz_curr:3), Set{WebIO.AbstractConnection}(), Channel{WebIO.AbstractConnection}(sz_max:32,sz_curr:0))), WebIO.#37)), Observables.g])), Observables.Observable{Int64}(\"ob_01\", 1, Any[WebIO.SyncCallback(WebIO.Scope(\"knockout-component-1ac5d06f-11e1-40f1-a71f-978684c32a41\", WebIO.Node{WebIO.DOM}(WebIO.DOM(:html, :div), Any[WebIO.Node{WebIO.DOM}(WebIO.DOM(:html, :div), Any[WebIO.Node{WebIO.DOM}(WebIO.DOM(:html, :label), Any[nothing], Dict{Symbol,Any}(Pair{Symbol,Any}(:className, \"interact \"),Pair{Symbol,Any}(:style, Dict{Any,Any}(Pair{Any,Any}(:padding, \"5px 10px 0px 10px\")))), 1)], Dict{Symbol,Any}(Pair{Symbol,Any}(:attributes, Dict(\"style\"=>\"text-align:right;width:18%\"))), 2), WebIO.Node{WebIO.DOM}(WebIO.DOM(:html, :div), Any[WebIO.Node{WebIO.DOM}(WebIO.DOM(:html, :input), Any[], Dict{Symbol,Any}(Pair{Symbol,Any}(:max, 1000000),Pair{Symbol,Any}(:min, 1),Pair{Symbol,Any}(:attributes, Dict{Any,Any}(Pair{Any,Any}(:type, \"range\"),Pair{Any,Any}(Symbol(\"data-bind\"), \"numericValue: value, valueUpdate: 'input', event: {change : function () {this.changes(this.changes()+1)}}\"))),Pair{Symbol,Any}(:step, 1),Pair{Symbol,Any}(:className, \"slider slider is-fullwidth\"),Pair{Symbol,Any}(:style, Dict{Any,Any}())), 0)], Dict{Symbol,Any}(Pair{Symbol,Any}(:attributes, Dict(\"style\"=>\"flex-grow:1; margin: 0 2%\"))), 1), WebIO.Node{WebIO.DOM}(WebIO.DOM(:html, :div), Any[WebIO.Node{WebIO.DOM}(WebIO.DOM(:html, :p), Any[], Dict{Symbol,Any}(Pair{Symbol,Any}(:attributes, Dict(\"data-bind\"=>\"text: displayedvalue\"))), 0)], Dict{Symbol,Any}(Pair{Symbol,Any}(:attributes, Dict(\"style\"=>\"width:18%\"))), 1)], Dict{Symbol,Any}(Pair{Symbol,Any}(:attributes, Dict(\"style\"=>\"display:flex; justify-content:center; align-items:center;\"))), 7), Dict{String,Tuple{Observables.Observable,Union{Bool, Void}}}(Pair{String,Tuple{Observables.Observable,Union{Bool, Void}}}(\"changes\", (Observables.Observable{Int64}(\"ob_02\", 0, Any[WebIO.SyncCallback(WebIO.Scope(#= circular reference @-7 =#), WebIO.SyncCallback(WebIO.Scope(#= circular reference @-8 =#), WebIO.#37))]), nothing)),Pair{String,Tuple{Observables.Observable,Union{Bool, Void}}}(\"value\", (Observables.Observable{Int64}(#= circular reference @-7 =#), nothing))), Set{String}(), nothing, Any[\"knockout\"=>\"/home/karel/.julia/v0.6/Knockout/src/../assets/knockout.js\", \"knockout_punches\"=>\"/home/karel/.julia/v0.6/Knockout/src/../assets/knockout_punches.js\", \"/home/karel/.julia/v0.6/InteractBase/src/../assets/all.js\", \"/home/karel/.julia/v0.6/InteractBase/src/../assets/style.css\", \"/home/karel/.julia/v0.6/InteractBulma/src/../assets/main.css\"], Dict{Any,Any}(Pair{Any,Any}(\"_promises\", Dict{Any,Any}(Pair{Any,Any}(\"importsLoaded\", Any[WebIO.JSString(\"function (ko, koPunches) {\\n    ko.punches.enableAll();\\n    ko.bindingHandlers.numericValue = {\\n        init : function(element, valueAccessor, allBindings, data, context) {\\n            var stringified = ko.observable(ko.unwrap(valueAccessor()));\\n            stringified.subscribe(function(value) {\\n                var val = parseFloat(value);\\n                if (!isNaN(val)) {\\n                    valueAccessor()(val);\\n                }\\n            })\\n            valueAccessor().subscribe(function(value) {\\n                var str = JSON.stringify(value);\\n                if ((str == \\\"0\\\") && ([\\\"-0\\\", \\\"-0.\\\"].indexOf(stringified()) >= 0))\\n                     return;\\n                 if ([\\\"null\\\", \\\"\\\"].indexOf(str) >= 0)\\n                     return;\\n                stringified(str);\\n            })\\n            ko.applyBindingsToNode(element, { value: stringified, valueUpdate: allBindings.get('valueUpdate')}, context);\\n        }\\n    };\\n    var json_data = JSON.parse(\\\"{\\\\\\\"changes\\\\\\\":0,\\\\\\\"value\\\\\\\":1}\\\");\\n    var self = this;\\n    function AppViewModel() {\\n        for (var key in json_data) {\\n            var el = json_data[key];\\n            this[key] = Array.isArray(el) ? ko.observableArray(el) : ko.observable(el);\\n        }\\n        \\n        [this[\\\"displayedvalue\\\"]=ko.computed(function () {return this.value();},this)]\\n        [this[\\\"changes\\\"].subscribe((function (val){!(this.valueFromJulia[\\\"changes\\\"]) ? (WebIO.setval({\\\"name\\\":\\\"changes\\\",\\\"scope\\\":\\\"knockout-component-1ac5d06f-11e1-40f1-a71f-978684c32a41\\\",\\\"id\\\":\\\"ob_02\\\",\\\"type\\\":\\\"observable\\\"},val)) : undefined; return this.valueFromJulia[\\\"changes\\\"]=false}),self),this[\\\"value\\\"].subscribe((function (val){!(this.valueFromJulia[\\\"value\\\"]) ? (WebIO.setval({\\\"name\\\":\\\"value\\\",\\\"scope\\\":\\\"knockout-component-1ac5d06f-11e1-40f1-a71f-978684c32a41\\\",\\\"id\\\":\\\"ob_01\\\",\\\"type\\\":\\\"observable\\\"},val)) : undefined; return this.valueFromJulia[\\\"value\\\"]=false}),self)]\\n        \\n    }\\n    self.model = new AppViewModel();\\n    self.valueFromJulia = {};\\n    for (var key in json_data) {\\n        self.valueFromJulia[key] = false;\\n    }\\n    ko.applyBindings(self.model, self.dom);\\n}\\n\")]))),Pair{Any,Any}(\"changes\", Any[WebIO.JSString(\"(function (val){return (val!=this.model[\\\"changes\\\"]()) ? (this.valueFromJulia[\\\"changes\\\"]=true, this.model[\\\"changes\\\"](val)) : undefined})\")]),Pair{Any,Any}(\"value\", Any[WebIO.JSString(\"(function (val){return (val!=this.model[\\\"value\\\"]()) ? (this.valueFromJulia[\\\"value\\\"]=true, this.model[\\\"value\\\"](val)) : undefined})\")])), WebIO.ConnectionPool(Channel{Any}(sz_max:9223372036854775807,sz_curr:3), Set{WebIO.AbstractConnection}(), Channel{WebIO.AbstractConnection}(sz_max:32,sz_curr:0))), WebIO.SyncCallback(WebIO.Scope(\"knockout-component-1ac5d06f-11e1-40f1-a71f-978684c32a41\", WebIO.Node{WebIO.DOM}(WebIO.DOM(:html, :div), Any[WebIO.Node{WebIO.DOM}(WebIO.DOM(:html, :div), Any[WebIO.Node{WebIO.DOM}(WebIO.DOM(:html, :label), Any[nothing], Dict{Symbol,Any}(Pair{Symbol,Any}(:className, \"interact \"),Pair{Symbol,Any}(:style, Dict{Any,Any}(Pair{Any,Any}(:padding, \"5px 10px 0px 10px\")))), 1)], Dict{Symbol,Any}(Pair{Symbol,Any}(:attributes, Dict(\"style\"=>\"text-align:right;width:18%\"))), 2), WebIO.Node{WebIO.DOM}(WebIO.DOM(:html, :div), Any[WebIO.Node{WebIO.DOM}(WebIO.DOM(:html, :input), Any[], Dict{Symbol,Any}(Pair{Symbol,Any}(:max, 1000000),Pair{Symbol,Any}(:min, 1),Pair{Symbol,Any}(:attributes, Dict{Any,Any}(Pair{Any,Any}(:type, \"range\"),Pair{Any,Any}(Symbol(\"data-bind\"), \"numericValue: value, valueUpdate: 'input', event: {change : function () {this.changes(this.changes()+1)}}\"))),Pair{Symbol,Any}(:step, 1),Pair{Symbol,Any}(:className, \"slider slider is-fullwidth\"),Pair{Symbol,Any}(:style, Dict{Any,Any}())), 0)], Dict{Symbol,Any}(Pair{Symbol,Any}(:attributes, Dict(\"style\"=>\"flex-grow:1; margin: 0 2%\"))), 1), WebIO.Node{WebIO.DOM}(WebIO.DOM(:html, :div), Any[WebIO.Node{WebIO.DOM}(WebIO.DOM(:html, :p), Any[], Dict{Symbol,Any}(Pair{Symbol,Any}(:attributes, Dict(\"data-bind\"=>\"text: displayedvalue\"))), 0)], Dict{Symbol,Any}(Pair{Symbol,Any}(:attributes, Dict(\"style\"=>\"width:18%\"))), 1)], Dict{Symbol,Any}(Pair{Symbol,Any}(:attributes, Dict(\"style\"=>\"display:flex; justify-content:center; align-items:center;\"))), 7), Dict{String,Tuple{Observables.Observable,Union{Bool, Void}}}(Pair{String,Tuple{Observables.Observable,Union{Bool, Void}}}(\"changes\", (Observables.Observable{Int64}(\"ob_02\", 0, Any[WebIO.SyncCallback(WebIO.Scope(#= circular reference @-7 =#), WebIO.SyncCallback(WebIO.Scope(#= circular reference @-8 =#), WebIO.#37))]), nothing)),Pair{String,Tuple{Observables.Observable,Union{Bool, Void}}}(\"value\", (Observables.Observable{Int64}(#= circular reference @-8 =#), nothing))), Set{String}(), nothing, Any[\"knockout\"=>\"/home/karel/.julia/v0.6/Knockout/src/../assets/knockout.js\", \"knockout_punches\"=>\"/home/karel/.julia/v0.6/Knockout/src/../assets/knockout_punches.js\", \"/home/karel/.julia/v0.6/InteractBase/src/../assets/all.js\", \"/home/karel/.julia/v0.6/InteractBase/src/../assets/style.css\", \"/home/karel/.julia/v0.6/InteractBulma/src/../assets/main.css\"], Dict{Any,Any}(Pair{Any,Any}(\"_promises\", Dict{Any,Any}(Pair{Any,Any}(\"importsLoaded\", Any[WebIO.JSString(\"function (ko, koPunches) {\\n    ko.punches.enableAll();\\n    ko.bindingHandlers.numericValue = {\\n        init : function(element, valueAccessor, allBindings, data, context) {\\n            var stringified = ko.observable(ko.unwrap(valueAccessor()));\\n            stringified.subscribe(function(value) {\\n                var val = parseFloat(value);\\n                if (!isNaN(val)) {\\n                    valueAccessor()(val);\\n                }\\n            })\\n            valueAccessor().subscribe(function(value) {\\n                var str = JSON.stringify(value);\\n                if ((str == \\\"0\\\") && ([\\\"-0\\\", \\\"-0.\\\"].indexOf(stringified()) >= 0))\\n                     return;\\n                 if ([\\\"null\\\", \\\"\\\"].indexOf(str) >= 0)\\n                     return;\\n                stringified(str);\\n            })\\n            ko.applyBindingsToNode(element, { value: stringified, valueUpdate: allBindings.get('valueUpdate')}, context);\\n        }\\n    };\\n    var json_data = JSON.parse(\\\"{\\\\\\\"changes\\\\\\\":0,\\\\\\\"value\\\\\\\":1}\\\");\\n    var self = this;\\n    function AppViewModel() {\\n        for (var key in json_data) {\\n            var el = json_data[key];\\n            this[key] = Array.isArray(el) ? ko.observableArray(el) : ko.observable(el);\\n        }\\n        \\n        [this[\\\"displayedvalue\\\"]=ko.computed(function () {return this.value();},this)]\\n        [this[\\\"changes\\\"].subscribe((function (val){!(this.valueFromJulia[\\\"changes\\\"]) ? (WebIO.setval({\\\"name\\\":\\\"changes\\\",\\\"scope\\\":\\\"knockout-component-1ac5d06f-11e1-40f1-a71f-978684c32a41\\\",\\\"id\\\":\\\"ob_02\\\",\\\"type\\\":\\\"observable\\\"},val)) : undefined; return this.valueFromJulia[\\\"changes\\\"]=false}),self),this[\\\"value\\\"].subscribe((function (val){!(this.valueFromJulia[\\\"value\\\"]) ? (WebIO.setval({\\\"name\\\":\\\"value\\\",\\\"scope\\\":\\\"knockout-component-1ac5d06f-11e1-40f1-a71f-978684c32a41\\\",\\\"id\\\":\\\"ob_01\\\",\\\"type\\\":\\\"observable\\\"},val)) : undefined; return this.valueFromJulia[\\\"value\\\"]=false}),self)]\\n        \\n    }\\n    self.model = new AppViewModel();\\n    self.valueFromJulia = {};\\n    for (var key in json_data) {\\n        self.valueFromJulia[key] = false;\\n    }\\n    ko.applyBindings(self.model, self.dom);\\n}\\n\")]))),Pair{Any,Any}(\"changes\", Any[WebIO.JSString(\"(function (val){return (val!=this.model[\\\"changes\\\"]()) ? (this.valueFromJulia[\\\"changes\\\"]=true, this.model[\\\"changes\\\"](val)) : undefined})\")]),Pair{Any,Any}(\"value\", Any[WebIO.JSString(\"(function (val){return (val!=this.model[\\\"value\\\"]()) ? (this.valueFromJulia[\\\"value\\\"]=true, this.model[\\\"value\\\"](val)) : undefined})\")])), WebIO.ConnectionPool(Channel{Any}(sz_max:9223372036854775807,sz_curr:3), Set{WebIO.AbstractConnection}(), Channel{WebIO.AbstractConnection}(sz_max:32,sz_curr:0))), WebIO.#37)), Observables.g]), Observables.Observable{Int64}(\"ob_01\", 1, Any[WebIO.SyncCallback(WebIO.Scope(\"knockout-component-1ac5d06f-11e1-40f1-a71f-978684c32a41\", WebIO.Node{WebIO.DOM}(WebIO.DOM(:html, :div), Any[WebIO.Node{WebIO.DOM}(WebIO.DOM(:html, :div), Any[WebIO.Node{WebIO.DOM}(WebIO.DOM(:html, :label), Any[nothing], Dict{Symbol,Any}(Pair{Symbol,Any}(:className, \"interact \"),Pair{Symbol,Any}(:style, Dict{Any,Any}(Pair{Any,Any}(:padding, \"5px 10px 0px 10px\")))), 1)], Dict{Symbol,Any}(Pair{Symbol,Any}(:attributes, Dict(\"style\"=>\"text-align:right;width:18%\"))), 2), WebIO.Node{WebIO.DOM}(WebIO.DOM(:html, :div), Any[WebIO.Node{WebIO.DOM}(WebIO.DOM(:html, :input), Any[], Dict{Symbol,Any}(Pair{Symbol,Any}(:max, 1000000),Pair{Symbol,Any}(:min, 1),Pair{Symbol,Any}(:attributes, Dict{Any,Any}(Pair{Any,Any}(:type, \"range\"),Pair{Any,Any}(Symbol(\"data-bind\"), \"numericValue: value, valueUpdate: 'input', event: {change : function () {this.changes(this.changes()+1)}}\"))),Pair{Symbol,Any}(:step, 1),Pair{Symbol,Any}(:className, \"slider slider is-fullwidth\"),Pair{Symbol,Any}(:style, Dict{Any,Any}())), 0)], Dict{Symbol,Any}(Pair{Symbol,Any}(:attributes, Dict(\"style\"=>\"flex-grow:1; margin: 0 2%\"))), 1), WebIO.Node{WebIO.DOM}(WebIO.DOM(:html, :div), Any[WebIO.Node{WebIO.DOM}(WebIO.DOM(:html, :p), Any[], Dict{Symbol,Any}(Pair{Symbol,Any}(:attributes, Dict(\"data-bind\"=>\"text: displayedvalue\"))), 0)], Dict{Symbol,Any}(Pair{Symbol,Any}(:attributes, Dict(\"style\"=>\"width:18%\"))), 1)], Dict{Symbol,Any}(Pair{Symbol,Any}(:attributes, Dict(\"style\"=>\"display:flex; justify-content:center; align-items:center;\"))), 7), Dict{String,Tuple{Observables.Observable,Union{Bool, Void}}}(Pair{String,Tuple{Observables.Observable,Union{Bool, Void}}}(\"changes\", (Observables.Observable{Int64}(\"ob_02\", 0, Any[WebIO.SyncCallback(WebIO.Scope(#= circular reference @-7 =#), WebIO.SyncCallback(WebIO.Scope(#= circular reference @-8 =#), WebIO.#37))]), nothing)),Pair{String,Tuple{Observables.Observable,Union{Bool, Void}}}(\"value\", (Observables.Observable{Int64}(#= circular reference @-7 =#), nothing))), Set{String}(), nothing, Any[\"knockout\"=>\"/home/karel/.julia/v0.6/Knockout/src/../assets/knockout.js\", \"knockout_punches\"=>\"/home/karel/.julia/v0.6/Knockout/src/../assets/knockout_punches.js\", \"/home/karel/.julia/v0.6/InteractBase/src/../assets/all.js\", \"/home/karel/.julia/v0.6/InteractBase/src/../assets/style.css\", \"/home/karel/.julia/v0.6/InteractBulma/src/../assets/main.css\"], Dict{Any,Any}(Pair{Any,Any}(\"_promises\", Dict{Any,Any}(Pair{Any,Any}(\"importsLoaded\", Any[WebIO.JSString(\"function (ko, koPunches) {\\n    ko.punches.enableAll();\\n    ko.bindingHandlers.numericValue = {\\n        init : function(element, valueAccessor, allBindings, data, context) {\\n            var stringified = ko.observable(ko.unwrap(valueAccessor()));\\n            stringified.subscribe(function(value) {\\n                var val = parseFloat(value);\\n                if (!isNaN(val)) {\\n                    valueAccessor()(val);\\n                }\\n            })\\n            valueAccessor().subscribe(function(value) {\\n                var str = JSON.stringify(value);\\n                if ((str == \\\"0\\\") && ([\\\"-0\\\", \\\"-0.\\\"].indexOf(stringified()) >= 0))\\n                     return;\\n                 if ([\\\"null\\\", \\\"\\\"].indexOf(str) >= 0)\\n                     return;\\n                stringified(str);\\n            })\\n            ko.applyBindingsToNode(element, { value: stringified, valueUpdate: allBindings.get('valueUpdate')}, context);\\n        }\\n    };\\n    var json_data = JSON.parse(\\\"{\\\\\\\"changes\\\\\\\":0,\\\\\\\"value\\\\\\\":1}\\\");\\n    var self = this;\\n    function AppViewModel() {\\n        for (var key in json_data) {\\n            var el = json_data[key];\\n            this[key] = Array.isArray(el) ? ko.observableArray(el) : ko.observable(el);\\n        }\\n        \\n        [this[\\\"displayedvalue\\\"]=ko.computed(function () {return this.value();},this)]\\n        [this[\\\"changes\\\"].subscribe((function (val){!(this.valueFromJulia[\\\"changes\\\"]) ? (WebIO.setval({\\\"name\\\":\\\"changes\\\",\\\"scope\\\":\\\"knockout-component-1ac5d06f-11e1-40f1-a71f-978684c32a41\\\",\\\"id\\\":\\\"ob_02\\\",\\\"type\\\":\\\"observable\\\"},val)) : undefined; return this.valueFromJulia[\\\"changes\\\"]=false}),self),this[\\\"value\\\"].subscribe((function (val){!(this.valueFromJulia[\\\"value\\\"]) ? (WebIO.setval({\\\"name\\\":\\\"value\\\",\\\"scope\\\":\\\"knockout-component-1ac5d06f-11e1-40f1-a71f-978684c32a41\\\",\\\"id\\\":\\\"ob_01\\\",\\\"type\\\":\\\"observable\\\"},val)) : undefined; return this.valueFromJulia[\\\"value\\\"]=false}),self)]\\n        \\n    }\\n    self.model = new AppViewModel();\\n    self.valueFromJulia = {};\\n    for (var key in json_data) {\\n        self.valueFromJulia[key] = false;\\n    }\\n    ko.applyBindings(self.model, self.dom);\\n}\\n\")]))),Pair{Any,Any}(\"changes\", Any[WebIO.JSString(\"(function (val){return (val!=this.model[\\\"changes\\\"]()) ? (this.valueFromJulia[\\\"changes\\\"]=true, this.model[\\\"changes\\\"](val)) : undefined})\")]),Pair{Any,Any}(\"value\", Any[WebIO.JSString(\"(function (val){return (val!=this.model[\\\"value\\\"]()) ? (this.valueFromJulia[\\\"value\\\"]=true, this.model[\\\"value\\\"](val)) : undefined})\")])), WebIO.ConnectionPool(Channel{Any}(sz_max:9223372036854775807,sz_curr:3), Set{WebIO.AbstractConnection}(), Channel{WebIO.AbstractConnection}(sz_max:32,sz_curr:0))), WebIO.SyncCallback(WebIO.Scope(\"knockout-component-1ac5d06f-11e1-40f1-a71f-978684c32a41\", WebIO.Node{WebIO.DOM}(WebIO.DOM(:html, :div), Any[WebIO.Node{WebIO.DOM}(WebIO.DOM(:html, :div), Any[WebIO.Node{WebIO.DOM}(WebIO.DOM(:html, :label), Any[nothing], Dict{Symbol,Any}(Pair{Symbol,Any}(:className, \"interact \"),Pair{Symbol,Any}(:style, Dict{Any,Any}(Pair{Any,Any}(:padding, \"5px 10px 0px 10px\")))), 1)], Dict{Symbol,Any}(Pair{Symbol,Any}(:attributes, Dict(\"style\"=>\"text-align:right;width:18%\"))), 2), WebIO.Node{WebIO.DOM}(WebIO.DOM(:html, :div), Any[WebIO.Node{WebIO.DOM}(WebIO.DOM(:html, :input), Any[], Dict{Symbol,Any}(Pair{Symbol,Any}(:max, 1000000),Pair{Symbol,Any}(:min, 1),Pair{Symbol,Any}(:attributes, Dict{Any,Any}(Pair{Any,Any}(:type, \"range\"),Pair{Any,Any}(Symbol(\"data-bind\"), \"numericValue: value, valueUpdate: 'input', event: {change : function () {this.changes(this.changes()+1)}}\"))),Pair{Symbol,Any}(:step, 1),Pair{Symbol,Any}(:className, \"slider slider is-fullwidth\"),Pair{Symbol,Any}(:style, Dict{Any,Any}())), 0)], Dict{Symbol,Any}(Pair{Symbol,Any}(:attributes, Dict(\"style\"=>\"flex-grow:1; margin: 0 2%\"))), 1), WebIO.Node{WebIO.DOM}(WebIO.DOM(:html, :div), Any[WebIO.Node{WebIO.DOM}(WebIO.DOM(:html, :p), Any[], Dict{Symbol,Any}(Pair{Symbol,Any}(:attributes, Dict(\"data-bind\"=>\"text: displayedvalue\"))), 0)], Dict{Symbol,Any}(Pair{Symbol,Any}(:attributes, Dict(\"style\"=>\"width:18%\"))), 1)], Dict{Symbol,Any}(Pair{Symbol,Any}(:attributes, Dict(\"style\"=>\"display:flex; justify-content:center; align-items:center;\"))), 7), Dict{String,Tuple{Observables.Observable,Union{Bool, Void}}}(Pair{String,Tuple{Observables.Observable,Union{Bool, Void}}}(\"changes\", (Observables.Observable{Int64}(\"ob_02\", 0, Any[WebIO.SyncCallback(WebIO.Scope(#= circular reference @-7 =#), WebIO.SyncCallback(WebIO.Scope(#= circular reference @-8 =#), WebIO.#37))]), nothing)),Pair{String,Tuple{Observables.Observable,Union{Bool, Void}}}(\"value\", (Observables.Observable{Int64}(#= circular reference @-8 =#), nothing))), Set{String}(), nothing, Any[\"knockout\"=>\"/home/karel/.julia/v0.6/Knockout/src/../assets/knockout.js\", \"knockout_punches\"=>\"/home/karel/.julia/v0.6/Knockout/src/../assets/knockout_punches.js\", \"/home/karel/.julia/v0.6/InteractBase/src/../assets/all.js\", \"/home/karel/.julia/v0.6/InteractBase/src/../assets/style.css\", \"/home/karel/.julia/v0.6/InteractBulma/src/../assets/main.css\"], Dict{Any,Any}(Pair{Any,Any}(\"_promises\", Dict{Any,Any}(Pair{Any,Any}(\"importsLoaded\", Any[WebIO.JSString(\"function (ko, koPunches) {\\n    ko.punches.enableAll();\\n    ko.bindingHandlers.numericValue = {\\n        init : function(element, valueAccessor, allBindings, data, context) {\\n            var stringified = ko.observable(ko.unwrap(valueAccessor()));\\n            stringified.subscribe(function(value) {\\n                var val = parseFloat(value);\\n                if (!isNaN(val)) {\\n                    valueAccessor()(val);\\n                }\\n            })\\n            valueAccessor().subscribe(function(value) {\\n                var str = JSON.stringify(value);\\n                if ((str == \\\"0\\\") && ([\\\"-0\\\", \\\"-0.\\\"].indexOf(stringified()) >= 0))\\n                     return;\\n                 if ([\\\"null\\\", \\\"\\\"].indexOf(str) >= 0)\\n                     return;\\n                stringified(str);\\n            })\\n            ko.applyBindingsToNode(element, { value: stringified, valueUpdate: allBindings.get('valueUpdate')}, context);\\n        }\\n    };\\n    var json_data = JSON.parse(\\\"{\\\\\\\"changes\\\\\\\":0,\\\\\\\"value\\\\\\\":1}\\\");\\n    var self = this;\\n    function AppViewModel() {\\n        for (var key in json_data) {\\n            var el = json_data[key];\\n            this[key] = Array.isArray(el) ? ko.observableArray(el) : ko.observable(el);\\n        }\\n        \\n        [this[\\\"displayedvalue\\\"]=ko.computed(function () {return this.value();},this)]\\n        [this[\\\"changes\\\"].subscribe((function (val){!(this.valueFromJulia[\\\"changes\\\"]) ? (WebIO.setval({\\\"name\\\":\\\"changes\\\",\\\"scope\\\":\\\"knockout-component-1ac5d06f-11e1-40f1-a71f-978684c32a41\\\",\\\"id\\\":\\\"ob_02\\\",\\\"type\\\":\\\"observable\\\"},val)) : undefined; return this.valueFromJulia[\\\"changes\\\"]=false}),self),this[\\\"value\\\"].subscribe((function (val){!(this.valueFromJulia[\\\"value\\\"]) ? (WebIO.setval({\\\"name\\\":\\\"value\\\",\\\"scope\\\":\\\"knockout-component-1ac5d06f-11e1-40f1-a71f-978684c32a41\\\",\\\"id\\\":\\\"ob_01\\\",\\\"type\\\":\\\"observable\\\"},val)) : undefined; return this.valueFromJulia[\\\"value\\\"]=false}),self)]\\n        \\n    }\\n    self.model = new AppViewModel();\\n    self.valueFromJulia = {};\\n    for (var key in json_data) {\\n        self.valueFromJulia[key] = false;\\n    }\\n    ko.applyBindings(self.model, self.dom);\\n}\\n\")]))),Pair{Any,Any}(\"changes\", Any[WebIO.JSString(\"(function (val){return (val!=this.model[\\\"changes\\\"]()) ? (this.valueFromJulia[\\\"changes\\\"]=true, this.model[\\\"changes\\\"](val)) : undefined})\")]),Pair{Any,Any}(\"value\", Any[WebIO.JSString(\"(function (val){return (val!=this.model[\\\"value\\\"]()) ? (this.valueFromJulia[\\\"value\\\"]=true, this.model[\\\"value\\\"](val)) : undefined})\")])), WebIO.ConnectionPool(Channel{Any}(sz_max:9223372036854775807,sz_curr:3), Set{WebIO.AbstractConnection}(), Channel{WebIO.AbstractConnection}(sz_max:32,sz_curr:0))), WebIO.#37)), Observables.g]), WebIO.Scope(\"knockout-component-1ac5d06f-11e1-40f1-a71f-978684c32a41\", WebIO.Node{WebIO.DOM}(WebIO.DOM(:html, :div), Any[WebIO.Node{WebIO.DOM}(WebIO.DOM(:html, :div), Any[WebIO.Node{WebIO.DOM}(WebIO.DOM(:html, :label), Any[nothing], Dict{Symbol,Any}(Pair{Symbol,Any}(:className, \"interact \"),Pair{Symbol,Any}(:style, Dict{Any,Any}(Pair{Any,Any}(:padding, \"5px 10px 0px 10px\")))), 1)], Dict{Symbol,Any}(Pair{Symbol,Any}(:attributes, Dict(\"style\"=>\"text-align:right;width:18%\"))), 2), WebIO.Node{WebIO.DOM}(WebIO.DOM(:html, :div), Any[WebIO.Node{WebIO.DOM}(WebIO.DOM(:html, :input), Any[], Dict{Symbol,Any}(Pair{Symbol,Any}(:max, 1000000),Pair{Symbol,Any}(:min, 1),Pair{Symbol,Any}(:attributes, Dict{Any,Any}(Pair{Any,Any}(:type, \"range\"),Pair{Any,Any}(Symbol(\"data-bind\"), \"numericValue: value, valueUpdate: 'input', event: {change : function () {this.changes(this.changes()+1)}}\"))),Pair{Symbol,Any}(:step, 1),Pair{Symbol,Any}(:className, \"slider slider is-fullwidth\"),Pair{Symbol,Any}(:style, Dict{Any,Any}())), 0)], Dict{Symbol,Any}(Pair{Symbol,Any}(:attributes, Dict(\"style\"=>\"flex-grow:1; margin: 0 2%\"))), 1), WebIO.Node{WebIO.DOM}(WebIO.DOM(:html, :div), Any[WebIO.Node{WebIO.DOM}(WebIO.DOM(:html, :p), Any[], Dict{Symbol,Any}(Pair{Symbol,Any}(:attributes, Dict(\"data-bind\"=>\"text: displayedvalue\"))), 0)], Dict{Symbol,Any}(Pair{Symbol,Any}(:attributes, Dict(\"style\"=>\"width:18%\"))), 1)], Dict{Symbol,Any}(Pair{Symbol,Any}(:attributes, Dict(\"style\"=>\"display:flex; justify-content:center; align-items:center;\"))), 7), Dict{String,Tuple{Observables.Observable,Union{Bool, Void}}}(Pair{String,Tuple{Observables.Observable,Union{Bool, Void}}}(\"changes\", (Observables.Observable{Int64}(\"ob_02\", 0, Any[WebIO.SyncCallback(WebIO.Scope(#= circular reference @-7 =#), WebIO.SyncCallback(WebIO.Scope(#= circular reference @-8 =#), WebIO.#37))]), nothing)),Pair{String,Tuple{Observables.Observable,Union{Bool, Void}}}(\"value\", (Observables.Observable{Int64}(\"ob_01\", 1, Any[WebIO.SyncCallback(WebIO.Scope(#= circular reference @-7 =#), WebIO.SyncCallback(WebIO.Scope(#= circular reference @-8 =#), WebIO.#37)), Observables.g]), nothing))), Set{String}(), nothing, Any[\"knockout\"=>\"/home/karel/.julia/v0.6/Knockout/src/../assets/knockout.js\", \"knockout_punches\"=>\"/home/karel/.julia/v0.6/Knockout/src/../assets/knockout_punches.js\", \"/home/karel/.julia/v0.6/InteractBase/src/../assets/all.js\", \"/home/karel/.julia/v0.6/InteractBase/src/../assets/style.css\", \"/home/karel/.julia/v0.6/InteractBulma/src/../assets/main.css\"], Dict{Any,Any}(Pair{Any,Any}(\"_promises\", Dict{Any,Any}(Pair{Any,Any}(\"importsLoaded\", Any[WebIO.JSString(\"function (ko, koPunches) {\\n    ko.punches.enableAll();\\n    ko.bindingHandlers.numericValue = {\\n        init : function(element, valueAccessor, allBindings, data, context) {\\n            var stringified = ko.observable(ko.unwrap(valueAccessor()));\\n            stringified.subscribe(function(value) {\\n                var val = parseFloat(value);\\n                if (!isNaN(val)) {\\n                    valueAccessor()(val);\\n                }\\n            })\\n            valueAccessor().subscribe(function(value) {\\n                var str = JSON.stringify(value);\\n                if ((str == \\\"0\\\") && ([\\\"-0\\\", \\\"-0.\\\"].indexOf(stringified()) >= 0))\\n                     return;\\n                 if ([\\\"null\\\", \\\"\\\"].indexOf(str) >= 0)\\n                     return;\\n                stringified(str);\\n            })\\n            ko.applyBindingsToNode(element, { value: stringified, valueUpdate: allBindings.get('valueUpdate')}, context);\\n        }\\n    };\\n    var json_data = JSON.parse(\\\"{\\\\\\\"changes\\\\\\\":0,\\\\\\\"value\\\\\\\":1}\\\");\\n    var self = this;\\n    function AppViewModel() {\\n        for (var key in json_data) {\\n            var el = json_data[key];\\n            this[key] = Array.isArray(el) ? ko.observableArray(el) : ko.observable(el);\\n        }\\n        \\n        [this[\\\"displayedvalue\\\"]=ko.computed(function () {return this.value();},this)]\\n        [this[\\\"changes\\\"].subscribe((function (val){!(this.valueFromJulia[\\\"changes\\\"]) ? (WebIO.setval({\\\"name\\\":\\\"changes\\\",\\\"scope\\\":\\\"knockout-component-1ac5d06f-11e1-40f1-a71f-978684c32a41\\\",\\\"id\\\":\\\"ob_02\\\",\\\"type\\\":\\\"observable\\\"},val)) : undefined; return this.valueFromJulia[\\\"changes\\\"]=false}),self),this[\\\"value\\\"].subscribe((function (val){!(this.valueFromJulia[\\\"value\\\"]) ? (WebIO.setval({\\\"name\\\":\\\"value\\\",\\\"scope\\\":\\\"knockout-component-1ac5d06f-11e1-40f1-a71f-978684c32a41\\\",\\\"id\\\":\\\"ob_01\\\",\\\"type\\\":\\\"observable\\\"},val)) : undefined; return this.valueFromJulia[\\\"value\\\"]=false}),self)]\\n        \\n    }\\n    self.model = new AppViewModel();\\n    self.valueFromJulia = {};\\n    for (var key in json_data) {\\n        self.valueFromJulia[key] = false;\\n    }\\n    ko.applyBindings(self.model, self.dom);\\n}\\n\")]))),Pair{Any,Any}(\"changes\", Any[WebIO.JSString(\"(function (val){return (val!=this.model[\\\"changes\\\"]()) ? (this.valueFromJulia[\\\"changes\\\"]=true, this.model[\\\"changes\\\"](val)) : undefined})\")]),Pair{Any,Any}(\"value\", Any[WebIO.JSString(\"(function (val){return (val!=this.model[\\\"value\\\"]()) ? (this.valueFromJulia[\\\"value\\\"]=true, this.model[\\\"value\\\"](val)) : undefined})\")])), WebIO.ConnectionPool(Channel{Any}(sz_max:9223372036854775807,sz_curr:3), Set{WebIO.AbstractConnection}(), Channel{WebIO.AbstractConnection}(sz_max:32,sz_curr:0))), Widgets.#4, Base.#55)\n",
       "  Observables.Observable{Any}(\"ob_05\", WebIO.Node{WebIO.DOM}(WebIO.DOM(:html, :div), Any[Plot{Plots.GRBackend() n=3}], Dict{Symbol,Any}(Pair{Symbol,Any}(:attributes, Dict(\"style\"=>\"display:flex; justify-content:center; align-items:center;\"))), 1), Any[]))"
      ]
     },
     "execution_count": 8,
     "metadata": {},
     "output_type": "execute_result"
    }
   ],
   "source": [
    "@manipulate for i in slider(1:length(positions), value=1)\n",
    "    x1, y1, x2, y2 = positions[i]\n",
    "    \n",
    "    a = w/2\n",
    "    b = h/2\n",
    "    \n",
    "    plot([-a, a, a, -a, -a], [-b, -b, b, b, -b], aspectratio=1, leg=false, xlim=(-0.75,0.75), ylim=(-0.5,0.5))\n",
    "    draw_disc!(x1, y1, r) \n",
    "    draw_disc!(x2, y2, r) \n",
    "end"
   ]
  },
  {
   "cell_type": "markdown",
   "metadata": {},
   "source": [
    "# Hopping"
   ]
  },
  {
   "cell_type": "markdown",
   "metadata": {},
   "source": [
    "The data from the simulation directly gives disc and wall collision times.\n",
    "The other times that we require are hopping times, both horizontal, when $x_1 = x_2$, and vertical, when $y_1 = y_2$. \n",
    "\n",
    "Vertical hops can be detected from the data when $y_2 - y_1$ changes sign between two consecutive collisions.\n",
    "Using the relative velocity $v_2 - v_1$, the vertical hopping time when $y_2 - y_1 = 0$ can be recovered."
   ]
  },
  {
   "cell_type": "code",
   "execution_count": 10,
   "metadata": {},
   "outputs": [
    {
     "data": {
      "text/plain": [
       "vertical_hopping_times"
      ]
     },
     "execution_count": 10,
     "metadata": {},
     "output_type": "execute_result"
    }
   ],
   "source": [
    "\"\"\"\n",
    "Calculate the times at which horizontal hops occur\n",
    "\"\"\"\n",
    "function horizontal_hopping_times(times, positions, velocities)\n",
    "    Δxs = [x[3] - x[1] for x in positions]  # x_2 - x_1\n",
    "    Δus = [v[3] - v[1] for v in velocities]  # u_2 - u_1;\n",
    "    \n",
    "    # indices where there is a hop between collisions i and i+1: \n",
    "    horiz_hop_indices = find( sign(Δxs[i]) != sign(Δxs[i+1]) for i in 1:length(positions)-1 );  \n",
    "    \n",
    "    # x + t*u = 0   so   t = -x/u\n",
    "    horiz_hopping_times = times[horiz_hop_indices] - (Δxs[horiz_hop_indices] ./ Δus[horiz_hop_indices])\n",
    "    \n",
    "    return horiz_hopping_times\n",
    "end\n",
    "## Verified by karel, it is correct.\n",
    " \n",
    "\n",
    "\"\"\"\n",
    "Calculate the times at which horizontal hops occur\n",
    "\"\"\"\n",
    "function vertical_hopping_times(times, positions, velocities)\n",
    "    Δys = [x[4] - x[2] for x in positions]  # y_2 - y_1\n",
    "    Δvs = [v[4] - v[2] for v in velocities]  # v_2 - v_1;\n",
    "    \n",
    "    # indices where there is a hop between collisions i and i+1: \n",
    "    vert_hop_indices = find( sign(Δys[i]) != sign(Δys[i+1]) for i in 1:length(positions)-1 );  \n",
    "    \n",
    "    # x + t*u = 0   so   t = -x/u\n",
    "    vert_hopping_times = times[vert_hop_indices] - (Δys[vert_hop_indices] ./ Δvs[vert_hop_indices])\n",
    "    \n",
    "    return vert_hopping_times\n",
    "end"
   ]
  },
  {
   "cell_type": "markdown",
   "metadata": {},
   "source": [
    " ## Analytical Expressions\n",
    " \n",
    " ### 1. Volume\n",
    " \n",
    " The Volume function has three regimenes. First, when all hopping is possible, that is, (convention $w>h$) $r<h/4$. Then, horizontal hopping is excluded, but vertical still posible, i.e. $h/4\\leq r < w/4$. At last, no hopping is possible, that means, $w/4\\leq r \\leq r_{max}$. \n",
    " \n",
    " The Excluded Volume is evaluated in two parts: the round part and the triangular part. We use the notation \"Neg\" in the functions to indicate that is the excluded volume, \"free\" to indicate all hoping is posible, \"vhopp\" to indicate only vertical hopping is possible, and \"nohopp\" to indicate no hopping is possible."
   ]
  },
  {
   "cell_type": "code",
   "execution_count": 11,
   "metadata": {},
   "outputs": [
    {
     "data": {
      "text/plain": [
       "vol (generic function with 1 method)"
      ]
     },
     "execution_count": 11,
     "metadata": {},
     "output_type": "execute_result"
    }
   ],
   "source": [
    "cte=3π/2 #E=1/2, -> abs(v^2)=1 as above\n",
    "rhmax= h/4 #maximal radius in which a horizontal hopp is possible\n",
    "rvmax= w/4 #maximal radius in which a vertical hopp is possible (any hopp is not posible in our geometry after this)\n",
    "rmax=  (h+w-√(2*h*w))/2   #maximal possible radius for discs\n",
    "\n",
    "\n",
    "volBox(a,b)=16*a^2*b^2\n",
    "volNegfree(a,b,r)=16*π*a*b*r^2-64/3*r^3*(a+b)+8*r^4\n",
    "\n",
    "expresioncircularvol(a,b,r,θ)=32*r^2*a*b*θ +64/3*r^3*(a*cos(θ)-b*sin(θ)) + 8*r^4*sin(θ)^2\n",
    "\n",
    "function volNegCircle(a,b,r)\n",
    "    # This function only has use if r>rhmax\n",
    "    α=asin(b/r)\n",
    "    if(r<rvmax)\n",
    "        β=0\n",
    "    else\n",
    "        β=acos(a/r)\n",
    "    end\n",
    "    result=expresioncircularvol(a,b,r,α)-expresioncircularvol(a,b,r,β)\n",
    "    return result\n",
    "end\n",
    "\n",
    "vollowertriangle(a,b,r)= 32*a^2*b*sqrt(r^2-a^2)-32/3*a^2*(r^2-a^2+2*b*sqrt(r^2-a^2))+8*a^2*(r^2-a^2)\n",
    "\n",
    "voluppertriangle(a,b,r)= 32*b^2*a*sqrt(r^2-b^2)-32/3*b^2*(r^2-b^2+2*a*sqrt(r^2-b^2))+8*b^2*(r^2-b^2)\n",
    "\n",
    "\n",
    "function volNegGeneral(a,b,r)\n",
    "    if (r<rhmax)\n",
    "        result=volNegfree(a,b,r)\n",
    "    elseif (rhmax<=r) && (r<rvmax)\n",
    "       # println(\"a=\",a,\" r =\" , r, \"r^2-a^2 = \", r^2-a^2)\n",
    "        result=volNegCircle(a,b,r)+voluppertriangle(a,b,r)\n",
    "    else\n",
    "        result=volNegCircle(a,b,r)+voluppertriangle(a,b,r)+vollowertriangle(a,b,r)\n",
    "    end\n",
    "    return result\n",
    "end\n",
    "\n",
    "function vol(a,b,r) \n",
    "    result=volBox(a,b)-volNegGeneral(a,b,r)\n",
    "  #  print(\" vol = \", result, \" \\t \")\n",
    "    return result\n",
    "end "
   ]
  },
  {
   "cell_type": "markdown",
   "metadata": {},
   "source": [
    "## 2 Areas\n",
    "\n",
    "#### Hopping Areas"
   ]
  },
  {
   "cell_type": "code",
   "execution_count": 12,
   "metadata": {},
   "outputs": [
    {
     "data": {
      "text/plain": [
       "area_horiz_hopp (generic function with 1 method)"
      ]
     },
     "execution_count": 12,
     "metadata": {},
     "output_type": "execute_result"
    }
   ],
   "source": [
    "area_vert_hopp(a,b,r)=16*√(2)*b*(r-a)^2 #This is right, but SymPy has problems refining Heaviside function and DiracDelta\n",
    "area_horiz_hopp(a,b,r)=16*√(2)*a*(r-b)^2 # The Area HAS TWO SIDES. This is weird, but true.\n",
    "#Those two don't generalize for larger r--- they just stop making sense."
   ]
  },
  {
   "cell_type": "markdown",
   "metadata": {},
   "source": [
    "### collision with wall\n",
    "When hopping is no longer possible, the volume is split into disjoint components. This is equivalent to a factor\n",
    "in the area of 2 or 4. Given that this only is relevant in this case, we take put those factors here. In the case of collition between discs, that factor is canceled as both the Volume and Area get split equally."
   ]
  },
  {
   "cell_type": "code",
   "execution_count": 13,
   "metadata": {},
   "outputs": [
    {
     "data": {
      "text/plain": [
       "area_wall (generic function with 1 method)"
      ]
     },
     "execution_count": 13,
     "metadata": {},
     "output_type": "execute_result"
    }
   ],
   "source": [
    "area_wall_free(a,b,r)=8*a*b^2-4*π*b*r^2+16/3*r^3 #perfect but needs generalization\n",
    "\n",
    "exprpos_wall(a,b,r)=8*a*b^2\n",
    "exprcircular_wall(a,b,r,θ)=8*b*r^2*θ+16/3*r^3*(cos(θ)) #sector\n",
    "\n",
    "# la parte del \"upper triangle\"\n",
    "a_wall_uppt(a,b,r)=8/3*b^2*sqrt(r^2-b^2)\n",
    "a_wall_lowt(a,b,r)=8/3*a^2*sqrt(r^2-a^2)\n",
    "\n",
    "function area_wall(a,b,r)\n",
    "    if (r<rhmax)\n",
    "        result=area_wall_free(a,b,r)\n",
    "    elseif (rhmax<=r) && (r<rvmax)\n",
    "         α=asin(b/r)\n",
    "         negativo=exprcircular_wall(a,b,r,α)-exprcircular_wall(a,b,r,0)+a_wall_uppt(a,b,r)\n",
    "         result=(exprpos_wall(a,b,r)-negativo)*2 # Actually is the Volume that gets split into disjoint componets\n",
    "    else\n",
    "        α=asin(b/r)\n",
    "        β=acos(a/r)\n",
    "        negativo=0 # (exprcircular_wall(a,b,r,α)-exprcircular_wall(a,b,r,β))+a_wall_uppt(a,b,r)+a_wall_lowt(a,b,r)\n",
    "        result=(exprpos_wall(a,b,r)-negativo)*4\n",
    "    end\n",
    "    return result\n",
    "end"
   ]
  },
  {
   "cell_type": "markdown",
   "metadata": {},
   "source": [
    "###  Collition between discs:\n",
    "Although here the space get also split,the factor accounting for that does not appear as it cancels itself in Area and Volume."
   ]
  },
  {
   "cell_type": "code",
   "execution_count": 14,
   "metadata": {},
   "outputs": [
    {
     "data": {
      "text/plain": [
       "area_col (generic function with 1 method)"
      ]
     },
     "execution_count": 14,
     "metadata": {},
     "output_type": "execute_result"
    }
   ],
   "source": [
    "area_col_free(a,b,r)=(16*π*a*b*r-32*(a+b)*r^2+16*r^3)*√(2) \n",
    "exprcircular_col(a,b,r,θ)=16*√2*(2*a*b*r*θ + 2*r^2*(a*cos(θ)-b*sin(θ)) + r^3*sin(θ)^2 )\n",
    "\n",
    "function area_col(a,b,r)\n",
    "    if (r<rhmax)\n",
    "        result=area_col_free(a,b,r)\n",
    "    elseif (rhmax<=r) && (r<rvmax)\n",
    "     #   println(b, \" \", r, \" \", b/r)\n",
    "        α=asin(b/r)\n",
    "        result=exprcircular_col(a,b,r,α)-exprcircular_col(a,b,r,0)\n",
    "    else\n",
    "        α=asin(b/r)\n",
    "        β=acos(a/r)        \n",
    "        result=exprcircular_col(a,b,r,α)-exprcircular_col(a,b,r,β)   \n",
    "    end\n",
    "  #  print(\" acol= \",result,  \" \\n \")\n",
    "    return result\n",
    "end"
   ]
  },
  {
   "cell_type": "code",
   "execution_count": 15,
   "metadata": {},
   "outputs": [
    {
     "data": {
      "text/plain": [
       "(1.3956909623144902, 0.9881971714694461, 0.4525529933634218)"
      ]
     },
     "execution_count": 15,
     "metadata": {},
     "output_type": "execute_result"
    }
   ],
   "source": [
    "rango=(0.1, 0.2, 0.2501)\n",
    "imagen=map(x->area_col(w/2-x,h/2-x,x),rango)"
   ]
  },
  {
   "cell_type": "markdown",
   "metadata": {},
   "source": [
    "### 3. Mean Times Machta Zwanzig\n",
    "\n",
    "We combine area and volume with the general factor to obtain the theoretical mean times according to Machta Zwanzig Formula"
   ]
  },
  {
   "cell_type": "code",
   "execution_count": 16,
   "metadata": {},
   "outputs": [
    {
     "data": {
      "text/plain": [
       "disc_collision_analytical_d (generic function with 1 method)"
      ]
     },
     "execution_count": 16,
     "metadata": {},
     "output_type": "execute_result"
    }
   ],
   "source": [
    "horiz_hop_analytical(a,b,r)=cte*vol(a,b,r)/area_horiz_hopp(a,b,r)\n",
    "vert_hop_analytical(a,b,r)=cte*vol(a,b,r)/area_vert_hopp(a,b,r)\n",
    "right_wall_analytical(a,b,r)=cte*vol(a,b,r)/area_wall(a,b,r) #perfect\n",
    "disc_collision_analytical(a,b,r)=cte*vol(a,b,r)/area_col(a,b,r)\n",
    "\n",
    "horiz_hop_analytical_d(a, b, r) = (3π / (2*√(2))) * (2*a^2*b^2 - 2π*a*b*r^2 + ((a+b)/3)*(2*r)^3 - r^4) / (a*√(2)*(b-r)^2)\n",
    "disc_collision_analytical_d(a, b, r) = (3π / (2*√(2))) * (2*a^2*b^2 - 2π*a*b*r^2 + ((a+b)/3)*(2*r)^3 - r^4) / (2π*a*b*r - 4*(a+b)*r^2 + 2r^3 )"
   ]
  },
  {
   "cell_type": "markdown",
   "metadata": {},
   "source": [
    "The simulation function gives us a quick sanity check on the four event formulas above, but it doesn't give statistics. We relegate that to some other functions below."
   ]
  },
  {
   "cell_type": "code",
   "execution_count": 17,
   "metadata": {},
   "outputs": [
    {
     "data": {
      "text/plain": [
       "simulation (generic function with 2 methods)"
      ]
     },
     "execution_count": 17,
     "metadata": {},
     "output_type": "execute_result"
    }
   ],
   "source": [
    "function simulation(w, h, num_collisions=10^5)\n",
    "    \n",
    "    num_horiz_hop_data=Float64[]\n",
    "    exact_horiz_hop_data=Float64[]\n",
    "    \n",
    "    num_vert_hop_data=Float64[]\n",
    "    exact_vert_hop_data=Float64[]\n",
    "    \n",
    "    num_disc_collision_data = Float64[]\n",
    "    exact_disc_collision_data = Float64[]\n",
    "    \n",
    "    num_rightwall_data = Float64[]\n",
    "    exact_rightwall_data = Float64[]\n",
    "    \n",
    "    \n",
    "    \n",
    "    exhopd = Float64[]\n",
    "    excold = Float64[]\n",
    "    \n",
    "    \n",
    "    rs = 0.005:0.005:rmax #we do it until it cannot be done anymore\n",
    "    \n",
    "    for r in rs\n",
    "        print(r, \" \")\n",
    "        \n",
    "        a = w/2 - r\n",
    "        b = h/2 - r\n",
    "    \n",
    "        times, positions, velocities, collision_types = dynamics(w, h, r, num_collisions);\n",
    "        \n",
    "        \n",
    "        horiz_hopping_times = horizontal_hopping_times(times, positions, velocities)\n",
    "\n",
    "        vert_hopping_times = vertical_hopping_times(times, positions, velocities)\n",
    "\n",
    "        if(r<rhmax)\n",
    "            push!(num_vert_hop_data, mean(diff(vert_hopping_times)))   # diff gives inter-hop times\n",
    "            push!(exact_vert_hop_data, vert_hop_analytical(a, b, r))\n",
    "        end\n",
    "        \n",
    "        push!(num_horiz_hop_data, mean(diff(horiz_hopping_times)))   # diff gives inter-hop times\n",
    "        push!(exact_horiz_hop_data, horiz_hop_analytical(a, b, r))\n",
    "        push!(exhopd, horiz_hop_analytical_d(a, b, r))\n",
    "        \n",
    "        \n",
    "        disc_collision_times = times[collision_types .== 5]\n",
    "        push!(num_disc_collision_data, mean(diff(disc_collision_times)))   # diff gives inter-hop times\n",
    "        push!(exact_disc_collision_data, disc_collision_analytical(a, b, r))\n",
    "        push!(excold, disc_collision_analytical_d(a, b, r))\n",
    "    \n",
    "        rightwall_times = times[collision_types .== 1]\n",
    "        push!(num_rightwall_data, mean(diff(rightwall_times)))   # diff gives inter-hop times\n",
    "        push!(exact_rightwall_data, right_wall_analytical(a, b, r))\n",
    "        \n",
    "    end\n",
    "    \n",
    "    return (rs,  num_vert_hop_data, exact_vert_hop_data, num_horiz_hop_data, exact_horiz_hop_data, num_disc_collision_data, \n",
    "        exact_disc_collision_data, num_rightwall_data, exact_rightwall_data, excold, exhopd)\n",
    "                \n",
    "    end"
   ]
  },
  {
   "cell_type": "markdown",
   "metadata": {},
   "source": [
    "# A general Test\n",
    "\n",
    "This first simulation produces a general sanity test. More accurate simulations for the specific events are below . The Figures here are NOT the ones in the paper, this are averages done with lower samples meant as a sanity check."
   ]
  },
  {
   "cell_type": "code",
   "execution_count": 18,
   "metadata": {},
   "outputs": [
    {
     "name": "stdout",
     "output_type": "stream",
     "text": [
      "0.005 0.01 0.015 0.02 0.025 0.03 0.035 0.04 0.045 0.05 0.055 0.06 0.065 0.07 0.075 0.08 0.085 0.09 0.095 0.1 0.105 0.11 0.115 0.12 0.125 0.13 0.135 0.14 0.145 0.15 0.155 0.16 0.165 0.17 0.17500000000000002 0.18 0.185 0.19 0.195 0.2 0.20500000000000002 0.21 0.215 0.22 0.225 0.23 0.23500000000000001 0.24 0.245 0.25 0.255 0.26 0.265 0.27 0.275 0.28 0.28500000000000003 0.29 0.295 0.3 0.305 0.31 0.315 0.32 0.325 0.33 0.335 0.34 0.34500000000000003 0.35000000000000003 0.355 0.36 0.365 0.37 0.375 0.38 "
     ]
    }
   ],
   "source": [
    "w, h = 1.5, 1.0\n",
    "nevents=10^5\n",
    "(rs, num_vert_hop_data, exact_vert_hop_data,  num_horiz_hop_data, exact_horiz_hop_data, num_disc_collision_data, \n",
    "    exact_disc_collision_data, num_rightwall_data, exact_rightwalldata, excold, exhopd)= simulation(w, h, nevents);"
   ]
  },
  {
   "cell_type": "code",
   "execution_count": 20,
   "metadata": {},
   "outputs": [
    {
     "name": "stderr",
     "output_type": "stream",
     "text": [
      "\u001b[1m\u001b[36mINFO: \u001b[39m\u001b[22m\u001b[36mPrecompiling module JLD.\n",
      "\u001b[39mWARNING: could not import Base.lastindex into HDF5\n",
      "WARNING: could not import Base.iterate into HDF5\n",
      "\u001b[1m\u001b[91mERROR: \u001b[39m\u001b[22mLoadError: \u001b[91mArgumentError: Module Libdl not found in current path.\n",
      "Run `Pkg.add(\"Libdl\")` to install the Libdl package.\u001b[39m\n",
      "Stacktrace:\n",
      " [1] \u001b[1manonymous\u001b[22m\u001b[22m at \u001b[1m./<missing>:2\u001b[22m\u001b[22m\n",
      "while loading /home/karel/.julia/v0.6/HDF5/src/HDF5.jl, in expression starting on line 10\n",
      "\u001b[1m\u001b[91mERROR: \u001b[39m\u001b[22mLoadError: \u001b[91mFailed to precompile HDF5 to /home/karel/.julia/lib/v0.6/HDF5.ji.\u001b[39m\n",
      "Stacktrace:\n",
      " [1] \u001b[1manonymous\u001b[22m\u001b[22m at \u001b[1m./<missing>:2\u001b[22m\u001b[22m\n",
      "while loading /home/karel/.julia/v0.6/JLD/src/JLD.jl, in expression starting on line 4\n"
     ]
    },
    {
     "ename": "LoadError",
     "evalue": "\u001b[91mFailed to precompile JLD to /home/karel/.julia/lib/v0.6/JLD.ji.\u001b[39m",
     "output_type": "error",
     "traceback": [
      "\u001b[91mFailed to precompile JLD to /home/karel/.julia/lib/v0.6/JLD.ji.\u001b[39m",
      "",
      "Stacktrace:",
      " [1] \u001b[1mcompilecache\u001b[22m\u001b[22m\u001b[1m(\u001b[22m\u001b[22m::String\u001b[1m)\u001b[22m\u001b[22m at \u001b[1m./loading.jl:710\u001b[22m\u001b[22m",
      " [2] \u001b[1m_require\u001b[22m\u001b[22m\u001b[1m(\u001b[22m\u001b[22m::Symbol\u001b[1m)\u001b[22m\u001b[22m at \u001b[1m./loading.jl:497\u001b[22m\u001b[22m",
      " [3] \u001b[1mrequire\u001b[22m\u001b[22m\u001b[1m(\u001b[22m\u001b[22m::Symbol\u001b[1m)\u001b[22m\u001b[22m at \u001b[1m./loading.jl:405\u001b[22m\u001b[22m",
      " [4] \u001b[1mexecute_request\u001b[22m\u001b[22m\u001b[1m(\u001b[22m\u001b[22m::ZMQ.Socket, ::IJulia.Msg\u001b[1m)\u001b[22m\u001b[22m at \u001b[1m/home/karel/.julia/v0.6/IJulia/src/execute_request.jl:193\u001b[22m\u001b[22m",
      " [5] \u001b[1m(::Compat.#inner#6{Array{Any,1},IJulia.#execute_request,Tuple{ZMQ.Socket,IJulia.Msg}})\u001b[22m\u001b[22m\u001b[1m(\u001b[22m\u001b[22m\u001b[1m)\u001b[22m\u001b[22m at \u001b[1m/home/karel/.julia/v0.6/Compat/src/Compat.jl:189\u001b[22m\u001b[22m",
      " [6] \u001b[1meventloop\u001b[22m\u001b[22m\u001b[1m(\u001b[22m\u001b[22m::ZMQ.Socket\u001b[1m)\u001b[22m\u001b[22m at \u001b[1m/home/karel/.julia/v0.6/IJulia/src/eventloop.jl:8\u001b[22m\u001b[22m",
      " [7] \u001b[1m(::IJulia.##13#16)\u001b[22m\u001b[22m\u001b[1m(\u001b[22m\u001b[22m\u001b[1m)\u001b[22m\u001b[22m at \u001b[1m./task.jl:335\u001b[22m\u001b[22m"
     ]
    }
   ],
   "source": [
    "using JLD # To save the data, and save us headeaches"
   ]
  },
  {
   "cell_type": "code",
   "execution_count": 21,
   "metadata": {},
   "outputs": [
    {
     "ename": "LoadError",
     "evalue": "\u001b[91mUndefVarError: save not defined\u001b[39m",
     "output_type": "error",
     "traceback": [
      "\u001b[91mUndefVarError: save not defined\u001b[39m",
      "",
      "Stacktrace:",
      " [1] \u001b[1mexecute_request\u001b[22m\u001b[22m\u001b[1m(\u001b[22m\u001b[22m::ZMQ.Socket, ::IJulia.Msg\u001b[1m)\u001b[22m\u001b[22m at \u001b[1m/home/karel/.julia/v0.6/IJulia/src/execute_request.jl:193\u001b[22m\u001b[22m",
      " [2] \u001b[1m(::Compat.#inner#6{Array{Any,1},IJulia.#execute_request,Tuple{ZMQ.Socket,IJulia.Msg}})\u001b[22m\u001b[22m\u001b[1m(\u001b[22m\u001b[22m\u001b[1m)\u001b[22m\u001b[22m at \u001b[1m/home/karel/.julia/v0.6/Compat/src/Compat.jl:189\u001b[22m\u001b[22m",
      " [3] \u001b[1meventloop\u001b[22m\u001b[22m\u001b[1m(\u001b[22m\u001b[22m::ZMQ.Socket\u001b[1m)\u001b[22m\u001b[22m at \u001b[1m/home/karel/.julia/v0.6/IJulia/src/eventloop.jl:8\u001b[22m\u001b[22m",
      " [4] \u001b[1m(::IJulia.##13#16)\u001b[22m\u001b[22m\u001b[1m(\u001b[22m\u001b[22m\u001b[1m)\u001b[22m\u001b[22m at \u001b[1m./task.jl:335\u001b[22m\u001b[22m"
     ]
    }
   ],
   "source": [
    "save(\"DatosNumericos10a5.jld\", \"rs\", rs, \n",
    "    \"num_vert_hop_data\", num_vert_hop_data,\n",
    "    \"num_horiz_hop_data\", num_horiz_hop_data,\n",
    "    \"num_disc_collision_data\", num_disc_collision_data,\n",
    "    \"num_rightwall_data\", num_rightwall_data\n",
    ")"
   ]
  },
  {
   "cell_type": "code",
   "execution_count": 35,
   "metadata": {},
   "outputs": [
    {
     "data": {
      "image/png": "[encoded data removed]"
     },
     "execution_count": 35,
     "metadata": {},
     "output_type": "execute_result"
    }
   ],
   "source": [
    "Plots.scatter(rs, num_rightwall_data, m=:square, label=\"numerical\", size=(650,420), guidefont=(30,\"Courier\"))\n",
    "dibujo=plot!(rs, exact_rightwalldata, label=\"exact\", linewidth=2) #absolut PERFECT\n",
    "savefig(\"test.pdf\")\n",
    "dibujo\n"
   ]
  },
  {
   "cell_type": "code",
   "execution_count": 23,
   "metadata": {},
   "outputs": [
    {
     "data": {
      "text/plain": [
       "7.0685834705770345"
      ]
     },
     "execution_count": 23,
     "metadata": {},
     "output_type": "execute_result"
    }
   ],
   "source": [
    "3*pi*1.5/2 #Limit for r->0 above!"
   ]
  },
  {
   "cell_type": "code",
   "execution_count": 37,
   "metadata": {
    "scrolled": false
   },
   "outputs": [
    {
     "data": {
      "image/png": "[encoded data removed]"
     },
     "execution_count": 37,
     "metadata": {},
     "output_type": "execute_result"
    }
   ],
   "source": [
    "Plots.scatter(rs, num_disc_collision_data, m=:square, label=\"numerical\")\n",
    "plot!(rs, exact_disc_collision_data, label=\"exact\")\n",
    "plot!(rs, excold, label=\"DavEx\") #DFormula that doesn't account for the discontinuites\n",
    "plot!(rs, zeros(rs), lw=2, label=\"vertical zero line\", ls=:dash)"
   ]
  },
  {
   "cell_type": "code",
   "execution_count": 29,
   "metadata": {},
   "outputs": [
    {
     "data": {
      "text/plain": [
       "(0.25, 0.375, 0.3839745962155614)"
      ]
     },
     "execution_count": 29,
     "metadata": {},
     "output_type": "execute_result"
    }
   ],
   "source": [
    "rhmax, rvmax, rmax"
   ]
  },
  {
   "cell_type": "code",
   "execution_count": 38,
   "metadata": {},
   "outputs": [
    {
     "data": {
      "image/png": "[encoded data removed]"
     },
     "execution_count": 38,
     "metadata": {},
     "output_type": "execute_result"
    }
   ],
   "source": [
    "#rsredux=rs[find( r<rhmax ) in rs]\n",
    "rsredux=filter(r->r<rhmax, rs)\n",
    "plot(rsredux, num_vert_hop_data, m=:square, label=\"numerical\")\n",
    "plot!(rsredux, exact_vert_hop_data, label=\"exact\") \n",
    "#plot!(rs, exhopd, label=\"DavidEx\")\n",
    "#Formula David, raiz de dos muy grande "
   ]
  },
  {
   "cell_type": "markdown",
   "metadata": {},
   "source": [
    "## Statistics.\n",
    "\n",
    "Some Plots of interesting statistical propiertes, such as histograms."
   ]
  },
  {
   "cell_type": "code",
   "execution_count": 31,
   "metadata": {},
   "outputs": [],
   "source": [
    "using StatsBase"
   ]
  },
  {
   "cell_type": "code",
   "execution_count": 32,
   "metadata": {},
   "outputs": [],
   "source": [
    "radiosinteresantes=(0.01, 0.075, 0.125, 0.15, 0.2, 0.24, 0.249)\n",
    "thopforhisto=Dict{Float64, Array}()\n",
    "\n",
    "binlim=10\n",
    "paso=0.5\n",
    "rangobins=0:paso:binlim\n",
    "rangoplot=rangobins[1:end-1]+paso/2\n",
    "\n",
    "hth=Dict{Float64, Any}()\n",
    "\n",
    "for r in radiosinteresantes\n",
    "    w,h=1.5,1\n",
    "    num_collisions=500000\n",
    "    times, positions, velocities, collision_types = dynamics(w, h, r, num_collisions);\n",
    "    thopforhisto[r] = horizontal_hopping_times(times, positions, velocities);\n",
    "    #normalized histograms\n",
    "    aux=fit(Histogram, diff(thopforhisto[r]), rangobins, closed=:left)\n",
    "    hth[r]=aux.weights/sum(aux.weights)\n",
    "end"
   ]
  },
  {
   "cell_type": "code",
   "execution_count": 30,
   "metadata": {},
   "outputs": [
    {
     "name": "stderr",
     "output_type": "stream",
     "text": [
      "\u001b[1m\u001b[33mWARNING: \u001b[39m\u001b[22m\u001b[33mSkipped marker arg match.\u001b[39m\n",
      "\u001b[1m\u001b[33mWARNING: \u001b[39m\u001b[22m\u001b[33mSkipped marker arg match.\u001b[39m\n",
      "\u001b[1m\u001b[33mWARNING: \u001b[39m\u001b[22m\u001b[33mSkipped marker arg match.\u001b[39m\n",
      "\u001b[1m\u001b[33mWARNING: \u001b[39m\u001b[22m\u001b[33mSkipped marker arg match.\u001b[39m\n",
      "\u001b[1m\u001b[33mWARNING: \u001b[39m\u001b[22m\u001b[33mSkipped marker arg match.\u001b[39m\n",
      "\u001b[1m\u001b[33mWARNING: \u001b[39m\u001b[22m\u001b[33mSkipped marker arg match.\u001b[39m\n",
      "\u001b[1m\u001b[33mWARNING: \u001b[39m\u001b[22m\u001b[33mSkipped marker arg match.\u001b[39m\n"
     ]
    },
    {
     "data": {
      "image/svg+xml": [
       "<?xml version=\"1.0\" encoding=\"utf-8\"?>\n",
       "<svg xmlns=\"http://www.w3.org/2000/svg\" xmlns:xlink=\"http://www.w3.org/1999/xlink\" width=\"600\" height=\"400\" viewBox=\"0 0 600 400\">\n",
       "<defs>\n",
       "  <clipPath id=\"clip8200\">\n",
       "    <rect x=\"0\" y=\"0\" width=\"600\" height=\"400\"/>\n",
       "  </clipPath>\n",
       "</defs>\n",
       "<polygon clip-path=\"url(#clip8200)\" points=\"\n",
       "0,400 600,400 600,0 0,0 \n",
       "  \" fill=\"#ffffff\" fill-opacity=\"1\"/>\n",
       "<defs>\n",
       "  <clipPath id=\"clip8201\">\n",
       "    <rect x=\"120\" y=\"0\" width=\"421\" height=\"400\"/>\n",
       "  </clipPath>\n",
       "</defs>\n",
       "<polygon clip-path=\"url(#clip8200)\" points=\"\n",
       "32.4745,360.121 580.315,360.121 580.315,31.4961 32.4745,31.4961 \n",
       "  \" fill=\"#ffffff\" fill-opacity=\"1\"/>\n",
       "<defs>\n",
       "  <clipPath id=\"clip8202\">\n",
       "    <rect x=\"32\" y=\"31\" width=\"549\" height=\"330\"/>\n",
       "  </clipPath>\n",
       "</defs>\n",
       "<polyline clip-path=\"url(#clip8202)\" style=\"stroke:#000000; stroke-width:0.5; stroke-opacity:0.1; fill:none\" points=\"\n",
       "  32.4745,360.121 32.4745,31.4961 \n",
       "  \"/>\n",
       "<polyline clip-path=\"url(#clip8202)\" style=\"stroke:#000000; stroke-width:0.5; stroke-opacity:0.1; fill:none\" points=\"\n",
       "  142.043,360.121 142.043,31.4961 \n",
       "  \"/>\n",
       "<polyline clip-path=\"url(#clip8202)\" style=\"stroke:#000000; stroke-width:0.5; stroke-opacity:0.1; fill:none\" points=\"\n",
       "  251.611,360.121 251.611,31.4961 \n",
       "  \"/>\n",
       "<polyline clip-path=\"url(#clip8202)\" style=\"stroke:#000000; stroke-width:0.5; stroke-opacity:0.1; fill:none\" points=\"\n",
       "  361.179,360.121 361.179,31.4961 \n",
       "  \"/>\n",
       "<polyline clip-path=\"url(#clip8202)\" style=\"stroke:#000000; stroke-width:0.5; stroke-opacity:0.1; fill:none\" points=\"\n",
       "  470.747,360.121 470.747,31.4961 \n",
       "  \"/>\n",
       "<polyline clip-path=\"url(#clip8202)\" style=\"stroke:#000000; stroke-width:0.5; stroke-opacity:0.1; fill:none\" points=\"\n",
       "  580.315,360.121 580.315,31.4961 \n",
       "  \"/>\n",
       "<polyline clip-path=\"url(#clip8202)\" style=\"stroke:#000000; stroke-width:0.5; stroke-opacity:0.1; fill:none\" points=\"\n",
       "  32.4745,352.153 580.315,352.153 \n",
       "  \"/>\n",
       "<polyline clip-path=\"url(#clip8202)\" style=\"stroke:#000000; stroke-width:0.5; stroke-opacity:0.1; fill:none\" points=\"\n",
       "  32.4745,265.665 580.315,265.665 \n",
       "  \"/>\n",
       "<polyline clip-path=\"url(#clip8202)\" style=\"stroke:#000000; stroke-width:0.5; stroke-opacity:0.1; fill:none\" points=\"\n",
       "  32.4745,179.177 580.315,179.177 \n",
       "  \"/>\n",
       "<polyline clip-path=\"url(#clip8202)\" style=\"stroke:#000000; stroke-width:0.5; stroke-opacity:0.1; fill:none\" points=\"\n",
       "  32.4745,92.6895 580.315,92.6895 \n",
       "  \"/>\n",
       "<polyline clip-path=\"url(#clip8200)\" style=\"stroke:#000000; stroke-width:1; stroke-opacity:1; fill:none\" points=\"\n",
       "  32.4745,360.121 580.315,360.121 \n",
       "  \"/>\n",
       "<polyline clip-path=\"url(#clip8200)\" style=\"stroke:#000000; stroke-width:1; stroke-opacity:1; fill:none\" points=\"\n",
       "  32.4745,360.121 32.4745,31.4961 \n",
       "  \"/>\n",
       "<polyline clip-path=\"url(#clip8200)\" style=\"stroke:#000000; stroke-width:1; stroke-opacity:1; fill:none\" points=\"\n",
       "  32.4745,360.121 32.4745,355.191 \n",
       "  \"/>\n",
       "<polyline clip-path=\"url(#clip8200)\" style=\"stroke:#000000; stroke-width:1; stroke-opacity:1; fill:none\" points=\"\n",
       "  142.043,360.121 142.043,355.191 \n",
       "  \"/>\n",
       "<polyline clip-path=\"url(#clip8200)\" style=\"stroke:#000000; stroke-width:1; stroke-opacity:1; fill:none\" points=\"\n",
       "  251.611,360.121 251.611,355.191 \n",
       "  \"/>\n",
       "<polyline clip-path=\"url(#clip8200)\" style=\"stroke:#000000; stroke-width:1; stroke-opacity:1; fill:none\" points=\"\n",
       "  361.179,360.121 361.179,355.191 \n",
       "  \"/>\n",
       "<polyline clip-path=\"url(#clip8200)\" style=\"stroke:#000000; stroke-width:1; stroke-opacity:1; fill:none\" points=\"\n",
       "  470.747,360.121 470.747,355.191 \n",
       "  \"/>\n",
       "<polyline clip-path=\"url(#clip8200)\" style=\"stroke:#000000; stroke-width:1; stroke-opacity:1; fill:none\" points=\"\n",
       "  580.315,360.121 580.315,355.191 \n",
       "  \"/>\n",
       "<polyline clip-path=\"url(#clip8200)\" style=\"stroke:#000000; stroke-width:1; stroke-opacity:1; fill:none\" points=\"\n",
       "  32.4745,352.153 40.6921,352.153 \n",
       "  \"/>\n",
       "<polyline clip-path=\"url(#clip8200)\" style=\"stroke:#000000; stroke-width:1; stroke-opacity:1; fill:none\" points=\"\n",
       "  32.4745,265.665 40.6921,265.665 \n",
       "  \"/>\n",
       "<polyline clip-path=\"url(#clip8200)\" style=\"stroke:#000000; stroke-width:1; stroke-opacity:1; fill:none\" points=\"\n",
       "  32.4745,179.177 40.6921,179.177 \n",
       "  \"/>\n",
       "<polyline clip-path=\"url(#clip8200)\" style=\"stroke:#000000; stroke-width:1; stroke-opacity:1; fill:none\" points=\"\n",
       "  32.4745,92.6895 40.6921,92.6895 \n",
       "  \"/>\n",
       "<g clip-path=\"url(#clip8200)\">\n",
       "<text style=\"fill:#000000; fill-opacity:1; font-family:Arial,Helvetica Neue,Helvetica,sans-serif; font-size:12; text-anchor:middle;\" transform=\"rotate(0, 32.4745, 373.921)\" x=\"32.4745\" y=\"373.921\">0</text>\n",
       "</g>\n",
       "<g clip-path=\"url(#clip8200)\">\n",
       "<text style=\"fill:#000000; fill-opacity:1; font-family:Arial,Helvetica Neue,Helvetica,sans-serif; font-size:12; text-anchor:middle;\" transform=\"rotate(0, 142.043, 373.921)\" x=\"142.043\" y=\"373.921\">2</text>\n",
       "</g>\n",
       "<g clip-path=\"url(#clip8200)\">\n",
       "<text style=\"fill:#000000; fill-opacity:1; font-family:Arial,Helvetica Neue,Helvetica,sans-serif; font-size:12; text-anchor:middle;\" transform=\"rotate(0, 251.611, 373.921)\" x=\"251.611\" y=\"373.921\">4</text>\n",
       "</g>\n",
       "<g clip-path=\"url(#clip8200)\">\n",
       "<text style=\"fill:#000000; fill-opacity:1; font-family:Arial,Helvetica Neue,Helvetica,sans-serif; font-size:12; text-anchor:middle;\" transform=\"rotate(0, 361.179, 373.921)\" x=\"361.179\" y=\"373.921\">6</text>\n",
       "</g>\n",
       "<g clip-path=\"url(#clip8200)\">\n",
       "<text style=\"fill:#000000; fill-opacity:1; font-family:Arial,Helvetica Neue,Helvetica,sans-serif; font-size:12; text-anchor:middle;\" transform=\"rotate(0, 470.747, 373.921)\" x=\"470.747\" y=\"373.921\">8</text>\n",
       "</g>\n",
       "<g clip-path=\"url(#clip8200)\">\n",
       "<text style=\"fill:#000000; fill-opacity:1; font-family:Arial,Helvetica Neue,Helvetica,sans-serif; font-size:12; text-anchor:middle;\" transform=\"rotate(0, 580.315, 373.921)\" x=\"580.315\" y=\"373.921\">10</text>\n",
       "</g>\n",
       "<g clip-path=\"url(#clip8200)\">\n",
       "<text style=\"fill:#000000; fill-opacity:1; font-family:Arial,Helvetica Neue,Helvetica,sans-serif; font-size:12; text-anchor:end;\" transform=\"rotate(0, 26.4745, 356.653)\" x=\"26.4745\" y=\"356.653\">0.0</text>\n",
       "</g>\n",
       "<g clip-path=\"url(#clip8200)\">\n",
       "<text style=\"fill:#000000; fill-opacity:1; font-family:Arial,Helvetica Neue,Helvetica,sans-serif; font-size:12; text-anchor:end;\" transform=\"rotate(0, 26.4745, 270.165)\" x=\"26.4745\" y=\"270.165\">0.1</text>\n",
       "</g>\n",
       "<g clip-path=\"url(#clip8200)\">\n",
       "<text style=\"fill:#000000; fill-opacity:1; font-family:Arial,Helvetica Neue,Helvetica,sans-serif; font-size:12; text-anchor:end;\" transform=\"rotate(0, 26.4745, 183.677)\" x=\"26.4745\" y=\"183.677\">0.2</text>\n",
       "</g>\n",
       "<g clip-path=\"url(#clip8200)\">\n",
       "<text style=\"fill:#000000; fill-opacity:1; font-family:Arial,Helvetica Neue,Helvetica,sans-serif; font-size:12; text-anchor:end;\" transform=\"rotate(0, 26.4745, 97.1895)\" x=\"26.4745\" y=\"97.1895\">0.3</text>\n",
       "</g>\n",
       "<g clip-path=\"url(#clip8200)\">\n",
       "<text style=\"fill:#000000; fill-opacity:1; font-family:Arial,Helvetica Neue,Helvetica,sans-serif; font-size:21; text-anchor:middle;\" transform=\"rotate(0, 306.395, 18)\" x=\"306.395\" y=\"18\">Freq</text>\n",
       "</g>\n",
       "<g clip-path=\"url(#clip8200)\">\n",
       "<text style=\"fill:#000000; fill-opacity:1; font-family:Arial,Helvetica Neue,Helvetica,sans-serif; font-size:16; text-anchor:middle;\" transform=\"rotate(0, 306.395, 397.6)\" x=\"306.395\" y=\"397.6\">Time of hop</text>\n",
       "</g>\n",
       "<polyline clip-path=\"url(#clip8202)\" style=\"stroke:#009af9; stroke-width:1; stroke-opacity:1; fill:none\" points=\"\n",
       "  46.1705,277.41 73.5625,278.106 100.955,276.444 128.347,275.958 155.739,173.864 183.131,198.193 210.523,269.521 237.915,303.684 265.307,322.037 292.699,332.33 \n",
       "  320.091,338.267 347.483,342.09 374.875,345.427 402.267,346.734 429.659,348.002 457.051,348.994 484.443,349.644 511.835,350.294 539.227,350.367 566.619,350.82 \n",
       "  \n",
       "  \"/>\n",
       "<polygon clip-path=\"url(#clip8202)\" style=\"fill:#009af9; fill-opacity:1\" points=\"\n",
       "  43.1705,274.41 43.1705,280.41 49.1705,280.41 49.1705,274.41 43.1705,274.41 \n",
       "  \"/>\n",
       "<polygon clip-path=\"url(#clip8202)\" style=\"fill:#009af9; fill-opacity:1\" points=\"\n",
       "  70.5625,275.106 70.5625,281.106 76.5625,281.106 76.5625,275.106 70.5625,275.106 \n",
       "  \"/>\n",
       "<polygon clip-path=\"url(#clip8202)\" style=\"fill:#009af9; fill-opacity:1\" points=\"\n",
       "  97.9546,273.444 97.9546,279.444 103.955,279.444 103.955,273.444 97.9546,273.444 \n",
       "  \"/>\n",
       "<polygon clip-path=\"url(#clip8202)\" style=\"fill:#009af9; fill-opacity:1\" points=\"\n",
       "  125.347,272.958 125.347,278.958 131.347,278.958 131.347,272.958 125.347,272.958 \n",
       "  \"/>\n",
       "<polygon clip-path=\"url(#clip8202)\" style=\"fill:#009af9; fill-opacity:1\" points=\"\n",
       "  152.739,170.864 152.739,176.864 158.739,176.864 158.739,170.864 152.739,170.864 \n",
       "  \"/>\n",
       "<polygon clip-path=\"url(#clip8202)\" style=\"fill:#009af9; fill-opacity:1\" points=\"\n",
       "  180.131,195.193 180.131,201.193 186.131,201.193 186.131,195.193 180.131,195.193 \n",
       "  \"/>\n",
       "<polygon clip-path=\"url(#clip8202)\" style=\"fill:#009af9; fill-opacity:1\" points=\"\n",
       "  207.523,266.521 207.523,272.521 213.523,272.521 213.523,266.521 207.523,266.521 \n",
       "  \"/>\n",
       "<polygon clip-path=\"url(#clip8202)\" style=\"fill:#009af9; fill-opacity:1\" points=\"\n",
       "  234.915,300.684 234.915,306.684 240.915,306.684 240.915,300.684 234.915,300.684 \n",
       "  \"/>\n",
       "<polygon clip-path=\"url(#clip8202)\" style=\"fill:#009af9; fill-opacity:1\" points=\"\n",
       "  262.307,319.037 262.307,325.037 268.307,325.037 268.307,319.037 262.307,319.037 \n",
       "  \"/>\n",
       "<polygon clip-path=\"url(#clip8202)\" style=\"fill:#009af9; fill-opacity:1\" points=\"\n",
       "  289.699,329.33 289.699,335.33 295.699,335.33 295.699,329.33 289.699,329.33 \n",
       "  \"/>\n",
       "<polygon clip-path=\"url(#clip8202)\" style=\"fill:#009af9; fill-opacity:1\" points=\"\n",
       "  317.091,335.267 317.091,341.267 323.091,341.267 323.091,335.267 317.091,335.267 \n",
       "  \"/>\n",
       "<polygon clip-path=\"url(#clip8202)\" style=\"fill:#009af9; fill-opacity:1\" points=\"\n",
       "  344.483,339.09 344.483,345.09 350.483,345.09 350.483,339.09 344.483,339.09 \n",
       "  \"/>\n",
       "<polygon clip-path=\"url(#clip8202)\" style=\"fill:#009af9; fill-opacity:1\" points=\"\n",
       "  371.875,342.427 371.875,348.427 377.875,348.427 377.875,342.427 371.875,342.427 \n",
       "  \"/>\n",
       "<polygon clip-path=\"url(#clip8202)\" style=\"fill:#009af9; fill-opacity:1\" points=\"\n",
       "  399.267,343.734 399.267,349.734 405.267,349.734 405.267,343.734 399.267,343.734 \n",
       "  \"/>\n",
       "<polygon clip-path=\"url(#clip8202)\" style=\"fill:#009af9; fill-opacity:1\" points=\"\n",
       "  426.659,345.002 426.659,351.002 432.659,351.002 432.659,345.002 426.659,345.002 \n",
       "  \"/>\n",
       "<polygon clip-path=\"url(#clip8202)\" style=\"fill:#009af9; fill-opacity:1\" points=\"\n",
       "  454.051,345.994 454.051,351.994 460.051,351.994 460.051,345.994 454.051,345.994 \n",
       "  \"/>\n",
       "<polygon clip-path=\"url(#clip8202)\" style=\"fill:#009af9; fill-opacity:1\" points=\"\n",
       "  481.443,346.644 481.443,352.644 487.443,352.644 487.443,346.644 481.443,346.644 \n",
       "  \"/>\n",
       "<polygon clip-path=\"url(#clip8202)\" style=\"fill:#009af9; fill-opacity:1\" points=\"\n",
       "  508.835,347.294 508.835,353.294 514.835,353.294 514.835,347.294 508.835,347.294 \n",
       "  \"/>\n",
       "<polygon clip-path=\"url(#clip8202)\" style=\"fill:#009af9; fill-opacity:1\" points=\"\n",
       "  536.227,347.367 536.227,353.367 542.227,353.367 542.227,347.367 536.227,347.367 \n",
       "  \"/>\n",
       "<polygon clip-path=\"url(#clip8202)\" style=\"fill:#009af9; fill-opacity:1\" points=\"\n",
       "  563.619,347.82 563.619,353.82 569.619,353.82 569.619,347.82 563.619,347.82 \n",
       "  \"/>\n",
       "<polyline clip-path=\"url(#clip8202)\" style=\"stroke:#e26f46; stroke-width:1; stroke-opacity:1; fill:none\" points=\"\n",
       "  46.1705,270.159 73.5625,289.508 100.955,295.46 128.347,277.925 155.739,171.909 183.131,231.76 210.523,280.25 237.915,304.516 265.307,312.506 292.699,322.639 \n",
       "  320.091,330.255 347.483,335.033 374.875,338.489 402.267,340.932 429.659,343.545 457.051,344.836 484.443,345.913 511.835,346.799 539.227,347.428 566.619,348.324 \n",
       "  \n",
       "  \"/>\n",
       "<polygon clip-path=\"url(#clip8202)\" style=\"fill:#e26f46; fill-opacity:1\" points=\"\n",
       "  43.1705,267.159 43.1705,273.159 49.1705,273.159 49.1705,267.159 43.1705,267.159 \n",
       "  \"/>\n",
       "<polygon clip-path=\"url(#clip8202)\" style=\"fill:#e26f46; fill-opacity:1\" points=\"\n",
       "  70.5625,286.508 70.5625,292.508 76.5625,292.508 76.5625,286.508 70.5625,286.508 \n",
       "  \"/>\n",
       "<polygon clip-path=\"url(#clip8202)\" style=\"fill:#e26f46; fill-opacity:1\" points=\"\n",
       "  97.9546,292.46 97.9546,298.46 103.955,298.46 103.955,292.46 97.9546,292.46 \n",
       "  \"/>\n",
       "<polygon clip-path=\"url(#clip8202)\" style=\"fill:#e26f46; fill-opacity:1\" points=\"\n",
       "  125.347,274.925 125.347,280.925 131.347,280.925 131.347,274.925 125.347,274.925 \n",
       "  \"/>\n",
       "<polygon clip-path=\"url(#clip8202)\" style=\"fill:#e26f46; fill-opacity:1\" points=\"\n",
       "  152.739,168.909 152.739,174.909 158.739,174.909 158.739,168.909 152.739,168.909 \n",
       "  \"/>\n",
       "<polygon clip-path=\"url(#clip8202)\" style=\"fill:#e26f46; fill-opacity:1\" points=\"\n",
       "  180.131,228.76 180.131,234.76 186.131,234.76 186.131,228.76 180.131,228.76 \n",
       "  \"/>\n",
       "<polygon clip-path=\"url(#clip8202)\" style=\"fill:#e26f46; fill-opacity:1\" points=\"\n",
       "  207.523,277.25 207.523,283.25 213.523,283.25 213.523,277.25 207.523,277.25 \n",
       "  \"/>\n",
       "<polygon clip-path=\"url(#clip8202)\" style=\"fill:#e26f46; fill-opacity:1\" points=\"\n",
       "  234.915,301.516 234.915,307.516 240.915,307.516 240.915,301.516 234.915,301.516 \n",
       "  \"/>\n",
       "<polygon clip-path=\"url(#clip8202)\" style=\"fill:#e26f46; fill-opacity:1\" points=\"\n",
       "  262.307,309.506 262.307,315.506 268.307,315.506 268.307,309.506 262.307,309.506 \n",
       "  \"/>\n",
       "<polygon clip-path=\"url(#clip8202)\" style=\"fill:#e26f46; fill-opacity:1\" points=\"\n",
       "  289.699,319.639 289.699,325.639 295.699,325.639 295.699,319.639 289.699,319.639 \n",
       "  \"/>\n",
       "<polygon clip-path=\"url(#clip8202)\" style=\"fill:#e26f46; fill-opacity:1\" points=\"\n",
       "  317.091,327.255 317.091,333.255 323.091,333.255 323.091,327.255 317.091,327.255 \n",
       "  \"/>\n",
       "<polygon clip-path=\"url(#clip8202)\" style=\"fill:#e26f46; fill-opacity:1\" points=\"\n",
       "  344.483,332.033 344.483,338.033 350.483,338.033 350.483,332.033 344.483,332.033 \n",
       "  \"/>\n",
       "<polygon clip-path=\"url(#clip8202)\" style=\"fill:#e26f46; fill-opacity:1\" points=\"\n",
       "  371.875,335.489 371.875,341.489 377.875,341.489 377.875,335.489 371.875,335.489 \n",
       "  \"/>\n",
       "<polygon clip-path=\"url(#clip8202)\" style=\"fill:#e26f46; fill-opacity:1\" points=\"\n",
       "  399.267,337.932 399.267,343.932 405.267,343.932 405.267,337.932 399.267,337.932 \n",
       "  \"/>\n",
       "<polygon clip-path=\"url(#clip8202)\" style=\"fill:#e26f46; fill-opacity:1\" points=\"\n",
       "  426.659,340.545 426.659,346.545 432.659,346.545 432.659,340.545 426.659,340.545 \n",
       "  \"/>\n",
       "<polygon clip-path=\"url(#clip8202)\" style=\"fill:#e26f46; fill-opacity:1\" points=\"\n",
       "  454.051,341.836 454.051,347.836 460.051,347.836 460.051,341.836 454.051,341.836 \n",
       "  \"/>\n",
       "<polygon clip-path=\"url(#clip8202)\" style=\"fill:#e26f46; fill-opacity:1\" points=\"\n",
       "  481.443,342.913 481.443,348.913 487.443,348.913 487.443,342.913 481.443,342.913 \n",
       "  \"/>\n",
       "<polygon clip-path=\"url(#clip8202)\" style=\"fill:#e26f46; fill-opacity:1\" points=\"\n",
       "  508.835,343.799 508.835,349.799 514.835,349.799 514.835,343.799 508.835,343.799 \n",
       "  \"/>\n",
       "<polygon clip-path=\"url(#clip8202)\" style=\"fill:#e26f46; fill-opacity:1\" points=\"\n",
       "  536.227,344.428 536.227,350.428 542.227,350.428 542.227,344.428 536.227,344.428 \n",
       "  \"/>\n",
       "<polygon clip-path=\"url(#clip8202)\" style=\"fill:#e26f46; fill-opacity:1\" points=\"\n",
       "  563.619,345.324 563.619,351.324 569.619,351.324 569.619,345.324 563.619,345.324 \n",
       "  \"/>\n",
       "<polyline clip-path=\"url(#clip8202)\" style=\"stroke:#3da44d; stroke-width:1; stroke-opacity:1; fill:none\" points=\"\n",
       "  46.1705,261.126 73.5625,287.872 100.955,309.606 128.347,262.774 155.739,203.488 183.131,261.161 210.523,287.872 237.915,301.991 265.307,310.959 292.699,319.545 \n",
       "  320.091,323.586 347.483,329.674 374.875,332.328 402.267,336.3 429.659,337.497 457.051,339.752 484.443,341.434 511.835,342.301 539.227,343.654 566.619,345.267 \n",
       "  \n",
       "  \"/>\n",
       "<polygon clip-path=\"url(#clip8202)\" style=\"fill:#3da44d; fill-opacity:1\" points=\"\n",
       "  43.1705,258.126 43.1705,264.126 49.1705,264.126 49.1705,258.126 43.1705,258.126 \n",
       "  \"/>\n",
       "<polygon clip-path=\"url(#clip8202)\" style=\"fill:#3da44d; fill-opacity:1\" points=\"\n",
       "  70.5625,284.872 70.5625,290.872 76.5625,290.872 76.5625,284.872 70.5625,284.872 \n",
       "  \"/>\n",
       "<polygon clip-path=\"url(#clip8202)\" style=\"fill:#3da44d; fill-opacity:1\" points=\"\n",
       "  97.9546,306.606 97.9546,312.606 103.955,312.606 103.955,306.606 97.9546,306.606 \n",
       "  \"/>\n",
       "<polygon clip-path=\"url(#clip8202)\" style=\"fill:#3da44d; fill-opacity:1\" points=\"\n",
       "  125.347,259.774 125.347,265.774 131.347,265.774 131.347,259.774 125.347,259.774 \n",
       "  \"/>\n",
       "<polygon clip-path=\"url(#clip8202)\" style=\"fill:#3da44d; fill-opacity:1\" points=\"\n",
       "  152.739,200.488 152.739,206.488 158.739,206.488 158.739,200.488 152.739,200.488 \n",
       "  \"/>\n",
       "<polygon clip-path=\"url(#clip8202)\" style=\"fill:#3da44d; fill-opacity:1\" points=\"\n",
       "  180.131,258.161 180.131,264.161 186.131,264.161 186.131,258.161 180.131,258.161 \n",
       "  \"/>\n",
       "<polygon clip-path=\"url(#clip8202)\" style=\"fill:#3da44d; fill-opacity:1\" points=\"\n",
       "  207.523,284.872 207.523,290.872 213.523,290.872 213.523,284.872 207.523,284.872 \n",
       "  \"/>\n",
       "<polygon clip-path=\"url(#clip8202)\" style=\"fill:#3da44d; fill-opacity:1\" points=\"\n",
       "  234.915,298.991 234.915,304.991 240.915,304.991 240.915,298.991 234.915,298.991 \n",
       "  \"/>\n",
       "<polygon clip-path=\"url(#clip8202)\" style=\"fill:#3da44d; fill-opacity:1\" points=\"\n",
       "  262.307,307.959 262.307,313.959 268.307,313.959 268.307,307.959 262.307,307.959 \n",
       "  \"/>\n",
       "<polygon clip-path=\"url(#clip8202)\" style=\"fill:#3da44d; fill-opacity:1\" points=\"\n",
       "  289.699,316.545 289.699,322.545 295.699,322.545 295.699,316.545 289.699,316.545 \n",
       "  \"/>\n",
       "<polygon clip-path=\"url(#clip8202)\" style=\"fill:#3da44d; fill-opacity:1\" points=\"\n",
       "  317.091,320.586 317.091,326.586 323.091,326.586 323.091,320.586 317.091,320.586 \n",
       "  \"/>\n",
       "<polygon clip-path=\"url(#clip8202)\" style=\"fill:#3da44d; fill-opacity:1\" points=\"\n",
       "  344.483,326.674 344.483,332.674 350.483,332.674 350.483,326.674 344.483,326.674 \n",
       "  \"/>\n",
       "<polygon clip-path=\"url(#clip8202)\" style=\"fill:#3da44d; fill-opacity:1\" points=\"\n",
       "  371.875,329.328 371.875,335.328 377.875,335.328 377.875,329.328 371.875,329.328 \n",
       "  \"/>\n",
       "<polygon clip-path=\"url(#clip8202)\" style=\"fill:#3da44d; fill-opacity:1\" points=\"\n",
       "  399.267,333.3 399.267,339.3 405.267,339.3 405.267,333.3 399.267,333.3 \n",
       "  \"/>\n",
       "<polygon clip-path=\"url(#clip8202)\" style=\"fill:#3da44d; fill-opacity:1\" points=\"\n",
       "  426.659,334.497 426.659,340.497 432.659,340.497 432.659,334.497 426.659,334.497 \n",
       "  \"/>\n",
       "<polygon clip-path=\"url(#clip8202)\" style=\"fill:#3da44d; fill-opacity:1\" points=\"\n",
       "  454.051,336.752 454.051,342.752 460.051,342.752 460.051,336.752 454.051,336.752 \n",
       "  \"/>\n",
       "<polygon clip-path=\"url(#clip8202)\" style=\"fill:#3da44d; fill-opacity:1\" points=\"\n",
       "  481.443,338.434 481.443,344.434 487.443,344.434 487.443,338.434 481.443,338.434 \n",
       "  \"/>\n",
       "<polygon clip-path=\"url(#clip8202)\" style=\"fill:#3da44d; fill-opacity:1\" points=\"\n",
       "  508.835,339.301 508.835,345.301 514.835,345.301 514.835,339.301 508.835,339.301 \n",
       "  \"/>\n",
       "<polygon clip-path=\"url(#clip8202)\" style=\"fill:#3da44d; fill-opacity:1\" points=\"\n",
       "  536.227,340.654 536.227,346.654 542.227,346.654 542.227,340.654 536.227,340.654 \n",
       "  \"/>\n",
       "<polygon clip-path=\"url(#clip8202)\" style=\"fill:#3da44d; fill-opacity:1\" points=\"\n",
       "  563.619,342.267 563.619,348.267 569.619,348.267 569.619,342.267 563.619,342.267 \n",
       "  \"/>\n",
       "<polyline clip-path=\"url(#clip8202)\" style=\"stroke:#c271d2; stroke-width:1; stroke-opacity:1; fill:none\" points=\"\n",
       "  46.1705,253.716 73.5625,288.849 100.955,315.716 128.347,261.589 155.739,220.6 183.131,273.718 210.523,291.654 237.915,300.388 265.307,311.238 292.699,316.971 \n",
       "  320.091,323.072 347.483,327.993 374.875,328.657 402.267,332.225 429.659,334.636 457.051,337.49 484.443,337.908 511.835,338.769 539.227,340.91 566.619,342.091 \n",
       "  \n",
       "  \"/>\n",
       "<polygon clip-path=\"url(#clip8202)\" style=\"fill:#c271d2; fill-opacity:1\" points=\"\n",
       "  43.1705,250.716 43.1705,256.716 49.1705,256.716 49.1705,250.716 43.1705,250.716 \n",
       "  \"/>\n",
       "<polygon clip-path=\"url(#clip8202)\" style=\"fill:#c271d2; fill-opacity:1\" points=\"\n",
       "  70.5625,285.849 70.5625,291.849 76.5625,291.849 76.5625,285.849 70.5625,285.849 \n",
       "  \"/>\n",
       "<polygon clip-path=\"url(#clip8202)\" style=\"fill:#c271d2; fill-opacity:1\" points=\"\n",
       "  97.9546,312.716 97.9546,318.716 103.955,318.716 103.955,312.716 97.9546,312.716 \n",
       "  \"/>\n",
       "<polygon clip-path=\"url(#clip8202)\" style=\"fill:#c271d2; fill-opacity:1\" points=\"\n",
       "  125.347,258.589 125.347,264.589 131.347,264.589 131.347,258.589 125.347,258.589 \n",
       "  \"/>\n",
       "<polygon clip-path=\"url(#clip8202)\" style=\"fill:#c271d2; fill-opacity:1\" points=\"\n",
       "  152.739,217.6 152.739,223.6 158.739,223.6 158.739,217.6 152.739,217.6 \n",
       "  \"/>\n",
       "<polygon clip-path=\"url(#clip8202)\" style=\"fill:#c271d2; fill-opacity:1\" points=\"\n",
       "  180.131,270.718 180.131,276.718 186.131,276.718 186.131,270.718 180.131,270.718 \n",
       "  \"/>\n",
       "<polygon clip-path=\"url(#clip8202)\" style=\"fill:#c271d2; fill-opacity:1\" points=\"\n",
       "  207.523,288.654 207.523,294.654 213.523,294.654 213.523,288.654 207.523,288.654 \n",
       "  \"/>\n",
       "<polygon clip-path=\"url(#clip8202)\" style=\"fill:#c271d2; fill-opacity:1\" points=\"\n",
       "  234.915,297.388 234.915,303.388 240.915,303.388 240.915,297.388 234.915,297.388 \n",
       "  \"/>\n",
       "<polygon clip-path=\"url(#clip8202)\" style=\"fill:#c271d2; fill-opacity:1\" points=\"\n",
       "  262.307,308.238 262.307,314.238 268.307,314.238 268.307,308.238 262.307,308.238 \n",
       "  \"/>\n",
       "<polygon clip-path=\"url(#clip8202)\" style=\"fill:#c271d2; fill-opacity:1\" points=\"\n",
       "  289.699,313.971 289.699,319.971 295.699,319.971 295.699,313.971 289.699,313.971 \n",
       "  \"/>\n",
       "<polygon clip-path=\"url(#clip8202)\" style=\"fill:#c271d2; fill-opacity:1\" points=\"\n",
       "  317.091,320.072 317.091,326.072 323.091,326.072 323.091,320.072 317.091,320.072 \n",
       "  \"/>\n",
       "<polygon clip-path=\"url(#clip8202)\" style=\"fill:#c271d2; fill-opacity:1\" points=\"\n",
       "  344.483,324.993 344.483,330.993 350.483,330.993 350.483,324.993 344.483,324.993 \n",
       "  \"/>\n",
       "<polygon clip-path=\"url(#clip8202)\" style=\"fill:#c271d2; fill-opacity:1\" points=\"\n",
       "  371.875,325.657 371.875,331.657 377.875,331.657 377.875,325.657 371.875,325.657 \n",
       "  \"/>\n",
       "<polygon clip-path=\"url(#clip8202)\" style=\"fill:#c271d2; fill-opacity:1\" points=\"\n",
       "  399.267,329.225 399.267,335.225 405.267,335.225 405.267,329.225 399.267,329.225 \n",
       "  \"/>\n",
       "<polygon clip-path=\"url(#clip8202)\" style=\"fill:#c271d2; fill-opacity:1\" points=\"\n",
       "  426.659,331.636 426.659,337.636 432.659,337.636 432.659,331.636 426.659,331.636 \n",
       "  \"/>\n",
       "<polygon clip-path=\"url(#clip8202)\" style=\"fill:#c271d2; fill-opacity:1\" points=\"\n",
       "  454.051,334.49 454.051,340.49 460.051,340.49 460.051,334.49 454.051,334.49 \n",
       "  \"/>\n",
       "<polygon clip-path=\"url(#clip8202)\" style=\"fill:#c271d2; fill-opacity:1\" points=\"\n",
       "  481.443,334.908 481.443,340.908 487.443,340.908 487.443,334.908 481.443,334.908 \n",
       "  \"/>\n",
       "<polygon clip-path=\"url(#clip8202)\" style=\"fill:#c271d2; fill-opacity:1\" points=\"\n",
       "  508.835,335.769 508.835,341.769 514.835,341.769 514.835,335.769 508.835,335.769 \n",
       "  \"/>\n",
       "<polygon clip-path=\"url(#clip8202)\" style=\"fill:#c271d2; fill-opacity:1\" points=\"\n",
       "  536.227,337.91 536.227,343.91 542.227,343.91 542.227,337.91 536.227,337.91 \n",
       "  \"/>\n",
       "<polygon clip-path=\"url(#clip8202)\" style=\"fill:#c271d2; fill-opacity:1\" points=\"\n",
       "  563.619,339.091 563.619,345.091 569.619,345.091 569.619,339.091 563.619,339.091 \n",
       "  \"/>\n",
       "<polyline clip-path=\"url(#clip8202)\" style=\"stroke:#ac8d18; stroke-width:1; stroke-opacity:1; fill:none\" points=\"\n",
       "  46.1705,222.638 73.5625,282.229 100.955,322.117 128.347,254.276 155.739,273.819 183.131,289.198 210.523,303.535 237.915,312.746 265.307,309.622 292.699,316.751 \n",
       "  320.091,323.239 347.483,322.197 374.875,326.122 402.267,328.765 429.659,327.804 457.051,331.889 484.443,331.809 511.835,332.37 539.227,333.09 566.619,333.972 \n",
       "  \n",
       "  \"/>\n",
       "<polygon clip-path=\"url(#clip8202)\" style=\"fill:#ac8d18; fill-opacity:1\" points=\"\n",
       "  43.1705,219.638 43.1705,225.638 49.1705,225.638 49.1705,219.638 43.1705,219.638 \n",
       "  \"/>\n",
       "<polygon clip-path=\"url(#clip8202)\" style=\"fill:#ac8d18; fill-opacity:1\" points=\"\n",
       "  70.5625,279.229 70.5625,285.229 76.5625,285.229 76.5625,279.229 70.5625,279.229 \n",
       "  \"/>\n",
       "<polygon clip-path=\"url(#clip8202)\" style=\"fill:#ac8d18; fill-opacity:1\" points=\"\n",
       "  97.9546,319.117 97.9546,325.117 103.955,325.117 103.955,319.117 97.9546,319.117 \n",
       "  \"/>\n",
       "<polygon clip-path=\"url(#clip8202)\" style=\"fill:#ac8d18; fill-opacity:1\" points=\"\n",
       "  125.347,251.276 125.347,257.276 131.347,257.276 131.347,251.276 125.347,251.276 \n",
       "  \"/>\n",
       "<polygon clip-path=\"url(#clip8202)\" style=\"fill:#ac8d18; fill-opacity:1\" points=\"\n",
       "  152.739,270.819 152.739,276.819 158.739,276.819 158.739,270.819 152.739,270.819 \n",
       "  \"/>\n",
       "<polygon clip-path=\"url(#clip8202)\" style=\"fill:#ac8d18; fill-opacity:1\" points=\"\n",
       "  180.131,286.198 180.131,292.198 186.131,292.198 186.131,286.198 180.131,286.198 \n",
       "  \"/>\n",
       "<polygon clip-path=\"url(#clip8202)\" style=\"fill:#ac8d18; fill-opacity:1\" points=\"\n",
       "  207.523,300.535 207.523,306.535 213.523,306.535 213.523,300.535 207.523,300.535 \n",
       "  \"/>\n",
       "<polygon clip-path=\"url(#clip8202)\" style=\"fill:#ac8d18; fill-opacity:1\" points=\"\n",
       "  234.915,309.746 234.915,315.746 240.915,315.746 240.915,309.746 234.915,309.746 \n",
       "  \"/>\n",
       "<polygon clip-path=\"url(#clip8202)\" style=\"fill:#ac8d18; fill-opacity:1\" points=\"\n",
       "  262.307,306.622 262.307,312.622 268.307,312.622 268.307,306.622 262.307,306.622 \n",
       "  \"/>\n",
       "<polygon clip-path=\"url(#clip8202)\" style=\"fill:#ac8d18; fill-opacity:1\" points=\"\n",
       "  289.699,313.751 289.699,319.751 295.699,319.751 295.699,313.751 289.699,313.751 \n",
       "  \"/>\n",
       "<polygon clip-path=\"url(#clip8202)\" style=\"fill:#ac8d18; fill-opacity:1\" points=\"\n",
       "  317.091,320.239 317.091,326.239 323.091,326.239 323.091,320.239 317.091,320.239 \n",
       "  \"/>\n",
       "<polygon clip-path=\"url(#clip8202)\" style=\"fill:#ac8d18; fill-opacity:1\" points=\"\n",
       "  344.483,319.197 344.483,325.197 350.483,325.197 350.483,319.197 344.483,319.197 \n",
       "  \"/>\n",
       "<polygon clip-path=\"url(#clip8202)\" style=\"fill:#ac8d18; fill-opacity:1\" points=\"\n",
       "  371.875,323.122 371.875,329.122 377.875,329.122 377.875,323.122 371.875,323.122 \n",
       "  \"/>\n",
       "<polygon clip-path=\"url(#clip8202)\" style=\"fill:#ac8d18; fill-opacity:1\" points=\"\n",
       "  399.267,325.765 399.267,331.765 405.267,331.765 405.267,325.765 399.267,325.765 \n",
       "  \"/>\n",
       "<polygon clip-path=\"url(#clip8202)\" style=\"fill:#ac8d18; fill-opacity:1\" points=\"\n",
       "  426.659,324.804 426.659,330.804 432.659,330.804 432.659,324.804 426.659,324.804 \n",
       "  \"/>\n",
       "<polygon clip-path=\"url(#clip8202)\" style=\"fill:#ac8d18; fill-opacity:1\" points=\"\n",
       "  454.051,328.889 454.051,334.889 460.051,334.889 460.051,328.889 454.051,328.889 \n",
       "  \"/>\n",
       "<polygon clip-path=\"url(#clip8202)\" style=\"fill:#ac8d18; fill-opacity:1\" points=\"\n",
       "  481.443,328.809 481.443,334.809 487.443,334.809 487.443,328.809 481.443,328.809 \n",
       "  \"/>\n",
       "<polygon clip-path=\"url(#clip8202)\" style=\"fill:#ac8d18; fill-opacity:1\" points=\"\n",
       "  508.835,329.37 508.835,335.37 514.835,335.37 514.835,329.37 508.835,329.37 \n",
       "  \"/>\n",
       "<polygon clip-path=\"url(#clip8202)\" style=\"fill:#ac8d18; fill-opacity:1\" points=\"\n",
       "  536.227,330.09 536.227,336.09 542.227,336.09 542.227,330.09 536.227,330.09 \n",
       "  \"/>\n",
       "<polygon clip-path=\"url(#clip8202)\" style=\"fill:#ac8d18; fill-opacity:1\" points=\"\n",
       "  563.619,330.972 563.619,336.972 569.619,336.972 569.619,330.972 563.619,330.972 \n",
       "  \"/>\n",
       "<polyline clip-path=\"url(#clip8202)\" style=\"stroke:#00a9ad; stroke-width:1; stroke-opacity:1; fill:none\" points=\"\n",
       "  46.1705,40.7968 73.5625,265.665 100.955,324.477 128.347,262.206 155.739,334.856 183.131,314.099 210.523,327.937 237.915,307.18 265.307,327.937 292.699,331.396 \n",
       "  320.091,338.315 347.483,338.315 374.875,327.937 402.267,334.856 429.659,334.856 457.051,334.856 484.443,317.558 511.835,348.694 539.227,331.396 566.619,334.856 \n",
       "  \n",
       "  \"/>\n",
       "<polygon clip-path=\"url(#clip8202)\" style=\"fill:#00a9ad; fill-opacity:1\" points=\"\n",
       "  43.1705,37.7968 43.1705,43.7968 49.1705,43.7968 49.1705,37.7968 43.1705,37.7968 \n",
       "  \"/>\n",
       "<polygon clip-path=\"url(#clip8202)\" style=\"fill:#00a9ad; fill-opacity:1\" points=\"\n",
       "  70.5625,262.665 70.5625,268.665 76.5625,268.665 76.5625,262.665 70.5625,262.665 \n",
       "  \"/>\n",
       "<polygon clip-path=\"url(#clip8202)\" style=\"fill:#00a9ad; fill-opacity:1\" points=\"\n",
       "  97.9546,321.477 97.9546,327.477 103.955,327.477 103.955,321.477 97.9546,321.477 \n",
       "  \"/>\n",
       "<polygon clip-path=\"url(#clip8202)\" style=\"fill:#00a9ad; fill-opacity:1\" points=\"\n",
       "  125.347,259.206 125.347,265.206 131.347,265.206 131.347,259.206 125.347,259.206 \n",
       "  \"/>\n",
       "<polygon clip-path=\"url(#clip8202)\" style=\"fill:#00a9ad; fill-opacity:1\" points=\"\n",
       "  152.739,331.856 152.739,337.856 158.739,337.856 158.739,331.856 152.739,331.856 \n",
       "  \"/>\n",
       "<polygon clip-path=\"url(#clip8202)\" style=\"fill:#00a9ad; fill-opacity:1\" points=\"\n",
       "  180.131,311.099 180.131,317.099 186.131,317.099 186.131,311.099 180.131,311.099 \n",
       "  \"/>\n",
       "<polygon clip-path=\"url(#clip8202)\" style=\"fill:#00a9ad; fill-opacity:1\" points=\"\n",
       "  207.523,324.937 207.523,330.937 213.523,330.937 213.523,324.937 207.523,324.937 \n",
       "  \"/>\n",
       "<polygon clip-path=\"url(#clip8202)\" style=\"fill:#00a9ad; fill-opacity:1\" points=\"\n",
       "  234.915,304.18 234.915,310.18 240.915,310.18 240.915,304.18 234.915,304.18 \n",
       "  \"/>\n",
       "<polygon clip-path=\"url(#clip8202)\" style=\"fill:#00a9ad; fill-opacity:1\" points=\"\n",
       "  262.307,324.937 262.307,330.937 268.307,330.937 268.307,324.937 262.307,324.937 \n",
       "  \"/>\n",
       "<polygon clip-path=\"url(#clip8202)\" style=\"fill:#00a9ad; fill-opacity:1\" points=\"\n",
       "  289.699,328.396 289.699,334.396 295.699,334.396 295.699,328.396 289.699,328.396 \n",
       "  \"/>\n",
       "<polygon clip-path=\"url(#clip8202)\" style=\"fill:#00a9ad; fill-opacity:1\" points=\"\n",
       "  317.091,335.315 317.091,341.315 323.091,341.315 323.091,335.315 317.091,335.315 \n",
       "  \"/>\n",
       "<polygon clip-path=\"url(#clip8202)\" style=\"fill:#00a9ad; fill-opacity:1\" points=\"\n",
       "  344.483,335.315 344.483,341.315 350.483,341.315 350.483,335.315 344.483,335.315 \n",
       "  \"/>\n",
       "<polygon clip-path=\"url(#clip8202)\" style=\"fill:#00a9ad; fill-opacity:1\" points=\"\n",
       "  371.875,324.937 371.875,330.937 377.875,330.937 377.875,324.937 371.875,324.937 \n",
       "  \"/>\n",
       "<polygon clip-path=\"url(#clip8202)\" style=\"fill:#00a9ad; fill-opacity:1\" points=\"\n",
       "  399.267,331.856 399.267,337.856 405.267,337.856 405.267,331.856 399.267,331.856 \n",
       "  \"/>\n",
       "<polygon clip-path=\"url(#clip8202)\" style=\"fill:#00a9ad; fill-opacity:1\" points=\"\n",
       "  426.659,331.856 426.659,337.856 432.659,337.856 432.659,331.856 426.659,331.856 \n",
       "  \"/>\n",
       "<polygon clip-path=\"url(#clip8202)\" style=\"fill:#00a9ad; fill-opacity:1\" points=\"\n",
       "  454.051,331.856 454.051,337.856 460.051,337.856 460.051,331.856 454.051,331.856 \n",
       "  \"/>\n",
       "<polygon clip-path=\"url(#clip8202)\" style=\"fill:#00a9ad; fill-opacity:1\" points=\"\n",
       "  481.443,314.558 481.443,320.558 487.443,320.558 487.443,314.558 481.443,314.558 \n",
       "  \"/>\n",
       "<polygon clip-path=\"url(#clip8202)\" style=\"fill:#00a9ad; fill-opacity:1\" points=\"\n",
       "  508.835,345.694 508.835,351.694 514.835,351.694 514.835,345.694 508.835,345.694 \n",
       "  \"/>\n",
       "<polygon clip-path=\"url(#clip8202)\" style=\"fill:#00a9ad; fill-opacity:1\" points=\"\n",
       "  536.227,328.396 536.227,334.396 542.227,334.396 542.227,328.396 536.227,328.396 \n",
       "  \"/>\n",
       "<polygon clip-path=\"url(#clip8202)\" style=\"fill:#00a9ad; fill-opacity:1\" points=\"\n",
       "  563.619,331.856 563.619,337.856 569.619,337.856 569.619,331.856 563.619,331.856 \n",
       "  \"/>\n",
       "<polygon clip-path=\"url(#clip8200)\" points=\"\n",
       "472.207,173.336 562.315,173.336 562.315,52.3761 472.207,52.3761 \n",
       "  \" fill=\"#ffffff\" fill-opacity=\"1\"/>\n",
       "<polyline clip-path=\"url(#clip8200)\" style=\"stroke:#000000; stroke-width:1; stroke-opacity:1; fill:none\" points=\"\n",
       "  472.207,173.336 562.315,173.336 562.315,52.3761 472.207,52.3761 472.207,173.336 \n",
       "  \"/>\n",
       "<polyline clip-path=\"url(#clip8200)\" style=\"stroke:#009af9; stroke-width:1; stroke-opacity:1; fill:none\" points=\"\n",
       "  478.207,67.4961 514.207,67.4961 \n",
       "  \"/>\n",
       "<polygon clip-path=\"url(#clip8200)\" style=\"fill:#009af9; fill-opacity:1\" points=\"\n",
       "  493.207,61.4961 493.207,73.4961 505.207,73.4961 505.207,61.4961 493.207,61.4961 \n",
       "  \"/>\n",
       "<g clip-path=\"url(#clip8200)\">\n",
       "<text style=\"fill:#000000; fill-opacity:1; font-family:Arial,Helvetica Neue,Helvetica,sans-serif; font-size:12; text-anchor:start;\" transform=\"rotate(0, 520.207, 71.9961)\" x=\"520.207\" y=\"71.9961\">0.01</text>\n",
       "</g>\n",
       "<polyline clip-path=\"url(#clip8200)\" style=\"stroke:#e26f46; stroke-width:1; stroke-opacity:1; fill:none\" points=\"\n",
       "  478.207,82.6161 514.207,82.6161 \n",
       "  \"/>\n",
       "<polygon clip-path=\"url(#clip8200)\" style=\"fill:#e26f46; fill-opacity:1\" points=\"\n",
       "  493.207,76.6161 493.207,88.6161 505.207,88.6161 505.207,76.6161 493.207,76.6161 \n",
       "  \"/>\n",
       "<g clip-path=\"url(#clip8200)\">\n",
       "<text style=\"fill:#000000; fill-opacity:1; font-family:Arial,Helvetica Neue,Helvetica,sans-serif; font-size:12; text-anchor:start;\" transform=\"rotate(0, 520.207, 87.1161)\" x=\"520.207\" y=\"87.1161\">0.075</text>\n",
       "</g>\n",
       "<polyline clip-path=\"url(#clip8200)\" style=\"stroke:#3da44d; stroke-width:1; stroke-opacity:1; fill:none\" points=\"\n",
       "  478.207,97.7361 514.207,97.7361 \n",
       "  \"/>\n",
       "<polygon clip-path=\"url(#clip8200)\" style=\"fill:#3da44d; fill-opacity:1\" points=\"\n",
       "  493.207,91.7361 493.207,103.736 505.207,103.736 505.207,91.7361 493.207,91.7361 \n",
       "  \"/>\n",
       "<g clip-path=\"url(#clip8200)\">\n",
       "<text style=\"fill:#000000; fill-opacity:1; font-family:Arial,Helvetica Neue,Helvetica,sans-serif; font-size:12; text-anchor:start;\" transform=\"rotate(0, 520.207, 102.236)\" x=\"520.207\" y=\"102.236\">0.125</text>\n",
       "</g>\n",
       "<polyline clip-path=\"url(#clip8200)\" style=\"stroke:#c271d2; stroke-width:1; stroke-opacity:1; fill:none\" points=\"\n",
       "  478.207,112.856 514.207,112.856 \n",
       "  \"/>\n",
       "<polygon clip-path=\"url(#clip8200)\" style=\"fill:#c271d2; fill-opacity:1\" points=\"\n",
       "  493.207,106.856 493.207,118.856 505.207,118.856 505.207,106.856 493.207,106.856 \n",
       "  \"/>\n",
       "<g clip-path=\"url(#clip8200)\">\n",
       "<text style=\"fill:#000000; fill-opacity:1; font-family:Arial,Helvetica Neue,Helvetica,sans-serif; font-size:12; text-anchor:start;\" transform=\"rotate(0, 520.207, 117.356)\" x=\"520.207\" y=\"117.356\">0.15</text>\n",
       "</g>\n",
       "<polyline clip-path=\"url(#clip8200)\" style=\"stroke:#ac8d18; stroke-width:1; stroke-opacity:1; fill:none\" points=\"\n",
       "  478.207,127.976 514.207,127.976 \n",
       "  \"/>\n",
       "<polygon clip-path=\"url(#clip8200)\" style=\"fill:#ac8d18; fill-opacity:1\" points=\"\n",
       "  493.207,121.976 493.207,133.976 505.207,133.976 505.207,121.976 493.207,121.976 \n",
       "  \"/>\n",
       "<g clip-path=\"url(#clip8200)\">\n",
       "<text style=\"fill:#000000; fill-opacity:1; font-family:Arial,Helvetica Neue,Helvetica,sans-serif; font-size:12; text-anchor:start;\" transform=\"rotate(0, 520.207, 132.476)\" x=\"520.207\" y=\"132.476\">0.2</text>\n",
       "</g>\n",
       "<polyline clip-path=\"url(#clip8200)\" style=\"stroke:#00a9ad; stroke-width:1; stroke-opacity:1; fill:none\" points=\"\n",
       "  478.207,143.096 514.207,143.096 \n",
       "  \"/>\n",
       "<polygon clip-path=\"url(#clip8200)\" style=\"fill:#00a9ad; fill-opacity:1\" points=\"\n",
       "  493.207,137.096 493.207,149.096 505.207,149.096 505.207,137.096 493.207,137.096 \n",
       "  \"/>\n",
       "<g clip-path=\"url(#clip8200)\">\n",
       "<text style=\"fill:#000000; fill-opacity:1; font-family:Arial,Helvetica Neue,Helvetica,sans-serif; font-size:12; text-anchor:start;\" transform=\"rotate(0, 520.207, 147.596)\" x=\"520.207\" y=\"147.596\">0.24</text>\n",
       "</g>\n",
       "<polyline clip-path=\"url(#clip8200)\" style=\"stroke:#ed5d92; stroke-width:1; stroke-opacity:1; fill:none\" points=\"\n",
       "  478.207,158.216 514.207,158.216 \n",
       "  \"/>\n",
       "<polygon clip-path=\"url(#clip8200)\" style=\"fill:#ed5d92; fill-opacity:1\" points=\"\n",
       "  493.207,152.216 493.207,164.216 505.207,164.216 505.207,152.216 493.207,152.216 \n",
       "  \"/>\n",
       "<g clip-path=\"url(#clip8200)\">\n",
       "<text style=\"fill:#000000; fill-opacity:1; font-family:Arial,Helvetica Neue,Helvetica,sans-serif; font-size:12; text-anchor:start;\" transform=\"rotate(0, 520.207, 162.716)\" x=\"520.207\" y=\"162.716\">0.249</text>\n",
       "</g>\n",
       "</svg>\n"
      ]
     },
     "execution_count": 30,
     "metadata": {},
     "output_type": "execute_result"
    }
   ],
   "source": [
    "p=plot(xlim=(0,binlim), xlabel=\"Time of hop\", title=\"Freq\")\n",
    "for r in radiosinteresantes\n",
    "    plot!(rangoplot,hth[r], marker=(:rect, 3, :match, stroke(0,0, :match, :line)), lc=:match, label=\"$r\")\n",
    "end\n",
    "savefig(\"histogramahorizontalhopsemidecente01.png\")\n",
    "p"
   ]
  },
  {
   "cell_type": "markdown",
   "metadata": {},
   "source": [
    "# Hitting right wall"
   ]
  },
  {
   "cell_type": "markdown",
   "metadata": {},
   "source": [
    "Simulation to obtain statistics of collision of disk 1 with the right wall."
   ]
  },
  {
   "cell_type": "code",
   "execution_count": 39,
   "metadata": {},
   "outputs": [
    {
     "data": {
      "text/plain": [
       "simulationhitwall (generic function with 2 methods)"
      ]
     },
     "execution_count": 39,
     "metadata": {},
     "output_type": "execute_result"
    }
   ],
   "source": [
    "function simulationhitwall(w, h, num_collisions=10^5)\n",
    "    \n",
    "    num_hitting_times = Float64[]\n",
    "    exact_hitting_times = Float64[]\n",
    "    σ=Float64[]\n",
    "    stderror=Float64[]\n",
    "    \n",
    "    rs = 0.0051:0.00256:rmax\n",
    "    \n",
    "    for r in rs\n",
    "        print(r, \" \")\n",
    "        \n",
    "        a = w/2 - r\n",
    "        b = h/2 - r\n",
    "    \n",
    "        nhits=0\n",
    "        disc_1_hits_right_wall_times=[]\n",
    "        while(nhits<200)\n",
    "            times, positions, velocities, collision_types = dynamics(w, h, r, num_collisions); \n",
    "            disc_1_hits_right_wall_times = diff(times[collision_types .== 1])\n",
    "            nhits=length(disc_1_hits_right_wall_times)\n",
    "   #         println(r, \" \", nhits, \"tu abuela\", disc_1_hits_right_wall_times[1])\n",
    "        end\n",
    "        \n",
    "        auxhit=mean(disc_1_hits_right_wall_times)\n",
    "   #     println(auxhit)\n",
    "        push!(num_hitting_times, auxhit)\n",
    "        \n",
    "        push!(exact_hitting_times, right_wall_analytical(a, b, r))\n",
    "        aux=std(disc_1_hits_right_wall_times)\n",
    "        push!(σ, aux)\n",
    "        push!(stderror, aux/sqrt(nhits))\n",
    "        \n",
    "        \n",
    "    end\n",
    "    \n",
    "    return rs, num_hitting_times, exact_hitting_times, σ, stderror\n",
    "end"
   ]
  },
  {
   "cell_type": "code",
   "execution_count": 40,
   "metadata": {},
   "outputs": [
    {
     "name": "stdout",
     "output_type": "stream",
     "text": [
      "0.0051 0.00766 0.01022 0.012780000000000001 0.015340000000000001 0.017900000000000003 0.020460000000000002 0.023020000000000002 0.025580000000000002 0.028140000000000002 0.0307 0.033260000000000005 0.035820000000000005 0.038380000000000004 0.040940000000000004 0.043500000000000004 0.046060000000000004 0.048620000000000003 0.05118 0.05374 0.0563 0.05886 0.06142 0.06398000000000001 0.06654 0.06910000000000001 0.07166 0.07422000000000001 0.07678 0.07934000000000001 0.0819 0.08446000000000001 0.08702000000000001 0.08958 0.09214000000000001 0.0947 0.09726000000000001 0.09982 0.10238000000000001 0.10494 0.10750000000000001 0.11006 0.11262000000000001 0.11518 0.11774000000000001 0.1203 0.12286000000000001 0.12542 0.12798 0.13054000000000002 0.13310000000000002 0.13566 0.13822 0.14078000000000002 0.14334000000000002 0.1459 0.14846 0.15102000000000002 0.15358000000000002 0.15614 0.1587 0.16126000000000001 0.16382000000000002 0.16638 0.16894 0.1715 0.17406000000000002 0.17662000000000003 0.17918 0.18174 0.18430000000000002 0.18686000000000003 0.18942 0.19198 0.19454000000000002 0.19710000000000003 0.19966 0.20222 0.20478000000000002 0.20734000000000002 0.20990000000000003 0.21246 0.21502000000000002 0.21758000000000002 0.22014000000000003 0.2227 0.22526000000000002 0.22782000000000002 0.23038000000000003 0.23294 0.23550000000000001 0.23806000000000002 0.24062000000000003 0.24318 0.24574000000000001 0.24830000000000002 0.25086 0.25342000000000003 0.25598000000000004 0.25854000000000005 0.2611 0.26366 0.26622 0.26878 0.27134 0.27390000000000003 0.27646000000000004 0.27902000000000005 0.28158 0.28414 0.2867 0.28926 0.29182 0.29438000000000003 0.29694000000000004 0.29950000000000004 0.30206000000000005 0.30462 0.30718 0.30974 0.3123 0.31486000000000003 0.31742000000000004 0.31998000000000004 0.32254000000000005 0.3251 0.32766 0.33022 0.33278 0.33534 0.33790000000000003 0.34046000000000004 0.34302000000000005 0.34558000000000005 0.34814 0.3507 0.35326 0.35582 0.35838000000000003 0.36094000000000004 0.36350000000000005 0.36606000000000005 0.36862 0.37118 0.37374 0.3763 0.37886000000000003 0.38142000000000004 "
     ]
    }
   ],
   "source": [
    "nevents=10^6\n",
    "rs, num_hitting_times, exact_hitting_times, stdeviation, stderror =simulationhitwall(1.5, 1.0, nevents);"
   ]
  },
  {
   "cell_type": "code",
   "execution_count": 43,
   "metadata": {},
   "outputs": [
    {
     "data": {
      "image/png": "[encoded data removed]"
     },
     "execution_count": 43,
     "metadata": {},
     "output_type": "execute_result"
    }
   ],
   "source": [
    "linea1x=[rhmax, rhmax]\n",
    "linea1y=[0,7.5]\n",
    "linea2x=[rvmax,rvmax]\n",
    "linea2y=linea1y\n",
    "p=plot(xlim=(0,rmax), ylim=(0,7.5),xlabel=\"radius\",ylabel=\"time\", size=(640,480) )\n",
    "scatter!(rs, num_hitting_times, m=:square, ms=2, label=\"numerical\", yerror=stderror)\n",
    "plot!(rs, exact_hitting_times, label=\"exact\", lw=3)\n",
    "plot!(linea1x,linea1y,label=\"rhmax\", lw=1.0, ls=:dash)\n",
    "plot!(linea2x, linea2y,label=\"rvmax\", lw=1.0, ls=:dash)\n",
    "savefig(\"../articulo/figures/HitRightWall01.pdf\")\n",
    "p"
   ]
  },
  {
   "cell_type": "code",
   "execution_count": 34,
   "metadata": {},
   "outputs": [
    {
     "data": {
      "text/plain": [
       "100000"
      ]
     },
     "execution_count": 34,
     "metadata": {},
     "output_type": "execute_result"
    }
   ],
   "source": [
    "nevents"
   ]
  },
  {
   "cell_type": "markdown",
   "metadata": {
    "collapsed": true
   },
   "source": [
    "# Disc collisions"
   ]
  },
  {
   "cell_type": "code",
   "execution_count": 46,
   "metadata": {},
   "outputs": [
    {
     "data": {
      "text/plain": [
       "simulation_disc_collisions (generic function with 2 methods)"
      ]
     },
     "execution_count": 46,
     "metadata": {},
     "output_type": "execute_result"
    }
   ],
   "source": [
    "function simulation_disc_collisions(w, h, num_collisions=10^5)\n",
    "    \n",
    "    num_times = Float64[]\n",
    "    exact_times = Float64[]\n",
    "    σ=Float64[]\n",
    "    stderror=Float64[]\n",
    "    \n",
    "    rs = 0.0051:0.005:rmax\n",
    "    \n",
    "    for r in rs\n",
    "        print(r, \" \")\n",
    "        \n",
    "        a = w/2 - r\n",
    "        b = h/2 - r\n",
    "    \n",
    "        times, positions, velocities, collision_types = dynamics(w, h, r, num_collisions);\n",
    "        \n",
    "        collision_times = diff(times[collision_types .== 5])\n",
    "        nhits=length(collision_times)\n",
    "        \n",
    "        push!(num_times, mean(collision_times))   # diff gives inter-hop times\n",
    "        push!(exact_times, disc_collision_analytical(a, b, r))\n",
    "        aux=std(num_times)\n",
    "        push!(σ, aux)\n",
    "        push!(stderror, aux/sqrt(nhits))\n",
    "        \n",
    "        \n",
    "    end\n",
    "    \n",
    "    return rs, num_times, exact_times, σ, stderror\n",
    "end"
   ]
  },
  {
   "cell_type": "code",
   "execution_count": 47,
   "metadata": {},
   "outputs": [
    {
     "name": "stdout",
     "output_type": "stream",
     "text": [
      "0.0051 0.010100000000000001 0.0151 0.0201 0.0251 0.030100000000000002 0.0351 0.040100000000000004 0.0451 0.0501 0.0551 0.0601 0.0651 0.0701 0.0751 0.0801 0.08510000000000001 0.0901 0.0951 0.10010000000000001 0.1051 0.1101 0.11510000000000001 0.1201 0.1251 0.1301 0.1351 0.1401 0.1451 0.1501 0.15510000000000002 0.1601 0.1651 0.1701 0.1751 0.1801 0.18510000000000001 0.1901 0.1951 0.2001 0.2051 0.2101 0.2151 0.22010000000000002 0.2251 0.2301 0.2351 0.2401 0.2451 0.2501 0.2551 0.2601 0.2651 0.2701 0.2751 0.2801 0.2851 0.2901 0.29510000000000003 0.30010000000000003 0.3051 0.3101 0.3151 0.3201 0.3251 0.3301 0.3351 0.3401 0.3451 0.3501 0.3551 0.36010000000000003 0.3651 0.3701 0.3751 0.3801 "
     ]
    }
   ],
   "source": [
    "rs, num_disc_collision_times, exact_disc_collision_times, colsig, colerror = simulation_disc_collisions(w, h, nevents);"
   ]
  },
  {
   "cell_type": "code",
   "execution_count": 48,
   "metadata": {},
   "outputs": [
    {
     "data": {
      "image/png": "[encoded data removed]"
     },
     "execution_count": 48,
     "metadata": {},
     "output_type": "execute_result"
    }
   ],
   "source": [
    "linea1y=[0,80]\n",
    "linea2y=linea1y\n",
    "p=plot(xlim=(0,rmax), ylim=(0,80),xlabel=\"radius\",ylabel=\"time\", size=(640,480) )\n",
    "scatter!(rs, num_disc_collision_times, m=:square, ms=2, label=\"numerical\", yerror=colerror)\n",
    "plot!(rs, exact_disc_collision_times, label=\"exact\", lw=2)\n",
    "plot!(linea1x,linea1y,label=\"rhmax\", lw=1.0, ls=:dash)\n",
    "plot!(linea2x, linea2y,label=\"rvmax\", lw=1.0, ls=:dash)\n",
    "savefig(\"../articulo/figures/DiscCollitions01.pdf\")\n",
    "p"
   ]
  },
  {
   "cell_type": "markdown",
   "metadata": {
    "collapsed": true
   },
   "source": [
    "## Vertical hopping"
   ]
  },
  {
   "cell_type": "code",
   "execution_count": 49,
   "metadata": {},
   "outputs": [
    {
     "data": {
      "text/plain": [
       "simulation_vert_hopping (generic function with 2 methods)"
      ]
     },
     "execution_count": 49,
     "metadata": {},
     "output_type": "execute_result"
    }
   ],
   "source": [
    "function simulation_vert_hopping(w, h, num_collisions=10^5)\n",
    "    \n",
    "    num_times = Float64[]\n",
    "    exact_times = Float64[]\n",
    "    \n",
    "     σ=Float64[]\n",
    "    stderror=Float64[]\n",
    "    \n",
    "    \n",
    "    rs = 0.005:0.005:rvmax\n",
    "    \n",
    "    for r in rs\n",
    "        print(r, \" \")\n",
    "    \n",
    "        a = w/2 - r\n",
    "        b = h/2 - r\n",
    "    \n",
    "        vert_hopping_times=[]\n",
    "        nhits=0\n",
    "    \n",
    "    #    while(nhits<200)\n",
    "            times, positions, velocities, collision_types = dynamics(w, h, r, num_collisions);\n",
    "            vert_hopping_times = diff(vertical_hopping_times(times, positions, velocities))\n",
    "            nhits=length(vert_hopping_times)\n",
    "#        end\n",
    "             \n",
    "        push!(num_times, mean(vert_hopping_times))   # diff gives inter-hop times\n",
    "        push!(exact_times, vert_hop_analytical(a, b, r))\n",
    "        \n",
    "        aux=std(vert_hopping_times)\n",
    "        push!(σ, aux)\n",
    "        push!(stderror, aux/sqrt(nhits))\n",
    "       \n",
    "    end\n",
    "\n",
    "    return rs, num_times,exact_times, σ, stderror\n",
    "\n",
    "\n",
    "end"
   ]
  },
  {
   "cell_type": "code",
   "execution_count": null,
   "metadata": {},
   "outputs": [
    {
     "name": "stdout",
     "output_type": "stream",
     "text": [
      "0.005 0.01 0.015 0.02 0.025 0.03 0.035 0.04 0.045 0.05 0.055 0.06 0.065 0.07 0.075 0.08 0.085 0.09 0.095 0.1 0.105 0.11 0.115 0.12 0.125 0.13 0.135 0.14 0.145 0.15 0.155 0.16 0.165 0.17 0.175 0.18 0.185 0.19 0.195 0.2 0.205 0.21 0.215 0.22 0.225 0.23 0.235 0.24 0.245 0.25 0.255 0.26 0.265 0.27 0.275 0.28 0.285 0.29 0.295 0.3 0.305 0.31 0.315 0.32 0.325 0.33 0.335 0.34 0.345 0.35 "
     ]
    }
   ],
   "source": [
    "rs, num_vert_hopping_times, exact_vert_hopping_times , vhsigma, vhoperror = simulation_vert_hopping(w, h, nevents);"
   ]
  },
  {
   "cell_type": "code",
   "execution_count": null,
   "metadata": {},
   "outputs": [],
   "source": [
    "linea1y=[0,2]\n",
    "linea2y=linea1y\n",
    "p=plot(xlim=(0,rvmax), ylim=(0,2),title=\"Mean Time, Vertical Hop\", xlabel=\"radius\",ylabel=\"time\" , size=(640,480))\n",
    "scatter!(rs, num_vert_hopping_times, m=:square, ms=2, label=\"numerical\", yerror=vhoperror)\n",
    "plot!(rs, exact_vert_hopping_times, label=\"exact\", lw=2)\n",
    "plot!(linea1x,linea1y,label=\"rhmax\", lw=1.0, ls=:dash)\n",
    "plot!(linea2x, linea2y,label=\"rvmax\", lw=1.0, ls=:dash)\n",
    "savefig(\"../articulo/figures/VertHop01.pdf\")\n",
    "p"
   ]
  },
  {
   "cell_type": "code",
   "execution_count": null,
   "metadata": {
    "collapsed": true
   },
   "outputs": [],
   "source": []
  }
 ],
 "metadata": {
  "@webio": {
   "lastCommId": "EF27444BA85145FD800A16EF818D2298",
   "lastKernelId": "2e89a320-0d4a-4fd3-a4d6-9db9c43566c3"
  },
  "kernelspec": {
   "display_name": "Julia 0.6.3",
   "language": "julia",
   "name": "julia-0.6"
  },
  "language_info": {
   "file_extension": ".jl",
   "mimetype": "application/julia",
   "name": "julia",
   "version": "0.6.3"
  },
  "toc": {
   "colors": {
    "hover_highlight": "#DAA520",
    "running_highlight": "#FF0000",
    "selected_highlight": "#FFD700"
   },
   "moveMenuLeft": true,
   "nav_menu": {
    "height": "30px",
    "width": "252px"
   },
   "navigate_menu": true,
   "number_sections": true,
   "sideBar": true,
   "threshold": "1",
   "toc_cell": false,
   "toc_section_display": "block",
   "toc_window_display": false
  }
 },
 "nbformat": 4,
 "nbformat_minor": 2
}
