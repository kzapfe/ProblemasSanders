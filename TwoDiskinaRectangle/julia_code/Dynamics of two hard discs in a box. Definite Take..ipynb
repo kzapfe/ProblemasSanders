{
 "cells": [
  {
   "cell_type": "markdown",
   "metadata": {},
   "source": [
    "# Two Disks in a Rectangular Box: mean first event times.\n",
    "\n",
    "Here are the simulations and calculations, numerical vs. analytical, of the mean first times and their distributions, for a series of interesting events, namely, hopping, crashing and wall-hitting.\n",
    "\n",
    "The external file contains all the routines for initial conditions and dynamic rules.\n",
    "\n"
   ]
  },
  {
   "cell_type": "code",
   "execution_count": 1,
   "metadata": {},
   "outputs": [
    {
     "data": {
      "text/plain": [
       "dynamics"
      ]
     },
     "execution_count": 1,
     "metadata": {},
     "output_type": "execute_result"
    }
   ],
   "source": [
    "include(\"discs_in_box.jl\")"
   ]
  },
  {
   "cell_type": "code",
   "execution_count": 2,
   "metadata": {},
   "outputs": [
    {
     "data": {
      "text/html": [
       "    <script id=\"webio-setup-6923009657754249551\">\n",
       "    // Immediately-invoked-function-expression to avoid global variables.\n",
       "    (function() {\n",
       "        var warning_div = document.getElementById(\"webio-warning-6120720309812403408\");\n",
       "        var hide = function () {\n",
       "            var script = document.getElementById(\"webio-setup-6923009657754249551\");\n",
       "            var parent = script && script.parentElement;\n",
       "            var grandparent = parent && parent.parentElement;\n",
       "            if (grandparent) {\n",
       "                grandparent.style.display = \"none\";\n",
       "            }\n",
       "            warning_div.style.display = \"none\";\n",
       "        };\n",
       "        if (window.require && require.defined) {\n",
       "            // Jupyter notebook.\n",
       "            if (require.defined(\"nbextensions/webio/main\")\n",
       "                    || require.defined(\"/assetserver/cb4a69667350eb8298ba3b7debd2b763120e7f81-dist/main.js\")) {\n",
       "                // Extension already loaded.\n",
       "                hide();\n",
       "                return;\n",
       "            }\n",
       "            console.warn(\"Loading WebIO Jupyter extension on an ad-hoc basis. Consider enabling the WebIO nbextension for a stabler experience (this should happen automatically when building WebIO).\");\n",
       "            require([\"/assetserver/cb4a69667350eb8298ba3b7debd2b763120e7f81-dist/main.js\"], function (webIOModule) {\n",
       "                webIOModule.load_ipython_extension();\n",
       "            });\n",
       "            warning_div.innerHTML = \"<strong>Loading WebIO Jupyter extension on an ad-hoc basis. Consider enabling the WebIO nbextension for a stabler experience (this should happen automatically when building WebIO).</strong>\";\n",
       "        } else if (window.location.pathname.includes(\"/lab\")) {\n",
       "            // Guessing JupyterLab\n",
       "            warning_div.innerHTML = \"WebIO does not support JupyterLab yet.\";\n",
       "        }\n",
       "    })();\n",
       "    </script>\n",
       "    <div\n",
       "        id=\"webio-warning-6120720309812403408\"\n",
       "        class=\"output_text output_stderr\"\n",
       "        style=\"padding: 1em; font-weight: bold;\"\n",
       "    >\n",
       "        Unable to load WebIO. Please make sure WebIO works for your Jupyter client.\n",
       "        <!-- TODO: link to installation docs. -->\n",
       "    </div>\n"
      ],
      "text/plain": [
       "HTML{String}(\"    <script id=\\\"webio-setup-6923009657754249551\\\">\\n    // Immediately-invoked-function-expression to avoid global variables.\\n    (function() {\\n        var warning_div = document.getElementById(\\\"webio-warning-6120720309812403408\\\");\\n        var hide = function () {\\n            var script = document.getElementById(\\\"webio-setup-6923009657754249551\\\");\\n            var parent = script && script.parentElement;\\n            var grandparent = parent && parent.parentElement;\\n            if (grandparent) {\\n                grandparent.style.display = \\\"none\\\";\\n            }\\n            warning_div.style.display = \\\"none\\\";\\n        };\\n        if (window.require && require.defined) {\\n            // Jupyter notebook.\\n            if (require.defined(\\\"nbextensions/webio/main\\\")\\n                    || require.defined(\\\"/assetserver/cb4a69667350eb8298ba3b7debd2b763120e7f81-dist/main.js\\\")) {\\n                // Extension already loaded.\\n                hide();\\n                return;\\n            }\\n            console.warn(\\\"Loading WebIO Jupyter extension on an ad-hoc basis. Consider enabling the WebIO nbextension for a stabler experience (this should happen automatically when building WebIO).\\\");\\n            require([\\\"/assetserver/cb4a69667350eb8298ba3b7debd2b763120e7f81-dist/main.js\\\"], function (webIOModule) {\\n                webIOModule.load_ipython_extension();\\n            });\\n            warning_div.innerHTML = \\\"<strong>Loading WebIO Jupyter extension on an ad-hoc basis. Consider enabling the WebIO nbextension for a stabler experience (this should happen automatically when building WebIO).</strong>\\\";\\n        } else if (window.location.pathname.includes(\\\"/lab\\\")) {\\n            // Guessing JupyterLab\\n            warning_div.innerHTML = \\\"WebIO does not support JupyterLab yet.\\\";\\n        }\\n    })();\\n    </script>\\n    <div\\n        id=\\\"webio-warning-6120720309812403408\\\"\\n        class=\\\"output_text output_stderr\\\"\\n        style=\\\"padding: 1em; font-weight: bold;\\\"\\n    >\\n        Unable to load WebIO. Please make sure WebIO works for your Jupyter client.\\n        <!-- TODO: link to installation docs. -->\\n    </div>\\n\")"
      ]
     },
     "metadata": {},
     "output_type": "display_data"
    },
    {
     "data": {
      "text/plain": [
       "Plots.GRBackend()"
      ]
     },
     "execution_count": 2,
     "metadata": {},
     "output_type": "execute_result"
    }
   ],
   "source": [
    "#auxiliary libs for ploting\n",
    "using Plots, Interact\n",
    "gr(fmt=\"png\", size=(640,480))"
   ]
  },
  {
   "cell_type": "code",
   "execution_count": 3,
   "metadata": {},
   "outputs": [
    {
     "name": "stdout",
     "output_type": "stream",
     "text": [
      "  2.688526 seconds (15.27 M allocations: 1.051 GiB, 51.24% gc time)\n"
     ]
    }
   ],
   "source": [
    "# A small test. w is widht, h height, r is radius for both discs.\n",
    "w, h = 1.5, 1\n",
    "r = 0.24\n",
    "\n",
    "#= dynamics returns a tuple of results, in which we have the timestamp of an event, the position of the center\n",
    "oof the discs, the velocites of each disc and the collition type according to following code:\n",
    "+1/-1 -> disc one hits right/left wall\n",
    "+2/-2 -> disc one hits top/bottom wall\n",
    "+3/-3  -> disc two hits right/left wall\n",
    "+4/-4 -> disc two hits top/bottom wall.\n",
    "5 -> discs collide.\n",
    "=#\n",
    "@time times, positions, velocities, collision_types = dynamics(w, h, r, 1000000);"
   ]
  },
  {
   "cell_type": "code",
   "execution_count": 4,
   "metadata": {},
   "outputs": [
    {
     "ename": "UndefVarError",
     "evalue": "UndefVarError: showall not defined",
     "output_type": "error",
     "traceback": [
      "UndefVarError: showall not defined",
      "",
      "Stacktrace:",
      " [1] top-level scope at In[4]:1"
     ]
    }
   ],
   "source": [
    "showall(norm.(velocities)[1:100]) #Sanity Check"
   ]
  },
  {
   "cell_type": "code",
   "execution_count": 5,
   "metadata": {},
   "outputs": [
    {
     "ename": "UndefVarError",
     "evalue": "UndefVarError: showall not defined",
     "output_type": "error",
     "traceback": [
      "UndefVarError: showall not defined",
      "",
      "Stacktrace:",
      " [1] top-level scope at In[5]:1"
     ]
    }
   ],
   "source": [
    "showall(collision_types[1:100])#Sanity Check"
   ]
  },
  {
   "cell_type": "markdown",
   "metadata": {},
   "source": [
    "The function `dynamics` returns data on the collisions that have occurred."
   ]
  },
  {
   "cell_type": "code",
   "execution_count": 6,
   "metadata": {},
   "outputs": [
    {
     "data": {
      "text/plain": [
       "draw_disc! (generic function with 1 method)"
      ]
     },
     "execution_count": 6,
     "metadata": {},
     "output_type": "execute_result"
    }
   ],
   "source": [
    "function draw_disc!(x, y, r)\n",
    "    θs = [0:0.1:2π; 0]\n",
    "    xs = [x + r*cos(θ) for θ in θs]\n",
    "    ys = [y + r*sin(θ) for θ in θs]\n",
    "    \n",
    "    plot!(xs, ys)\n",
    "end"
   ]
  },
  {
   "cell_type": "code",
   "execution_count": 7,
   "metadata": {},
   "outputs": [
    {
     "data": {
      "application/vnd.webio.node+json": {
       "children": [
        {
         "children": [
          {
           "children": [
            {
             "children": [
              {
               "children": [
                {
                 "children": [
                  ""
                 ],
                 "instanceArgs": {
                  "namespace": "html",
                  "tag": "label"
                 },
                 "nodeType": "DOM",
                 "props": {
                  "className": "interact ",
                  "style": {
                   "padding": "5px 10px 0px 10px"
                  }
                 },
                 "type": "node"
                }
               ],
               "instanceArgs": {
                "namespace": "html",
                "tag": "div"
               },
               "nodeType": "DOM",
               "props": {
                "attributes": {
                 "style": "text-align:right;width:18%"
                }
               },
               "type": "node"
              },
              {
               "children": [
                {
                 "children": [],
                 "instanceArgs": {
                  "namespace": "html",
                  "tag": "input"
                 },
                 "nodeType": "DOM",
                 "props": {
                  "attributes": {
                   "data-bind": "numericValue: value, valueUpdate: 'input', event: {change : function () {this.changes(this.changes()+1)}}",
                   "orient": "horizontal",
                   "type": "range"
                  },
                  "className": "slider slider is-fullwidth",
                  "max": 1000000,
                  "min": 1,
                  "step": 1,
                  "style": {}
                 },
                 "type": "node"
                }
               ],
               "instanceArgs": {
                "namespace": "html",
                "tag": "div"
               },
               "nodeType": "DOM",
               "props": {
                "attributes": {
                 "style": "flex-grow:1; margin: 0 2%"
                }
               },
               "type": "node"
              },
              {
               "children": [
                {
                 "children": [],
                 "instanceArgs": {
                  "namespace": "html",
                  "tag": "p"
                 },
                 "nodeType": "DOM",
                 "props": {
                  "attributes": {
                   "data-bind": "text: value"
                  }
                 },
                 "type": "node"
                }
               ],
               "instanceArgs": {
                "namespace": "html",
                "tag": "div"
               },
               "nodeType": "DOM",
               "props": {
                "attributes": {
                 "style": "width:18%"
                }
               },
               "type": "node"
              }
             ],
             "instanceArgs": {
              "namespace": "html",
              "tag": "div"
             },
             "nodeType": "DOM",
             "props": {
              "attributes": {
               "style": "display:flex; justify-content:center; align-items:center;"
              }
             },
             "type": "node"
            }
           ],
           "instanceArgs": {
            "handlers": {
             "_promises": {
              "importsLoaded": [
               "function (ko, koPunches) {\n    ko.punches.enableAll();\n    ko.bindingHandlers.numericValue = {\n        init : function(element, valueAccessor, allBindings, data, context) {\n            var stringified = ko.observable(ko.unwrap(valueAccessor()));\n            stringified.subscribe(function(value) {\n                var val = parseFloat(value);\n                if (!isNaN(val)) {\n                    valueAccessor()(val);\n                }\n            })\n            valueAccessor().subscribe(function(value) {\n                var str = JSON.stringify(value);\n                if ((str == \"0\") && ([\"-0\", \"-0.\"].indexOf(stringified()) >= 0))\n                     return;\n                 if ([\"null\", \"\"].indexOf(str) >= 0)\n                     return;\n                stringified(str);\n            })\n            ko.applyBindingsToNode(element, { value: stringified, valueUpdate: allBindings.get('valueUpdate')}, context);\n        }\n    };\n    var json_data = JSON.parse(\"{\\\"changes\\\":0,\\\"value\\\":1}\");\n    var self = this;\n    function AppViewModel() {\n        for (var key in json_data) {\n            var el = json_data[key];\n            this[key] = Array.isArray(el) ? ko.observableArray(el) : ko.observable(el);\n        }\n        \n        \n        [this[\"changes\"].subscribe((function (val){!(this.valueFromJulia[\"changes\"]) ? (_webIOScope.setObservableValue({\"name\":\"changes\",\"scope\":\"knockout-component-af8314c9-fe10-4645-b0b5-d9975ac27946\",\"id\":\"ob_02\",\"type\":\"observable\"},val)) : undefined; return this.valueFromJulia[\"changes\"]=false}),self),this[\"value\"].subscribe((function (val){!(this.valueFromJulia[\"value\"]) ? (_webIOScope.setObservableValue({\"name\":\"value\",\"scope\":\"knockout-component-af8314c9-fe10-4645-b0b5-d9975ac27946\",\"id\":\"ob_01\",\"type\":\"observable\"},val)) : undefined; return this.valueFromJulia[\"value\"]=false}),self)]\n        \n    }\n    self.model = new AppViewModel();\n    self.valueFromJulia = {};\n    for (var key in json_data) {\n        self.valueFromJulia[key] = false;\n    }\n    ko.applyBindings(self.model, self.dom);\n}\n"
              ]
             },
             "changes": [
              "(function (val){return (val!=this.model[\"changes\"]()) ? (this.valueFromJulia[\"changes\"]=true, this.model[\"changes\"](val)) : undefined})"
             ],
             "value": [
              "(function (val){return (val!=this.model[\"value\"]()) ? (this.valueFromJulia[\"value\"]=true, this.model[\"value\"](val)) : undefined})"
             ]
            },
            "id": "knockout-component-af8314c9-fe10-4645-b0b5-d9975ac27946",
            "imports": {
             "data": [
              {
               "name": "knockout",
               "type": "js",
               "url": "/assetserver/baa6df8922398a67cd91cdc289530cb133a3240a-knockout.js"
              },
              {
               "name": "knockout_punches",
               "type": "js",
               "url": "/assetserver/f47e8954887e0b476392ddda2f9b100ab297f671-knockout_punches.js"
              },
              {
               "name": null,
               "type": "js",
               "url": "/assetserver/03d4b9e9ca7ccea5f980345ae7da2d0a633a399b-all.js"
              },
              {
               "name": null,
               "type": "css",
               "url": "/assetserver/7abd4c349f36b841cd95f8ff09c80916a5b13dee-style.css"
              },
              {
               "name": null,
               "type": "css",
               "url": "/assetserver/fd76442e8836f6ee79480331582e0f45e2eec0fe-main.css"
              }
             ],
             "type": "async_block"
            },
            "observables": {
             "changes": {
              "id": "ob_02",
              "sync": false,
              "value": 0
             },
             "value": {
              "id": "ob_01",
              "sync": true,
              "value": 1
             }
            },
            "systemjs_options": null
           },
           "nodeType": "Scope",
           "props": {},
           "type": "node"
          }
         ],
         "instanceArgs": {
          "namespace": "html",
          "tag": "div"
         },
         "nodeType": "DOM",
         "props": {
          "className": "field"
         },
         "type": "node"
        },
        {
         "children": [
          {
           "children": [],
           "instanceArgs": {
            "id": "ob_07",
            "name": "obs-node"
           },
           "nodeType": "ObservableNode",
           "props": {},
           "type": "node"
          }
         ],
         "instanceArgs": {
          "handlers": {},
          "id": "scope-089b5ab8-0d74-4659-888d-102f04f7d741",
          "imports": {
           "data": [],
           "type": "async_block"
          },
          "observables": {
           "obs-node": {
            "id": "ob_07",
            "sync": false,
            "value": {
             "children": [
              {
               "children": [],
               "instanceArgs": {
                "namespace": "html",
                "tag": "div"
               },
               "nodeType": "DOM",
               "props": {
                "setInnerHtml": "<img src=\"data:image/png;base64,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\" />"
               },
               "type": "node"
              }
             ],
             "instanceArgs": {
              "namespace": "html",
              "tag": "div"
             },
             "nodeType": "DOM",
             "props": {
              "attributes": {
               "style": "display:flex; justify-content:center; align-items:center;"
              }
             },
             "type": "node"
            }
           }
          },
          "systemjs_options": null
         },
         "nodeType": "Scope",
         "props": {},
         "type": "node"
        }
       ],
       "instanceArgs": {
        "namespace": "html",
        "tag": "div"
       },
       "nodeType": "DOM",
       "props": {},
       "type": "node"
      },
      "text/html": [
       "<div\n",
       "    class=\"webio-mountpoint\"\n",
       "    data-webio-mountpoint=\"15703574574954472465\"\n",
       ">\n",
       "    <script>\n",
       "    if (window.require && require.defined && require.defined(\"nbextensions/webio/main\")) {\n",
       "        console.log(\"Jupyter WebIO extension detected, not mounting.\");\n",
       "    } else if (window.WebIO) {\n",
       "        WebIO.mount(\n",
       "            document.querySelector('[data-webio-mountpoint=\"15703574574954472465\"]'),\n",
       "            {\"props\":{},\"nodeType\":\"DOM\",\"type\":\"node\",\"instanceArgs\":{\"namespace\":\"html\",\"tag\":\"div\"},\"children\":[{\"props\":{\"className\":\"field\"},\"nodeType\":\"DOM\",\"type\":\"node\",\"instanceArgs\":{\"namespace\":\"html\",\"tag\":\"div\"},\"children\":[{\"props\":{},\"nodeType\":\"Scope\",\"type\":\"node\",\"instanceArgs\":{\"imports\":{\"data\":[{\"name\":\"knockout\",\"type\":\"js\",\"url\":\"\\/assetserver\\/baa6df8922398a67cd91cdc289530cb133a3240a-knockout.js\"},{\"name\":\"knockout_punches\",\"type\":\"js\",\"url\":\"\\/assetserver\\/f47e8954887e0b476392ddda2f9b100ab297f671-knockout_punches.js\"},{\"name\":null,\"type\":\"js\",\"url\":\"\\/assetserver\\/03d4b9e9ca7ccea5f980345ae7da2d0a633a399b-all.js\"},{\"name\":null,\"type\":\"css\",\"url\":\"\\/assetserver\\/7abd4c349f36b841cd95f8ff09c80916a5b13dee-style.css\"},{\"name\":null,\"type\":\"css\",\"url\":\"\\/assetserver\\/fd76442e8836f6ee79480331582e0f45e2eec0fe-main.css\"}],\"type\":\"async_block\"},\"id\":\"knockout-component-af8314c9-fe10-4645-b0b5-d9975ac27946\",\"handlers\":{\"_promises\":{\"importsLoaded\":[\"function (ko, koPunches) {\\n    ko.punches.enableAll();\\n    ko.bindingHandlers.numericValue = {\\n        init : function(element, valueAccessor, allBindings, data, context) {\\n            var stringified = ko.observable(ko.unwrap(valueAccessor()));\\n            stringified.subscribe(function(value) {\\n                var val = parseFloat(value);\\n                if (!isNaN(val)) {\\n                    valueAccessor()(val);\\n                }\\n            })\\n            valueAccessor().subscribe(function(value) {\\n                var str = JSON.stringify(value);\\n                if ((str == \\\"0\\\") && ([\\\"-0\\\", \\\"-0.\\\"].indexOf(stringified()) >= 0))\\n                     return;\\n                 if ([\\\"null\\\", \\\"\\\"].indexOf(str) >= 0)\\n                     return;\\n                stringified(str);\\n            })\\n            ko.applyBindingsToNode(element, { value: stringified, valueUpdate: allBindings.get('valueUpdate')}, context);\\n        }\\n    };\\n    var json_data = JSON.parse(\\\"{\\\\\\\"changes\\\\\\\":0,\\\\\\\"value\\\\\\\":1}\\\");\\n    var self = this;\\n    function AppViewModel() {\\n        for (var key in json_data) {\\n            var el = json_data[key];\\n            this[key] = Array.isArray(el) ? ko.observableArray(el) : ko.observable(el);\\n        }\\n        \\n        \\n        [this[\\\"changes\\\"].subscribe((function (val){!(this.valueFromJulia[\\\"changes\\\"]) ? (_webIOScope.setObservableValue({\\\"name\\\":\\\"changes\\\",\\\"scope\\\":\\\"knockout-component-af8314c9-fe10-4645-b0b5-d9975ac27946\\\",\\\"id\\\":\\\"ob_02\\\",\\\"type\\\":\\\"observable\\\"},val)) : undefined; return this.valueFromJulia[\\\"changes\\\"]=false}),self),this[\\\"value\\\"].subscribe((function (val){!(this.valueFromJulia[\\\"value\\\"]) ? (_webIOScope.setObservableValue({\\\"name\\\":\\\"value\\\",\\\"scope\\\":\\\"knockout-component-af8314c9-fe10-4645-b0b5-d9975ac27946\\\",\\\"id\\\":\\\"ob_01\\\",\\\"type\\\":\\\"observable\\\"},val)) : undefined; return this.valueFromJulia[\\\"value\\\"]=false}),self)]\\n        \\n    }\\n    self.model = new AppViewModel();\\n    self.valueFromJulia = {};\\n    for (var key in json_data) {\\n        self.valueFromJulia[key] = false;\\n    }\\n    ko.applyBindings(self.model, self.dom);\\n}\\n\"]},\"changes\":[\"(function (val){return (val!=this.model[\\\"changes\\\"]()) ? (this.valueFromJulia[\\\"changes\\\"]=true, this.model[\\\"changes\\\"](val)) : undefined})\"],\"value\":[\"(function (val){return (val!=this.model[\\\"value\\\"]()) ? (this.valueFromJulia[\\\"value\\\"]=true, this.model[\\\"value\\\"](val)) : undefined})\"]},\"systemjs_options\":null,\"observables\":{\"changes\":{\"sync\":false,\"id\":\"ob_02\",\"value\":0},\"value\":{\"sync\":true,\"id\":\"ob_01\",\"value\":1}}},\"children\":[{\"props\":{\"attributes\":{\"style\":\"display:flex; justify-content:center; align-items:center;\"}},\"nodeType\":\"DOM\",\"type\":\"node\",\"instanceArgs\":{\"namespace\":\"html\",\"tag\":\"div\"},\"children\":[{\"props\":{\"attributes\":{\"style\":\"text-align:right;width:18%\"}},\"nodeType\":\"DOM\",\"type\":\"node\",\"instanceArgs\":{\"namespace\":\"html\",\"tag\":\"div\"},\"children\":[{\"props\":{\"className\":\"interact \",\"style\":{\"padding\":\"5px 10px 0px 10px\"}},\"nodeType\":\"DOM\",\"type\":\"node\",\"instanceArgs\":{\"namespace\":\"html\",\"tag\":\"label\"},\"children\":[\"\"]}]},{\"props\":{\"attributes\":{\"style\":\"flex-grow:1; margin: 0 2%\"}},\"nodeType\":\"DOM\",\"type\":\"node\",\"instanceArgs\":{\"namespace\":\"html\",\"tag\":\"div\"},\"children\":[{\"props\":{\"max\":1000000,\"min\":1,\"attributes\":{\"type\":\"range\",\"data-bind\":\"numericValue: value, valueUpdate: 'input', event: {change : function () {this.changes(this.changes()+1)}}\",\"orient\":\"horizontal\"},\"step\":1,\"className\":\"slider slider is-fullwidth\",\"style\":{}},\"nodeType\":\"DOM\",\"type\":\"node\",\"instanceArgs\":{\"namespace\":\"html\",\"tag\":\"input\"},\"children\":[]}]},{\"props\":{\"attributes\":{\"style\":\"width:18%\"}},\"nodeType\":\"DOM\",\"type\":\"node\",\"instanceArgs\":{\"namespace\":\"html\",\"tag\":\"div\"},\"children\":[{\"props\":{\"attributes\":{\"data-bind\":\"text: value\"}},\"nodeType\":\"DOM\",\"type\":\"node\",\"instanceArgs\":{\"namespace\":\"html\",\"tag\":\"p\"},\"children\":[]}]}]}]}]},{\"props\":{},\"nodeType\":\"Scope\",\"type\":\"node\",\"instanceArgs\":{\"imports\":{\"data\":[],\"type\":\"async_block\"},\"id\":\"scope-a731acc9-fc96-4fc8-8840-cfe23b8a6a9c\",\"handlers\":{},\"systemjs_options\":null,\"observables\":{\"obs-node\":{\"sync\":false,\"id\":\"ob_05\",\"value\":{\"props\":{\"attributes\":{\"style\":\"display:flex; justify-content:center; align-items:center;\"}},\"nodeType\":\"DOM\",\"type\":\"node\",\"instanceArgs\":{\"namespace\":\"html\",\"tag\":\"div\"},\"children\":[{\"props\":{\"setInnerHtml\":\"<img src=\\\"data:image\\/png;base64,iVBORw0KGgoAAAANSUhEUgAAAoAAAAHgCAIAAAC6s0uzAAAABmJLR0QA\\/wD\\/AP+gvaeTAAAgAElEQVR4nO3dd1xV9f8H8HPuXlwuXPZWphsHpuLCVVaAo2Hm13aZ6ddsT620EjOzbVZav4Zt09Iy\\/SppojlAMQRUXOx5gbvn+f1BmSES4r28L\\/e+nn\\/4gHM48OJ4uK\\/7OZPlOI4BAACArsWjDgAAAOCNUMAAAAAEUMAAAAAEUMAAAAAEUMAAAAAEUMAAAAAEUMAAAAAEUMAAAAAEUMAAAAAEUMAAAAAEUMAAAAAEUMAAAAAEUMAAAAAEUMAAAAAEUMAAAAAEUMAAAAAEUMAAAAAEUMAAAAAEUMAAAAAEUMAAAAAEUMAAAAAEUMAAAAAEUMAAAAAEUMAAAAAEUMAAAAAEUMAAAAAEUMAAAAAEUMAAAAAEUMAAAAAEUMAAAAAEUMAAAAAEUMAAAAAEUMAAAAAEUMAAAAAEUMAAAAAEUMAAAAAEUMAAAAAEUMAAAAAEUMAAAAAEUMAAAAAEUMAAAAAEnFzAGo0mPT3d398\\/IyNDo9G0mpuamsr+Zc6cOR1ZBAAAwCM5uYCzsrKio6MrKyujoqKWL19+4SyO44qKisrKyrRarVarXbVq1b8uAgAA4KlYjuOc+O0SExM3btyYlJRUVFSUmZlZXFx8flZVVVV8fHxiYmJxcfH48ePXrFkTFBTU\\/iIt1q5dazabL\\/5ZAwYMGDFihBPDAwAAdBknF7BCoaitrZVKpUajMTg4uLm5+fysw4cPP\\/TQQytXroyKilq4cKHFYlm\\/fn37izAM8\\/777z96Ni5apL\\/4Z0VFRcXHxzsxfPfCcZzRaJTJZNRB3JHZbBYIBHw+nzqI27Hb7TabTSwWUwdxRwaDQSqVsixLHcTtWCwWHo8nEAiog7idOiOXGc1Oj5d2bnEnr1CO41o2X47j7Hb7hbOSk5N37NjR8vGyZcv69Onzr4swDGMwGOLF2gPPZjg3pwfgOK66ujkkpJP\\/8Z5NozFJpQKJREIdxO2YTCaj0ernh82mDdXVzYGBEh4Pp6a21txs5fN5cjk2m9YO1VhLmhydXtzJm1pYWFhpaSnDMOXl5eHh4RfOys3NzcnJaflYJBKdfw\\/eziIAAACeyskFnJ6evnbtWo7j1q5dm5mZ2TIxOzubYRi9Xj916tTCwkKLxbJkyZIpU6a0swgAAIBnc3IBL1q0KD8\\/PzIysqCg4JlnnmmZmJaWxjDMyJEjFy9enJ6eHh4ertFosrKy2lkEAADAszn5GLBKpdq8eXOriS3nebEsO3fu3Llz53ZkEQAAAM+G0w0AAAAIoIABAAAIoIABAAAIoIABAAAIoIABAAAIoIABAAAIoIABAAAIoIABAAAIoIABAAAIoIABAAAIoIABAAAIoIABAAAIoIABAAAIoIABAAAIoIABAAAIoIABAAAIoIABAAAIoIABAAAIoIABAAAIoIABAAAIoIABAAAIoIABAAAIoIABAAAIoIABAAAIoIABAAAIoIABAAAIoIABAAAIoIABAAAIoIABAAAIoIABAAAIoIABAAAIoIABAAAIoIABAAAIoIABAAAIoIABAAAIoIABAAAIoIABAAAIoIABAAAIoIABAAAIoIABAAAIoIABAAAIoIABAAAIoIABAAAIoIABAAAIoIABAAAIoIABAAAIoIABAAAIoIABAAAIoIABAAAIoIABAAAIoIABAAAIoIABAAAIoIABAAAIoIABAAAIoIABAAAIoIABAAAIoIABAAAIoIABAAAIoIABAAAIoIABAAAIoIABAAAIoIABAAAICKgDAAB4IJ1FrzE1Nlu0JpuZYRgRXyjiixiG4bM8mVDW8jW+YqX8r4\\/BC6GAAQA6qdmsPak5XdJ4pkxb0WhqajQ3N5mbm8zNzeZmMV+skvj6ipVSgYRhGIvdarFbGIaxc3aD1diyeKO5ycFxofKgEEVQkCwwRBEULA8KkQcGy4PUUj+WYSl\\/N3A9FDAAQIfYOfu55vJTmjMtpVvSeMZkM8WqYnqqYmJ8I5VBffwlKl+xUin28RUrhbwOvboarMZqfU2lvqZaX1Otrz3eUNLygcFqTFLH9w3s1ScgqU9AolLs4+rfDroeChgAoD3nmsv2lR\\/cV3GooK44SKbuqYqJ8+sxJWFyT1VMiDzoCr+5TCjtoYruoYpuNV1n0RfUFRXUFX9TvGnJnuNqqX+fgMS+gUl9ApKifaN4LAbHngAFDADQmslmyq3O31d+aH9lroPjhoUNnp6Y\\/uKYp1v2J3cBhUh+Vdjgq8IGMwzj4Bynm879UVuYX1v4ReH3Oot+dOTwtOiRA4L68FicSNuNoYABAP7UbNb+79yuveUHj9UVJ6njh4YNWpa4KMY3kjYVj+XFqmJiVTGZ8ZMZhqnUVWef27M676Nqfe3oyOFjo1KTg\\/uiibsjFDAAeDuO4Y5U\\/\\/HVHxuPNBSkRlyVGT95yegnu2ywe7lCFcG39J52S+9pVfqanWd\\/e+\\/wx9X6mlGRw8dGpQ4M7o+9090IChgAvFejuennUzt+PPmLkCcYEzziidQFSkm3Od0pRB50vomzz+15L+9jnVV\\/U1LmNT3HSdz13QNcCAUMAF6HY7i8qqM\\/nNx6oDJvZMRVTw5f0Ccgqbq6WiGSU0frjBB50IxeU2f0mnq0tvCrwu\\/X5a+\\/Pm7itMR0tdSPOhq0BwUMAN5lf0XuB0c+tTqsGfHXPHLVA550K4x+gb36Bfaq0FV9XbTp9h\\/njYhIuTEpM86vB3UuaBsKGAC8xZGagvcPf6K1aO\\/sf+voqOGeeqeLMEXIgiH33tl\\/5g8ntz6e\\/UK0MmJ2v5uTg\\/pS54LWUMAA4PmK6k98eOSzMm3FHf1vmRAzxhvOGfYRKWb2nn5jUubOs7uX7X093q\\/n\\/YPuCFOEUOeCv6GAAcCTnWkqXZf\\/eUFd8YxeU1+Kf1rIF1In6lJCnmBSj7S06FEbj\\/90388PT4wZe9eAWz1pr3u35vlvAwHAOxmsxtcOrH5w+9N9ApM+z1h9Q1K6t7XveUKe4Iak9I+ue8tgNcz+Ye6Wku0OjqMOBRgBA4An2l+Z++rv7\\/QP6vN\\/6W8rRd3myiKXUkv9nhi+4HhDyZuHPthwfPO8wXcPCOpDHcqroYABwKNoLbq3D314pKbgsWHzB4cMoI7jdhL8Y9+Y+NLOs7+9mPNaSmjy\\/MF346JhKtgFDQCeY2\\/5wTs3\\/1fAE6y97g2076WwDDsuetQn6e+I+eLbN88vqCuiTuSlMAIGAE+gMTW9k7v2j9rCp0csTA7uRx2nGxDzRf8dck9ycN+nf30pM37ybf1u9oaTw90KVjcAdHuHq4\\/eteW\\/gTL1x9e\\/hfa9LKMjh6+ZvPJw9dGHdyyqM9RTx\\/EuKGAA6N5+OLn1+T0rnh7x0L3Js0V8EXWc7idIFrBq4oup4VfdteXB\\/53dTR3Hi2AXNAB0V1a79dUD755oKHln0vJQRTB1nG6MZdgbktL7BCYu2fPqkeo\\/FqTcy2f51KE8H0bAANAt1Rkb\\/rv9SZPN9PakLLSvU\\/RSJ3wweVWNofbJ7KVGm4k6judDAQNA91NQV3TfTw8lB\\/VbPPJRXEXjRDKh9KUxz4QqgudufbTWUEcdx8M5uYA1Gk16erq\\/v39GRoZGo2k1d+PGjX379lWpVKNHjz5+\\/HjLxNTUVPYvc+bMcW4eAPA8m0u2Pf3rS48Om3ffwNs89YEKhHgsb2HKnPHRo+dve\\/JsUyl1HE\\/m5ALOysqKjo6urKyMiopavnz5hbPOnTs3a9as999\\/v7KyMiMj44477mAYhuO4oqKisrIyrVar1WpXrVrl3DwA4GHWH\\/vu84Jv35z48rCwIdRZPNmsvjfe2f\\/WBdufPlJTQJ3FYzn5JKwNGzZs3LhRLBbPmzcvMzPz5ZdfPj\\/r1KlTM2bMGD58OMMwt91227JlyxiGqa6utlgsmZmZxcXF48ePX7NmjUTSem+Sw+HQ6\\/VtRBcIhEIvvbMrwzAcxzkcDofDQR3EHTn+Qh3E7XT3NfNF4YYtp7a\\/Nm5JgEzt9N+iW68ZV5gQPTpA6r9497I7e81MixyJlXOxK1wnTi7g8vLy6OhohmFaxsEXzho7duzYsWMZhrHb7YsWLbr55psZhqmqqkpJSVm5cmVUVNTChQsXLFiwfv36Vt8zPz9frZ5x8c+6++67n332Wefm70Y4jquvr+fzcaZiG5qamiQSiVgspg7idsxms8lkstls1EE647vTm3dV7ls8+BFO76jV1zr9+9fX1zMMw+PhzJi\\/hbPBzyQvfCnv9erG2ozYq6njuB2NhrNyCobp5EuNkwuY4ziWZVs+sNvtF3\\/B9u3bH3vssUmTJi1dupRhmOTk5B07drTMWrZsWZ8+bdwZPDk5+cC3OB+vNY7jGIYJDsbJn20QiURSqfTivSlgMpmMRqOfnx91kMv20dH1++oOvX1Nlr\\/UheEDAwNRwK0EBwe\\/onjuiZylkSER1\\/QcRx3HvahZa2NT5wfBTi7gsLCw0tLS+Pj48vLy8PDwC2dxHPfUU0\\/t2bPniy++SEhIaJmYm5trMplGjBjBMIxIJMKQBQAuti5\\/\\/c5zv702fqlL2xcuJVCqfjn16cf3LJEIxGOjUqnjeA4nv9dLT09fu3Ytx3Fr167NzMxsmZidnc0wTE5OzoYNGzZt2hQWFqbT6XQ6HcMwer1+6tSphYWFFotlyZIlU6ZMcW4eAOju1uZ\\/tvPcb6vGL1WjfemEyoOXpy1edeC9\\/ZW51Fk8h5MLeNGiRfn5+ZGRkQUFBc8880zLxLS0NIZhsrOzi4uL\\/fz8fP7CMMzIkSMXL16cnp4eHh6u0WiysrKcmwcAurVP\\/vhqT9mBNye+jLEvuVhVzAujHn8p57Vjdceps3gItuVQott6\\/fXXP23uceDZDOogbofjuOrq6pCQEOog7kij0eAYcJu61zHg3aV7Vx1c897VKwJk6i74cdXV1TgG3Kbm5mY+ny+XyxmGOVh5eGnOqyvGPR\\/n15M6F71DNdaSJsdN8Z08eIpNDQDc0UnNqVd+f\\/vF0U91TftCBw0JTX5o6NzHdj5f2lxOnaXbQwEDgNvRmBqf+vWlh4ben6SOp84CrY2OHH5bvxlP\\/foi7hd9hVDAAOBebA77c7uXT+45Hifcuq3M+Mn9g3ov3\\/cmdZDuDQUMAO7ltQPvKsU+t\\/dv4\\/Y74D4WDLm3TFux8cRP1EG6MRQwALiR9ce+K6o\\/+fSIhXjKgpsT8UXPjXxsXf7nxQ0nqbN0VyhgAHAXh2v++KZo08tjn8ETBruFcJ\\/QhSn3P7d7udaio87SLaGAAcAtmGym5fvefHTYvCBZAHUW6KgxUSNGRKS8lPMax7j1Fa3uCQUMAG7h3byPkoP64iGD3c79A+\\/UWnRfFW6kDtL9oIABgF5uVf7e8gMPDL6LOghcNgGP\\/2zqI18UbsDB4MuFAgYAYiab6ZXf33pk6ANyoYw6C3RGsDzwvuTbXv39HQeHZwZfBhQwABB769CHQ0KTh4YNog4CnXd1zzSZULrpxM\\/UQboTFDAAUDpUdeRAZd79A++gDgJXhGXYB1PmrM3\\/vN6ooc7SbaCAAYCM3mrI2vfmY8Pmy4RS6ixwpWJ8I6+Lnbg6bx11kG4DBQwAZD4\\/9u3gkP6DQwZQBwHnuK3fjPyaY3nVR6mDdA8oYACgUW\\/UbDrx8x39Z1IHAaeRCMQPDb3\\/1f3vWO1W6izdAAoYAGh8dHT9dbETcdsND3NV2OAoZfiXhd9TB+kGUMAAQKC0uXzXub0z+0ynDgLOt2DIvV8Wfd9obqIO4u5QwABA4IMjn97ce4pS5EMdBJwvWB6UFjXy66JN1EHcHQoYALpacf3JP+qKpiVcTx0EXOXWPjf8cGIrHtLQPhQwAHS19w5\\/fEe\\/WyQCMXUQcJVgeeCIiKHfFW+mDuLWUMAA0KUOVh6uNdRNjh1PHQRc69be0zcc\\/9FoM1EHcV8oYADoUl8Ubpjd72Y+y6cOAq4VqQwfFDLg++NbqIO4LxQwAHSdCl3VSc2psZGp1EGgK8zue\\/PXRRvNdgt1EDeFAgaArrPh+Jbr4iYJ+ULqINAVYnwjewckbj65jTqIm0IBA0AXMdstv5zamR53NXUQ6Dqz+tz4ZeEGB8dRB3FHKGAA6CL\\/O7Ord0BiiDyIOgh0nSR1vEIkz68toA7ijlDAANBFvj+xZUrCZOoU0NUm9Uj75dRO6hTuCAUMAF3hhOaU1qxLCR1EHQS62qQeY3eX7jPZzNRB3A4KGAC6wrfFP2bEX8NjWeog0NX8JKokdXxO+X7qIG4HBQwALmeymXedy7k2dgJ1EKBxdc+0rdgLfREUMAC43MGqw0nqeF+xkjoI0BgZMaygrqjBqKEO4l5QwADgcjll+4eHp1CnADISgTg1YuiOs79RB3EvKGAAcC2O4fZVHByBAvZuV\\/cY98tp7IX+BxQwALhWcf1JhUgR7hNKHQQoJQf3q9RX12Mv9AVQwADgWjnl+zH8BR7LDgjqm1edTx3EjaCAAcC19pQdSI0YSp0C6A0M7pdXfZQ6hRtBAQOAC9UZ6msMtb0DEqmDAL1BIf1zqzAC\\/hsKGABcaE\\/5\\/mFhQ\\/D0X2AYJsY30mgzVetrqIO4CxQwALjQkZqCISEDqFOAW2AZdmBwv1zshf4LChgAXOh4Q0mCOo46BbiLgcH9DqOA\\/4ICBgBXMdpMdYb6KGU4dRBwFwOD++Ew8HkoYABwlZOaUz1UUTgADOdFKsMdDFehq6IO4hZQwADgKscbSuL9YqlTgHuJ9+txqvEsdQq3gAIGAFc50XAqwb8ndQpwL5HKiNLmcuoUbgEFDACucryhJN4fI2D4h0ifsHPNZdQp3AIKGABcwmq3lmkrevhGUQcB9xKlDC9trqBO4RZQwADgEqcaz0Yqw0V8EXUQcC\\/YBX0eChgAXKJCVxXhE0adAtyOWupndVibLVrqIPRQwADgEg0mjVrqT50C3FGEMqwMe6FRwADgIg2mRn+JijoFuKNIn\\/Bz2AuNAgYAF9EYG\\/2kKGBoQ5QyvEyLETAKGABco8Gk8Zf4UacAd+QrVjabcQwYBQwArtFgbPTHCBjaIhNKjTYjdQp6KGAAcAkcA4ZLkQqkBisKGAUMAC7AMVyjqUmFAoa2yIRSA0bAKGAAcAWtWScVSoQ8AXUQcEcyIUbADIMCBgBXMNnNEr6YOgW4KRl2QTMMgwIGAFfgMayD4ahTgJuSCqVGm4k6BT0UMAA4H8vyOM5BnQLclEwgNVgN1CnooYABwPl4LOvgMAKGtsmEUovdQp2CHgoYAJyPZVkOBQyXYHfYGYalTkEPBQwAzsdjeA4Gu6ChbUa7SSLAOXooYABwAYyAoR1mm1kikFCnoIcCBgDn47E8B07Cgksw2swYATMoYABwBZZhOVyGBJdgsplwmTiDAgYAV5AIxFa71c7ZqYOAOzLbMQJmGBQwALgCj+WpJKp6o4Y6CLgjo82EY8AMChgAXCRQpq411FGnAHeks+jlQhl1CnooYABwiSBZQK2hnjoFuKMKbVWYIoQ6BT0UMAC4RKBMXYMRMLSlUl8dqgimTkEPBQwALhEgU9dhBAxtqdBhBMwwKGAAcJFA7IKGSyjXVoX5oIBRwADgGkE4CQvaYnPYG4yaIFkgdRB6KGAAcIlAWUANRsBwkSp9daBMLeDxqYPQQwEDgEsEytTN5mY8dx1aqdBV4QysFihgAHAJPsuP8+tRXH+COgi4lwptVbhPKHUKt4ACBgBX6aVOKEQBwz+daSqN9AmjTuEWUMAA4CpJ6vgiFDD8U35NQd\\/A3tQp3AIKGABcpVdAwrG6YuoU4Eb0VkOFrirevyd1ELeAAgYAVwlThFgd1jpjA3UQcBf5Ncd6BSQIeQLqIG4BBQwALpToj73Q8Lf8moL+gX2oU7gLFDAAuBAOA8OFjtYe6x+EA8B\\/QgEDgAv1CojHYWBoYbFbTmhO9w5IpA7iLlDAAOBC\\/QJ7F9WfMFiN1EGAXmH9iRjfSKlAQh3EXaCAAcCF5EJZ38Bev1ccog4C9PJrCvoH4QDw35xcwBqNJj093d\\/fPyMjQ6PRdGRu+4sAQHc3OnLY7tK91CmA3t7ygykhydQp3IiTCzgrKys6OrqysjIqKmr58uUdmdv+IgDQ3aVGDPu9Mtdit1AHAUrV+tpybeXg0AHUQdyIkwt4w4YN8+bNE4vF8+bN++677zoyt\\/1FAKC785P4xqpicqvzqYMApe1nfh0TNYLP4iFIf3Py1dDl5eXR0dEMw7QMajsyt\\/1FGIY5ffr01KlTL54+adKkGTNmODd\\/N8JxXFNTk1gspg7ijhobG81mM1bOxcxms9FIcD7UYPWA7Sd\\/TZTGdv2P7rimpiaBQMDj4cyY1rRaLZ\\/Pt1iuaB\\/GtlPZd\\/ee5WHHGZubHTabhGE6+VLj5ALmOI5l2ZYP7HZ7R+a2vwjDML6+vtPHTb94ekJCglQqdW7+boTjOIlE4s1roB1ms1kikUgkONmytZa\\/ta7fbNJiUh\\/43xMLU+a48wCo5Q8KBXwxq9XK5\\/OvZLMp1ZY3W7SDwgbwWNaJwciJxTbW1vnfyMkFHBYWVlpaGh8fX15eHh4e3pG57S\\/CMIy\\/v\\/+sWRnOzekBOI4Ti8XomDa1rBmsnDa1vHXr4h8aJYkMUQSd0J5ODurbxT+641o2GxTwxSwWC5\\/Pv5LNZvfxfRN6jJF53IBBLLbyTY5OL+7kTS09PX3t2rUcx61duzYzM7NlYnZ2djtz25wIAB5mdOTwnWd\\/o04BNHac\\/W1c9CjqFG7HyQW8aNGi\\/Pz8yMjIgoKCZ555pmViWlpaO3PbnAgAHuba2Ik7zuzWWw3UQaCrFTectDvsieo46iBux8m7oFUq1ebNm1tN5DiunbltTgQAD6OW+l0VNnhLyfYbk3BEybtsO509IWYMy3jU0V+nwNEOAOgiN\\/bK+KZok4Pr\\/DEz6Hb0VsMvp7Ovj5tEHcQdoYC9Hsc5DDqHQcc48LIIrpXoH+cv9dtbfpA6CHSdDce3jAhPCZYHUgdxR3gqsufjLGZr1Vlb9Tm7vtmha3LoGh36Zoe+2a5vbvmAJ5UzDOMwGVo6mBWJWYGQYRiWL2TFUr7Sn68OFvgF8f2C+H5BAv9gvl8QKxQR\\/1bQPd2QlPFN8abUiKHUQaArWO3WDcU\\/rhj3PHUQN4UC9kD2hhpr5SlLxWlr+SlrxWm7pkYQHCkMjuYpfHkKpcg\\/kadQ8RRKnlzJlyt5cl\\/mn1fmcRYzZ7MyDMPZrJzZYG9qsGuqbQ3VlrNFtrxddk2NXVPDkyn4\\/iGiqARRTC9xzz58Fd7eQoeMjRqxOnddSeOZWFUMdRZwuZ9P70jwj+2hiqYO4qZQwB6B4yxlJ02FB83Hc63lp1mRWBjWUxjWQ9o\\/VXn1rcLgSIZ3GXc\\/YEViVnT+xi5+gsBwhunX6mvszQ222nLL2WJj3q6m799jWJ4opre4Ry9RTG9hZBzLx3YFbeOz\\/Iz4a74r\\/vHRq+ZRZwHXcnDc10WbHhk6lzqI+8ILZXdm0hvyfjUVHjQXHuTJfSS9UnwmzBBFxvPkSlf\\/ZL7Sn6\\/0F8f+Wcy2+krL6ULLmUL9wf\\/ZaspFUQnSASOl\\/VP5vmpXJ4FuJyP+mlmb7r8n+T8qsS91FnCh38r2yYUyPH+wHSjg7sdaecb4x17TsYP2ilOGuAHS3inKa2YJ\\/IMJIwnUoQJ1qGzIOIZhOLPRXHLUeHh388+fCoOjpMmjpANGoonhPF+xclLPsR\\/lf\\/Fgyn3UWcCF1h\\/7bmbvadQp3BoKuNvgLCZD7q\\/6nC12rUY6YKTP1TObfIIDwiOoc7XGiqWS3kMlvYeq7DZzcZ7x8K7mrZ8JgyOlyaPRxNDitr4z\\/vPD3GmJ10cp27j7LHiAw9VHdRZdasQw6iBuDQXcDVjLSnR7txjzdolj+ymvmSXpNYRhWY7jmqqrqaO1h+ULJL1TJL1TVHab+Xie8fDu5q2fiaISfNKmixMGUqcDSkqxz8w+01fnrXtpDG5+54EcnOPt3LV39J\\/pYY9ecDoUsPvirBZTwe+6nC226nOyIeODH32b7xdEHaozWL5A0itF0itFZbcZc7MbN7zHsKxiZLosZQIuZ\\/Ja0xKv33jip0NVRwaH4AntnuaHk1vFfHFa9EjqIO4OBeyOHAadduc3+j2bxXH9fNKmS5IGMx7xRpLlC2QpE2RDxpuKc3XZ3zVv\\/UwxMl0+4touOGsM3I2QJ7hnwH\\/eyV33\\/uTXME7yJFqL7qOjX6wY9zzuPfmvUMDuhTMbtb9+r9v1vbTv8O475P0XLCtJGixJGmytPKPL3lD14l2yQWMUadMF6lDqZNCl0qJHflv8w\\/Yz2ZN6pFFnAad5\\/\\/AnaVEjcZ13R+BWlO6Cs1q02d9VLb3TVl0a9OBrfjMe9Mz2vYAwNMbvloXBT6zhyXxqVi5o2vSBw6SnDgVdau6gu9Yc\\/sRkM1MHAec4oTm1qzTn9n4zqIN0DyhgepzdZjiwvXrZvaZjBwLmLPX\\/z2OCgDDqUF2Hr\\/RTXntbyFMfcDZr1dK7dL9+j7tSe4\\/eAQl9A5O+LNxAHQScgGO41w+suSd5tlLsQ52le8AuaGKmY\\/sbv31XEBjmf\\/tTosgE6jhkeHKlatr98qGTGjes1u\\/fppp6nziuP3Uo6AoPDLrznp8WDg9PSfCPpc4CV2Tb6V+tDuvknhOog3QbKGAyDn1z44bVljNFfjMWiOOTqeO4BWFEbOD8V4xHdmvWrxRGxPlm3IUDwx4vUBYwf\\/A9L+asXDP5NTEfZ8V3V81m7XuHP14y6kmcUtdx2AVNw3hkd\\/Xy+\\/kKVfBj76J9W5EOGBX8xBpRRFzNygXNv6zHHmmPNz5mdKxfjzWHP6YOAp3EMVzWvjcmxozpHeC9u\\/E6AQXc1ezNmvp1S5t\\/+kR9x7O+U+694LEH8DdWKPKZOCP4sXctp\\/6ofetRe0MNdSJwrYdS7t9d+vvvFYeog0BnfFP0Q52x4a4Bs6iDdDMo4C5lPLy7ZsVcQUBY0BmjYlsAACAASURBVCNvi2KSqOO4O76vOuC+pdIBo6pXzjcc3EEdB1xIIZI\\/Pmz+K7+\\/3WzRUmeBy1PSeOazgm+eG\\/mYkIdjmpcH66uLOIy6hk9X2JtqA+5bKgzHySYdxrKKMVPEcf3q\\/y\\/LVJyrmj6XJ5FRZwKXGBwyYGzUiFf2vbVk9JPUWaCjjDbTc7uz5g2+K1RB+TyYbgoj4K5grTpXs3KBIDAs+KE30L6dIAyPDX74TVYkrlnxgOVMEXUccJV7k2efay7bfuZX6iDQUSv3v9s\\/qM+EmDHUQbolFLDLGY\\/urX3rMeWkmaop9zI8PnWc7ooVif1unO+beW\\/92ue1275gOI46ETifiC96NvXhtw59cEJzijoL\\/LufT+040VAyf\\/A91EG6KxSwK3Fc88+fNn77TsB9L8hSxlOn8QTSfsODHn7LWPB7w+crOLuNOg44X5xfz4Up9z+VvbTOUE+dBdpztqn03dx1i0c+KhHgTNJOQgG7Cmc21q9bairOC3roDW++w4bT8X3VgfOWMzZb3epncOtKjzQmasS0xOufyF5itJmos0Db6owNj+18\\/oHBd\\/ZQRVNn6cZQwC5hq6uoWbWQp\\/ANnJfFV\\/pRx\\/E0rEDoP\\/sJUVR87aqH7BpcoeSBbuk9rXdA4uLdWQ4OV4G7Hb3V8PjOFzITJuMpGlcIBex81vKS2jceVozK8Lvpvywf55m7Bsv6pt8lG3Z1zRuPWCtOU6cB51uQcq+ds7+d+yF1EPgHq8P27K6X+wYmzew9nTpLt4cCdjJreUnde8+qbpgnH3EtdRbP5zN2mmrqnNp3njAVHqDOAk7GZ\\/kvjHoir+rot8U\\/UmeBPzk4bumeV33FygVD7qPO4glQwM5kKT1et\\/oZ1Y3zpf1TqbN4C2n\\/Eeo7F2nWrzQcwp06PI1cKHtp7DOfF3yTU443WG7hjYNrmi3ap4Y\\/iBs+OwUK2Gks54rr1yz2m\\/GgtN9w6izeRdyzT8ADWU2bPjTm76HOAk4WIg96cczTy\\/e9+VvZ79RZvN0nf3x1tLZw6einhHwhdRYPgQJ2DkvpifoPnlPdvEDS5yrqLN5IGBwVMOfFxq\\/fMhUepM4CTpakjl+etnjl\\/nf+d2YXdRbvtenU1i0l25enLZYLcSs6p0EBO4Hl9LG6957xu3mBtO8w6izeSxgao75rccNnr5hPFVBnASdL8I99dfySd\\/M+2lyyjTqLN\\/qs+JsfTm19bcJStRTXdDgTCvhKWc4V1334gv9\\/Hpf0QfsSE8Uk+d\\/6SMO6pY6aUuos4GQ9fKPenPjyp398\\/VXRRuosXsTBOV7d\\/87BmiOvjHouRB5EHcfToICviL2xrv7DF\\/xveVCSOIg6CzAMw0h6pfhOvc\\/02TJ7QxV1FnCyUEXwqgkvbjz+00dH11Nn8QpWu\\/X5314p01a8OPwplVhJHccDoYA7j7Na6tcuUYzOxNjXrcgGjRWm3dT84XP2JtzL0NMEywPfmPhy9tk9Hxz5lDqLh9NbDY\\/sWMzn8ZenPScTSKnjeCYUcGdxXMPnKwTBET7jb6KOAq0Jk8dIUibWrXmWs5ips4CTqaV+r0986UBl3gt7Vphwr0rXqDdq\\/rvtyTj\\/Hs+MeBhP+XUdFHAnNW\\/9zF5X6XfTAuog0Dbp2OnC8FjNl69TBwHn8xUr35z4sogvmrP10dLmcuo4nuak5tS8Xx5Pix41f\\/A9uN7XpVDAnWHMz9Hv\\/Ul993OsUESdBS7J78b51qoz+t9\\/oQ4Czifii54Y9t\\/pidfP3\\/bE7tJ91HE8x\\/fHtzyyY\\/E9yf+Z1ecG6iyeD\\/sWLpu1vETz5aqA+5byfdXUWaA9rFCkvv3pmtcfFoXHCiNiqeOA86XHXZ3oH7d4d1Ze9dG5g+4U4HnbV0BvNaz4\\/e0ybcXbk5aH+4RSx\\/EKGAFfHodBV\\/fh8343zhdF4QmD3YAgMFw19b76j1\\/izEbqLOASCf6x713zamlz+cP\\/e7bBqKGO010V15+8e8uDcqHsHbRvF0IBX57G796R9hshTR5FHQQ6SjY4TZyQrPliFXUQcBWl2CcrbVG\\/oN5ztj5yuPoodZxuhmO4Lwo3PJ79wgOD73rkqgdwm8muhAK+DKaCfZYzhb7X3U4dBC6PauocW12F7rcfqIOAq\\/BY3t0DZj08dO5Le1dl7Xuj2aKlTtQ9aEyNT+xcsrt073vXvDoyArfR7Woo4I5y6Js1X73pf+ujrEhCnQUuDysQ+t\\/+lHbr59ayEuos4EJXhQ3++Pq3ZULp7T\\/O23YmmzqOW7Nz9m+Lf7z9x\\/nx\\/j3fmPhysDyQOpE3QgF3VOO3b8sGp4l69KYOAp0hUIf6Ztyl+ep1huOos4ALSQWS+YPvWZ62+JuiHxZsf\\/ocLlJqS35NwT1bFu4q3btqwtK7B8ziszh5jQYKuEOMR\\/dayk8pJ8+mDgKdJxsynhXLdDmbqYOAy8X59Xzn6uWjIobN\\/+WJdfnrrQ4bdSJ30WDUvJjz2vN7Vtzca8rrE17soYqmTuTVUMD\\/zqFvbvzmLf+ZD+Oq3+6NZf1umt\\/80yf25gbqKOByfJZ\\/Q1L6e5NfLaw\\/fu9PC\\/eU7ecYr975YXPYvyr8\\/vbN84Nk6s\\/S37265zjqRIDrgDtA8\\/WbspQJougk6iBwpQSB4fJh1zRt+sB\\/1mPUWaArhMiDlqct\\/q3s93X5n6\\/L\\/\\/z2\\/rekRgxlGe+6u5OD43aV5qzL\\/zxIFvj2pKxIZTh1IvgTCvhfmIoOWStO4\\/XaYygnzaxedq\\/5xGFxfDJ1FugiIyOuSo0Yuqds\\/0f569flr7+934yRkVd5Qw1b7datp3esP7ZBJVHOGXjH8PAh1IngH1DA7eK4ph\\/X+abfyQpwbZyHYEVi1Y3zNF+9Gfz4avy3eg+WYUdGXDUy4qpDVUfWHP6\\/D\\/M\\/u6XX1Ik90jz1XsdGm2nzyW1fFG4IkQc+MPjOEeFDqRNBG1DA7THkZrM8vrTvcOog4EySXinC4M26nd\\/6TJxBnQW62uCQAauvWbG3\\/MBH+V98Wfj9lIRrx0WPUojk1LmcRmNq\\/KZo0w8nfxkaOigrbVGsKoY6EVwSCviSOLut+af\\/85vxEOOh75G9mWra3OpX58mGTsQNvb0Qy7AjwocOD085UJm3+eS29w5\\/PCxsyLWxE8KYYOponWdz2A9W5W0\\/vev3ikPjY0avmbwyRB5EHQr+BQr4kvR7NguCIsRx\\/aiDgPPx\\/YNkKRN0O7\\/1nXIvdRagwTLs0NBBQ0MHNVu0207\\/ujrvowaD5tq4iZNjx4cpQqjTdRTHcEdrjm0\\/s+vXczmRyrDxMaPnD7nbV6ykzgUdggJuG2c2ard\\/GXDvEuog4Co+426szrrPZ8LNPIUvdRagpBT5TE+8fnri9ftLDu3THJq79dFoZeT4mNFDQpPduYlPak5vP\\/PrjrO75ULZhJgxaya\\/Gowhb3eDAm6bdue34sSBeIadB+Mr\\/WTJo3W\\/fq+87jbqLOAWohURQ3oMvH\\/QnfvKD+wq3ffR0fVivnhwyIAhocmDQvorRT7UAZk6Y8ORmoL8moLcqiNWh218zOissYtwM43uCwXcBoe+Wbd7U9BDr1MHAdfymXBT9Yp5irTpPJmCOgu4CyFPMCpy+KjI4QzDnG48e7DqyE8l\\/1u+781IZfiQkAGDQ5KT1PEyobTL8lToqo7UFLT0rt5i6BfUe0BQn+vjJsX59fCGK6k8Gwq4Dbpd38sGjhao8VBMD8f3C5L2HabbvUl59UzqLOCOeqiie6iib0zKsDpsx+qKD1Ye\\/uDIpyWNZ3zFPtHKyBhVVLQyIsY3Kto3wkfkhPdwDo6rNdSWa6vKdZXl2soKXVVBXTHLsAOC+vQP6j2j19Ro3wiUridBAbfG2W36fVsD7n+JOgh0BZ+JM2pWPeQzdior7roxDXQ7Qp5gQFCfAUF97hpwK8dwVbqas82lpxvPFdQVbS755WxTmUQgjvGN8pOoFCK5QiRXCOU+IrlCpPARKRRCuVwkYxlWZ9Vb7Taz3Wy0mWwOm86it3N2vdVQZ2io0FWWa6sqddUqiW+4IiTcJzTMJzQtauScgbe783FouEIo4NZM+TmCoEhhCA6reAVBQJgkYYBuz2afcTdQZ4HugWXYUEVwqCJ4WNjfN5aqMdSdbSptNDfpLHqdRd9oairTVugseq1Fp7PqdRY9wzAKoVzAE0gEYolALOQJ5UIZn8dXCOUh8sBBIf3DfULDFSEiPm4470VQwK3pcjYrUq+nTgFdx2fiLXXvPqUYM4Xl488BOilIFhAkC6BOAd0Mnob0D9bqc7bqUkk\\/3PrKiwhDYwQBYabCg9RBAMC7oID\\/Qf\\/bj\\/IR12Ik5G1kKeMNB\\/5HnQIAvAsK+G+c2WjIzZYPu4Y6CHQ16cAx5hN5DqOOOggAeBEU8N8Mh3aKY\\/vxVTiQ43V4Epk4cZAxbxd1EADwIijgv+n3\\/ixPvY46BdCQDxlvOIi90ADQdVDAf7I31toaqiR4SLu3kvQaYqursNVVUgcBAG+BAv6T8Y\\/fJb1TGB5WiLfi8aXJow2HdlDnAABvgb75k6ngd2mfYdQpgNKf50JzHHUQAPAKKGCGYRjOYrKcLhAnDaIOApREkQkMw1irzlIHAQCvgAJmGIYxFecKoxJ5Ejl1ECAmTkg2nzhCnQIAvAIKmGEYxvTH79K+2P8MjDiuPwoYALoGCphhOM5UuF\\/SO4U6B9CTJCSbS\\/IZh4M6CAB4PhQwYzlXzJMpBQFh1EGAHk+h4iv9rRWnqIMAgOdDATPm44clvYb8+9eBdxDHJ5uOH6ZOAQCeDwXMWMpOCiPjqVOAuxDH9TefxGFgAHA5FDBjLTspQgHDX8Rx\\/S2njnF2G3UQAPBw3l7ADqPOrmvCAWA4jydX8tUh1tKT1EEAwMN5ewFby0pE4T0ZlqUOAm5EFJVgKUMBA4BreXsBW0pPCCPiqFOAexEERdhqy6hTAICH8\\/YCtpaXoIChFWFQuK0GBQwAruXtBWwpKxGhgOGfBEGRtppy6hQA4OG8uoA5i9muqREER1IHAfciUIfYm+s5q4U6CAB4Mq8uYFttuSAglOULqIOAm+Hx+f7BtroK6hwA4Mm8uoDtWg1f6U+dAtyRMDDcVou90ADgQl5dwI7mBh4KGNoiCIrAeVgA4FJeXcB2XRNf4UudAtwRChgAXM2rCxgjYLgUvlJt1zZSpwAAT+bVBWzXavg+ftQpwB2xEilnNlCnAABP5uQC1mg06enp\\/v7+GRkZGo2m1dyNGzf27dtXpVKNHj36+PHjLRNTU1PZv8yZM8e5edqHAoZL4YmkDrOJOgUAeDInF3BWVlZ0dHRlZWVUVNTy5csvnHXu3LlZs2a9\\/\\/77lZWVGRkZd9xxB8MwHMcVFRWVlZVptVqtVrtq1Srn5mmfo1nDU6KAoQ0YAQOAqzn5EtgNGzZs3LhRLBbPmzcvMzPz5ZdfPj\\/r1KlTM2bMGD58OMMwt91227JlyxiGqa6utlgsmZmZxcXF48ePX7NmjUQiafU9m5qaNm3adPHPiomJSUxMvJK0tuYGu1juMJuv5JtQ4TjOYrGYu2d4VzObzTwej72CZ2w4WL7daPC81Wv+C3UQd9TyB8XjefWBuTaZzWY+ny8Q4JYJrVksNoej8xuMk1doeXl5dHQ0wzAt4+ALZ40dO3bs2LEMw9jt9kWLFt18880Mw1RVVaWkpKxcuTIqKmrhwoULFixYv359q+9ZW1v7xhsfX\\/yzrrvuuoiIiCuKazbqbQ5Wr7+ib0KE4ziDwaDvnuFdzWAwcBxnt9s7\\/y1sHGf2wNVrNpuNRqNIJKIO4o5a\\/qBQwBczGAx8Pp86hTsyGh12e+tBY8ddaQEnJSUVFxczDMNxXMu\\/LcOOS738bd++\\/bHHHps0adLSpUsZhklOTt6xY0fLrGXLlvXp0+fiReLi4rZ\\/vP0Kc7apnGH8\\/f276Z2wOI6zWq3+\\/jiLuw0sy0ql0ov3plwGjjM4HP4qX4bnUa87JpNJIpH4+eHISxta\\/qBQwBcTCAR8Pl8ul1MHcTu+Nmtdk6PTi19p9xQVFV34aVhYWGlpaXx8fHl5eXh4+IWzOI576qmn9uzZ88UXXyQkJLRMzM3NNZlMI0aMYBhGJBKJxeIrzHN5eDzG4WA86gUWnIRleSKJw2LiSfCiAwAu4eT3eunp6WvXruU4bu3atZmZmS0Ts7OzGYbJycnZsGHDpk2bwsLCdDqdTqdjGEav10+dOrWwsNBisSxZsmTKlCnOzfMvWB7Ddf7NC3g2ViLlTEbqFADgsZxcwIsWLcrPz4+MjCwoKHjmmWdaJqalpTEMk52dXVxc7Ofn5\\/MXhmFGjhy5ePHi9PT08PBwjUaTlZXl3Dz\\/gmUZjuvSnwjdDDYPAHAVJx\\/+VKlUmzdvbjWx5fDw008\\/\\/fTTT7eaxbLs3Llz586d69wYHcSyPI5zdP5MWfBonMXMiq7gKDIAQLu8+3QDHss4MMSBtnEWEwoYAFzHuwsYx4DhUhwOzmFnBULqHADgsby8gHEMGNrmsJhYYdeekw8AXsarC5gVijkrbgkEbeAsZp4Y+58BwIW8uoD5vmp7Yx11CnBHOAAMAK7m5QUcYG+qp04B7ogzGVixlDoFAHgy7y5gVYC9sZY6BbgjW0O1wD+YOgUAeDLvLmBfNUbA0CZbXQVfHUqdAgA8mXcXsCoAx4ChTfaGKoyAAcClvLyAA20oYGiLra5SEBBGnQIAPJmXF3CAvQnHgKENtvoqgTqEOgUAeDLvLmBftaNZwzhwMyz4J4fDrqnhYxc0ALiSVxcwyxfwFCqbpoY6CLgXe2MdT+HLCkXUQQDAk3l1ATMMI4pKsJwrpk4B7sVWXyEIwCnQAOBaKOAE67nj1CnAvdhqygVqnIEFAK7l9QUcnWg5ixEw\\/IP5dIEoJok6BQB4OK8v4KhES3kJ47BTBwE3Yj71h7hnX+oUAODhvL2AWbFU4BdorTxLHQTchb2xjjObBEER1EEAwMN5ewEzLYPgs0XUKcBdmEuOimP7MixLHQQAPBwKmBFGJ1pwHhb8xXKqQIT9zwDgeihgRhSViCuR4DwcAAaAroECZoRhPeyNtfZmDXUQoOcw6GwN1aKIWOogAOD5UMAMyxdIeqWY\\/thLHQToWU4XiKKTGB6fOggAeD4UMMMwjLT\\/CGP+HuoUQM9UnCuO70+dAgC8AgqYYRhG0muo5UyRw6CjDgKkOM545DdZ8mjqHADgFVDADMMwrEgsju9vKtxPHQQomU8c5vuqBYHh1EEAwCuggP8k7TfCmJ9DnQIoGXKzpYPGUqcAAG+BAv6TpN9wc3EeZzFTBwEanN1mPLoX+58BoMuggP\\/EkyqEUfGm4kPUQYCGqfCgMDSarwqgDgIA3gIF\\/Ddp\\/1Tjkd+oUwANY96v0oFjqFMAgBdBAf9NNijNdOyAXYs7cngdzmI2HTsgGzCSOggAeBEU8N94MoU0eZR+38\\/UQaCrGf\\/YK4pJ4ilU1EEAwIuggP9BMSpD\\/9uPnN1GHQS6lO7X7+XDr6VOAQDeBQX8D8LQGEFwJI4EexXzyXyHUSftN5w6CAB4FxRwaz5jpuh2fkedArqOdsfXPuNuxAOAAaCLoYBbk\\/S+ymHSW84WUQeBrmCtPGMtOykbnEYdBAC8Dgr4IiyrGHm9btdG6hzQFbQ7vlaMmcoKRdRBAMDroIDbILvqalPhQXtTPXUQcC17Y63p2AF56nXUQQDAG6GA28CTyOTDrm7e+hl1EHAtbfYG+VWTeBI5dRAA8EYo4Lb5TJhhzM+xVp2jDgKu4jBoDQe2K8ZMpQ4CAF4KBdw2nkyhnDijadP71EHAVZq3fiZLHs33VVMHAQAvhQK+JPnI6221FaYiPJ7BA1mrzhkOZSuvnU0dBAC8Fwr4kli+wDf9rqZNHzAOB3UWcLKm799TTp7FkyupgwCA90IBt0fafwRPItcf2E4dBJzJeHi3valeMXwydRAA8Goo4H+hmnZ\\/80\\/\\/x1lM1EHAOTirpWnTB6rpDzA8PnUWAPBqKOB\\/IYyIFcf20+74hjoIOId223pRj97iuH7UQQDA26GA\\/51v+p263360lpdQB4ErZauv1O3Z7JtxN3UQAAAUcAfwVYGqKfc2fPoKZ7VQZ4Er0vjdap9xN+DSIwBwByjgDpENGScIiWra\\/BF1EOg83Z4fHc0NirHTqIMAADAMCrjj\\/G76rzH\\/N\\/OJw9RBoDOslWeaf\\/rE\\/z+Ps3wBdRYAAIZBAXccT6rwn7Gw4bMVDoOWOgtcHs5iqv\\/oJVXmvYKgCOosAAB\\/QgFfBnHCQGn\\/1MZv36UOApen8dt3xdGJspTx1EEAAP6GAr48vul3WStOGXKzqYNARxnzdplP\\/aGaPpc6CADAP6CALw8rFPnNfLjxu9XWajwoqRuw1VVqvn1HfftTrFhKnQUA4B9QwJdNFBmvyrynfs1ih66ROgu0h7PbGj5+WXn1TGF4LHUWAIDWUMCdIUsZLxsyru6D53FlsPviOM1nK\\/jqYMXIdOooAABtQAF3kvKaWYLAsIZPX2E4jjoLtEG3eZ29qd7\\/1kcZlqXOAgDQBhRwZ7Gs34yFDkNz05aPqaNAa9Y9P9hOHFbftZgViqizAAC0DQXceSxfoL79aePh3fqcLdRZ4G+GQzut+7cq71zEkymoswAAXBIK+Irw5MqAe19o\\/vkT3CHLTZgKDzZtXCP5z5M83wDqLAAA7UEBXylBYLj\\/bU\\/Vf7zMfPIodRZvZzl3vOGzFeo7nuUFhFNnAQD4FyhgJxDH9lPf\\/lT9Ry+aCg9SZ\\/Fe1qpz9R8853\\/Lg6IevamzAAD8OxSwc4jj+gfc\\/Zzm81eN+TnUWbyR5Uxh3TuP+2beI+kzjDoLAECHoICdRhSTFPDAssbv3jHs30adxbuYj+fVf\\/iC3y0PyQanUWcBAOgoFLAzCUOiA+9\\/uWnL\\/+l2baTO4i0MB3c0fLJcfeezkl4p1FkAAC4DCtjJBMGRgf9dodu1UZv9HXUWz6f79fvmn\\/4vcN5yHPcFgG4HBex8Av\\/gwHlZ+pwtTRvfZxx26jgeiuOaNr6v3\\/dz4H9fFQRHUqcBALhsKGCX4KsCgx58zVp1rvadJ+xaDXUcT8NZLQ2fvWI5WxQ4fwXfV00dBwCgM1DArsKT+QTc+4I4bkDNq\\/Mtp49Rx\\/EcturSmtcWMBwXcP\\/LuNcVAHRfAuoAHo1lldfMEkUn1n34gk\\/aNJ\\/xN1EH6vYMB7Y3fr9GOWmmYswU6iwAAFcEBexykl4pwY+8Wb92qbX8lN+MB1mRhDpRt8RZLY0bVptLjgY+kCUM60EdBwDgSmEXdFfgqwID57\\/CCoQ1rz1oqy6ljtP9WCtOV694gLHbgx9+C+0LAJ4BI+AuwgpFfjMf1u\\/9qebNRxSjMnwm3MzysfI7RJ+zpWnLx6qp98kGj6POAgDgNOiALiUfPlnSK6Xx23dqXpmrummBuGcf6kRuzVp9rvHbdx0GbdCClYJAPF8BADwKCrir8VUB6rsWmQr2NXyaJY7tp5pyH0+upA7ldjiLWbvja91vPyonzlCMSmd4fOpEAABOhmPANCR9hoU8sYavVFcvv99wYDt1HPdiKthXteweW31l8OPvKsZMQfsCgEfCCJgMK5L4pt8p7T9C8+XrhrxffdPvEobGUIciZq080\\/jt2w6TQf2fJ3B3SQDwbChgYqLopKCH39Tv3lT37pOiHn2V19zqnTVs12q02780HMpWTp6lGH4tw8O+GQDwcChgeixfoBg7TT7iOt2eH\\/+s4atnes\\/FNra6Su3Ob4x5u2RDxoU8uQZHxAHAS6CA3QUrEvukTVeMyjDs31b33jPCiDjlNbNEkfHUuVzIWnFau\\/MbU8F+2ZBxwU+8x1f6UycCAOg6KGD3wgqE8hHXyoaM1+dsrn9\\/sSiml2L0FHFsX4ZlqaM5k\\/nEEe3\\/vrJWnVWMneZ3wzxWLKVOBADQ1VDA7ogViRVjp8lTr9fv\\/anx27c5q1mWMlE+dALfL4g62hVxGHXGI3v0OVscZoPPuBvVQ8bhbiQA4LXc\\/eXParU6HA7qFDRYoUgxOlMxOtNSetzw+7bqFfOE4bHyqyZJ+6eyQhHHcU1NTSEhIdQx\\/x1ntZj+2GfIzTafOCJOHKS8+hZJ76tcOqbX6\\/V8Pl8iwW23W7NarTqdzs\\/PjzqIO2pqagoICKBO4Y6MRqNAIJDL5dRB3I7dbtfrDQwj7tziLMdxzg3kXNOmTdujHlf9\\/jzqIPQ4q8X4x17D\\/m2Ws8XS5FGOxJT4Mdc0NDZR57o0h91UnGfI3Wkq+F0UlSgbNFbSP5UnkXXBT77++utnz5590014\\/FRrX3\\/99bp167Zs2UIdxB2pVKqSkhK1Gk+Ybu2BBx6Iiop6\\/PHHqYO4nfW\\/FTz56pozG17v3OLuPgKG81ihSDZwjGzgGHtjneHAdu3PH+fMHFr\\/wXPihIGSxEGC4EjqgH+yN9WbS46aT+Yb83MEAaGyQWN9M+7m+2DIBQDwD04uYI1GM3v27D179owcOfLjjz9utacrNTU1Jyen5eP77rtv9erV\\/7oIXIyvCvCZOMOecs2IhNhjdz9tPp6n3fktwzkkiYPEiYMkCck8haqLI9nqK80lf1hKjppLjjpMBnHPvuLYfj4LbxKou8EecgAAEk4u4KysrOjo6G+++ebhhx9evnz5yy+\\/fH4Wx3FFRUVlZWW+vr4MwwgEgn9dBNrXYLLKBo2VDRrLMIytttxUnGvM29X49Vs8uVIYEiUIiRYGRwpCooTBUc59CDFntdjqK221Fbb6SmvpCfPJfIZhxHH9xT37KtJuEAZHetg52wAAruDkAt6wYcPGjRvFYvG8efMyMzMvbNPq6mqLxZKZmVlcXDx+\\/Pg1a9a0nCPTziLQcYLAcEVguGJkOuOw2+qrrJVnbdXnTEWHrL9usNWU8RUqQXCUMDSar\\/RnpQqeVM6TynlSBSuV86Q+PKn878rkOIdRzzjsDrOBs1o5q5kzmxxazclqBAAABdFJREFUzV+NW2Grq3TomvjqEIE6VBAYJkkcpLx2tkAdSvrbAwB0P04+CUuhUNTW1kqlUqPRGBwc3NzcfH7W4cOHH3rooZUrV0ZFRS1cuNBisaxfv779RRiGee211x7eY2xzRCUQCIRCoRPDdy8cx1mtVpFI9K9fyWOYCJ4hTqDrydMH8sxS1n7x1+g5gZ1jFayNx7a9PWg5wVm77JxDVmqXVzokbn5ius1mY1mWz8dTHFqz2+0cx53f\\/wQXslgsQqGQxf6bi+AP6lI4hpcmq9q8+qXOLX6lBZyUlFRcXMwwTMv3kcvl9fX1EonEYDAEBgbq9fo2l6qsrOzTp09DQ0NHFikqKrLZbBd\\/E5lMhtPiAQCAkEqlEos7eRnSlb4RLioquvDTsLCw0tLS+Pj48vLy8PB\\/PEE9NzfXZDKNGDGCYRiRSHQ+cTuLtEhKSrrCkAAAAO7Gyc+cSU9PX7t2Lcdxa9euzczMbJmYnZ3NMIxer586dWphYaHFYlmyZMmUKVPaWQQAAMCzOfkYcGNj46233nrkyJFBgwZ98sknLSc8syzLcRzHce++++7KlSubmpquvfbaN998U6lUXmoRAAAAz+bud8ICAADwSHjsOQAAAAE3KmCNRpOenu7v75+RkaHRaFrNZS\\/CMExqaur5T+fMmUORuiu0v2baXAntL+Ix2v81N27c2LdvX5VKNXr06OPHj7dM9IZtpv3V0uZcbDCMF28wDF5k2uW6bnKjAm65JVZlZWVUVNTy5ctbzdVe4Nlnn3388cfP31qrZeKqVatIYneBdtbMpVZC+yvTY7Tza547d27WrFnvv\\/9+ZWVlRkbGHXfcwVx6dXmY9v\\/325yLDcabNxgGLzLtcmE3cW4jISGhsLCQ47jCwsKEhIRLfVl+fv748eOtVmtlZaVCoRg8eLBCocjMzKyuru7CsF2qnTVzqZXQwZXZ3bXza+7cufPuu+9u+bimpkatVnOXXl0epv3\\/\\/TbnYoPx5g2Gw4tMu1zXTW5UwHK53GAwcBxnMBh8fHza\\/Bqz2Tx06NCCggKO4\\/Ly8tLS0vLy8urr62fPnj1jxowujduF2lkzl1oJHVmZHqAjv6bNZpszZ87cuXM5r9lm2l8tbc7FBnOeF24wHF5k2uW6bqIs4MTExAtH4TKZzGg0chyn1+tlMlmbi7z00kvz5s27eHpFRYWfn5\\/ronaxTqwZ7p8roYOLdDuXu2a2bds2cODAxx9\\/3Gq1tprlYdvMhdpfLW3O9dQNphVsMJeCF5l2uK6bKI8BFxUVtYRo+bTlllgMw1zqllh2u3316tULFixo+TQ3N\\/f8ww0vvLWWB+j4mrnUSvjXldlNdXzNcBz35JNPvvDCC1988cWyZcta7n7swdvMhdr\\/329zrqduMK1gg7kUvMi0w3Xd5EYnYbVzF60WO3bsiIyMjIuLa\\/n0UrfW8jy4v9iltLNmcnJyNmzYsGnTprCwMJ1Op9PpGK\\/ZZtr\\/U2pzLjYYb95gGLzItMuF3XSZY3EX0mg01157bXh4eHp6emNjY8vECxPOnDnz+eefP\\/+pw+F4++23Y2NjAwICZs+e3dTU1NWJu0o7a+ZSK6HNRTxPO2tm6dKlF2\\/qXrLNtP+n1OZcbDDevMFweJFpl+u6CXfCAgAAIOBGu6ABAAC8BwoYAACAAAoYAACAAAoYAACAAAoYAACAAAoYAACAAAoYAACAAAoYAACAAAoYAACAAAoYAACAAAoYAACAAAoYAACAAAoYAACAAAoYAACAAAoYAACAAAoYAACAAAoYAACAAAoYAACAAAoYAACAAAoYAACAAAoYAACAAAoYAACAAAoYAACAAAoYAACAAAoYAACAAAoYAACAAAoYAACAAAoYAACAAAoYAACAAAoYAACAAAoYAACAAAoYAACAAAoYAACAAAoYAACAAAoYAACAAAoYAACAAAoYAACAAAoYAACAAAoYAACAAAoYAACAAAoYAACAAAoYAACAwP8Dy60hMZ41Z\\/cAAAAASUVORK5CYII=\\\" \\/>\"},\"nodeType\":\"DOM\",\"type\":\"node\",\"instanceArgs\":{\"namespace\":\"html\",\"tag\":\"div\"},\"children\":[]}]}}}},\"children\":[{\"props\":{},\"nodeType\":\"ObservableNode\",\"type\":\"node\",\"instanceArgs\":{\"id\":\"ob_05\",\"name\":\"obs-node\"},\"children\":[]}]}]},\n",
       "        );\n",
       "    } else {\n",
       "        document\n",
       "            .querySelector('[data-webio-mountpoint=\"15703574574954472465\"]')\n",
       "            .innerHTML = '<strong>WebIO not detected.</strong>';\n",
       "    }\n",
       "    </script>\n",
       "</div>\n"
      ],
      "text/plain": [
       "Widget{:manipulate,Any}(OrderedDict{Symbol,Any}(:i=>Widget{:slider,Int64}(OrderedDict{Symbol,Any}(:changes=>Observable{Int64} with 1 listeners. Value:\n",
       "0,:value=>Observable{Int64} with 2 listeners. Value:\n",
       "1), Observable{Int64} with 2 listeners. Value:\n",
       "1, Scope(\"knockout-component-af8314c9-fe10-4645-b0b5-d9975ac27946\", Node{DOM}(DOM(:html, :div), Any[Node{DOM}(DOM(:html, :div), Any[Node{DOM}(DOM(:html, :label), Any[nothing], Dict{Symbol,Any}(:className=>\"interact \",:style=>Dict{Any,Any}(:padding=>\"5px 10px 0px 10px\")), 1)], Dict{Symbol,Any}(:attributes=>Dict(\"style\"=>\"text-align:right;width:18%\")), 2), Node{DOM}(DOM(:html, :div), Any[Node{DOM}(DOM(:html, :input), Any[], Dict{Symbol,Any}(:max=>1000000,:min=>1,:attributes=>Dict{Any,Any}(:type=>\"range\",Symbol(\"data-bind\")=>\"numericValue: value, valueUpdate: 'input', event: {change : function () {this.changes(this.changes()+1)}}\",\"orient\"=>\"horizontal\"),:step=>1,:className=>\"slider slider is-fullwidth\",:style=>Dict{Any,Any}()), 0)], Dict{Symbol,Any}(:attributes=>Dict(\"style\"=>\"flex-grow:1; margin: 0 2%\")), 1), Node{DOM}(DOM(:html, :div), Any[Node{DOM}(DOM(:html, :p), Any[], Dict{Symbol,Any}(:attributes=>Dict(\"data-bind\"=>\"text: value\")), 0)], Dict{Symbol,Any}(:attributes=>Dict(\"style\"=>\"width:18%\")), 1)], Dict{Symbol,Any}(:attributes=>Dict(\"style\"=>\"display:flex; justify-content:center; align-items:center;\")), 7), Dict{String,Tuple{Observables.AbstractObservable,Union{Nothing, Bool}}}(\"changes\"=>(Observable{Int64} with 1 listeners. Value:\n",
       "0, nothing),\"value\"=>(Observable{Int64} with 2 listeners. Value:\n",
       "1, nothing)), Set(String[]), nothing, Any[\"knockout\"=>\"/home/karel/.julia/packages/Knockout/JIqpG/src/../assets/knockout.js\", \"knockout_punches\"=>\"/home/karel/.julia/packages/Knockout/JIqpG/src/../assets/knockout_punches.js\", \"/home/karel/.julia/packages/InteractBase/Q4IkI/src/../assets/all.js\", \"/home/karel/.julia/packages/InteractBase/Q4IkI/src/../assets/style.css\", \"/home/karel/.julia/packages/InteractBulma/Ohu5Y/src/../assets/main.css\"], Dict{Any,Any}(\"_promises\"=>Dict{Any,Any}(\"importsLoaded\"=>Any[JSString(\"function (ko, koPunches) {\\n    ko.punches.enableAll();\\n    ko.bindingHandlers.numericValue = {\\n        init : function(element, valueAccessor, allBindings, data, context) {\\n            var stringified = ko.observable(ko.unwrap(valueAccessor()));\\n            stringified.subscribe(function(value) {\\n                var val = parseFloat(value);\\n                if (!isNaN(val)) {\\n                    valueAccessor()(val);\\n                }\\n            })\\n            valueAccessor().subscribe(function(value) {\\n                var str = JSON.stringify(value);\\n                if ((str == \\\"0\\\") && ([\\\"-0\\\", \\\"-0.\\\"].indexOf(stringified()) >= 0))\\n                     return;\\n                 if ([\\\"null\\\", \\\"\\\"].indexOf(str) >= 0)\\n                     return;\\n                stringified(str);\\n            })\\n            ko.applyBindingsToNode(element, { value: stringified, valueUpdate: allBindings.get('valueUpdate')}, context);\\n        }\\n    };\\n    var json_data = JSON.parse(\\\"{\\\\\\\"changes\\\\\\\":0,\\\\\\\"value\\\\\\\":1}\\\");\\n    var self = this;\\n    function AppViewModel() {\\n        for (var key in json_data) {\\n            var el = json_data[key];\\n            this[key] = Array.isArray(el) ? ko.observableArray(el) : ko.observable(el);\\n        }\\n        \\n        \\n        [this[\\\"changes\\\"].subscribe((function (val){!(this.valueFromJulia[\\\"changes\\\"]) ? (_webIOScope.setObservableValue({\\\"name\\\":\\\"changes\\\",\\\"scope\\\":\\\"knockout-component-af8314c9-fe10-4645-b0b5-d9975ac27946\\\",\\\"id\\\":\\\"ob_02\\\",\\\"type\\\":\\\"observable\\\"},val)) : undefined; return this.valueFromJulia[\\\"changes\\\"]=false}),self),this[\\\"value\\\"].subscribe((function (val){!(this.valueFromJulia[\\\"value\\\"]) ? (_webIOScope.setObservableValue({\\\"name\\\":\\\"value\\\",\\\"scope\\\":\\\"knockout-component-af8314c9-fe10-4645-b0b5-d9975ac27946\\\",\\\"id\\\":\\\"ob_01\\\",\\\"type\\\":\\\"observable\\\"},val)) : undefined; return this.valueFromJulia[\\\"value\\\"]=false}),self)]\\n        \\n    }\\n    self.model = new AppViewModel();\\n    self.valueFromJulia = {};\\n    for (var key in json_data) {\\n        self.valueFromJulia[key] = false;\\n    }\\n    ko.applyBindings(self.model, self.dom);\\n}\\n\")]),\"changes\"=>Any[JSString(\"(function (val){return (val!=this.model[\\\"changes\\\"]()) ? (this.valueFromJulia[\\\"changes\\\"]=true, this.model[\\\"changes\\\"](val)) : undefined})\")],\"value\"=>Any[JSString(\"(function (val){return (val!=this.model[\\\"value\\\"]()) ? (this.valueFromJulia[\\\"value\\\"]=true, this.model[\\\"value\\\"](val)) : undefined})\")]), ConnectionPool(Channel{Any}(sz_max:9223372036854775807,sz_curr:0), Set(AbstractConnection[]), Channel{AbstractConnection}(sz_max:32,sz_curr:0))), ##52#53{#dom#13{##dom#11#12{Dict{Any,Any},DOM}},typeof(scope)}(#dom#13{##dom#11#12{Dict{Any,Any},DOM}}(##dom#11#12{Dict{Any,Any},DOM}(Dict{Any,Any}(:className=>\"field\"), DOM(:html, :div))), scope))), Observable{Any} with 0 listeners. Value:\n",
       "Plot{Plots.GRBackend() n=3}, nothing, getfield(Main, Symbol(\"##8#10\")){Observable{Any}}(Observable{Any} with 0 listeners. Value:\n",
       "Plot{Plots.GRBackend() n=3}))"
      ]
     },
     "execution_count": 7,
     "metadata": {
      "application/vnd.webio.node+json": {
       "kernelId": "6c154758-6a21-4eb0-a7e5-ddbc81fed655"
      }
     },
     "output_type": "execute_result"
    }
   ],
   "source": [
    "@manipulate for i in slider(1:length(positions), value=1)\n",
    "    x1, y1, x2, y2 = positions[i]\n",
    "    \n",
    "    a = w/2\n",
    "    b = h/2\n",
    "    \n",
    "    plot([-a, a, a, -a, -a], [-b, -b, b, b, -b], aspectratio=1, leg=false, xlim=(-0.75,0.75), ylim=(-0.5,0.5))\n",
    "    draw_disc!(x1, y1, r) \n",
    "    draw_disc!(x2, y2, r) \n",
    "end"
   ]
  },
  {
   "cell_type": "markdown",
   "metadata": {},
   "source": [
    "# Hopping"
   ]
  },
  {
   "cell_type": "markdown",
   "metadata": {},
   "source": [
    "The data from the simulation directly gives disc and wall collision times.\n",
    "The other times that we require are hopping times, both horizontal, when $x_1 = x_2$, and vertical, when $y_1 = y_2$. \n",
    "\n",
    "Vertical hops can be detected from the data when $y_2 - y_1$ changes sign between two consecutive collisions.\n",
    "Using the relative velocity $v_2 - v_1$, the vertical hopping time when $y_2 - y_1 = 0$ can be recovered."
   ]
  },
  {
   "cell_type": "code",
   "execution_count": 8,
   "metadata": {},
   "outputs": [
    {
     "data": {
      "text/plain": [
       "vertical_hopping_times"
      ]
     },
     "execution_count": 8,
     "metadata": {},
     "output_type": "execute_result"
    }
   ],
   "source": [
    "\"\"\"\n",
    "Calculate the times at which horizontal hops occur\n",
    "\"\"\"\n",
    "function horizontal_hopping_times(times, positions, velocities)\n",
    "    Δxs = [x[3] - x[1] for x in positions]  # x_2 - x_1\n",
    "    Δus = [v[3] - v[1] for v in velocities]  # u_2 - u_1;\n",
    "    \n",
    "    # indices where there is a hop between collisions i and i+1: \n",
    "    horiz_hop_indices = findall(i->sign(Δxs[i]) != sign(Δxs[i+1]),1:(length(positions)-1) );  \n",
    "    \n",
    "    # x + t*u = 0   so   t = -x/u\n",
    "    horiz_hopping_times = times[horiz_hop_indices] - (Δxs[horiz_hop_indices] ./ Δus[horiz_hop_indices])\n",
    "    \n",
    "    return horiz_hopping_times\n",
    "end\n",
    "## Verified by karel, it is correct.\n",
    " \n",
    "\n",
    "\"\"\"\n",
    "Calculate the times at which horizontal hops occur\n",
    "\"\"\"\n",
    "function vertical_hopping_times(times, positions, velocities)\n",
    "    Δys = [x[4] - x[2] for x in positions]  # y_2 - y_1\n",
    "    Δvs = [v[4] - v[2] for v in velocities]  # v_2 - v_1;\n",
    "    \n",
    "    # indices where there is a hop between collisions i and i+1: \n",
    "    vert_hop_indices = findall(i->sign(Δys[i]) != sign(Δys[i+1]) ,1:(length(positions)-1) );  \n",
    "    \n",
    "    # x + t*u = 0   so   t = -x/u\n",
    "    vert_hopping_times = times[vert_hop_indices] - (Δys[vert_hop_indices] ./ Δvs[vert_hop_indices])\n",
    "    \n",
    "    return vert_hopping_times\n",
    "end"
   ]
  },
  {
   "cell_type": "markdown",
   "metadata": {},
   "source": [
    " ## Analytical Expressions\n",
    " \n",
    " ### 1. Volume\n",
    " \n",
    " The Volume function has three regimenes. First, when all hopping is possible, that is, (convention $w>h$) $r<h/4$. Then, horizontal hopping is excluded, but vertical still posible, i.e. $h/4\\leq r < w/4$. At last, no hopping is possible, that means, $w/4\\leq r \\leq r_{max}$. \n",
    " \n",
    " The Excluded Volume is evaluated in two parts: the round part and the triangular part. We use the notation \"Neg\" in the functions to indicate that is the excluded volume, \"free\" to indicate all hoping is posible, \"vhopp\" to indicate only vertical hopping is possible, and \"nohopp\" to indicate no hopping is possible."
   ]
  },
  {
   "cell_type": "code",
   "execution_count": 10,
   "metadata": {},
   "outputs": [
    {
     "data": {
      "text/plain": [
       "vol (generic function with 1 method)"
      ]
     },
     "execution_count": 10,
     "metadata": {},
     "output_type": "execute_result"
    }
   ],
   "source": [
    "cte=3π/2 #E=1/2, -> abs(v^2)=1 as above\n",
    "rhmax= h/4 #maximal radius in which a horizontal hopp is possible\n",
    "rvmax= w/4 #maximal radius in which a vertical hopp is possible (any hopp is not posible in our geometry after this)\n",
    "rmax=  (h+w-√(2*h*w))/2   #maximal possible radius for discs\n",
    "\n",
    "\n",
    "volBox(a,b)=16*a^2*b^2\n",
    "volNegfree(a,b,r)=16*π*a*b*r^2-64/3*r^3*(a+b)+8*r^4\n",
    "\n",
    "expresioncircularvol(a,b,r,θ)=32*r^2*a*b*θ +64/3*r^3*(a*cos(θ)-b*sin(θ)) + 8*r^4*sin(θ)^2\n",
    "\n",
    "function volNegCircle(a,b,r)\n",
    "    # This function only has use if r>rhmax\n",
    "    α=asin(b/r)\n",
    "    if(r<rvmax)\n",
    "        β=0\n",
    "    else\n",
    "        β=acos(a/r)\n",
    "    end\n",
    "    result=expresioncircularvol(a,b,r,α)-expresioncircularvol(a,b,r,β)\n",
    "    return result\n",
    "end\n",
    "\n",
    "vollowertriangle(a,b,r)= 32*a^2*b*sqrt(r^2-a^2)-32/3*a^2*(r^2-a^2+2*b*sqrt(r^2-a^2))+8*a^2*(r^2-a^2)\n",
    "\n",
    "voluppertriangle(a,b,r)= 32*b^2*a*sqrt(r^2-b^2)-32/3*b^2*(r^2-b^2+2*a*sqrt(r^2-b^2))+8*b^2*(r^2-b^2)\n",
    "\n",
    "\n",
    "function volNegGeneral(a,b,r)\n",
    "    if (r<rhmax)\n",
    "        result=volNegfree(a,b,r)\n",
    "    elseif (rhmax<=r) && (r<rvmax)\n",
    "       # println(\"a=\",a,\" r =\" , r, \"r^2-a^2 = \", r^2-a^2)\n",
    "        result=volNegCircle(a,b,r)+voluppertriangle(a,b,r)\n",
    "    else\n",
    "        result=volNegCircle(a,b,r)+voluppertriangle(a,b,r)+vollowertriangle(a,b,r)\n",
    "    end\n",
    "    return result\n",
    "end\n",
    "\n",
    "function vol(a,b,r) \n",
    "    result=volBox(a,b)-volNegGeneral(a,b,r)\n",
    "  #  print(\" vol = \", result, \" \\t \")\n",
    "    return result\n",
    "end "
   ]
  },
  {
   "cell_type": "markdown",
   "metadata": {},
   "source": [
    "## 2 Areas\n",
    "\n",
    "#### Hopping Areas"
   ]
  },
  {
   "cell_type": "code",
   "execution_count": 11,
   "metadata": {},
   "outputs": [
    {
     "data": {
      "text/plain": [
       "area_horiz_hopp (generic function with 1 method)"
      ]
     },
     "execution_count": 11,
     "metadata": {},
     "output_type": "execute_result"
    }
   ],
   "source": [
    "area_vert_hopp(a,b,r)=16*√(2)*b*(r-a)^2 #This is right, but SymPy has problems refining Heaviside function and DiracDelta\n",
    "area_horiz_hopp(a,b,r)=16*√(2)*a*(r-b)^2 # The Area HAS TWO SIDES. This is weird, but true.\n",
    "#Those two don't generalize for larger r--- they just stop making sense."
   ]
  },
  {
   "cell_type": "markdown",
   "metadata": {},
   "source": [
    "### collision with wall\n",
    "When hopping is no longer possible, the volume is split into disjoint components. This is equivalent to a factor\n",
    "in the area of 2 or 4. Given that this only is relevant in this case, we take put those factors here. In the case of collition between discs, that factor is canceled as both the Volume and Area get split equally."
   ]
  },
  {
   "cell_type": "code",
   "execution_count": 12,
   "metadata": {},
   "outputs": [
    {
     "data": {
      "text/plain": [
       "area_wall (generic function with 1 method)"
      ]
     },
     "execution_count": 12,
     "metadata": {},
     "output_type": "execute_result"
    }
   ],
   "source": [
    "area_wall_free(a,b,r)=8*a*b^2-4*π*b*r^2+16/3*r^3 #perfect but needs generalization\n",
    "\n",
    "exprpos_wall(a,b,r)=8*a*b^2\n",
    "exprcircular_wall(a,b,r,θ)=8*b*r^2*θ+16/3*r^3*(cos(θ)) #sector\n",
    "\n",
    "# la parte del \"upper triangle\"\n",
    "a_wall_uppt(a,b,r)=8/3*b^2*sqrt(r^2-b^2)\n",
    "a_wall_lowt(a,b,r)=8/3*a^2*sqrt(r^2-a^2)\n",
    "\n",
    "function area_wall(a,b,r)\n",
    "    if (r<rhmax)\n",
    "        result=area_wall_free(a,b,r)\n",
    "    elseif (rhmax<=r) && (r<rvmax)\n",
    "         α=asin(b/r)\n",
    "         negativo=exprcircular_wall(a,b,r,α)-exprcircular_wall(a,b,r,0)+a_wall_uppt(a,b,r)\n",
    "         result=(exprpos_wall(a,b,r)-negativo)*2 # Actually is the Volume that gets split into disjoint componets\n",
    "    else\n",
    "        α=asin(b/r)\n",
    "        β=acos(a/r)\n",
    "        negativo=0 # (exprcircular_wall(a,b,r,α)-exprcircular_wall(a,b,r,β))+a_wall_uppt(a,b,r)+a_wall_lowt(a,b,r)\n",
    "        result=(exprpos_wall(a,b,r)-negativo)*4\n",
    "    end\n",
    "    return result\n",
    "end"
   ]
  },
  {
   "cell_type": "markdown",
   "metadata": {},
   "source": [
    "###  Collition between discs:\n",
    "Although here the space get also split,the factor accounting for that does not appear as it cancels itself in Area and Volume."
   ]
  },
  {
   "cell_type": "code",
   "execution_count": 13,
   "metadata": {},
   "outputs": [
    {
     "data": {
      "text/plain": [
       "area_col (generic function with 1 method)"
      ]
     },
     "execution_count": 13,
     "metadata": {},
     "output_type": "execute_result"
    }
   ],
   "source": [
    "area_col_free(a,b,r)=(16*π*a*b*r-32*(a+b)*r^2+16*r^3)*√(2) \n",
    "exprcircular_col(a,b,r,θ)=16*√2*(2*a*b*r*θ + 2*r^2*(a*cos(θ)-b*sin(θ)) + r^3*sin(θ)^2 )\n",
    "\n",
    "function area_col(a,b,r)\n",
    "    if (r<rhmax)\n",
    "        result=area_col_free(a,b,r)\n",
    "    elseif (rhmax<=r) && (r<rvmax)\n",
    "     #   println(b, \" \", r, \" \", b/r)\n",
    "        α=asin(b/r)\n",
    "        result=exprcircular_col(a,b,r,α)-exprcircular_col(a,b,r,0)\n",
    "    else\n",
    "        α=asin(b/r)\n",
    "        β=acos(a/r)        \n",
    "        result=exprcircular_col(a,b,r,α)-exprcircular_col(a,b,r,β)   \n",
    "    end\n",
    "  #  print(\" acol= \",result,  \" \\n \")\n",
    "    return result\n",
    "end"
   ]
  },
  {
   "cell_type": "code",
   "execution_count": 14,
   "metadata": {},
   "outputs": [
    {
     "data": {
      "text/plain": [
       "(1.3956909623144902, 0.9881971714694461, 0.4525529933634218)"
      ]
     },
     "execution_count": 14,
     "metadata": {},
     "output_type": "execute_result"
    }
   ],
   "source": [
    "rango=(0.1, 0.2, 0.2501)\n",
    "imagen=map(x->area_col(w/2-x,h/2-x,x),rango)"
   ]
  },
  {
   "cell_type": "markdown",
   "metadata": {},
   "source": [
    "### 3. Mean Times Machta Zwanzig\n",
    "\n",
    "We combine area and volume with the general factor to obtain the theoretical mean times according to Machta Zwanzig Formula"
   ]
  },
  {
   "cell_type": "code",
   "execution_count": 15,
   "metadata": {},
   "outputs": [
    {
     "data": {
      "text/plain": [
       "disc_collision_analytical_d (generic function with 1 method)"
      ]
     },
     "execution_count": 15,
     "metadata": {},
     "output_type": "execute_result"
    }
   ],
   "source": [
    "horiz_hop_analytical(a,b,r)=cte*vol(a,b,r)/area_horiz_hopp(a,b,r)\n",
    "vert_hop_analytical(a,b,r)=cte*vol(a,b,r)/area_vert_hopp(a,b,r)\n",
    "right_wall_analytical(a,b,r)=cte*vol(a,b,r)/area_wall(a,b,r) #perfect\n",
    "disc_collision_analytical(a,b,r)=cte*vol(a,b,r)/area_col(a,b,r)\n",
    "\n",
    "horiz_hop_analytical_d(a, b, r) = (3π / (2*√(2))) * (2*a^2*b^2 - 2π*a*b*r^2 + ((a+b)/3)*(2*r)^3 - r^4) / (a*√(2)*(b-r)^2)\n",
    "disc_collision_analytical_d(a, b, r) = (3π / (2*√(2))) * (2*a^2*b^2 - 2π*a*b*r^2 + ((a+b)/3)*(2*r)^3 - r^4) / (2π*a*b*r - 4*(a+b)*r^2 + 2r^3 )"
   ]
  },
  {
   "cell_type": "markdown",
   "metadata": {},
   "source": [
    "The simulation function gives us a quick sanity check on the four event formulas above, but it doesn't give statistics. We relegate that to some other functions below."
   ]
  },
  {
   "cell_type": "code",
   "execution_count": 16,
   "metadata": {},
   "outputs": [
    {
     "data": {
      "text/plain": [
       "simulation (generic function with 2 methods)"
      ]
     },
     "execution_count": 16,
     "metadata": {},
     "output_type": "execute_result"
    }
   ],
   "source": [
    "function simulation(w, h, num_collisions=10^5)\n",
    "    \n",
    "    num_horiz_hop_data=Float64[]\n",
    "    exact_horiz_hop_data=Float64[]\n",
    "    \n",
    "    num_vert_hop_data=Float64[]\n",
    "    exact_vert_hop_data=Float64[]\n",
    "    \n",
    "    num_disc_collision_data = Float64[]\n",
    "    exact_disc_collision_data = Float64[]\n",
    "    \n",
    "    num_rightwall_data = Float64[]\n",
    "    exact_rightwall_data = Float64[]\n",
    "    \n",
    "    \n",
    "    \n",
    "    exhopd = Float64[]\n",
    "    excold = Float64[]\n",
    "    \n",
    "    \n",
    "    rs = 0.005:0.005:rmax #we do it until it cannot be done anymore\n",
    "    \n",
    "    for r in rs\n",
    "        print(r, \" \")\n",
    "        \n",
    "        a = w/2 - r\n",
    "        b = h/2 - r\n",
    "    \n",
    "        times, positions, velocities, collision_types = dynamics(w, h, r, num_collisions);\n",
    "        \n",
    "        \n",
    "        horiz_hopping_times = horizontal_hopping_times(times, positions, velocities)\n",
    "\n",
    "        vert_hopping_times = vertical_hopping_times(times, positions, velocities)\n",
    "\n",
    "        if(r<rhmax)\n",
    "            push!(num_vert_hop_data, mean(diff(vert_hopping_times)))   # diff gives inter-hop times\n",
    "            push!(exact_vert_hop_data, vert_hop_analytical(a, b, r))\n",
    "        end\n",
    "        \n",
    "        push!(num_horiz_hop_data, mean(diff(horiz_hopping_times)))   # diff gives inter-hop times\n",
    "        push!(exact_horiz_hop_data, horiz_hop_analytical(a, b, r))\n",
    "        push!(exhopd, horiz_hop_analytical_d(a, b, r))\n",
    "        \n",
    "        \n",
    "        disc_collision_times = times[collision_types .== 5]\n",
    "        push!(num_disc_collision_data, mean(diff(disc_collision_times)))   # diff gives inter-hop times\n",
    "        push!(exact_disc_collision_data, disc_collision_analytical(a, b, r))\n",
    "        push!(excold, disc_collision_analytical_d(a, b, r))\n",
    "    \n",
    "        rightwall_times = times[collision_types .== 1]\n",
    "        push!(num_rightwall_data, mean(diff(rightwall_times)))   # diff gives inter-hop times\n",
    "        push!(exact_rightwall_data, right_wall_analytical(a, b, r))\n",
    "        \n",
    "    end\n",
    "    \n",
    "    return (rs,  num_vert_hop_data, exact_vert_hop_data, num_horiz_hop_data, exact_horiz_hop_data, num_disc_collision_data, \n",
    "        exact_disc_collision_data, num_rightwall_data, exact_rightwall_data, excold, exhopd)\n",
    "                \n",
    "    end"
   ]
  },
  {
   "cell_type": "markdown",
   "metadata": {},
   "source": [
    "# A general Test\n",
    "\n",
    "This first simulation produces a general sanity test. More accurate simulations for the specific events are below . The Figures here are NOT the ones in the paper, this are averages done with lower samples meant as a sanity check."
   ]
  },
  {
   "cell_type": "code",
   "execution_count": null,
   "metadata": {},
   "outputs": [],
   "source": [
    "w, h = 1.5, 1.0\n",
    "nevents=10^3\n",
    "(rs, num_vert_hop_data, exact_vert_hop_data,  num_horiz_hop_data, exact_horiz_hop_data, num_disc_collision_data, \n",
    "    exact_disc_collision_data, num_rightwall_data, exact_rightwalldata, excold, exhopd)= simulation(w, h, nevents);"
   ]
  },
  {
   "cell_type": "code",
   "execution_count": null,
   "metadata": {},
   "outputs": [],
   "source": [
    "using JLD # To save the data, and save us headeaches"
   ]
  },
  {
   "cell_type": "code",
   "execution_count": null,
   "metadata": {},
   "outputs": [],
   "source": [
    "save(\"DatosNumericos10a5.jld\", \"rs\", rs, \n",
    "    \"num_vert_hop_data\", num_vert_hop_data,\n",
    "    \"num_horiz_hop_data\", num_horiz_hop_data,\n",
    "    \"num_disc_collision_data\", num_disc_collision_data,\n",
    "    \"num_rightwall_data\", num_rightwall_data\n",
    ")"
   ]
  },
  {
   "cell_type": "code",
   "execution_count": null,
   "metadata": {},
   "outputs": [],
   "source": [
    "Plots.scatter(rs, num_rightwall_data, m=:square, label=\"numerical\", size=(650,420), guidefont=(30,\"Courier\"))\n",
    "dibujo=plot!(rs, exact_rightwalldata, label=\"exact\", linewidth=2) #absolut PERFECT\n",
    "savefig(\"test.pdf\")\n",
    "dibujo\n"
   ]
  },
  {
   "cell_type": "code",
   "execution_count": null,
   "metadata": {},
   "outputs": [],
   "source": [
    "3*pi*1.5/2 #Limit for r->0 above!"
   ]
  },
  {
   "cell_type": "code",
   "execution_count": null,
   "metadata": {
    "scrolled": false
   },
   "outputs": [],
   "source": [
    "Plots.scatter(rs, num_disc_collision_data, m=:square, label=\"numerical\")\n",
    "plot!(rs, exact_disc_collision_data, label=\"exact\")\n",
    "plot!(rs, excold, label=\"DavEx\") #DFormula that doesn't account for the discontinuites\n",
    "#plot!(rs, zeros(rs), lw=2, label=\"vertical zero line\", ls=:dash)"
   ]
  },
  {
   "cell_type": "code",
   "execution_count": null,
   "metadata": {},
   "outputs": [],
   "source": [
    "rhmax, rvmax, rmax"
   ]
  },
  {
   "cell_type": "code",
   "execution_count": null,
   "metadata": {},
   "outputs": [],
   "source": [
    "#rsredux=rs[find( r<rhmax ) in rs]\n",
    "rsredux=filter(r->r<rhmax, rs)\n",
    "plot(rsredux, num_vert_hop_data, m=:square, label=\"numerical\")\n",
    "plot!(rsredux, exact_vert_hop_data, label=\"exact\") \n",
    "#plot!(rs, exhopd, label=\"DavidEx\")\n",
    "#Formula David, raiz de dos muy grande "
   ]
  },
  {
   "cell_type": "markdown",
   "metadata": {},
   "source": [
    "# Hitting right wall"
   ]
  },
  {
   "cell_type": "markdown",
   "metadata": {},
   "source": [
    "Simulation to obtain statistics of collision of disk 1 with the right wall."
   ]
  },
  {
   "cell_type": "code",
   "execution_count": 17,
   "metadata": {},
   "outputs": [
    {
     "data": {
      "text/plain": [
       "simulationhitwall (generic function with 2 methods)"
      ]
     },
     "execution_count": 17,
     "metadata": {},
     "output_type": "execute_result"
    }
   ],
   "source": [
    "function simulationhitwall(w, h, num_collisions=10^5)\n",
    "    \n",
    "    num_hitting_times = Float64[]\n",
    "    exact_hitting_times = Float64[]\n",
    "    σ=Float64[]\n",
    "    stderror=Float64[]\n",
    "    \n",
    "    rs = 0.0051:0.00256:rmax\n",
    "    \n",
    "    for r in rs\n",
    "        print(r, \" \")\n",
    "        \n",
    "        a = w/2 - r\n",
    "        b = h/2 - r\n",
    "    \n",
    "        nhits=0\n",
    "        disc_1_hits_right_wall_times=[]\n",
    "        while(nhits<200)\n",
    "            times, positions, velocities, collision_types = dynamics(w, h, r, num_collisions); \n",
    "            disc_1_hits_right_wall_times = diff(times[collision_types .== 1])\n",
    "            nhits=length(disc_1_hits_right_wall_times)\n",
    "   #         println(r, \" \", nhits, \"tu abuela\", disc_1_hits_right_wall_times[1])\n",
    "        end\n",
    "        \n",
    "        auxhit=mean(disc_1_hits_right_wall_times)\n",
    "   #     println(auxhit)\n",
    "        push!(num_hitting_times, auxhit)\n",
    "        \n",
    "        push!(exact_hitting_times, right_wall_analytical(a, b, r))\n",
    "        aux=std(disc_1_hits_right_wall_times)\n",
    "        push!(σ, aux)\n",
    "        push!(stderror, aux/sqrt(nhits))\n",
    "        \n",
    "        \n",
    "    end\n",
    "    \n",
    "    return rs, num_hitting_times, exact_hitting_times, σ, stderror\n",
    "end"
   ]
  },
  {
   "cell_type": "code",
   "execution_count": null,
   "metadata": {},
   "outputs": [],
   "source": [
    "nevents=10^6\n",
    "rs, num_hitting_times, exact_hitting_times, stdeviation, stderror =simulationhitwall(1.5, 1.0, nevents);"
   ]
  },
  {
   "cell_type": "code",
   "execution_count": null,
   "metadata": {},
   "outputs": [],
   "source": [
    "linea1x=[rhmax, rhmax]\n",
    "linea1y=[0,7.5]\n",
    "linea2x=[rvmax,rvmax]\n",
    "linea2y=linea1y\n",
    "p=plot(xlim=(0,rmax), ylim=(0,7.5),xlabel=\"radius\",ylabel=\"time\", size=(640,480) )\n",
    "scatter!(rs, num_hitting_times, m=:square, ms=2, label=\"numerical\", yerror=stderror)\n",
    "plot!(rs, exact_hitting_times, label=\"exact\", lw=3)\n",
    "plot!(linea1x,linea1y,label=\"rhmax\", lw=1.0, ls=:dash)\n",
    "plot!(linea2x, linea2y,label=\"rvmax\", lw=1.0, ls=:dash)\n",
    "savefig(\"../articulo/figures/HitRightWall01.pdf\")\n",
    "p"
   ]
  },
  {
   "cell_type": "code",
   "execution_count": null,
   "metadata": {},
   "outputs": [],
   "source": [
    "nevents"
   ]
  },
  {
   "cell_type": "markdown",
   "metadata": {
    "collapsed": true
   },
   "source": [
    "# Disc collisions"
   ]
  },
  {
   "cell_type": "code",
   "execution_count": 18,
   "metadata": {},
   "outputs": [
    {
     "data": {
      "text/plain": [
       "simulation_disc_collisions (generic function with 2 methods)"
      ]
     },
     "execution_count": 18,
     "metadata": {},
     "output_type": "execute_result"
    }
   ],
   "source": [
    "function simulation_disc_collisions(w, h, num_collisions=10^5)\n",
    "    \n",
    "    num_times = Float64[]\n",
    "    exact_times = Float64[]\n",
    "    σ=Float64[]\n",
    "    stderror=Float64[]\n",
    "    \n",
    "    rs = 0.0051:0.005:rmax\n",
    "    \n",
    "    for r in rs\n",
    "        print(r, \" \")\n",
    "        \n",
    "        a = w/2 - r\n",
    "        b = h/2 - r\n",
    "    \n",
    "        times, positions, velocities, collision_types = dynamics(w, h, r, num_collisions);\n",
    "        \n",
    "        collision_times = diff(times[collision_types .== 5])\n",
    "        nhits=length(collision_times)\n",
    "        \n",
    "        push!(num_times, mean(collision_times))   # diff gives inter-hop times\n",
    "        push!(exact_times, disc_collision_analytical(a, b, r))\n",
    "        aux=std(num_times)\n",
    "        push!(σ, aux)\n",
    "        push!(stderror, aux/sqrt(nhits))\n",
    "        \n",
    "        \n",
    "    end\n",
    "    \n",
    "    return rs, num_times, exact_times, σ, stderror\n",
    "end"
   ]
  },
  {
   "cell_type": "code",
   "execution_count": null,
   "metadata": {},
   "outputs": [],
   "source": [
    "rs, num_disc_collision_times, exact_disc_collision_times, colsig, colerror = simulation_disc_collisions(w, h, nevents);"
   ]
  },
  {
   "cell_type": "code",
   "execution_count": null,
   "metadata": {},
   "outputs": [],
   "source": [
    "linea1y=[0,80]\n",
    "linea2y=linea1y\n",
    "p=plot(xlim=(0,rmax), ylim=(0,80),xlabel=\"radius\",ylabel=\"time\", size=(640,480) )\n",
    "scatter!(rs, num_disc_collision_times, m=:square, ms=2, label=\"numerical\", yerror=colerror)\n",
    "plot!(rs, exact_disc_collision_times, label=\"exact\", lw=2)\n",
    "plot!(linea1x,linea1y,label=\"rhmax\", lw=1.0, ls=:dash)\n",
    "plot!(linea2x, linea2y,label=\"rvmax\", lw=1.0, ls=:dash)\n",
    "savefig(\"../articulo/figures/DiscCollitions01.pdf\")\n",
    "p"
   ]
  },
  {
   "cell_type": "markdown",
   "metadata": {
    "collapsed": true
   },
   "source": [
    "## Vertical hopping"
   ]
  },
  {
   "cell_type": "code",
   "execution_count": 19,
   "metadata": {},
   "outputs": [
    {
     "data": {
      "text/plain": [
       "simulation_vert_hopping (generic function with 2 methods)"
      ]
     },
     "execution_count": 19,
     "metadata": {},
     "output_type": "execute_result"
    }
   ],
   "source": [
    "function simulation_vert_hopping(w, h, num_collisions=10^5)\n",
    "    \n",
    "    num_times = Float64[]\n",
    "    exact_times = Float64[]\n",
    "    \n",
    "     σ=Float64[]\n",
    "    stderror=Float64[]\n",
    "    \n",
    "    \n",
    "    rs = 0.005:0.005:rvmax\n",
    "    \n",
    "    for r in rs\n",
    "        print(r, \" \")\n",
    "    \n",
    "        a = w/2 - r\n",
    "        b = h/2 - r\n",
    "    \n",
    "        vert_hopping_times=[]\n",
    "        nhits=0\n",
    "    \n",
    "    #    while(nhits<200)\n",
    "            times, positions, velocities, collision_types = dynamics(w, h, r, num_collisions);\n",
    "            vert_hopping_times = diff(vertical_hopping_times(times, positions, velocities))\n",
    "            nhits=length(vert_hopping_times)\n",
    "#        end\n",
    "             \n",
    "        push!(num_times, mean(vert_hopping_times))   # diff gives inter-hop times\n",
    "        push!(exact_times, vert_hop_analytical(a, b, r))\n",
    "        \n",
    "        aux=std(vert_hopping_times)\n",
    "        push!(σ, aux)\n",
    "        push!(stderror, aux/sqrt(nhits))\n",
    "       \n",
    "    end\n",
    "\n",
    "    return rs, num_times,exact_times, σ, stderror\n",
    "\n",
    "\n",
    "end"
   ]
  },
  {
   "cell_type": "code",
   "execution_count": null,
   "metadata": {},
   "outputs": [],
   "source": [
    "rs, num_vert_hopping_times, exact_vert_hopping_times , vhsigma, vhoperror = simulation_vert_hopping(w, h, nevents);"
   ]
  },
  {
   "cell_type": "code",
   "execution_count": null,
   "metadata": {},
   "outputs": [],
   "source": [
    "linea1y=[0,2]\n",
    "linea2y=linea1y\n",
    "p=plot(xlim=(0,rvmax), ylim=(0,2),title=\"Mean Time, Vertical Hop\", xlabel=\"radius\",ylabel=\"time\" , size=(640,480))\n",
    "scatter!(rs, num_vert_hopping_times, m=:square, ms=2, label=\"numerical\", yerror=vhoperror)\n",
    "plot!(rs, exact_vert_hopping_times, label=\"exact\", lw=2)\n",
    "plot!(linea1x,linea1y,label=\"rhmax\", lw=1.0, ls=:dash)\n",
    "plot!(linea2x, linea2y,label=\"rvmax\", lw=1.0, ls=:dash)\n",
    "savefig(\"../articulo/figures/VertHop01.pdf\")\n",
    "p"
   ]
  },
  {
   "cell_type": "markdown",
   "metadata": {},
   "source": [
    "## Statistics.\n",
    "\n",
    "Some Plots of interesting statistical propiertes, such as histograms."
   ]
  },
  {
   "cell_type": "code",
   "execution_count": 20,
   "metadata": {},
   "outputs": [],
   "source": [
    "using StatsBase"
   ]
  },
  {
   "cell_type": "code",
   "execution_count": 25,
   "metadata": {},
   "outputs": [
    {
     "name": "stdout",
     "output_type": "stream",
     "text": [
      " vamos en el  r=0.01\n",
      " vamos en el  r=0.075\n",
      " vamos en el  r=0.125\n",
      " vamos en el  r=0.15\n",
      " vamos en el  r=0.2\n",
      " vamos en el  r=0.24\n",
      "173.978455 seconds (770.20 M allocations: 57.120 GiB, 73.03% gc time)\n"
     ]
    }
   ],
   "source": [
    "radiosinteresantes=(0.01, 0.075, 0.125, 0.15, 0.2, 0.24)\n",
    "# radiosinteresantes=(0.01, 0.125, 0.24)\n",
    "\n",
    "nevents=10^4\n",
    "\n",
    "thopforhisto=Dict{Float64, Array}()\n",
    "\n",
    "binlim=10\n",
    "paso=0.5\n",
    "rangobins=0:paso:binlim\n",
    "rangoplot=rangobins[1:end-1].+paso./2\n",
    "\n",
    "hth=Dict{Float64, Any}()\n",
    "\n",
    " w,h=1.5,1\n",
    "num_collisions=10^7\n",
    "   \n",
    "\n",
    "@time for r in radiosinteresantes\n",
    "    w,h=1.5,1\n",
    "   # rs, num_vert_hopping_times, exact_vert_hopping_times , vhsigma, vhoperror = simulation_vert_hopping(w, h, nevents);\n",
    "    times, positions, velocities, collision_types = dynamics(w, h, r, num_collisions);\n",
    "    thopforhisto[r] = horizontal_hopping_times(times, positions, velocities);\n",
    "    \n",
    "    #normalized histograms\n",
    "    aux=fit(Histogram, diff(thopforhisto[r]), rangobins, closed=:left)\n",
    "    \n",
    "    hth[r]=aux.weights./sum(aux.weights)\n",
    "    \n",
    "    println(\" vamos en el  r=\",r)\n",
    "    \n",
    "end"
   ]
  },
  {
   "cell_type": "code",
   "execution_count": 27,
   "metadata": {},
   "outputs": [
    {
     "data": {
      "image/png": "[encoded data removed]"
     },
     "execution_count": 27,
     "metadata": {},
     "output_type": "execute_result"
    }
   ],
   "source": [
    "p=plot(xlim=(0,binlim), xlabel=\"Time of hop\", title=\"Freq\")\n",
    "for r in radiosinteresantes\n",
    "    bar!(rangoplot.+r,hth[r], lc=:match, alpha=0.75,bar_width=0.1, label=\"$r\")\n",
    "end\n",
    "savefig(\"histogramahorizontalhopsemidecente01.png\")\n",
    "p"
   ]
  },
  {
   "cell_type": "code",
   "execution_count": null,
   "metadata": {},
   "outputs": [],
   "source": [
    "hth=Dict{Float64, Any}()\n",
    "r=0.01"
   ]
  },
  {
   "cell_type": "code",
   "execution_count": null,
   "metadata": {},
   "outputs": [],
   "source": [
    "for r in radiosinteresantes\n",
    "hth[r]=1\n",
    "end"
   ]
  },
  {
   "cell_type": "code",
   "execution_count": null,
   "metadata": {},
   "outputs": [],
   "source": [
    "hth"
   ]
  },
  {
   "cell_type": "code",
   "execution_count": null,
   "metadata": {},
   "outputs": [],
   "source": []
  }
 ],
 "metadata": {
  "@webio": {
   "lastCommId": "26136F02104D4E94B33008BE361BCE14",
   "lastKernelId": "6c154758-6a21-4eb0-a7e5-ddbc81fed655"
  },
  "kernelspec": {
   "display_name": "Julia 1.0.0",
   "language": "julia",
   "name": "julia-1.0"
  },
  "language_info": {
   "file_extension": ".jl",
   "mimetype": "application/julia",
   "name": "julia",
   "version": "1.0.0"
  },
  "toc": {
   "colors": {
    "hover_highlight": "#DAA520",
    "running_highlight": "#FF0000",
    "selected_highlight": "#FFD700"
   },
   "moveMenuLeft": true,
   "nav_menu": {
    "height": "30px",
    "width": "252px"
   },
   "navigate_menu": true,
   "number_sections": true,
   "sideBar": true,
   "threshold": "1",
   "toc_cell": false,
   "toc_section_display": "block",
   "toc_window_display": false
  }
 },
 "nbformat": 4,
 "nbformat_minor": 2
}
